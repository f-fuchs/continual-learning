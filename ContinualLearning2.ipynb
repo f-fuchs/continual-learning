{
  "nbformat": 4,
  "nbformat_minor": 0,
  "metadata": {
    "accelerator": "GPU",
    "colab": {
      "provenance": [],
      "toc_visible": true
    },
    "kernelspec": {
      "display_name": "Python 3",
      "language": "python",
      "name": "python3"
    },
    "language_info": {
      "codemirror_mode": {
        "name": "ipython",
        "version": 3
      },
      "file_extension": ".py",
      "mimetype": "text/x-python",
      "name": "python",
      "nbconvert_exporter": "python",
      "pygments_lexer": "ipython3",
      "version": "3.7.1"
    }
  },
  "cells": [
    {
      "cell_type": "markdown",
      "metadata": {
        "id": "fp9hbokQIxWW"
      },
      "source": [
        "# A Gentle Introduction to Continual Learning in PyTorch\n",
        "\n",
        "In this brief tutorial we will learn the basics of *Continual Learning* using *PyTorch*. We will use the standard MNIST benchmark so that you can swiftly run this notebook from anywhere!\n",
        "\n",
        "This notebook is part of the **[Continual AI Colab](https://github.com/ContinualAI/colab)** is a repository meant for tutorials and demo running on Google Colaboratory. [Continual AI](https://www.continualai.org/) is an open research community on the topic of Continual Learning and AI! Join us today [on slack](https://continualai.herokuapp.com/)! :-D\n",
        "\n",
        "We will start with learning over the standard *MNIST* benchmark, then we will move in the actual continual learning setting  with the *Permuted MNIST* benchmark. Let's have some fun! :-)\n",
        "\n",
        "\n",
        "---\n",
        "** Connecting a local runtime**\n",
        "\n",
        "In case resources are not enough for you (no GPU for example), you can always connect another [local runtime](https://research.google.com/colaboratory/local-runtimes.html) or to a [runtime on a Google Compute Engine instance](https://research.google.com/colaboratory/local-runtimes.html).\n",
        "\n",
        "This notebook has been designed to run fast enough on simple CPUs so you shouldn't find any trouble here, using a free *hosted account*.\n",
        "\n",
        "---\n",
        "\n",
        "\n",
        "**Requisites to run it locally, outside colab (not recommended)**\n",
        "\n",
        "*   Python 3.x\n",
        "*   Jupyter\n",
        "*   PyTorch >= 1.8\n",
        "*   NumPy\n",
        "*   Matplotlib\n",
        "---\n",
        "\n"
      ]
    },
    {
      "cell_type": "markdown",
      "metadata": {
        "id": "z6RUp96FLuMd"
      },
      "source": [
        "## Google Colaboratory\n",
        "\n",
        "First of all, take a moment to look around and discover Google Colab if you haven't before! You can run the commands below to understand how much resources you're using and are still available. Then consider also that you can also connect your Google Drive for additional space or for easily loading your own files.\n",
        "\n",
        "You can always reset the entire VM with \"*Runtime > Reset all runtime*\" in case of difficulty. Make also sure you're using the GPU or TPU in the same  tab (\"*Runtime > Change runtime type*\")."
      ]
    },
    {
      "cell_type": "code",
      "metadata": {
        "colab": {
          "base_uri": "https://localhost:8080/"
        },
        "id": "pPViRmMBqbJ2",
        "outputId": "a380279a-5ccc-430e-a2c3-f1c5e64807f2"
      },
      "source": [
        "!free -m\n",
        "!df -h\n",
        "!nvidia-smi"
      ],
      "execution_count": 1,
      "outputs": [
        {
          "output_type": "stream",
          "name": "stdout",
          "text": [
            "               total        used        free      shared  buff/cache   available\n",
            "Mem:           12978         905        6256          12        5817       11749\n",
            "Swap:              0           0           0\n",
            "Filesystem      Size  Used Avail Use% Mounted on\n",
            "overlay          79G   27G   52G  35% /\n",
            "tmpfs            64M     0   64M   0% /dev\n",
            "shm             5.7G     0  5.7G   0% /dev/shm\n",
            "/dev/root       2.0G  1.1G  849M  57% /usr/sbin/docker-init\n",
            "/dev/sda1       106G   80G   26G  76% /opt/bin/.nvidia\n",
            "tmpfs           6.4G   11M  6.4G   1% /var/colab\n",
            "tmpfs           6.4G     0  6.4G   0% /proc/acpi\n",
            "tmpfs           6.4G     0  6.4G   0% /proc/scsi\n",
            "tmpfs           6.4G     0  6.4G   0% /sys/firmware\n",
            "Sat Apr 20 11:22:36 2024       \n",
            "+---------------------------------------------------------------------------------------+\n",
            "| NVIDIA-SMI 535.104.05             Driver Version: 535.104.05   CUDA Version: 12.2     |\n",
            "|-----------------------------------------+----------------------+----------------------+\n",
            "| GPU  Name                 Persistence-M | Bus-Id        Disp.A | Volatile Uncorr. ECC |\n",
            "| Fan  Temp   Perf          Pwr:Usage/Cap |         Memory-Usage | GPU-Util  Compute M. |\n",
            "|                                         |                      |               MIG M. |\n",
            "|=========================================+======================+======================|\n",
            "|   0  Tesla T4                       Off | 00000000:00:04.0 Off |                    0 |\n",
            "| N/A   74C    P0              48W /  70W |      0MiB / 15360MiB |    100%      Default |\n",
            "|                                         |                      |                  N/A |\n",
            "+-----------------------------------------+----------------------+----------------------+\n",
            "                                                                                         \n",
            "+---------------------------------------------------------------------------------------+\n",
            "| Processes:                                                                            |\n",
            "|  GPU   GI   CI        PID   Type   Process name                            GPU Memory |\n",
            "|        ID   ID                                                             Usage      |\n",
            "|=======================================================================================|\n",
            "|  No running processes found                                                           |\n",
            "+---------------------------------------------------------------------------------------+\n"
          ]
        }
      ]
    },
    {
      "cell_type": "markdown",
      "metadata": {
        "id": "jt_PxOYPmxp_"
      },
      "source": [
        "**Questions to explore:**\n",
        "\n",
        "*   How to connect your Google Drive with Google Colab?\n",
        "*   How to import a new notebook and save it to your GDrive?\n",
        "*   How to use files which are contained in your GDrive?\n",
        "\n",
        "Some tips here: https://medium.com/deep-learning-turkey/google-colab-free-gpu-tutorial-e113627b9f5d\n"
      ]
    },
    {
      "cell_type": "markdown",
      "metadata": {
        "id": "i74kZQufNv5d"
      },
      "source": [
        "Ok, if you are on Colab PyTorch is already installed! Let's import it and see if it can find the GPU:"
      ]
    },
    {
      "cell_type": "code",
      "metadata": {
        "colab": {
          "base_uri": "https://localhost:8080/"
        },
        "id": "hv7FUJ2Wrd_l",
        "outputId": "a4d86ebe-4537-4dd9-a1ac-d4ba7e29cf7a"
      },
      "source": [
        "import torch\n",
        "torch.cuda.is_available()"
      ],
      "execution_count": 2,
      "outputs": [
        {
          "output_type": "execute_result",
          "data": {
            "text/plain": [
              "True"
            ]
          },
          "metadata": {},
          "execution_count": 2
        }
      ]
    },
    {
      "cell_type": "markdown",
      "metadata": {
        "id": "JuSqVkPnN7iT"
      },
      "source": [
        "That's great, let us import then a few libraries, which we'll be using during this tutorial!"
      ]
    },
    {
      "cell_type": "code",
      "metadata": {
        "id": "w7AxhUWe68vT"
      },
      "source": [
        "import torch\n",
        "import torch.nn as nn\n",
        "import torchvision.datasets as datasets\n",
        "import torchvision.transforms as transforms\n",
        "import torch.optim as optim\n",
        "import torch.nn.functional as F\n",
        "import numpy as np\n",
        "import matplotlib.pyplot as plt\n",
        "import torchvision\n",
        "from torch.utils.data import Subset"
      ],
      "execution_count": 3,
      "outputs": []
    },
    {
      "cell_type": "markdown",
      "metadata": {
        "id": "rv89m9nBPXSh"
      },
      "source": [
        "## MNIST: Digits recognition with PyTorch\n",
        "\n",
        "All right, let's start then making sure we all know the basics! Let's recognize the ten handwritten digits learning from 60.000, 28x28 grayscale images.\n",
        "For simplicity let's import a loading script we have already developed inside the **Continual AI Colab** repository:"
      ]
    },
    {
      "cell_type": "code",
      "metadata": {
        "colab": {
          "base_uri": "https://localhost:8080/"
        },
        "id": "yKWbcnh474X3",
        "outputId": "5911ef88-7f98-4c49-ec8a-d12281958909"
      },
      "source": [
        "!git clone https://github.com/ContinualAI/colab.git continualai/colab"
      ],
      "execution_count": 4,
      "outputs": [
        {
          "output_type": "stream",
          "name": "stdout",
          "text": [
            "fatal: destination path 'continualai/colab' already exists and is not an empty directory.\n"
          ]
        }
      ]
    },
    {
      "cell_type": "code",
      "metadata": {
        "colab": {
          "base_uri": "https://localhost:8080/"
        },
        "id": "x3BFVukM_y8i",
        "outputId": "032cadac-dc39-4a49-af43-21c8d6c2c753"
      },
      "source": [
        "from continualai.colab.scripts import mnist\n",
        "mnist.init()"
      ],
      "execution_count": 5,
      "outputs": [
        {
          "output_type": "stream",
          "name": "stdout",
          "text": [
            "Files already downloaded!\n"
          ]
        }
      ]
    },
    {
      "cell_type": "code",
      "metadata": {
        "id": "6jIk6-G6AhWi",
        "colab": {
          "base_uri": "https://localhost:8080/"
        },
        "outputId": "20de7966-69c2-4ed3-8d54-0f1f576e37eb"
      },
      "source": [
        "x_train, t_train, x_test, t_test = mnist.load()\n",
        "\n",
        "print(\"x_train dim and type: \", x_train.shape, x_train.dtype)\n",
        "print(\"t_train dim and type: \", t_train.shape, t_train.dtype)\n",
        "print(\"x_test dim and type: \", x_test.shape, x_test.dtype)\n",
        "print(\"t_test dim and type: \", t_test.shape, t_test.dtype)"
      ],
      "execution_count": 6,
      "outputs": [
        {
          "output_type": "stream",
          "name": "stdout",
          "text": [
            "x_train dim and type:  (60000, 1, 28, 28) float32\n",
            "t_train dim and type:  (60000,) uint8\n",
            "x_test dim and type:  (10000, 1, 28, 28) float32\n",
            "t_test dim and type:  (10000,) uint8\n"
          ]
        }
      ]
    },
    {
      "cell_type": "code",
      "source": [
        "trainset = torchvision.datasets.CIFAR10(root=\"./data\", train=True, download=True)\n",
        "testset = torchvision.datasets.CIFAR10(root=\"./data\", train=False, download=True)\n",
        "x_test, t_test = (np.moveaxis(testset.data, 3, 1)/255.).astype(np.float32), np.array(testset.targets, dtype=np.uint8)\n",
        "x_train, t_train = (np.moveaxis(trainset.data, 3, 1)/255.).astype(np.float32), np.array(trainset.targets,  dtype=np.uint8)\n",
        "\n",
        "print(\"x_train dim and type: \", x_train.shape, x_train.dtype)\n",
        "print(\"t_train dim and type: \", t_train.shape, t_train.dtype)\n",
        "print(\"x_test dim and type: \", x_test.shape, x_test.dtype)\n",
        "print(\"t_test dim and type: \", t_test.shape, t_test.dtype)"
      ],
      "metadata": {
        "colab": {
          "base_uri": "https://localhost:8080/"
        },
        "id": "Jav01GTKHMoE",
        "outputId": "5467c96a-958c-4160-bd3e-95a4dd07f5ca"
      },
      "execution_count": 7,
      "outputs": [
        {
          "output_type": "stream",
          "name": "stdout",
          "text": [
            "Files already downloaded and verified\n",
            "Files already downloaded and verified\n",
            "x_train dim and type:  (50000, 3, 32, 32) float32\n",
            "t_train dim and type:  (50000,) uint8\n",
            "x_test dim and type:  (10000, 3, 32, 32) float32\n",
            "t_test dim and type:  (10000,) uint8\n"
          ]
        }
      ]
    },
    {
      "cell_type": "code",
      "source": [
        "def get_classes() -> tuple:\n",
        "    \"\"\"Return class labels of CIFAR-10 dataset.\"\"\"\n",
        "    return (\"plane\", \"car\", \"bird\", \"cat\", \"deer\", \"dog\", \"frog\", \"horse\", \"ship\", \"truck\")\n",
        "\n",
        "\n",
        "def get_datasets(tasks: int) -> tuple[list[Subset], list[Subset]]:\n",
        "    \"\"\"Split CIFAR-10 dataset into task specific subsets.\n",
        "\n",
        "    Args:\n",
        "        tasks (int): Number of tasks to split the dataset into.\n",
        "\n",
        "    Returns:\n",
        "        tuple[list[Subset], list[Subset]]: Tuple containing two list with the train and test subsets.\n",
        "    \"\"\"\n",
        "    classes = get_classes()\n",
        "    transform = transforms.Compose([transforms.ToTensor(), transforms.Normalize((0.5, 0.5, 0.5), (0.5, 0.5, 0.5))])\n",
        "    trainset = torchvision.datasets.CIFAR10(root=\"./data\", train=True, download=True, transform=transform)\n",
        "    testset = torchvision.datasets.CIFAR10(root=\"./data\", train=False, download=True, transform=transform)\n",
        "    classes_per_task = torch.linspace(0, len(classes), tasks + 1, dtype=torch.int)\n",
        "    trainsets = []\n",
        "    testsets = []\n",
        "    train_targets = torch.tensor(trainset.targets)\n",
        "    test_targets = torch.tensor(testset.targets)\n",
        "    for i in range(len(classes_per_task) - 1):\n",
        "        train_indices = []\n",
        "        test_indices = []\n",
        "        for j in range(classes_per_task[i], classes_per_task[i + 1]):\n",
        "            train_indices.extend((train_targets == j).nonzero(as_tuple=False).flatten().tolist())\n",
        "            test_indices.extend((test_targets == j).nonzero(as_tuple=False).flatten().tolist())\n",
        "        trainsets.append(Subset(trainset, train_indices))\n",
        "        testsets.append(Subset(testset, test_indices))\n",
        "    return trainsets, testsets"
      ],
      "metadata": {
        "id": "SQ8GCrDFM3jL"
      },
      "execution_count": 8,
      "outputs": []
    },
    {
      "cell_type": "code",
      "source": [
        "trainsets, testsets = get_datasets(5)"
      ],
      "metadata": {
        "colab": {
          "base_uri": "https://localhost:8080/"
        },
        "id": "WbIu14KsNPwp",
        "outputId": "e4233785-0460-4e1b-99ae-1811a18625f5"
      },
      "execution_count": 9,
      "outputs": [
        {
          "output_type": "stream",
          "name": "stdout",
          "text": [
            "Files already downloaded and verified\n",
            "Files already downloaded and verified\n"
          ]
        }
      ]
    },
    {
      "cell_type": "code",
      "source": [
        "x_test, t_test = np.empty((2000, 3, 32, 32), dtype=np.float32), np.empty(2000, dtype=np.uint8)\n",
        "for i, (X, y) in enumerate(testsets[0]):\n",
        "    x_test[i, :, :, :] = X\n",
        "    t_test[i] = y"
      ],
      "metadata": {
        "id": "y0FwmrSKNQrM"
      },
      "execution_count": 10,
      "outputs": []
    },
    {
      "cell_type": "code",
      "source": [
        "x_train, t_train = np.empty((10000, 3, 32, 32), dtype=np.float32), np.empty(10000, dtype=np.uint8)\n",
        "for i, (X, y) in enumerate(trainsets[0]):\n",
        "    x_train[i, :, :, :] = X\n",
        "    t_train[i] = y"
      ],
      "metadata": {
        "id": "OXSl2hrEOE4S"
      },
      "execution_count": 11,
      "outputs": []
    },
    {
      "cell_type": "code",
      "source": [
        "print(\"x_train dim and type: \", x_train.shape, x_train.dtype)\n",
        "print(\"t_train dim and type: \", t_train.shape, t_train.dtype)\n",
        "print(\"x_test dim and type: \", x_test.shape, x_test.dtype)\n",
        "print(\"t_test dim and type: \", t_test.shape, t_test.dtype)"
      ],
      "metadata": {
        "colab": {
          "base_uri": "https://localhost:8080/"
        },
        "id": "76ioMryiM4Rt",
        "outputId": "a51729c6-f832-405c-e315-add7e5410d7f"
      },
      "execution_count": 12,
      "outputs": [
        {
          "output_type": "stream",
          "name": "stdout",
          "text": [
            "x_train dim and type:  (10000, 3, 32, 32) float32\n",
            "t_train dim and type:  (10000,) uint8\n",
            "x_test dim and type:  (2000, 3, 32, 32) float32\n",
            "t_test dim and type:  (2000,) uint8\n"
          ]
        }
      ]
    },
    {
      "cell_type": "markdown",
      "metadata": {
        "id": "XEWG2PmbVvb7"
      },
      "source": [
        "Let's take a look at the actual images!"
      ]
    },
    {
      "cell_type": "code",
      "metadata": {
        "id": "RyIuYAw8AuO6",
        "colab": {
          "base_uri": "https://localhost:8080/",
          "height": 406
        },
        "outputId": "80d6b26a-4cb7-47c1-f8ec-948436e56c74"
      },
      "source": [
        "f, axarr = plt.subplots(2,2)\n",
        "axarr[0,0].imshow(x_train[1, 0], cmap=\"gray\")\n",
        "axarr[0,1].imshow(x_train[2, 0], cmap=\"gray\")\n",
        "axarr[1,0].imshow(x_train[3, 0], cmap=\"gray\")\n",
        "axarr[1,1].imshow(x_train[4, 0], cmap=\"gray\")\n",
        "np.vectorize(lambda ax:ax.axis('off'))(axarr);"
      ],
      "execution_count": 13,
      "outputs": [
        {
          "output_type": "display_data",
          "data": {
            "text/plain": [
              "<Figure size 640x480 with 4 Axes>"
            ],
            "image/png": "[encoded data removed]"
          },
          "metadata": {}
        }
      ]
    },
    {
      "cell_type": "markdown",
      "metadata": {
        "id": "baEsU4PGXsgS"
      },
      "source": [
        "Good! Let's now set up a few general setting before using torch..."
      ]
    },
    {
      "cell_type": "code",
      "metadata": {
        "id": "ztZAPQNXZ4ll"
      },
      "source": [
        "# switch to False to use CPU\n",
        "use_cuda = True\n",
        "\n",
        "use_cuda = use_cuda and torch.cuda.is_available()\n",
        "device = torch.device(\"cuda\" if use_cuda else \"cpu\");\n",
        "torch.manual_seed(1);"
      ],
      "execution_count": 14,
      "outputs": []
    },
    {
      "cell_type": "markdown",
      "metadata": {
        "id": "0Ek0mErIac6n"
      },
      "source": [
        "... and define our first conv-net! We will use 3 layers of convolutions and two fully connected layers:"
      ]
    },
    {
      "cell_type": "code",
      "metadata": {
        "id": "ONMdybG4Be0z"
      },
      "source": [
        "class Net(nn.Module):\n",
        "    def __init__(self):\n",
        "        super(Net, self).__init__()\n",
        "        self.conv1 = nn.Conv2d(3, 10, kernel_size=5)\n",
        "        self.conv2 = nn.Conv2d(10, 20, kernel_size=5)\n",
        "        self.conv2_drop = nn.Dropout2d()\n",
        "        self.fc1 = nn.Linear(500, 70)\n",
        "        self.fc2 = nn.Linear(70, 10)\n",
        "        self.flatten = torch.nn.Flatten()\n",
        "\n",
        "    def forward(self, x):\n",
        "        x = F.relu(F.max_pool2d(self.conv1(x), 2))\n",
        "        x = F.relu(F.max_pool2d(self.conv2_drop(self.conv2(x)), 2))\n",
        "        x = self.flatten(x)\n",
        "        x = F.relu(self.fc1(x))\n",
        "        x = F.dropout(x, training=self.training)\n",
        "        x = self.fc2(x)\n",
        "        return x"
      ],
      "execution_count": 15,
      "outputs": []
    },
    {
      "cell_type": "markdown",
      "metadata": {
        "id": "p9S6a-MlYAsu"
      },
      "source": [
        "Then we can write the *train* and *test* functions. Note that for simplicity here we are not using PyTorch [Data Loaders](https://pytorch.org/tutorials/beginner/data_loading_tutorial.html) but this is not recommended for efficiency."
      ]
    },
    {
      "cell_type": "code",
      "metadata": {
        "id": "HGJJfXhJB-zk"
      },
      "source": [
        "def train(model, device, x_train, t_train, optimizer, epoch):\n",
        "    model.train()\n",
        "\n",
        "    for start in range(0, len(t_train)-1, 256):\n",
        "      end = start + 256\n",
        "      x, y = torch.from_numpy(x_train[start:end]), torch.from_numpy(t_train[start:end]).long()\n",
        "      x, y = x.to(device), y.to(device)\n",
        "\n",
        "      optimizer.zero_grad()\n",
        "\n",
        "      output = model(x)\n",
        "      loss = F.cross_entropy(output, y)\n",
        "      loss.backward()\n",
        "      optimizer.step()\n",
        "      #print(loss.item())\n",
        "    print('Train Epoch: {} \\tLoss: {:.6f}'.format(epoch, loss.item()))\n",
        "\n",
        "def test(model, device, x_test, t_test):\n",
        "    model.eval()\n",
        "    test_loss = 0\n",
        "    correct = 0\n",
        "    for start in range(0, len(t_test)-1, 256):\n",
        "      end = start + 256\n",
        "      with torch.no_grad():\n",
        "        x, y = torch.from_numpy(x_test[start:end]), torch.from_numpy(t_test[start:end]).long()\n",
        "        x, y = x.to(device), y.to(device)\n",
        "        output = model(x)\n",
        "        test_loss += F.cross_entropy(output, y).item() # sum up batch loss\n",
        "        pred = output.max(1, keepdim=True)[1] # get the index of the max logit\n",
        "        correct += pred.eq(y.view_as(pred)).sum().item()\n",
        "\n",
        "    test_loss /= len(t_test)\n",
        "    print('Test set: Average loss: {:.4f}, Accuracy: {}/{} ({:.0f}%)\\n'.format(\n",
        "        test_loss, correct, len(t_test),\n",
        "        100. * correct / len(t_test)))\n",
        "    return 100. * correct / len(t_test)"
      ],
      "execution_count": 16,
      "outputs": []
    },
    {
      "cell_type": "markdown",
      "metadata": {
        "id": "IxIISdDPaqb9"
      },
      "source": [
        "Then we are ready to instantiate our model and start the training!"
      ]
    },
    {
      "cell_type": "code",
      "metadata": {
        "id": "1cJURe0JCFh8"
      },
      "source": [
        "model = Net().to(device)\n",
        "optimizer = optim.SGD(model.parameters(), lr=0.01, momentum=0.9)"
      ],
      "execution_count": 17,
      "outputs": []
    },
    {
      "cell_type": "code",
      "metadata": {
        "id": "BlhVt8vylpUv",
        "colab": {
          "base_uri": "https://localhost:8080/"
        },
        "outputId": "cd04b8ce-4d77-493a-9424-7fe29f75b60d"
      },
      "source": [
        "for epoch in range(1, 3):\n",
        "  train(model, device, x_train, t_train, optimizer, epoch)\n",
        "  test(model, device, x_test, t_test)"
      ],
      "execution_count": 18,
      "outputs": [
        {
          "output_type": "stream",
          "name": "stdout",
          "text": [
            "Train Epoch: 1 \tLoss: 0.000000\n",
            "Test set: Average loss: 0.2345, Accuracy: 1000/2000 (50%)\n",
            "\n",
            "Train Epoch: 2 \tLoss: 1.357265\n",
            "Test set: Average loss: 0.0049, Accuracy: 1000/2000 (50%)\n",
            "\n"
          ]
        }
      ]
    },
    {
      "cell_type": "markdown",
      "metadata": {
        "id": "7qwh4T5Va86-"
      },
      "source": [
        "Wow! 94% accuracy in such a short time.\n",
        "\n",
        "**Questions to explore:**\n",
        "\n",
        "*   Can you find a better parametrization to improve the final accuracy?\n",
        "*   Can you change the network architecture to improve the final accuracy?\n",
        "*   Can you achieve the same performances with a smaller architecture?\n",
        "*   What's the difference in accuracy if you change convolutions with fully connected layers?\n",
        "\n",
        "Some tips here: http://rodrigob.github.io/are_we_there_yet/build/classification_datasets_results.html#4d4e495354"
      ]
    },
    {
      "cell_type": "markdown",
      "metadata": {
        "id": "2dn-5gOGq08g"
      },
      "source": [
        "But what if now we want we the same model being able to solve a new task we encounter over time like a permuted version of the same MNIST? Let's define our custom function to permute it!"
      ]
    },
    {
      "cell_type": "code",
      "metadata": {
        "id": "4xG5LFwLgkpu"
      },
      "source": [
        "x_test2, t_test2 = np.empty((2000, 3, 32, 32), dtype=np.float32), np.empty(2000, dtype=np.uint8)\n",
        "for i, (X, y) in enumerate(testsets[1]):\n",
        "    x_test2[i, :, :, :] = X\n",
        "    t_test2[i] = y"
      ],
      "execution_count": 19,
      "outputs": []
    },
    {
      "cell_type": "code",
      "source": [
        "x_train2, t_train2 = np.empty((10000, 3, 32, 32), dtype=np.float32), np.empty(10000, dtype=np.uint8)\n",
        "for i, (X, y) in enumerate(trainsets[1]):\n",
        "    x_train2[i, :, :, :] = X\n",
        "    t_train2[i] = y"
      ],
      "metadata": {
        "id": "HpRKokATOl3l"
      },
      "execution_count": 20,
      "outputs": []
    },
    {
      "cell_type": "markdown",
      "metadata": {
        "id": "46wHcbNAchH-"
      },
      "source": [
        "Amazing. Now let's see how our pre-trained model is working on both the original and the permuted MNIST dataset:"
      ]
    },
    {
      "cell_type": "code",
      "metadata": {
        "id": "Sxusb8s3itli",
        "colab": {
          "base_uri": "https://localhost:8080/"
        },
        "outputId": "87323e83-5600-415f-f44c-c3677bcc4a3c"
      },
      "source": [
        "print(\"Testing on the first task:\")\n",
        "test(model, device, x_test, t_test)\n",
        "\n",
        "print(\"Testing on the second task:\")\n",
        "test(model, device, x_test2, t_test2);"
      ],
      "execution_count": 21,
      "outputs": [
        {
          "output_type": "stream",
          "name": "stdout",
          "text": [
            "Testing on the first task:\n",
            "Test set: Average loss: 0.0049, Accuracy: 1000/2000 (50%)\n",
            "\n",
            "Testing on the second task:\n",
            "Test set: Average loss: 0.0118, Accuracy: 0/2000 (0%)\n",
            "\n"
          ]
        }
      ]
    },
    {
      "cell_type": "markdown",
      "metadata": {
        "id": "0pHMg4G_dHFY"
      },
      "source": [
        "Mmmh... that's pretty bad, our model cannot generalize to this apparently very different new task! Well, we can just finetune our model using the new permuted training set!"
      ]
    },
    {
      "cell_type": "code",
      "metadata": {
        "id": "J5PtR8Gqib00",
        "colab": {
          "base_uri": "https://localhost:8080/"
        },
        "outputId": "f40ffb39-5e85-4566-e165-14fb6de1636f"
      },
      "source": [
        "for epoch in range(1, 3):\n",
        "  train(model, device, x_train2, t_train2, optimizer, epoch)\n",
        "  test(model, device, x_test2, t_test2)"
      ],
      "execution_count": 22,
      "outputs": [
        {
          "output_type": "stream",
          "name": "stdout",
          "text": [
            "Train Epoch: 1 \tLoss: 1.817009\n",
            "Test set: Average loss: 0.0063, Accuracy: 1000/2000 (50%)\n",
            "\n",
            "Train Epoch: 2 \tLoss: 0.619618\n",
            "Test set: Average loss: 0.0038, Accuracy: 1000/2000 (50%)\n",
            "\n"
          ]
        }
      ]
    },
    {
      "cell_type": "code",
      "metadata": {
        "id": "ML7Evzb9jPAZ",
        "colab": {
          "base_uri": "https://localhost:8080/"
        },
        "outputId": "d86ad165-45d8-4dbf-fb4e-9c798a9868b3"
      },
      "source": [
        "print(\"Testing on the first task:\")\n",
        "test(model, device, x_test, t_test)\n",
        "\n",
        "print(\"Testing on the second task:\")\n",
        "test(model, device, x_test2, t_test2);"
      ],
      "execution_count": 30,
      "outputs": [
        {
          "output_type": "stream",
          "name": "stdout",
          "text": [
            "Testing on the first task:\n",
            "Test set: Average loss: 0.0038, Accuracy: 1000/2000 (50%)\n",
            "\n",
            "Testing on the second task:\n",
            "Test set: Average loss: 0.0156, Accuracy: 0/2000 (0%)\n",
            "\n"
          ]
        }
      ]
    },
    {
      "cell_type": "markdown",
      "metadata": {
        "id": "0UZ6FBuHdm7N"
      },
      "source": [
        "This is very annoying! Now we are not able to solve the original MNIST task anymore! :-( This is the phenomenon known in literature as **Catastrophic Forgetting**! In the following section we well compare three different strategies for learning continually (and trying to not forget!)\n",
        "\n",
        "**Questions to explore:**\n",
        "\n",
        "*   When the permuted MNIST benchmark has been firstly introduced?\n",
        "*   Can simple Dropout and Regularization techniques reduce forgetting?\n",
        "*   In the permuted MNIST task, do convolutions still help increasing the accuracy?\n",
        "\n",
        "Some tips here: https://papers.nips.cc/paper/5059-compete-to-compute"
      ]
    },
    {
      "cell_type": "markdown",
      "metadata": {
        "id": "9rUgLpUakTy6"
      },
      "source": [
        "## CL Strategies\n",
        "\n",
        "Let us now focus on some strategies for reducing catastrofic forgetting, one of the principal problems when learning continuously. in this section we will take a look at three different strategies:\n",
        "\n",
        "1.   Naive\n",
        "2.   Rehearsal\n",
        "3.   Elastic Weight Consolidation (EWC)\n",
        "\n",
        "and run it on a 3-tasks Permuted MNIST. Finally we will plot our results for comparison. For a more comprehensive overview on recent CL strategies for deep learning take a look at the recent paper \"[Continuous Learning in Single-Incremental-Task Scenarios](https://arxiv.org/abs/1806.08568)\".\n",
        "\n",
        "Let's start by defining our 3 tasks with the function we have already introduced before:\n",
        "\n"
      ]
    },
    {
      "cell_type": "code",
      "source": [
        "x_test3, t_test3 = np.empty((2000, 3, 32, 32), dtype=np.float32), np.empty(2000, dtype=np.uint8)\n",
        "for i, (X, y) in enumerate(testsets[2]):\n",
        "    x_test3[i, :, :, :] = X\n",
        "    t_test3[i] = y"
      ],
      "metadata": {
        "id": "j6nY8dnsP7WH"
      },
      "execution_count": 25,
      "outputs": []
    },
    {
      "cell_type": "code",
      "source": [
        "x_train3, t_train3 = np.empty((10000, 3, 32, 32), dtype=np.float32), np.empty(10000, dtype=np.uint8)\n",
        "for i, (X, y) in enumerate(trainsets[2]):\n",
        "    x_train3[i, :, :, :] = X\n",
        "    t_train3[i] = y"
      ],
      "metadata": {
        "id": "nLmKnjl4P_Oy"
      },
      "execution_count": 26,
      "outputs": []
    },
    {
      "cell_type": "code",
      "metadata": {
        "id": "Yu0T_V24joGY"
      },
      "source": [
        "# task 1\n",
        "task_1 = [(x_train, t_train), (x_test, t_test)]\n",
        "\n",
        "# task 2\n",
        "task_2 = [(x_train2, t_train2), (x_test2, t_test2)]\n",
        "\n",
        "# task 3\n",
        "task_3 = [(x_train3, t_train3), (x_test3, t_test3)]\n",
        "\n",
        "# task list\n",
        "tasks = [task_1, task_2, task_3]"
      ],
      "execution_count": 31,
      "outputs": []
    },
    {
      "cell_type": "markdown",
      "metadata": {
        "id": "yUNaukXyiJni"
      },
      "source": [
        "### Naive Strategy\n",
        "\n",
        "The  *Naive* strategy, is the simple idea of continuing the back-prop process on the new batches/tasks. This is very simple, but at the same time very prone to forgetting as we have witnessed before. Let's how it works on three tasks:"
      ]
    },
    {
      "cell_type": "code",
      "metadata": {
        "id": "gzFEA5F8pI_O"
      },
      "source": [
        "model = Net().to(device)\n",
        "optimizer = optim.SGD(model.parameters(), lr=0.01, momentum=0.9)"
      ],
      "execution_count": 32,
      "outputs": []
    },
    {
      "cell_type": "code",
      "metadata": {
        "id": "dLU6KdIbnLMN",
        "colab": {
          "base_uri": "https://localhost:8080/"
        },
        "outputId": "dad334a4-c3b0-4c5e-dd68-488b16a13de8"
      },
      "source": [
        "naive_accs = []\n",
        "\n",
        "for id, task in enumerate(tasks):\n",
        "  avg_acc = 0\n",
        "  print(\"Training on task: \", id)\n",
        "\n",
        "  (x_train, t_train), _ = task\n",
        "\n",
        "  for epoch in range(1, 2):\n",
        "    train(model, device, x_train, t_train, optimizer, epoch)\n",
        "\n",
        "  for id_test, task in enumerate(tasks):\n",
        "    print(\"Testing on task: \", id_test)\n",
        "    _, (x_test, t_test) = task\n",
        "    acc = test(model, device, x_test, t_test)\n",
        "    avg_acc = avg_acc + acc\n",
        "\n",
        "  naive_accs.append(avg_acc / 3)\n",
        "  print(\"Avg acc: \", avg_acc / 3)\n",
        ""
      ],
      "execution_count": 33,
      "outputs": [
        {
          "output_type": "stream",
          "name": "stdout",
          "text": [
            "Training on task:  0\n",
            "Train Epoch: 1 \tLoss: 0.000000\n",
            "Testing on task:  0\n",
            "Test set: Average loss: 0.2109, Accuracy: 1000/2000 (50%)\n",
            "\n",
            "Testing on task:  1\n",
            "Test set: Average loss: 0.4639, Accuracy: 0/2000 (0%)\n",
            "\n",
            "Testing on task:  2\n",
            "Test set: Average loss: 0.4503, Accuracy: 0/2000 (0%)\n",
            "\n",
            "Avg acc:  16.666666666666668\n",
            "Training on task:  1\n",
            "Train Epoch: 1 \tLoss: 1.439175\n",
            "Testing on task:  0\n",
            "Test set: Average loss: 0.0084, Accuracy: 0/2000 (0%)\n",
            "\n",
            "Testing on task:  1\n",
            "Test set: Average loss: 0.0073, Accuracy: 1000/2000 (50%)\n",
            "\n",
            "Testing on task:  2\n",
            "Test set: Average loss: 0.0108, Accuracy: 0/2000 (0%)\n",
            "\n",
            "Avg acc:  16.666666666666668\n",
            "Training on task:  2\n",
            "Train Epoch: 1 \tLoss: 1.745859\n",
            "Testing on task:  0\n",
            "Test set: Average loss: 0.0104, Accuracy: 0/2000 (0%)\n",
            "\n",
            "Testing on task:  1\n",
            "Test set: Average loss: 0.0095, Accuracy: 0/2000 (0%)\n",
            "\n",
            "Testing on task:  2\n",
            "Test set: Average loss: 0.0060, Accuracy: 1000/2000 (50%)\n",
            "\n",
            "Avg acc:  16.666666666666668\n"
          ]
        }
      ]
    },
    {
      "cell_type": "markdown",
      "metadata": {
        "id": "ANJfdFD3s0oT"
      },
      "source": [
        "**Questions to explore:**\n",
        "\n",
        "*   Does the order of the tasks effect the final results?\n",
        "\n",
        "Some tips here: http://proceedings.mlr.press/v78/lomonaco17a/lomonaco17a.pdf"
      ]
    },
    {
      "cell_type": "markdown",
      "metadata": {
        "id": "lCK0EYT-pJa8"
      },
      "source": [
        "### Rehearsal Strategy\n",
        "\n",
        "Another simple CL idea is to carry on *all* or *part* of the previously encountered examples (of the previous tasks), shuffling them with the data of the current task. Using *all* the past data is near to the optimal performance we can desire at the end of the task sequence but at the expense of much bigger memory usage.\n",
        "\n",
        "Let's start by defining a function to shuffle our data:\n",
        "\n"
      ]
    },
    {
      "cell_type": "code",
      "metadata": {
        "id": "FdWpT2jhfu3o"
      },
      "source": [
        "def shuffle_in_unison(dataset, seed, in_place=False):\n",
        "    \"\"\" Shuffle two (or more) list in unison. \"\"\"\n",
        "\n",
        "    np.random.seed(seed)\n",
        "    rng_state = np.random.get_state()\n",
        "    new_dataset = []\n",
        "    for x in dataset:\n",
        "        if in_place:\n",
        "            np.random.shuffle(x)\n",
        "        else:\n",
        "            new_dataset.append(np.random.permutation(x))\n",
        "        np.random.set_state(rng_state)\n",
        "\n",
        "    if not in_place:\n",
        "        return new_dataset"
      ],
      "execution_count": 34,
      "outputs": []
    },
    {
      "cell_type": "markdown",
      "metadata": {
        "id": "94hg1UrtqFmT"
      },
      "source": [
        "Now we can reset the model and optimizer and run our training over the tasks sequence:"
      ]
    },
    {
      "cell_type": "code",
      "metadata": {
        "id": "62TY0Ajgbsgk"
      },
      "source": [
        "model = Net().to(device)\n",
        "optimizer = optim.SGD(model.parameters(), lr=0.01, momentum=0.9)"
      ],
      "execution_count": 35,
      "outputs": []
    },
    {
      "cell_type": "code",
      "metadata": {
        "id": "y_No-qvDbuZi",
        "colab": {
          "base_uri": "https://localhost:8080/"
        },
        "outputId": "74ab7a15-2e7b-4a9e-c31e-1db6150c6619"
      },
      "source": [
        "rehe_accs = []\n",
        "for id, task in enumerate(tasks):\n",
        "  avg_acc = 0\n",
        "  print(\"Training on task: \", id)\n",
        "\n",
        "  (x_train, t_train), _ = task\n",
        "\n",
        "  # for previous task\n",
        "  for i in range(id):\n",
        "    (past_x_train, past_t_train), _ = tasks[i]\n",
        "    x_train = np.concatenate((x_train, past_x_train))\n",
        "    t_train = np.concatenate((t_train, past_t_train))\n",
        "\n",
        "  x_train, t_train = shuffle_in_unison([x_train, t_train], 0)\n",
        "\n",
        "  for epoch in range(1, 2):\n",
        "    train(model, device, x_train, t_train, optimizer, epoch)\n",
        "\n",
        "  for id_test, task in enumerate(tasks):\n",
        "    print(\"Testing on task: \", id_test)\n",
        "    _, (x_test, t_test) = task\n",
        "    acc = test(model, device, x_test, t_test)\n",
        "    avg_acc = avg_acc + acc\n",
        "\n",
        "  print(\"Avg acc: \", avg_acc / 3)\n",
        "  rehe_accs.append(avg_acc/3)"
      ],
      "execution_count": 36,
      "outputs": [
        {
          "output_type": "stream",
          "name": "stdout",
          "text": [
            "Training on task:  0\n",
            "Train Epoch: 1 \tLoss: 0.721072\n",
            "Testing on task:  0\n",
            "Test set: Average loss: 0.0028, Accuracy: 1000/2000 (50%)\n",
            "\n",
            "Testing on task:  1\n",
            "Test set: Average loss: 0.0445, Accuracy: 0/2000 (0%)\n",
            "\n",
            "Testing on task:  2\n",
            "Test set: Average loss: 0.0445, Accuracy: 0/2000 (0%)\n",
            "\n",
            "Avg acc:  16.666666666666668\n",
            "Training on task:  1\n",
            "Train Epoch: 1 \tLoss: 1.465854\n",
            "Testing on task:  0\n",
            "Test set: Average loss: 0.0051, Accuracy: 1116/2000 (56%)\n",
            "\n",
            "Testing on task:  1\n",
            "Test set: Average loss: 0.0057, Accuracy: 328/2000 (16%)\n",
            "\n",
            "Testing on task:  2\n",
            "Test set: Average loss: 0.0343, Accuracy: 0/2000 (0%)\n",
            "\n",
            "Avg acc:  24.066666666666663\n",
            "Training on task:  2\n",
            "Train Epoch: 1 \tLoss: 1.824953\n",
            "Testing on task:  0\n",
            "Test set: Average loss: 0.0072, Accuracy: 251/2000 (13%)\n",
            "\n",
            "Testing on task:  1\n",
            "Test set: Average loss: 0.0070, Accuracy: 777/2000 (39%)\n",
            "\n",
            "Testing on task:  2\n",
            "Test set: Average loss: 0.0072, Accuracy: 271/2000 (14%)\n",
            "\n",
            "Avg acc:  21.650000000000002\n"
          ]
        }
      ]
    },
    {
      "cell_type": "markdown",
      "metadata": {
        "id": "jCna5k0DtN-X"
      },
      "source": [
        "**Questions to explore:**\n",
        "\n",
        "*   Can you find a way to reduce the number of examples of the previous tasks to maintain in memory?\n",
        "*   Can you find a good trade-off between memory overhead and final accuracy?\n",
        "*   Why is shuffling needed here?\n",
        "\n",
        "Some tips here: https://arxiv.org/abs/1809.05922"
      ]
    },
    {
      "cell_type": "markdown",
      "metadata": {
        "id": "AqofPHt01Zog"
      },
      "source": [
        "### Elastic Weights Consolidation (EWC) Strategy\n",
        "\n",
        "Elastic Weights Consolidation (EWC) is a common CL strategy firstly proposed in the paper: \"[Overcoming catastrophic forgetting in neural networks](https://arxiv.org/abs/1612.00796)\" for deep neural networks.\n",
        "\n",
        "It is based on the computation of the importance of each weight (fisher information) and a squared regularization loss, penalizing changes in the most important wheights for the previous tasks.\n",
        "\n",
        "It has the great advantage of **not using any** of the previous tasks data!"
      ]
    },
    {
      "cell_type": "markdown",
      "metadata": {
        "id": "Clm_QFF12mO9"
      },
      "source": [
        "Now we need to define an additional function to compute the fisher information for each weight at the end of each task:"
      ]
    },
    {
      "cell_type": "code",
      "metadata": {
        "id": "iEmBNkaO1Ykq"
      },
      "source": [
        "def on_task_update(task_id, x_mem, t_mem):\n",
        "\n",
        "  model.train()\n",
        "  optimizer.zero_grad()\n",
        "\n",
        "  # accumulating gradients\n",
        "  for start in range(0, len(t_mem)-1, 256):\n",
        "      end = start + 256\n",
        "      x, y = torch.from_numpy(x_mem[start:end]), torch.from_numpy(t_mem[start:end]).long()\n",
        "      x, y = x.to(device), y.to(device)\n",
        "      output = model(x)\n",
        "      loss = F.cross_entropy(output, y)\n",
        "      loss.backward()\n",
        "\n",
        "  fisher_dict[task_id] = {}\n",
        "  optpar_dict[task_id] = {}\n",
        "\n",
        "  # gradients accumulated can be used to calculate fisher\n",
        "  for name, param in model.named_parameters():\n",
        "\n",
        "    optpar_dict[task_id][name] = param.data.clone()\n",
        "    fisher_dict[task_id][name] = param.grad.data.clone().pow(2)"
      ],
      "execution_count": 75,
      "outputs": []
    },
    {
      "cell_type": "markdown",
      "metadata": {
        "id": "2hGp0Qsf2wa-"
      },
      "source": [
        "We need also to modify our *train* function to add the new regularization loss:"
      ]
    },
    {
      "cell_type": "code",
      "metadata": {
        "id": "IorTFus1Gs5H"
      },
      "source": [
        "def train_ewc(model, device, task_id, x_train, t_train, optimizer, epoch):\n",
        "    model.train()\n",
        "\n",
        "    for start in range(0, len(t_train)-1, 256):\n",
        "      end = start + 256\n",
        "      x, y = torch.from_numpy(x_train[start:end]), torch.from_numpy(t_train[start:end]).long()\n",
        "      x, y = x.to(device), y.to(device)\n",
        "\n",
        "      optimizer.zero_grad()\n",
        "\n",
        "      output = model(x)\n",
        "      loss = F.cross_entropy(output, y)\n",
        "\n",
        "      ### magic here! :-)\n",
        "      for task in range(task_id):\n",
        "        for name, param in model.named_parameters():\n",
        "          fisher = fisher_dict[task][name]\n",
        "          optpar = optpar_dict[task][name]\n",
        "          loss += (fisher * (optpar - param).pow(2)).sum() * ewc_lambda\n",
        "\n",
        "      loss.backward()\n",
        "      optimizer.step()\n",
        "      #print(loss.item())\n",
        "    print('Train Epoch: {} \\tLoss: {:.6f}'.format(epoch, loss.item()))"
      ],
      "execution_count": 76,
      "outputs": []
    },
    {
      "cell_type": "code",
      "metadata": {
        "id": "e9iry5W56xtO",
        "colab": {
          "base_uri": "https://localhost:8080/"
        },
        "outputId": "8f7a3ae4-4fff-4312-bd49-42a7ae388c53"
      },
      "source": [
        "ewc_accs_ewc_lambda = {}\n",
        "ewc_lambdas = np.linspace(0, 1, 20)\n",
        "for i, ewc_lambda in enumerate(ewc_lambdas):\n",
        "    fisher_dict = {}\n",
        "    optpar_dict = {}\n",
        "    model = Net().to(device)\n",
        "    optimizer = optim.SGD(model.parameters(), lr=0.01, momentum=0.9)\n",
        "    ewc_accs = []\n",
        "    for id, task in enumerate(tasks):\n",
        "        avg_acc = 0\n",
        "        print(\"Training on task: \", id)\n",
        "\n",
        "        (x_train, t_train), _ = task\n",
        "\n",
        "        for epoch in range(1, 3):\n",
        "            train_ewc(model, device, id, x_train, t_train, optimizer, epoch)\n",
        "        on_task_update(id, x_train, t_train)\n",
        "\n",
        "        for id_test, task in enumerate(tasks):\n",
        "            print(\"Testing on task: \", id_test)\n",
        "            _, (x_test, t_test) = task\n",
        "            acc = test(model, device, x_test, t_test)\n",
        "            avg_acc = avg_acc + acc\n",
        "\n",
        "        print(\"Avg acc: \", avg_acc / 3)\n",
        "        ewc_accs.append(avg_acc / 3)\n",
        "    ewc_accs_ewc_lambda[i] = ewc_accs"
      ],
      "execution_count": 114,
      "outputs": [
        {
          "output_type": "stream",
          "name": "stdout",
          "text": [
            "Training on task:  0\n",
            "Train Epoch: 1 \tLoss: 0.000000\n",
            "Train Epoch: 2 \tLoss: 0.862523\n",
            "Testing on task:  0\n",
            "Test set: Average loss: 0.0056, Accuracy: 1000/2000 (50%)\n",
            "\n",
            "Testing on task:  1\n",
            "Test set: Average loss: 0.0129, Accuracy: 0/2000 (0%)\n",
            "\n",
            "Testing on task:  2\n",
            "Test set: Average loss: 0.0129, Accuracy: 0/2000 (0%)\n",
            "\n",
            "Avg acc:  16.666666666666668\n",
            "Training on task:  1\n",
            "Train Epoch: 1 \tLoss: 1.582890\n",
            "Train Epoch: 2 \tLoss: 0.305057\n",
            "Testing on task:  0\n",
            "Test set: Average loss: 0.0197, Accuracy: 0/2000 (0%)\n",
            "\n",
            "Testing on task:  1\n",
            "Test set: Average loss: 0.0046, Accuracy: 1000/2000 (50%)\n",
            "\n",
            "Testing on task:  2\n",
            "Test set: Average loss: 0.0213, Accuracy: 0/2000 (0%)\n",
            "\n",
            "Avg acc:  16.666666666666668\n",
            "Training on task:  2\n",
            "Train Epoch: 1 \tLoss: 1.984673\n",
            "Train Epoch: 2 \tLoss: 0.860346\n",
            "Testing on task:  0\n",
            "Test set: Average loss: 0.0132, Accuracy: 0/2000 (0%)\n",
            "\n",
            "Testing on task:  1\n",
            "Test set: Average loss: 0.0121, Accuracy: 0/2000 (0%)\n",
            "\n",
            "Testing on task:  2\n",
            "Test set: Average loss: 0.0040, Accuracy: 1000/2000 (50%)\n",
            "\n",
            "Avg acc:  16.666666666666668\n",
            "Training on task:  0\n",
            "Train Epoch: 1 \tLoss: 0.000406\n",
            "Train Epoch: 2 \tLoss: 0.604697\n",
            "Testing on task:  0\n",
            "Test set: Average loss: 0.1674, Accuracy: 1014/2000 (51%)\n",
            "\n",
            "Testing on task:  1\n",
            "Test set: Average loss: 0.3404, Accuracy: 0/2000 (0%)\n",
            "\n",
            "Testing on task:  2\n",
            "Test set: Average loss: 0.3213, Accuracy: 0/2000 (0%)\n",
            "\n",
            "Avg acc:  16.900000000000002\n",
            "Training on task:  1\n",
            "Train Epoch: 1 \tLoss: nan\n",
            "Train Epoch: 2 \tLoss: nan\n",
            "Testing on task:  0\n",
            "Test set: Average loss: nan, Accuracy: 1000/2000 (50%)\n",
            "\n",
            "Testing on task:  1\n",
            "Test set: Average loss: nan, Accuracy: 0/2000 (0%)\n",
            "\n",
            "Testing on task:  2\n",
            "Test set: Average loss: nan, Accuracy: 0/2000 (0%)\n",
            "\n",
            "Avg acc:  16.666666666666668\n",
            "Training on task:  2\n",
            "Train Epoch: 1 \tLoss: nan\n",
            "Train Epoch: 2 \tLoss: nan\n",
            "Testing on task:  0\n",
            "Test set: Average loss: nan, Accuracy: 1000/2000 (50%)\n",
            "\n",
            "Testing on task:  1\n",
            "Test set: Average loss: nan, Accuracy: 0/2000 (0%)\n",
            "\n",
            "Testing on task:  2\n",
            "Test set: Average loss: nan, Accuracy: 0/2000 (0%)\n",
            "\n",
            "Avg acc:  16.666666666666668\n",
            "Training on task:  0\n",
            "Train Epoch: 1 \tLoss: 0.000271\n",
            "Train Epoch: 2 \tLoss: 0.204215\n",
            "Testing on task:  0\n",
            "Test set: Average loss: 0.1511, Accuracy: 1000/2000 (50%)\n",
            "\n",
            "Testing on task:  1\n",
            "Test set: Average loss: 0.3762, Accuracy: 0/2000 (0%)\n",
            "\n",
            "Testing on task:  2\n",
            "Test set: Average loss: 0.3673, Accuracy: 0/2000 (0%)\n",
            "\n",
            "Avg acc:  16.666666666666668\n",
            "Training on task:  1\n",
            "Train Epoch: 1 \tLoss: nan\n",
            "Train Epoch: 2 \tLoss: nan\n",
            "Testing on task:  0\n",
            "Test set: Average loss: nan, Accuracy: 1000/2000 (50%)\n",
            "\n",
            "Testing on task:  1\n",
            "Test set: Average loss: nan, Accuracy: 0/2000 (0%)\n",
            "\n",
            "Testing on task:  2\n",
            "Test set: Average loss: nan, Accuracy: 0/2000 (0%)\n",
            "\n",
            "Avg acc:  16.666666666666668\n",
            "Training on task:  2\n",
            "Train Epoch: 1 \tLoss: nan\n",
            "Train Epoch: 2 \tLoss: nan\n",
            "Testing on task:  0\n",
            "Test set: Average loss: nan, Accuracy: 1000/2000 (50%)\n",
            "\n",
            "Testing on task:  1\n",
            "Test set: Average loss: nan, Accuracy: 0/2000 (0%)\n",
            "\n",
            "Testing on task:  2\n",
            "Test set: Average loss: nan, Accuracy: 0/2000 (0%)\n",
            "\n",
            "Avg acc:  16.666666666666668\n",
            "Training on task:  0\n",
            "Train Epoch: 1 \tLoss: 0.000000\n",
            "Train Epoch: 2 \tLoss: 0.732228\n",
            "Testing on task:  0\n",
            "Test set: Average loss: 0.0050, Accuracy: 1000/2000 (50%)\n",
            "\n",
            "Testing on task:  1\n",
            "Test set: Average loss: 0.0128, Accuracy: 0/2000 (0%)\n",
            "\n",
            "Testing on task:  2\n",
            "Test set: Average loss: 0.0126, Accuracy: 0/2000 (0%)\n",
            "\n",
            "Avg acc:  16.666666666666668\n",
            "Training on task:  1\n",
            "Train Epoch: 1 \tLoss: 2.303799\n",
            "Train Epoch: 2 \tLoss: 1.370889\n",
            "Testing on task:  0\n",
            "Test set: Average loss: 0.0086, Accuracy: 0/2000 (0%)\n",
            "\n",
            "Testing on task:  1\n",
            "Test set: Average loss: 0.0058, Accuracy: 1000/2000 (50%)\n",
            "\n",
            "Testing on task:  2\n",
            "Test set: Average loss: 0.0135, Accuracy: 0/2000 (0%)\n",
            "\n",
            "Avg acc:  16.666666666666668\n",
            "Training on task:  2\n",
            "Train Epoch: 1 \tLoss: 2.283414\n",
            "Train Epoch: 2 \tLoss: 1.951607\n",
            "Testing on task:  0\n",
            "Test set: Average loss: 0.0101, Accuracy: 0/2000 (0%)\n",
            "\n",
            "Testing on task:  1\n",
            "Test set: Average loss: 0.0102, Accuracy: 0/2000 (0%)\n",
            "\n",
            "Testing on task:  2\n",
            "Test set: Average loss: 0.0059, Accuracy: 1000/2000 (50%)\n",
            "\n",
            "Avg acc:  16.666666666666668\n",
            "Training on task:  0\n",
            "Train Epoch: 1 \tLoss: 0.000102\n",
            "Train Epoch: 2 \tLoss: 0.383933\n",
            "Testing on task:  0\n",
            "Test set: Average loss: 0.0911, Accuracy: 1000/2000 (50%)\n",
            "\n",
            "Testing on task:  1\n",
            "Test set: Average loss: 0.2268, Accuracy: 0/2000 (0%)\n",
            "\n",
            "Testing on task:  2\n",
            "Test set: Average loss: 0.2268, Accuracy: 0/2000 (0%)\n",
            "\n",
            "Avg acc:  16.666666666666668\n",
            "Training on task:  1\n",
            "Train Epoch: 1 \tLoss: nan\n",
            "Train Epoch: 2 \tLoss: nan\n",
            "Testing on task:  0\n",
            "Test set: Average loss: nan, Accuracy: 1000/2000 (50%)\n",
            "\n",
            "Testing on task:  1\n",
            "Test set: Average loss: nan, Accuracy: 0/2000 (0%)\n",
            "\n",
            "Testing on task:  2\n",
            "Test set: Average loss: nan, Accuracy: 0/2000 (0%)\n",
            "\n",
            "Avg acc:  16.666666666666668\n",
            "Training on task:  2\n",
            "Train Epoch: 1 \tLoss: nan\n",
            "Train Epoch: 2 \tLoss: nan\n",
            "Testing on task:  0\n",
            "Test set: Average loss: nan, Accuracy: 1000/2000 (50%)\n",
            "\n",
            "Testing on task:  1\n",
            "Test set: Average loss: nan, Accuracy: 0/2000 (0%)\n",
            "\n",
            "Testing on task:  2\n",
            "Test set: Average loss: nan, Accuracy: 0/2000 (0%)\n",
            "\n",
            "Avg acc:  16.666666666666668\n",
            "Training on task:  0\n",
            "Train Epoch: 1 \tLoss: 0.000000\n",
            "Train Epoch: 2 \tLoss: 0.525028\n",
            "Testing on task:  0\n",
            "Test set: Average loss: 0.0060, Accuracy: 1000/2000 (50%)\n",
            "\n",
            "Testing on task:  1\n",
            "Test set: Average loss: 0.0140, Accuracy: 0/2000 (0%)\n",
            "\n",
            "Testing on task:  2\n",
            "Test set: Average loss: 0.0141, Accuracy: 0/2000 (0%)\n",
            "\n",
            "Avg acc:  16.666666666666668\n",
            "Training on task:  1\n",
            "Train Epoch: 1 \tLoss: 2.266260\n",
            "Train Epoch: 2 \tLoss: 1.090665\n",
            "Testing on task:  0\n",
            "Test set: Average loss: 0.0105, Accuracy: 1/2000 (0%)\n",
            "\n",
            "Testing on task:  1\n",
            "Test set: Average loss: 0.0055, Accuracy: 1000/2000 (50%)\n",
            "\n",
            "Testing on task:  2\n",
            "Test set: Average loss: 0.0171, Accuracy: 0/2000 (0%)\n",
            "\n",
            "Avg acc:  16.683333333333334\n",
            "Training on task:  2\n",
            "Train Epoch: 1 \tLoss: 1.921302\n",
            "Train Epoch: 2 \tLoss: 1.632397\n",
            "Testing on task:  0\n",
            "Test set: Average loss: 0.0168, Accuracy: 0/2000 (0%)\n",
            "\n",
            "Testing on task:  1\n",
            "Test set: Average loss: 0.0139, Accuracy: 0/2000 (0%)\n",
            "\n",
            "Testing on task:  2\n",
            "Test set: Average loss: 0.0108, Accuracy: 1000/2000 (50%)\n",
            "\n",
            "Avg acc:  16.666666666666668\n",
            "Training on task:  0\n",
            "Train Epoch: 1 \tLoss: 0.000000\n",
            "Train Epoch: 2 \tLoss: 0.315255\n",
            "Testing on task:  0\n",
            "Test set: Average loss: 0.0446, Accuracy: 1000/2000 (50%)\n",
            "\n",
            "Testing on task:  1\n",
            "Test set: Average loss: 0.1011, Accuracy: 0/2000 (0%)\n",
            "\n",
            "Testing on task:  2\n",
            "Test set: Average loss: 0.0993, Accuracy: 0/2000 (0%)\n",
            "\n",
            "Avg acc:  16.666666666666668\n",
            "Training on task:  1\n",
            "Train Epoch: 1 \tLoss: nan\n",
            "Train Epoch: 2 \tLoss: nan\n",
            "Testing on task:  0\n",
            "Test set: Average loss: nan, Accuracy: 1000/2000 (50%)\n",
            "\n",
            "Testing on task:  1\n",
            "Test set: Average loss: nan, Accuracy: 0/2000 (0%)\n",
            "\n",
            "Testing on task:  2\n",
            "Test set: Average loss: nan, Accuracy: 0/2000 (0%)\n",
            "\n",
            "Avg acc:  16.666666666666668\n",
            "Training on task:  2\n",
            "Train Epoch: 1 \tLoss: nan\n",
            "Train Epoch: 2 \tLoss: nan\n",
            "Testing on task:  0\n",
            "Test set: Average loss: nan, Accuracy: 1000/2000 (50%)\n",
            "\n",
            "Testing on task:  1\n",
            "Test set: Average loss: nan, Accuracy: 0/2000 (0%)\n",
            "\n",
            "Testing on task:  2\n",
            "Test set: Average loss: nan, Accuracy: 0/2000 (0%)\n",
            "\n",
            "Avg acc:  16.666666666666668\n",
            "Training on task:  0\n",
            "Train Epoch: 1 \tLoss: 0.000000\n",
            "Train Epoch: 2 \tLoss: 0.109396\n",
            "Testing on task:  0\n",
            "Test set: Average loss: 0.1179, Accuracy: 1000/2000 (50%)\n",
            "\n",
            "Testing on task:  1\n",
            "Test set: Average loss: 0.1858, Accuracy: 0/2000 (0%)\n",
            "\n",
            "Testing on task:  2\n",
            "Test set: Average loss: 0.1873, Accuracy: 0/2000 (0%)\n",
            "\n",
            "Avg acc:  16.666666666666668\n",
            "Training on task:  1\n",
            "Train Epoch: 1 \tLoss: nan\n",
            "Train Epoch: 2 \tLoss: nan\n",
            "Testing on task:  0\n",
            "Test set: Average loss: nan, Accuracy: 1000/2000 (50%)\n",
            "\n",
            "Testing on task:  1\n",
            "Test set: Average loss: nan, Accuracy: 0/2000 (0%)\n",
            "\n",
            "Testing on task:  2\n",
            "Test set: Average loss: nan, Accuracy: 0/2000 (0%)\n",
            "\n",
            "Avg acc:  16.666666666666668\n",
            "Training on task:  2\n",
            "Train Epoch: 1 \tLoss: nan\n",
            "Train Epoch: 2 \tLoss: nan\n",
            "Testing on task:  0\n",
            "Test set: Average loss: nan, Accuracy: 1000/2000 (50%)\n",
            "\n",
            "Testing on task:  1\n",
            "Test set: Average loss: nan, Accuracy: 0/2000 (0%)\n",
            "\n",
            "Testing on task:  2\n",
            "Test set: Average loss: nan, Accuracy: 0/2000 (0%)\n",
            "\n",
            "Avg acc:  16.666666666666668\n",
            "Training on task:  0\n",
            "Train Epoch: 1 \tLoss: 0.000000\n",
            "Train Epoch: 2 \tLoss: 1.392447\n",
            "Testing on task:  0\n",
            "Test set: Average loss: 0.0049, Accuracy: 986/2000 (49%)\n",
            "\n",
            "Testing on task:  1\n",
            "Test set: Average loss: 0.0116, Accuracy: 0/2000 (0%)\n",
            "\n",
            "Testing on task:  2\n",
            "Test set: Average loss: 0.0119, Accuracy: 0/2000 (0%)\n",
            "\n",
            "Avg acc:  16.433333333333334\n",
            "Training on task:  1\n",
            "Train Epoch: 1 \tLoss: 2.750881\n",
            "Train Epoch: 2 \tLoss: 1.349045\n",
            "Testing on task:  0\n",
            "Test set: Average loss: 0.2778, Accuracy: 0/2000 (0%)\n",
            "\n",
            "Testing on task:  1\n",
            "Test set: Average loss: 0.1104, Accuracy: 1000/2000 (50%)\n",
            "\n",
            "Testing on task:  2\n",
            "Test set: Average loss: 0.2698, Accuracy: 0/2000 (0%)\n",
            "\n",
            "Avg acc:  16.666666666666668\n",
            "Training on task:  2\n",
            "Train Epoch: 1 \tLoss: nan\n",
            "Train Epoch: 2 \tLoss: nan\n",
            "Testing on task:  0\n",
            "Test set: Average loss: nan, Accuracy: 1000/2000 (50%)\n",
            "\n",
            "Testing on task:  1\n",
            "Test set: Average loss: nan, Accuracy: 0/2000 (0%)\n",
            "\n",
            "Testing on task:  2\n",
            "Test set: Average loss: nan, Accuracy: 0/2000 (0%)\n",
            "\n",
            "Avg acc:  16.666666666666668\n",
            "Training on task:  0\n",
            "Train Epoch: 1 \tLoss: 0.007824\n",
            "Train Epoch: 2 \tLoss: 0.099604\n",
            "Testing on task:  0\n",
            "Test set: Average loss: 0.0408, Accuracy: 1000/2000 (50%)\n",
            "\n",
            "Testing on task:  1\n",
            "Test set: Average loss: 0.0870, Accuracy: 0/2000 (0%)\n",
            "\n",
            "Testing on task:  2\n",
            "Test set: Average loss: 0.0841, Accuracy: 0/2000 (0%)\n",
            "\n",
            "Avg acc:  16.666666666666668\n",
            "Training on task:  1\n",
            "Train Epoch: 1 \tLoss: nan\n",
            "Train Epoch: 2 \tLoss: nan\n",
            "Testing on task:  0\n",
            "Test set: Average loss: nan, Accuracy: 1000/2000 (50%)\n",
            "\n",
            "Testing on task:  1\n",
            "Test set: Average loss: nan, Accuracy: 0/2000 (0%)\n",
            "\n",
            "Testing on task:  2\n",
            "Test set: Average loss: nan, Accuracy: 0/2000 (0%)\n",
            "\n",
            "Avg acc:  16.666666666666668\n",
            "Training on task:  2\n",
            "Train Epoch: 1 \tLoss: nan\n",
            "Train Epoch: 2 \tLoss: nan\n",
            "Testing on task:  0\n",
            "Test set: Average loss: nan, Accuracy: 1000/2000 (50%)\n",
            "\n",
            "Testing on task:  1\n",
            "Test set: Average loss: nan, Accuracy: 0/2000 (0%)\n",
            "\n",
            "Testing on task:  2\n",
            "Test set: Average loss: nan, Accuracy: 0/2000 (0%)\n",
            "\n",
            "Avg acc:  16.666666666666668\n",
            "Training on task:  0\n",
            "Train Epoch: 1 \tLoss: 0.000000\n",
            "Train Epoch: 2 \tLoss: 0.113051\n",
            "Testing on task:  0\n",
            "Test set: Average loss: 0.1467, Accuracy: 1035/2000 (52%)\n",
            "\n",
            "Testing on task:  1\n",
            "Test set: Average loss: 0.2399, Accuracy: 0/2000 (0%)\n",
            "\n",
            "Testing on task:  2\n",
            "Test set: Average loss: 0.2196, Accuracy: 0/2000 (0%)\n",
            "\n",
            "Avg acc:  17.25\n",
            "Training on task:  1\n",
            "Train Epoch: 1 \tLoss: nan\n",
            "Train Epoch: 2 \tLoss: nan\n",
            "Testing on task:  0\n",
            "Test set: Average loss: nan, Accuracy: 1000/2000 (50%)\n",
            "\n",
            "Testing on task:  1\n",
            "Test set: Average loss: nan, Accuracy: 0/2000 (0%)\n",
            "\n",
            "Testing on task:  2\n",
            "Test set: Average loss: nan, Accuracy: 0/2000 (0%)\n",
            "\n",
            "Avg acc:  16.666666666666668\n",
            "Training on task:  2\n",
            "Train Epoch: 1 \tLoss: nan\n",
            "Train Epoch: 2 \tLoss: nan\n",
            "Testing on task:  0\n",
            "Test set: Average loss: nan, Accuracy: 1000/2000 (50%)\n",
            "\n",
            "Testing on task:  1\n",
            "Test set: Average loss: nan, Accuracy: 0/2000 (0%)\n",
            "\n",
            "Testing on task:  2\n",
            "Test set: Average loss: nan, Accuracy: 0/2000 (0%)\n",
            "\n",
            "Avg acc:  16.666666666666668\n",
            "Training on task:  0\n",
            "Train Epoch: 1 \tLoss: 0.000000\n",
            "Train Epoch: 2 \tLoss: 0.545746\n",
            "Testing on task:  0\n",
            "Test set: Average loss: 0.2062, Accuracy: 1000/2000 (50%)\n",
            "\n",
            "Testing on task:  1\n",
            "Test set: Average loss: 0.2849, Accuracy: 0/2000 (0%)\n",
            "\n",
            "Testing on task:  2\n",
            "Test set: Average loss: 0.2712, Accuracy: 0/2000 (0%)\n",
            "\n",
            "Avg acc:  16.666666666666668\n",
            "Training on task:  1\n",
            "Train Epoch: 1 \tLoss: nan\n",
            "Train Epoch: 2 \tLoss: nan\n",
            "Testing on task:  0\n",
            "Test set: Average loss: nan, Accuracy: 1000/2000 (50%)\n",
            "\n",
            "Testing on task:  1\n",
            "Test set: Average loss: nan, Accuracy: 0/2000 (0%)\n",
            "\n",
            "Testing on task:  2\n",
            "Test set: Average loss: nan, Accuracy: 0/2000 (0%)\n",
            "\n",
            "Avg acc:  16.666666666666668\n",
            "Training on task:  2\n",
            "Train Epoch: 1 \tLoss: nan\n",
            "Train Epoch: 2 \tLoss: nan\n",
            "Testing on task:  0\n",
            "Test set: Average loss: nan, Accuracy: 1000/2000 (50%)\n",
            "\n",
            "Testing on task:  1\n",
            "Test set: Average loss: nan, Accuracy: 0/2000 (0%)\n",
            "\n",
            "Testing on task:  2\n",
            "Test set: Average loss: nan, Accuracy: 0/2000 (0%)\n",
            "\n",
            "Avg acc:  16.666666666666668\n",
            "Training on task:  0\n",
            "Train Epoch: 1 \tLoss: 0.000023\n",
            "Train Epoch: 2 \tLoss: 0.893693\n",
            "Testing on task:  0\n",
            "Test set: Average loss: 0.0177, Accuracy: 1039/2000 (52%)\n",
            "\n",
            "Testing on task:  1\n",
            "Test set: Average loss: 0.0372, Accuracy: 0/2000 (0%)\n",
            "\n",
            "Testing on task:  2\n",
            "Test set: Average loss: 0.0351, Accuracy: 0/2000 (0%)\n",
            "\n",
            "Avg acc:  17.316666666666666\n",
            "Training on task:  1\n",
            "Train Epoch: 1 \tLoss: nan\n",
            "Train Epoch: 2 \tLoss: nan\n",
            "Testing on task:  0\n",
            "Test set: Average loss: nan, Accuracy: 1000/2000 (50%)\n",
            "\n",
            "Testing on task:  1\n",
            "Test set: Average loss: nan, Accuracy: 0/2000 (0%)\n",
            "\n",
            "Testing on task:  2\n",
            "Test set: Average loss: nan, Accuracy: 0/2000 (0%)\n",
            "\n",
            "Avg acc:  16.666666666666668\n",
            "Training on task:  2\n",
            "Train Epoch: 1 \tLoss: nan\n",
            "Train Epoch: 2 \tLoss: nan\n",
            "Testing on task:  0\n",
            "Test set: Average loss: nan, Accuracy: 1000/2000 (50%)\n",
            "\n",
            "Testing on task:  1\n",
            "Test set: Average loss: nan, Accuracy: 0/2000 (0%)\n",
            "\n",
            "Testing on task:  2\n",
            "Test set: Average loss: nan, Accuracy: 0/2000 (0%)\n",
            "\n",
            "Avg acc:  16.666666666666668\n",
            "Training on task:  0\n",
            "Train Epoch: 1 \tLoss: 0.000000\n",
            "Train Epoch: 2 \tLoss: 0.110927\n",
            "Testing on task:  0\n",
            "Test set: Average loss: 0.6140, Accuracy: 1032/2000 (52%)\n",
            "\n",
            "Testing on task:  1\n",
            "Test set: Average loss: 0.7796, Accuracy: 0/2000 (0%)\n",
            "\n",
            "Testing on task:  2\n",
            "Test set: Average loss: 0.7427, Accuracy: 0/2000 (0%)\n",
            "\n",
            "Avg acc:  17.2\n",
            "Training on task:  1\n",
            "Train Epoch: 1 \tLoss: nan\n",
            "Train Epoch: 2 \tLoss: nan\n",
            "Testing on task:  0\n",
            "Test set: Average loss: nan, Accuracy: 1000/2000 (50%)\n",
            "\n",
            "Testing on task:  1\n",
            "Test set: Average loss: nan, Accuracy: 0/2000 (0%)\n",
            "\n",
            "Testing on task:  2\n",
            "Test set: Average loss: nan, Accuracy: 0/2000 (0%)\n",
            "\n",
            "Avg acc:  16.666666666666668\n",
            "Training on task:  2\n",
            "Train Epoch: 1 \tLoss: nan\n",
            "Train Epoch: 2 \tLoss: nan\n",
            "Testing on task:  0\n",
            "Test set: Average loss: nan, Accuracy: 1000/2000 (50%)\n",
            "\n",
            "Testing on task:  1\n",
            "Test set: Average loss: nan, Accuracy: 0/2000 (0%)\n",
            "\n",
            "Testing on task:  2\n",
            "Test set: Average loss: nan, Accuracy: 0/2000 (0%)\n",
            "\n",
            "Avg acc:  16.666666666666668\n",
            "Training on task:  0\n",
            "Train Epoch: 1 \tLoss: 0.000000\n",
            "Train Epoch: 2 \tLoss: 0.489877\n",
            "Testing on task:  0\n",
            "Test set: Average loss: 0.0766, Accuracy: 1000/2000 (50%)\n",
            "\n",
            "Testing on task:  1\n",
            "Test set: Average loss: 0.1788, Accuracy: 0/2000 (0%)\n",
            "\n",
            "Testing on task:  2\n",
            "Test set: Average loss: 0.1668, Accuracy: 0/2000 (0%)\n",
            "\n",
            "Avg acc:  16.666666666666668\n",
            "Training on task:  1\n",
            "Train Epoch: 1 \tLoss: nan\n",
            "Train Epoch: 2 \tLoss: nan\n",
            "Testing on task:  0\n",
            "Test set: Average loss: nan, Accuracy: 1000/2000 (50%)\n",
            "\n",
            "Testing on task:  1\n",
            "Test set: Average loss: nan, Accuracy: 0/2000 (0%)\n",
            "\n",
            "Testing on task:  2\n",
            "Test set: Average loss: nan, Accuracy: 0/2000 (0%)\n",
            "\n",
            "Avg acc:  16.666666666666668\n",
            "Training on task:  2\n",
            "Train Epoch: 1 \tLoss: nan\n",
            "Train Epoch: 2 \tLoss: nan\n",
            "Testing on task:  0\n",
            "Test set: Average loss: nan, Accuracy: 1000/2000 (50%)\n",
            "\n",
            "Testing on task:  1\n",
            "Test set: Average loss: nan, Accuracy: 0/2000 (0%)\n",
            "\n",
            "Testing on task:  2\n",
            "Test set: Average loss: nan, Accuracy: 0/2000 (0%)\n",
            "\n",
            "Avg acc:  16.666666666666668\n",
            "Training on task:  0\n",
            "Train Epoch: 1 \tLoss: 0.000076\n",
            "Train Epoch: 2 \tLoss: 1.221656\n",
            "Testing on task:  0\n",
            "Test set: Average loss: 0.0054, Accuracy: 1000/2000 (50%)\n",
            "\n",
            "Testing on task:  1\n",
            "Test set: Average loss: 0.0113, Accuracy: 0/2000 (0%)\n",
            "\n",
            "Testing on task:  2\n",
            "Test set: Average loss: 0.0115, Accuracy: 0/2000 (0%)\n",
            "\n",
            "Avg acc:  16.666666666666668\n",
            "Training on task:  1\n",
            "Train Epoch: 1 \tLoss: 2.753522\n",
            "Train Epoch: 2 \tLoss: 2.176626\n",
            "Testing on task:  0\n",
            "Test set: Average loss: 0.0061, Accuracy: 1000/2000 (50%)\n",
            "\n",
            "Testing on task:  1\n",
            "Test set: Average loss: 0.0081, Accuracy: 0/2000 (0%)\n",
            "\n",
            "Testing on task:  2\n",
            "Test set: Average loss: 0.0124, Accuracy: 0/2000 (0%)\n",
            "\n",
            "Avg acc:  16.666666666666668\n",
            "Training on task:  2\n",
            "Train Epoch: 1 \tLoss: 28611138966319544663159419757920256.000000\n",
            "Train Epoch: 2 \tLoss: nan\n",
            "Testing on task:  0\n",
            "Test set: Average loss: nan, Accuracy: 1000/2000 (50%)\n",
            "\n",
            "Testing on task:  1\n",
            "Test set: Average loss: nan, Accuracy: 0/2000 (0%)\n",
            "\n",
            "Testing on task:  2\n",
            "Test set: Average loss: nan, Accuracy: 0/2000 (0%)\n",
            "\n",
            "Avg acc:  16.666666666666668\n",
            "Training on task:  0\n",
            "Train Epoch: 1 \tLoss: 0.000000\n",
            "Train Epoch: 2 \tLoss: 1.289272\n",
            "Testing on task:  0\n",
            "Test set: Average loss: 0.0050, Accuracy: 1000/2000 (50%)\n",
            "\n",
            "Testing on task:  1\n",
            "Test set: Average loss: 0.0120, Accuracy: 0/2000 (0%)\n",
            "\n",
            "Testing on task:  2\n",
            "Test set: Average loss: 0.0118, Accuracy: 0/2000 (0%)\n",
            "\n",
            "Avg acc:  16.666666666666668\n",
            "Training on task:  1\n",
            "Train Epoch: 1 \tLoss: 2.868697\n",
            "Train Epoch: 2 \tLoss: 2.549575\n",
            "Testing on task:  0\n",
            "Test set: Average loss: 0.0053, Accuracy: 1000/2000 (50%)\n",
            "\n",
            "Testing on task:  1\n",
            "Test set: Average loss: 0.0097, Accuracy: 0/2000 (0%)\n",
            "\n",
            "Testing on task:  2\n",
            "Test set: Average loss: 0.0122, Accuracy: 0/2000 (0%)\n",
            "\n",
            "Avg acc:  16.666666666666668\n",
            "Training on task:  2\n",
            "Train Epoch: 1 \tLoss: inf\n",
            "Train Epoch: 2 \tLoss: nan\n",
            "Testing on task:  0\n",
            "Test set: Average loss: nan, Accuracy: 1000/2000 (50%)\n",
            "\n",
            "Testing on task:  1\n",
            "Test set: Average loss: nan, Accuracy: 0/2000 (0%)\n",
            "\n",
            "Testing on task:  2\n",
            "Test set: Average loss: nan, Accuracy: 0/2000 (0%)\n",
            "\n",
            "Avg acc:  16.666666666666668\n",
            "Training on task:  0\n",
            "Train Epoch: 1 \tLoss: 0.000000\n",
            "Train Epoch: 2 \tLoss: 0.419985\n",
            "Testing on task:  0\n",
            "Test set: Average loss: 0.1779, Accuracy: 1000/2000 (50%)\n",
            "\n",
            "Testing on task:  1\n",
            "Test set: Average loss: 0.2830, Accuracy: 0/2000 (0%)\n",
            "\n",
            "Testing on task:  2\n",
            "Test set: Average loss: 0.2541, Accuracy: 0/2000 (0%)\n",
            "\n",
            "Avg acc:  16.666666666666668\n",
            "Training on task:  1\n",
            "Train Epoch: 1 \tLoss: nan\n",
            "Train Epoch: 2 \tLoss: nan\n",
            "Testing on task:  0\n",
            "Test set: Average loss: nan, Accuracy: 1000/2000 (50%)\n",
            "\n",
            "Testing on task:  1\n",
            "Test set: Average loss: nan, Accuracy: 0/2000 (0%)\n",
            "\n",
            "Testing on task:  2\n",
            "Test set: Average loss: nan, Accuracy: 0/2000 (0%)\n",
            "\n",
            "Avg acc:  16.666666666666668\n",
            "Training on task:  2\n",
            "Train Epoch: 1 \tLoss: nan\n",
            "Train Epoch: 2 \tLoss: nan\n",
            "Testing on task:  0\n",
            "Test set: Average loss: nan, Accuracy: 1000/2000 (50%)\n",
            "\n",
            "Testing on task:  1\n",
            "Test set: Average loss: nan, Accuracy: 0/2000 (0%)\n",
            "\n",
            "Testing on task:  2\n",
            "Test set: Average loss: nan, Accuracy: 0/2000 (0%)\n",
            "\n",
            "Avg acc:  16.666666666666668\n",
            "Training on task:  0\n",
            "Train Epoch: 1 \tLoss: 0.002918\n",
            "Train Epoch: 2 \tLoss: 0.985632\n",
            "Testing on task:  0\n",
            "Test set: Average loss: 0.0046, Accuracy: 1000/2000 (50%)\n",
            "\n",
            "Testing on task:  1\n",
            "Test set: Average loss: 0.0123, Accuracy: 0/2000 (0%)\n",
            "\n",
            "Testing on task:  2\n",
            "Test set: Average loss: 0.0126, Accuracy: 0/2000 (0%)\n",
            "\n",
            "Avg acc:  16.666666666666668\n",
            "Training on task:  1\n",
            "Train Epoch: 1 \tLoss: 2.811611\n",
            "Train Epoch: 2 \tLoss: 2.715808\n",
            "Testing on task:  0\n",
            "Test set: Average loss: 0.0049, Accuracy: 1000/2000 (50%)\n",
            "\n",
            "Testing on task:  1\n",
            "Test set: Average loss: 0.0104, Accuracy: 0/2000 (0%)\n",
            "\n",
            "Testing on task:  2\n",
            "Test set: Average loss: 0.0127, Accuracy: 0/2000 (0%)\n",
            "\n",
            "Avg acc:  16.666666666666668\n",
            "Training on task:  2\n",
            "Train Epoch: 1 \tLoss: inf\n",
            "Train Epoch: 2 \tLoss: nan\n",
            "Testing on task:  0\n",
            "Test set: Average loss: nan, Accuracy: 1000/2000 (50%)\n",
            "\n",
            "Testing on task:  1\n",
            "Test set: Average loss: nan, Accuracy: 0/2000 (0%)\n",
            "\n",
            "Testing on task:  2\n",
            "Test set: Average loss: nan, Accuracy: 0/2000 (0%)\n",
            "\n",
            "Avg acc:  16.666666666666668\n",
            "Training on task:  0\n",
            "Train Epoch: 1 \tLoss: 0.000000\n",
            "Train Epoch: 2 \tLoss: 0.347532\n",
            "Testing on task:  0\n",
            "Test set: Average loss: 0.2431, Accuracy: 1000/2000 (50%)\n",
            "\n",
            "Testing on task:  1\n",
            "Test set: Average loss: 0.5770, Accuracy: 0/2000 (0%)\n",
            "\n",
            "Testing on task:  2\n",
            "Test set: Average loss: 0.5659, Accuracy: 0/2000 (0%)\n",
            "\n",
            "Avg acc:  16.666666666666668\n",
            "Training on task:  1\n",
            "Train Epoch: 1 \tLoss: nan\n",
            "Train Epoch: 2 \tLoss: nan\n",
            "Testing on task:  0\n",
            "Test set: Average loss: nan, Accuracy: 1000/2000 (50%)\n",
            "\n",
            "Testing on task:  1\n",
            "Test set: Average loss: nan, Accuracy: 0/2000 (0%)\n",
            "\n",
            "Testing on task:  2\n",
            "Test set: Average loss: nan, Accuracy: 0/2000 (0%)\n",
            "\n",
            "Avg acc:  16.666666666666668\n",
            "Training on task:  2\n",
            "Train Epoch: 1 \tLoss: nan\n",
            "Train Epoch: 2 \tLoss: nan\n",
            "Testing on task:  0\n",
            "Test set: Average loss: nan, Accuracy: 1000/2000 (50%)\n",
            "\n",
            "Testing on task:  1\n",
            "Test set: Average loss: nan, Accuracy: 0/2000 (0%)\n",
            "\n",
            "Testing on task:  2\n",
            "Test set: Average loss: nan, Accuracy: 0/2000 (0%)\n",
            "\n",
            "Avg acc:  16.666666666666668\n"
          ]
        }
      ]
    },
    {
      "cell_type": "code",
      "source": [
        "ewc_accs_ewc_lambda"
      ],
      "metadata": {
        "colab": {
          "base_uri": "https://localhost:8080/"
        },
        "id": "rRc0TGLGTX_c",
        "outputId": "7201e941-66d4-4cd0-b05d-10e6a4b900b4"
      },
      "execution_count": 115,
      "outputs": [
        {
          "output_type": "execute_result",
          "data": {
            "text/plain": [
              "{0: [16.666666666666668, 16.666666666666668, 16.666666666666668],\n",
              " 1: [16.900000000000002, 16.666666666666668, 16.666666666666668],\n",
              " 2: [16.666666666666668, 16.666666666666668, 16.666666666666668],\n",
              " 3: [16.666666666666668, 16.666666666666668, 16.666666666666668],\n",
              " 4: [16.666666666666668, 16.666666666666668, 16.666666666666668],\n",
              " 5: [16.666666666666668, 16.683333333333334, 16.666666666666668],\n",
              " 6: [16.666666666666668, 16.666666666666668, 16.666666666666668],\n",
              " 7: [16.666666666666668, 16.666666666666668, 16.666666666666668],\n",
              " 8: [16.433333333333334, 16.666666666666668, 16.666666666666668],\n",
              " 9: [16.666666666666668, 16.666666666666668, 16.666666666666668],\n",
              " 10: [17.25, 16.666666666666668, 16.666666666666668],\n",
              " 11: [16.666666666666668, 16.666666666666668, 16.666666666666668],\n",
              " 12: [17.316666666666666, 16.666666666666668, 16.666666666666668],\n",
              " 13: [17.2, 16.666666666666668, 16.666666666666668],\n",
              " 14: [16.666666666666668, 16.666666666666668, 16.666666666666668],\n",
              " 15: [16.666666666666668, 16.666666666666668, 16.666666666666668],\n",
              " 16: [16.666666666666668, 16.666666666666668, 16.666666666666668],\n",
              " 17: [16.666666666666668, 16.666666666666668, 16.666666666666668],\n",
              " 18: [16.666666666666668, 16.666666666666668, 16.666666666666668],\n",
              " 19: [16.666666666666668, 16.666666666666668, 16.666666666666668]}"
            ]
          },
          "metadata": {},
          "execution_count": 115
        }
      ]
    },
    {
      "cell_type": "markdown",
      "metadata": {
        "id": "Nx4bR5K1uIwU"
      },
      "source": [
        "**Questions to explore:**\n",
        "\n",
        "*   How much the `ewc_lambda` parameter effect the final results?\n",
        "*   Can you find a better parametrization to improve stability?\n",
        "*   Can you find the memory overhead introduced by EWC with respect to the Naive approach?\n",
        "\n",
        "Some tips here: https://arxiv.org/pdf/1805.06370.pdf"
      ]
    },
    {
      "cell_type": "markdown",
      "metadata": {
        "id": "o3SM7U5fwTqV"
      },
      "source": [
        "### Plot Results\n",
        "\n",
        "To conclude, let's summerize our results in a nice plot! :-)"
      ]
    },
    {
      "cell_type": "code",
      "metadata": {
        "id": "sIQEVVpDwPP5",
        "colab": {
          "base_uri": "https://localhost:8080/",
          "height": 762
        },
        "outputId": "de659e5f-81e3-423b-8a38-22191f232bbd"
      },
      "source": [
        "plt.plot([1, 2, 3], naive_accs, '-o', label=\"Naive\")\n",
        "plt.plot([1, 2, 3], rehe_accs, '-o', label=\"Rehearsal\")\n",
        "for key, value in ewc_accs_ewc_lambda.items():\n",
        "    plt.plot([1, 2, 3], value, '-o', label=f\"EWC={ewc_lambdas[i]}\")\n",
        "plt.xlabel('Tasks Encountered', fontsize=14)\n",
        "plt.ylabel('Average Accuracy', fontsize=14)\n",
        "plt.title('CL Strategies Comparison on MNIST', fontsize=14);\n",
        "plt.xticks([1, 2, 3])\n",
        "plt.legend(prop={'size': 16});"
      ],
      "execution_count": 116,
      "outputs": [
        {
          "output_type": "display_data",
          "data": {
            "text/plain": [
              "<Figure size 640x480 with 1 Axes>"
            ],
            "image/png": "[encoded data removed]"
          },
          "metadata": {}
        }
      ]
    },
    {
      "cell_type": "markdown",
      "metadata": {
        "id": "9x1D3O7iunxS"
      },
      "source": [
        "**Questions to explore:**\n",
        "\n",
        "*   What's the difference in terms of memory utilization among the three methods?\n",
        "*   Can you plot a similar graph highlighting the memory increase over time?\n",
        "\n",
        "Some tips here: https://stackoverflow.com/questions/449560/how-do-i-determine-the-size-of-an-object-in-python/30316760"
      ]
    },
    {
      "cell_type": "markdown",
      "metadata": {
        "id": "OS9gHzZM7HQr"
      },
      "source": [
        "**Copyright (c) 2018. Continual AI. All rights reserved. **\n",
        "\n",
        "See the accompanying LICENSE file in the GitHub repository for terms.\n",
        "\n",
        "*Date: 29-09-2018                                                             \n",
        "Author: Vincenzo Lomonaco                                                    \n",
        "E-mail: contact@continualai.org                                           \n",
        "Website: continualai.org*                                               "
      ]
    }
  ]
}