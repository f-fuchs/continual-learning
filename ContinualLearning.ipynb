{
  "cells": [
    {
      "cell_type": "code",
      "execution_count": null,
      "metadata": {
        "id": "tIEher0OlQ61",
        "colab": {
          "base_uri": "https://localhost:8080/"
        },
        "outputId": "96e989d5-d499-4b5d-c078-074a1723d018"
      },
      "outputs": [
        {
          "output_type": "stream",
          "name": "stdout",
          "text": [
            "\u001b[2K     \u001b[90m━━━━━━━━━━━━━━━━━━━━━━━━━━━━━━━━━━━━━━━━\u001b[0m \u001b[32m2.2/2.2 MB\u001b[0m \u001b[31m4.7 MB/s\u001b[0m eta \u001b[36m0:00:00\u001b[0m\n",
            "\u001b[2K     \u001b[90m━━━━━━━━━━━━━━━━━━━━━━━━━━━━━━━━━━━━━━━━\u001b[0m \u001b[32m207.3/207.3 kB\u001b[0m \u001b[31m13.1 MB/s\u001b[0m eta \u001b[36m0:00:00\u001b[0m\n",
            "\u001b[2K     \u001b[90m━━━━━━━━━━━━━━━━━━━━━━━━━━━━━━━━━━━━━━━━\u001b[0m \u001b[32m267.1/267.1 kB\u001b[0m \u001b[31m16.3 MB/s\u001b[0m eta \u001b[36m0:00:00\u001b[0m\n",
            "\u001b[2K     \u001b[90m━━━━━━━━━━━━━━━━━━━━━━━━━━━━━━━━━━━━━━━━\u001b[0m \u001b[32m62.7/62.7 kB\u001b[0m \u001b[31m3.3 MB/s\u001b[0m eta \u001b[36m0:00:00\u001b[0m\n",
            "\u001b[?25h"
          ]
        }
      ],
      "source": [
        "!pip install wandb -qU"
      ]
    },
    {
      "cell_type": "code",
      "execution_count": null,
      "metadata": {
        "id": "zJ7xNU3NcCwz"
      },
      "outputs": [],
      "source": [
        "from __future__ import annotations\n",
        "\n",
        "from copy import deepcopy\n",
        "from datetime import datetime, timezone\n",
        "from pathlib import Path\n",
        "\n",
        "import torch\n",
        "import torch.nn.functional as F\n",
        "import torchvision\n",
        "from torch import nn, optim\n",
        "from torch.utils.data import ConcatDataset, DataLoader, Dataset, Subset\n",
        "from torchvision import transforms\n",
        "from tqdm import tqdm\n",
        "\n",
        "import wandb"
      ]
    },
    {
      "cell_type": "markdown",
      "metadata": {
        "id": "zk95CyQP6Sfa"
      },
      "source": [
        "## Weights and Bias Login\n"
      ]
    },
    {
      "cell_type": "code",
      "execution_count": null,
      "metadata": {
        "id": "Amah_vX1lNE-",
        "colab": {
          "base_uri": "https://localhost:8080/",
          "height": 121
        },
        "outputId": "e7e92e50-2de3-4ce8-8fef-9963ccfd1ae6"
      },
      "outputs": [
        {
          "output_type": "display_data",
          "data": {
            "text/plain": [
              "<IPython.core.display.Javascript object>"
            ],
            "application/javascript": [
              "\n",
              "        window._wandbApiKey = new Promise((resolve, reject) => {\n",
              "            function loadScript(url) {\n",
              "            return new Promise(function(resolve, reject) {\n",
              "                let newScript = document.createElement(\"script\");\n",
              "                newScript.onerror = reject;\n",
              "                newScript.onload = resolve;\n",
              "                document.body.appendChild(newScript);\n",
              "                newScript.src = url;\n",
              "            });\n",
              "            }\n",
              "            loadScript(\"https://cdn.jsdelivr.net/npm/postmate/build/postmate.min.js\").then(() => {\n",
              "            const iframe = document.createElement('iframe')\n",
              "            iframe.style.cssText = \"width:0;height:0;border:none\"\n",
              "            document.body.appendChild(iframe)\n",
              "            const handshake = new Postmate({\n",
              "                container: iframe,\n",
              "                url: 'https://wandb.ai/authorize'\n",
              "            });\n",
              "            const timeout = setTimeout(() => reject(\"Couldn't auto authenticate\"), 5000)\n",
              "            handshake.then(function(child) {\n",
              "                child.on('authorize', data => {\n",
              "                    clearTimeout(timeout)\n",
              "                    resolve(data)\n",
              "                });\n",
              "            });\n",
              "            })\n",
              "        });\n",
              "    "
            ]
          },
          "metadata": {}
        },
        {
          "output_type": "stream",
          "name": "stderr",
          "text": [
            "\u001b[34m\u001b[1mwandb\u001b[0m: Logging into wandb.ai. (Learn how to deploy a W&B server locally: https://wandb.me/wandb-server)\n",
            "\u001b[34m\u001b[1mwandb\u001b[0m: You can find your API key in your browser here: https://wandb.ai/authorize\n",
            "wandb: Paste an API key from your profile and hit enter, or press ctrl+c to quit:"
          ]
        },
        {
          "name": "stdout",
          "output_type": "stream",
          "text": [
            " ··········\n"
          ]
        },
        {
          "output_type": "stream",
          "name": "stderr",
          "text": [
            "\u001b[34m\u001b[1mwandb\u001b[0m: Appending key for api.wandb.ai to your netrc file: /root/.netrc\n"
          ]
        },
        {
          "output_type": "execute_result",
          "data": {
            "text/plain": [
              "True"
            ]
          },
          "metadata": {},
          "execution_count": 3
        }
      ],
      "source": [
        "wandb.login()"
      ]
    },
    {
      "cell_type": "markdown",
      "metadata": {
        "id": "7odmCw657Me2"
      },
      "source": [
        "## Model\n"
      ]
    },
    {
      "cell_type": "markdown",
      "metadata": {
        "id": "81TzZYcUqjdj"
      },
      "source": [
        "### ConvNeXtV2\n"
      ]
    },
    {
      "cell_type": "markdown",
      "metadata": {
        "id": "mL0UcU1cGeqP"
      },
      "source": [
        "Got source code for the ConvNeXtV2 model from https://github.com/facebookresearch/ConvNeXt-V2/blob/main/models/convnextv2.py and removed drop path and custom weight initialization. Added variable patch size.\n"
      ]
    },
    {
      "cell_type": "code",
      "execution_count": null,
      "metadata": {
        "id": "kA6kljA77MAe"
      },
      "outputs": [],
      "source": [
        "class LayerNorm(nn.Module):\n",
        "    \"\"\"LayerNorm that supports two data formats: channels_last (default) or channels_first.\n",
        "    The ordering of the dimensions in the inputs. channels_last corresponds to inputs with\n",
        "    shape (batch_size, height, width, channels) while channels_first corresponds to inputs\n",
        "    with shape (batch_size, channels, height, width).\n",
        "    \"\"\"\n",
        "\n",
        "    def __init__(self, normalized_shape, eps=1e-6, data_format=\"channels_last\"):\n",
        "        super().__init__()\n",
        "        self.weight = nn.Parameter(torch.ones(normalized_shape))\n",
        "        self.bias = nn.Parameter(torch.zeros(normalized_shape))\n",
        "        self.eps = eps\n",
        "        self.data_format = data_format\n",
        "        if self.data_format not in [\"channels_last\", \"channels_first\"]:\n",
        "            raise NotImplementedError\n",
        "        self.normalized_shape = (normalized_shape,)\n",
        "\n",
        "    def forward(self, x):\n",
        "        if self.data_format == \"channels_last\":\n",
        "            return F.layer_norm(x, self.normalized_shape, self.weight, self.bias, self.eps)\n",
        "        elif self.data_format == \"channels_first\":\n",
        "            u = x.mean(1, keepdim=True)\n",
        "            s = (x - u).pow(2).mean(1, keepdim=True)\n",
        "            x = (x - u) / torch.sqrt(s + self.eps)\n",
        "            x = self.weight[:, None, None] * x + self.bias[:, None, None]\n",
        "            return x\n",
        "\n",
        "\n",
        "class GRN(nn.Module):\n",
        "    \"\"\"GRN (Global Response Normalization) layer\"\"\"\n",
        "\n",
        "    def __init__(self, dim):\n",
        "        super().__init__()\n",
        "        self.gamma = nn.Parameter(torch.zeros(1, 1, 1, dim))\n",
        "        self.beta = nn.Parameter(torch.zeros(1, 1, 1, dim))\n",
        "\n",
        "    def forward(self, x):\n",
        "        Gx = torch.norm(x, p=2, dim=(1, 2), keepdim=True)\n",
        "        Nx = Gx / (Gx.mean(dim=-1, keepdim=True) + 1e-6)\n",
        "        return self.gamma * (x * Nx) + self.beta + x\n",
        "\n",
        "\n",
        "class Block(nn.Module):\n",
        "    \"\"\"ConvNeXtV2 Block.\"\"\"\n",
        "\n",
        "    def __init__(self, dim, drop_path=0.0):\n",
        "        \"\"\"ConvNeXtV2 Block.\n",
        "\n",
        "        Args:\n",
        "            dim (int): Number of input channels.\n",
        "            drop_path (float): Stochastic depth rate. Default: 0.0\n",
        "        \"\"\"\n",
        "        super().__init__()\n",
        "        self.dwconv = nn.Conv2d(dim, dim, kernel_size=7, padding=3, groups=dim)  # depthwise conv\n",
        "        self.norm = LayerNorm(dim, eps=1e-6)\n",
        "        self.pwconv1 = nn.Linear(dim, 4 * dim)  # pointwise/1x1 convs, implemented with linear layers\n",
        "        self.act = nn.GELU()\n",
        "        self.grn = GRN(4 * dim)\n",
        "        self.pwconv2 = nn.Linear(4 * dim, dim)\n",
        "\n",
        "    def forward(self, x):\n",
        "        input = x\n",
        "        x = self.dwconv(x)\n",
        "        x = x.permute(0, 2, 3, 1)  # (N, C, H, W) -> (N, H, W, C)\n",
        "        x = self.norm(x)\n",
        "        x = self.pwconv1(x)\n",
        "        x = self.act(x)\n",
        "        x = self.grn(x)\n",
        "        x = self.pwconv2(x)\n",
        "        x = x.permute(0, 3, 1, 2)  # (N, H, W, C) -> (N, C, H, W)\n",
        "\n",
        "        return input + x\n",
        "\n",
        "\n",
        "class ConvNeXtV2(nn.Module):\n",
        "    \"\"\"ConvNeXt V2.\"\"\"\n",
        "\n",
        "    def __init__(\n",
        "        self,\n",
        "        in_chans=3,\n",
        "        num_classes=1000,\n",
        "        depths=[3, 3, 9, 3],\n",
        "        dims=[96, 192, 384, 768],\n",
        "        drop_path_rate=0.0,\n",
        "        patch_size=1,\n",
        "    ):\n",
        "        \"\"\"ConvNeXt V2.\n",
        "\n",
        "        Args:\n",
        "            in_chans (int): Number of input image channels. Default: 3\n",
        "            num_classes (int): Number of classes for classification head. Default: 1000\n",
        "            depths (tuple(int)): Number of blocks at each stage. Default: [3, 3, 9, 3]\n",
        "            dims (int): Feature dimension at each stage. Default: [96, 192, 384, 768]\n",
        "            drop_path_rate (float): Stochastic depth rate. Default: 0.\n",
        "            head_init_scale (float): Init scaling value for classifier weights and biases. Default: 1.\n",
        "        \"\"\"\n",
        "        super().__init__()\n",
        "        self.depths = depths\n",
        "        self.downsample_layers = nn.ModuleList()  # stem and 3 intermediate downsampling conv layers\n",
        "        stem = nn.Sequential(\n",
        "            nn.Conv2d(in_chans, dims[0], kernel_size=patch_size, stride=patch_size),\n",
        "            LayerNorm(dims[0], eps=1e-6, data_format=\"channels_first\"),\n",
        "        )\n",
        "        self.downsample_layers.append(stem)\n",
        "        for i in range(3):\n",
        "            downsample_layer = nn.Sequential(\n",
        "                LayerNorm(dims[i], eps=1e-6, data_format=\"channels_first\"),\n",
        "                nn.Conv2d(dims[i], dims[i + 1], kernel_size=2, stride=2),\n",
        "            )\n",
        "            self.downsample_layers.append(downsample_layer)\n",
        "\n",
        "        self.stages = nn.ModuleList()  # 4 feature resolution stages, each consisting of multiple residual blocks\n",
        "        dp_rates = [x.item() for x in torch.linspace(0, drop_path_rate, sum(depths))]\n",
        "        cur = 0\n",
        "        for i in range(4):\n",
        "            stage = nn.Sequential(*[Block(dim=dims[i], drop_path=dp_rates[cur + j]) for j in range(depths[i])])\n",
        "            self.stages.append(stage)\n",
        "            cur += depths[i]\n",
        "\n",
        "        self.norm = nn.LayerNorm(dims[-1], eps=1e-6)  # final norm layer\n",
        "        self.head = nn.Linear(dims[-1], num_classes)\n",
        "\n",
        "    def forward_features(self, x):\n",
        "        for i in range(4):\n",
        "            x = self.downsample_layers[i](x)\n",
        "            x = self.stages[i](x)\n",
        "        return self.norm(x.mean([-2, -1]))  # global average pooling, (N, C, H, W) -> (N, C)\n",
        "\n",
        "    def forward(self, x):\n",
        "        x = self.forward_features(x)\n",
        "        x = self.head(x)\n",
        "        return x"
      ]
    },
    {
      "cell_type": "markdown",
      "metadata": {
        "id": "Uot78Zzcqjdl"
      },
      "source": [
        "### ConvMixer\n"
      ]
    },
    {
      "cell_type": "markdown",
      "metadata": {
        "id": "KEI3sYgFqjdm"
      },
      "source": [
        "source code from here https://github.com/kentaroy47/vision-transformers-cifar10/blob/main/README.md\n"
      ]
    },
    {
      "cell_type": "code",
      "execution_count": null,
      "metadata": {
        "id": "i54ag6gCqjdm"
      },
      "outputs": [],
      "source": [
        "class Residual(nn.Module):\n",
        "    def __init__(self, fn):\n",
        "        super().__init__()\n",
        "        self.fn = fn\n",
        "\n",
        "    def forward(self, x):\n",
        "        return self.fn(x) + x\n",
        "\n",
        "\n",
        "def ConvMixer(dim, depth, kernel_size=9, patch_size=7, n_classes=1000):\n",
        "    return nn.Sequential(\n",
        "        nn.Conv2d(3, dim, kernel_size=patch_size, stride=patch_size),\n",
        "        nn.GELU(),\n",
        "        nn.BatchNorm2d(dim),\n",
        "        *[\n",
        "            nn.Sequential(\n",
        "                Residual(\n",
        "                    nn.Sequential(\n",
        "                        nn.Conv2d(dim, dim, kernel_size, groups=dim, padding=\"same\"), nn.GELU(), nn.BatchNorm2d(dim)\n",
        "                    )\n",
        "                ),\n",
        "                nn.Conv2d(dim, dim, kernel_size=1),\n",
        "                nn.GELU(),\n",
        "                nn.BatchNorm2d(dim),\n",
        "            )\n",
        "            for i in range(depth)\n",
        "        ],\n",
        "        nn.AdaptiveAvgPool2d((1, 1)),\n",
        "        nn.Flatten(),\n",
        "        nn.Linear(dim, n_classes),\n",
        "    )"
      ]
    },
    {
      "cell_type": "markdown",
      "source": [
        "### SimpleCNN"
      ],
      "metadata": {
        "id": "X9hCGJz-bf8C"
      }
    },
    {
      "cell_type": "code",
      "source": [
        "class SimpleCNN(nn.Module):\n",
        "    def __init__(self):\n",
        "        super().__init__()\n",
        "        self.conv1 = nn.Conv2d(3, 10, kernel_size=5)\n",
        "        self.conv2 = nn.Conv2d(10, 20, kernel_size=5)\n",
        "        self.conv2_drop = nn.Dropout2d()\n",
        "        self.fc1 = nn.Linear(500, 70)\n",
        "        self.fc2 = nn.Linear(70, 10)\n",
        "        self.flatten = torch.nn.Flatten()\n",
        "\n",
        "    def forward(self, x):\n",
        "        x = F.relu(F.max_pool2d(self.conv1(x), 2))\n",
        "        x = F.relu(F.max_pool2d(self.conv2_drop(self.conv2(x)), 2))\n",
        "        x = self.flatten(x)\n",
        "        x = F.relu(self.fc1(x))\n",
        "        x = F.dropout(x, training=self.training)\n",
        "        x = self.fc2(x)\n",
        "        return x"
      ],
      "metadata": {
        "id": "pDL8945fbgBd"
      },
      "execution_count": null,
      "outputs": []
    },
    {
      "cell_type": "markdown",
      "metadata": {
        "id": "gS1TSvMr6VrH"
      },
      "source": [
        "## Functions\n"
      ]
    },
    {
      "cell_type": "markdown",
      "metadata": {
        "id": "eHRz3-K8qjdn"
      },
      "source": [
        "### dataset\n"
      ]
    },
    {
      "cell_type": "code",
      "execution_count": null,
      "metadata": {
        "id": "QNKuM6tj6Q7q"
      },
      "outputs": [],
      "source": [
        "def get_classes() -> tuple:\n",
        "    \"\"\"Return class labels of CIFAR-10 dataset.\"\"\"\n",
        "    return (\"plane\", \"car\", \"bird\", \"cat\", \"deer\", \"dog\", \"frog\", \"horse\", \"ship\", \"truck\")\n",
        "\n",
        "\n",
        "def get_datasets(tasks: int) -> tuple[list[Subset], list[Subset]]:\n",
        "    \"\"\"Split CIFAR-10 dataset into task specific subsets.\n",
        "\n",
        "    Args:\n",
        "        tasks (int): Number of tasks to split the dataset into.\n",
        "\n",
        "    Returns:\n",
        "        tuple[list[Subset], list[Subset]]: Tuple containing two list with the train and test subsets.\n",
        "    \"\"\"\n",
        "    classes = get_classes()\n",
        "    transform = transforms.Compose([transforms.ToTensor(), transforms.Normalize((0.5, 0.5, 0.5), (0.5, 0.5, 0.5))])\n",
        "    trainset = torchvision.datasets.CIFAR10(root=\"./data\", train=True, download=True, transform=transform)\n",
        "    testset = torchvision.datasets.CIFAR10(root=\"./data\", train=False, download=True, transform=transform)\n",
        "    classes_per_task = torch.linspace(0, len(classes), tasks + 1, dtype=torch.int)\n",
        "    trainsets = []\n",
        "    testsets = []\n",
        "    train_targets = torch.tensor(trainset.targets)\n",
        "    test_targets = torch.tensor(testset.targets)\n",
        "    for i in range(len(classes_per_task) - 1):\n",
        "        train_indices = []\n",
        "        test_indices = []\n",
        "        for j in range(classes_per_task[i], classes_per_task[i + 1]):\n",
        "            train_indices.extend((train_targets == j).nonzero(as_tuple=False).flatten().tolist())\n",
        "            test_indices.extend((test_targets == j).nonzero(as_tuple=False).flatten().tolist())\n",
        "        trainsets.append(Subset(trainset, train_indices))\n",
        "        testsets.append(Subset(testset, test_indices))\n",
        "    return trainsets, testsets"
      ]
    },
    {
      "cell_type": "markdown",
      "metadata": {
        "id": "fym7cme4qjdn"
      },
      "source": [
        "### metrics\n"
      ]
    },
    {
      "cell_type": "code",
      "execution_count": null,
      "metadata": {
        "id": "8E3w1c8iGeqQ"
      },
      "outputs": [],
      "source": [
        "def accuracy(testset: Dataset, model: nn.Module, device: torch.device, batch_size=1) -> float:\n",
        "    testloader = DataLoader(testset, shuffle=False, batch_size=batch_size)\n",
        "\n",
        "    model.eval()\n",
        "    correct = 0\n",
        "    for images, labels in testloader:\n",
        "        # calculate outputs by running images through the network\n",
        "        predictions = model(images.to(device=device))\n",
        "        # the class with the highest energy is what we choose as prediction\n",
        "        _, predicted = torch.max(predictions.data, 1)\n",
        "        correct += (predicted == labels.to(device=device)).sum().item()\n",
        "    return 100 * correct / len(testset)"
      ]
    },
    {
      "cell_type": "code",
      "execution_count": null,
      "metadata": {
        "id": "nDcsV9XUGeqR"
      },
      "outputs": [],
      "source": [
        "def average_accuracy(\n",
        "    testsets: list[Dataset],\n",
        "    model: nn.Module,\n",
        "    device: torch.device,\n",
        "    return_intermediate: bool = False,  # noqa: FBT001, FBT002\n",
        ") -> float | tuple[float, list[float]]:\n",
        "    average_accuracy = 0\n",
        "    average_accuracies = []\n",
        "    for i in range(len(testsets)):\n",
        "        task_accuracy = accuracy(testset=testsets[i], model=model, device=device)\n",
        "        average_accuracy += task_accuracy\n",
        "        average_accuracies.append(task_accuracy)\n",
        "    if return_intermediate:\n",
        "        return average_accuracy / len(testsets), average_accuracies\n",
        "    return average_accuracy / len(testsets)"
      ]
    },
    {
      "cell_type": "code",
      "execution_count": null,
      "metadata": {
        "id": "RPKyAsARqjdo"
      },
      "outputs": [],
      "source": [
        "def forgetting_measure(average_accuracies_per_training_per_task: list[list[float]], current_task: int) -> float:\n",
        "    forgetting_measure = 0\n",
        "    for j in range(current_task):  # exclude current task\n",
        "        f = 0\n",
        "        for i in range(j, current_task):  # exclude current task\n",
        "            f_ = (\n",
        "                average_accuracies_per_training_per_task[i][j]\n",
        "                - average_accuracies_per_training_per_task[current_task][j]\n",
        "            )\n",
        "            if f_ > f:\n",
        "                f = f_\n",
        "        forgetting_measure += f\n",
        "    return forgetting_measure / current_task"
      ]
    },
    {
      "cell_type": "code",
      "execution_count": null,
      "metadata": {
        "colab": {
          "base_uri": "https://localhost:8080/"
        },
        "id": "bjCKerxVqjdo",
        "outputId": "13b6319b-119c-47bf-e31f-1cdeb64f163a"
      },
      "outputs": [
        {
          "output_type": "execute_result",
          "data": {
            "text/plain": [
              "66.66666666666667"
            ]
          },
          "metadata": {},
          "execution_count": 11
        }
      ],
      "source": [
        "average_accuracies_per_training_per_task = [[100], [50, 100], [25, 50, 100], [25, 25, 50, 100]]\n",
        "forgetting_measure(average_accuracies_per_training_per_task=average_accuracies_per_training_per_task, current_task=3)"
      ]
    },
    {
      "cell_type": "markdown",
      "metadata": {
        "id": "0EL1Gcw1qjdp"
      },
      "source": [
        "### train loop\n"
      ]
    },
    {
      "cell_type": "code",
      "execution_count": null,
      "metadata": {
        "id": "IbR9W9Tw7AVI"
      },
      "outputs": [],
      "source": [
        "def train_on_task(\n",
        "    trainset: Dataset,\n",
        "    testset: Dataset,\n",
        "    model: nn.Module,\n",
        "    device: torch.device,\n",
        "    optimizer: torch.optim.Optimizer,\n",
        "    epochs: int,\n",
        "    batch_size: int,\n",
        "    lr: float,\n",
        "    criterion: nn.modules.loss._Loss | None = None,\n",
        "    scheduler: torch.optim.lr_scheduler.LRScheduler | None = None,\n",
        "):\n",
        "    # create dataloaders\n",
        "    trainloader = DataLoader(trainset, batch_size=batch_size, shuffle=True, num_workers=2)\n",
        "\n",
        "    # move model to device\n",
        "    model.to(device=device)\n",
        "\n",
        "    if criterion is None:\n",
        "        criterion = nn.CrossEntropyLoss()\n",
        "    if scheduler is None:\n",
        "        scheduler = torch.optim.lr_scheduler.OneCycleLR(\n",
        "            optimizer,\n",
        "            max_lr=lr,\n",
        "            steps_per_epoch=len(trainloader),\n",
        "            epochs=epochs,\n",
        "        )\n",
        "\n",
        "    # training\n",
        "    for epoch in range(epochs):\n",
        "        # train one epoch\n",
        "        with tqdm(total=len(trainset), unit=\"images\") as progress_bar:\n",
        "            model.train()\n",
        "            for i, (images, labels) in enumerate(trainloader):\n",
        "                progress_bar.set_description(f\"Epoch {epoch+1} Batch {i}\")\n",
        "                # zero the parameter gradients\n",
        "                optimizer.zero_grad()\n",
        "\n",
        "                # forward\n",
        "                prediction = model(images.to(device=device))\n",
        "                # calc loss\n",
        "                loss = criterion(prediction, labels.to(device=device))\n",
        "                # backward\n",
        "                loss.backward()\n",
        "                # optimizer\n",
        "                optimizer.step()\n",
        "                # scheduler\n",
        "                scheduler.step()\n",
        "                progress_bar.set_postfix(loss=loss.item())\n",
        "                progress_bar.update(labels.shape[0])\n",
        "                wandb.log({\"loss\": loss})\n",
        "                wandb.log({\"lr\": scheduler.get_last_lr()[0]})\n",
        "        # save model\n",
        "        path = Path(wandb.run.dir).joinpath(f\"model{epoch}.pth\")\n",
        "        torch.save(model.state_dict(), path)\n",
        "\n",
        "        # eval\n",
        "        test_accucracy = accuracy(testset=testset, model=model, device=device, batch_size=batch_size)\n",
        "        wandb.log({\"test_accucracy\": test_accucracy})\n",
        "\n",
        "    # save final model\n",
        "    path = Path(wandb.run.dir).joinpath(\"model.pth\")\n",
        "    torch.save(model.state_dict(), path)"
      ]
    },
    {
      "cell_type": "markdown",
      "metadata": {
        "id": "2ZO3E8DLqjdr"
      },
      "source": [
        "### concurrent\n"
      ]
    },
    {
      "cell_type": "code",
      "execution_count": null,
      "metadata": {
        "id": "0Bvd9GSjqjdr"
      },
      "outputs": [],
      "source": [
        "def train_tasks_concurrently(  # noqa: PLR0913\n",
        "    model_dict: dict,\n",
        "    device: torch.device,\n",
        "    epochs: int,\n",
        "    batch_size: int,\n",
        "    lr: float,\n",
        "    weight_decay: float,\n",
        "    criterion: nn.modules.loss._Loss | None = None,\n",
        "    scheduler: torch.optim.lr_scheduler.LRScheduler | None = None,\n",
        ") -> None:\n",
        "    # build model\n",
        "    constructor = model_dict.pop(\"constructor\")\n",
        "    model = constructor(**model_dict)\n",
        "    # create optimizer\n",
        "    optimizer = optim.AdamW(model.parameters(), lr=lr, weight_decay=weight_decay)\n",
        "    # setup logging\n",
        "    project_name = \"continual_learning\"\n",
        "    run_name = f\"{datetime.now(tz=timezone.utc).strftime('%Y_%m_%d_%H_%M_%S')}\"\n",
        "    config = {\n",
        "        \"training_method\": \"concurrently\",\n",
        "        \"model\": model,\n",
        "        \"optimizer\": optimizer,\n",
        "        \"dataset\": \"CIFAR-10\",\n",
        "        \"epochs\": epochs,\n",
        "        \"batch_size\": batch_size,\n",
        "        \"lr\": lr,\n",
        "        \"weight_decay\": weight_decay,\n",
        "        \"num_parameters\": sum(p.numel() for p in model.parameters()),\n",
        "    }\n",
        "    config.update(model_dict)\n",
        "    wandb.init(\n",
        "        project=project_name,\n",
        "        name=run_name,\n",
        "        config=config,\n",
        "    )\n",
        "\n",
        "    # get datasets\n",
        "    trainsets, testsets = get_datasets(tasks=1)\n",
        "\n",
        "    train_on_task(\n",
        "        trainset=trainsets[0],\n",
        "        testset=testsets[0],\n",
        "        model=model,\n",
        "        device=device,\n",
        "        optimizer=optimizer,\n",
        "        epochs=epochs,\n",
        "        batch_size=batch_size,\n",
        "        lr=lr,\n",
        "        criterion=criterion,\n",
        "        scheduler=scheduler,\n",
        "    )\n",
        "    # finish logging run\n",
        "    wandb.finish()"
      ]
    },
    {
      "cell_type": "markdown",
      "metadata": {
        "id": "BBn6MnIuqjdr"
      },
      "source": [
        "### sequentially\n"
      ]
    },
    {
      "cell_type": "markdown",
      "source": [
        "#### naive"
      ],
      "metadata": {
        "id": "vPhAxmtieCo8"
      }
    },
    {
      "cell_type": "code",
      "execution_count": null,
      "metadata": {
        "id": "gQIXFn8FGeqR"
      },
      "outputs": [],
      "source": [
        "def train_tasks_sequentially(  # noqa: PLR0913\n",
        "    model_dict: dict,\n",
        "    device: torch.device,\n",
        "    epochs: int,\n",
        "    batch_size: int,\n",
        "    tasks: int,\n",
        "    lr: float,\n",
        "    weight_decay: float,\n",
        "    criterion: nn.modules.loss._Loss | None = None,\n",
        "    scheduler: torch.optim.lr_scheduler.LRScheduler | None = None,\n",
        ") -> None:\n",
        "    # build model\n",
        "    constructor = model_dict.pop(\"constructor\")\n",
        "    model = constructor(**model_dict)\n",
        "    # create optimizer\n",
        "    optimizer = optim.AdamW(model.parameters(), lr=lr, weight_decay=weight_decay)\n",
        "    # setup logging\n",
        "    project_name = \"continual_learning\"\n",
        "    run_name = f\"{datetime.now(tz=timezone.utc).strftime('%Y_%m_%d_%H_%M_%S')}\"\n",
        "    config = {\n",
        "        \"training_method\": \"sequentially\",\n",
        "        \"model\": model,\n",
        "        \"optimizer\": optimizer,\n",
        "        \"dataset\": \"CIFAR-10\",\n",
        "        \"epochs\": epochs,\n",
        "        \"batch_size\": batch_size,\n",
        "        \"tasks\": tasks,\n",
        "        \"lr\": lr,\n",
        "        \"weight_decay\": weight_decay,\n",
        "        \"num_parameters\": sum(p.numel() for p in model.parameters()),\n",
        "    }\n",
        "    config.update(model_dict)\n",
        "    wandb.init(\n",
        "        project=project_name,\n",
        "        name=run_name,\n",
        "        config=config,\n",
        "    )\n",
        "\n",
        "    # get datasets\n",
        "    trainsets, testsets = get_datasets(tasks=tasks)\n",
        "\n",
        "    avg_accs_per_task = []\n",
        "    for k in range(tasks):\n",
        "        # train model on task\n",
        "        train_on_task(\n",
        "            trainset=trainsets[k],\n",
        "            testset=testsets[k],\n",
        "            model=model,\n",
        "            device=device,\n",
        "            optimizer=optimizer,\n",
        "            epochs=epochs,\n",
        "            batch_size=batch_size,\n",
        "            lr=lr,\n",
        "            criterion=criterion,\n",
        "            scheduler=scheduler,\n",
        "        )\n",
        "        # evaluate model\n",
        "        avg_acc, avg_accs = average_accuracy(\n",
        "            testsets=testsets[: k + 1],  # include current task\n",
        "            model=model,\n",
        "            device=device,\n",
        "            return_intermediate=True,\n",
        "        )\n",
        "        avg_accs_per_task.append(avg_accs)\n",
        "        wandb.log({\"accuracy_on_current_task_only\": avg_accs[-1]})\n",
        "        wandb.log({\"average_accuracy\": avg_acc})\n",
        "\n",
        "        # calculate forgetting measure as defined here https://arxiv.org/pdf/2302.00487.pdf\n",
        "        if k > 0:  # forgetting measure only makes sense, if we already trained on prior task\n",
        "            wandb.log(\n",
        "                {\n",
        "                    \"forgetting_measure\": forgetting_measure(\n",
        "                        average_accuracies_per_training_per_task=avg_accs_per_task,\n",
        "                        current_task=k,\n",
        "                    ),\n",
        "                },\n",
        "            )\n",
        "\n",
        "        # save model\n",
        "        path = Path(wandb.run.dir).joinpath(f\"model_task{k}_of{tasks}.pth\")\n",
        "        torch.save(model.state_dict(), path)\n",
        "\n",
        "    # finish logging run\n",
        "    wandb.finish()"
      ]
    },
    {
      "cell_type": "markdown",
      "metadata": {
        "id": "ylDJIDbYqjds"
      },
      "source": [
        "#### rehearsal\n"
      ]
    },
    {
      "cell_type": "code",
      "execution_count": null,
      "metadata": {
        "id": "bZ-PFNm_qjds"
      },
      "outputs": [],
      "source": [
        "def train_tasks_sequentially_rehearsal(  # noqa: PLR0913\n",
        "    model_dict: dict,\n",
        "    device: torch.device,\n",
        "    epochs: int,\n",
        "    batch_size: int,\n",
        "    tasks: int,\n",
        "    lr: float,\n",
        "    weight_decay: float,\n",
        "    memory_size_per_task: int,\n",
        "    criterion: nn.modules.loss._Loss | None = None,\n",
        "    scheduler: torch.optim.lr_scheduler.LRScheduler | None = None,\n",
        ") -> None:\n",
        "    # build model\n",
        "    constructor = model_dict.pop(\"constructor\")\n",
        "    model = constructor(**model_dict)\n",
        "    # create optimizer\n",
        "    optimizer = optim.AdamW(model.parameters(), lr=lr, weight_decay=weight_decay)\n",
        "    # setup logging\n",
        "    project_name = \"continual_learning\"\n",
        "    run_name = f\"{datetime.now(tz=timezone.utc).strftime('%Y_%m_%d_%H_%M_%S')}\"\n",
        "    config = {\n",
        "        \"training_method\": \"sequentially with rehearsal\",\n",
        "        \"model\": model,\n",
        "        \"optimizer\": optimizer,\n",
        "        \"dataset\": \"CIFAR-10\",\n",
        "        \"epochs\": epochs,\n",
        "        \"batch_size\": batch_size,\n",
        "        \"tasks\": tasks,\n",
        "        \"lr\": lr,\n",
        "        \"weight_decay\": weight_decay,\n",
        "        \"memory_size_per_task\": memory_size_per_task,\n",
        "        \"num_parameters\": sum(p.numel() for p in model.parameters()),\n",
        "    }\n",
        "    config.update(model_dict)\n",
        "    wandb.init(\n",
        "        project=project_name,\n",
        "        name=run_name,\n",
        "        config=config,\n",
        "    )\n",
        "\n",
        "    # get datasets\n",
        "    trainsets, testsets = get_datasets(tasks=tasks)\n",
        "\n",
        "    avg_accs_per_task = []\n",
        "    memories = []\n",
        "    for k in range(tasks):\n",
        "        # train model on task\n",
        "        train_on_task(\n",
        "            trainset=ConcatDataset([trainsets[k], *memories]),\n",
        "            testset=testsets[k],\n",
        "            model=model,\n",
        "            device=device,\n",
        "            optimizer=optimizer,\n",
        "            epochs=epochs,\n",
        "            batch_size=batch_size,\n",
        "            lr=lr,\n",
        "            criterion=criterion,\n",
        "            scheduler=scheduler,\n",
        "        )\n",
        "        # evaluate model\n",
        "        avg_acc, avg_accs = average_accuracy(\n",
        "            testsets=testsets[: k + 1],  # include current task\n",
        "            model=model,\n",
        "            device=device,\n",
        "            return_intermediate=True,\n",
        "        )\n",
        "        avg_accs_per_task.append(avg_accs)\n",
        "        wandb.log({\"accuracy_on_current_task_only\": avg_accs[-1]})\n",
        "        wandb.log({\"average_accuracy\": avg_acc})\n",
        "\n",
        "        # calculate forgetting measure as defined here https://arxiv.org/pdf/2302.00487.pdf\n",
        "        if k > 0:  # forgetting measure only makes sense, if we already trained on prior task\n",
        "            wandb.log(\n",
        "                {\n",
        "                    \"forgetting_measure\": forgetting_measure(\n",
        "                        average_accuracies_per_training_per_task=avg_accs_per_task,\n",
        "                        current_task=k,\n",
        "                    ),\n",
        "                },\n",
        "            )\n",
        "\n",
        "        # save model\n",
        "        path = Path(wandb.run.dir).joinpath(f\"model_task{k}_of{tasks}.pth\")\n",
        "        torch.save(model.state_dict(), path)\n",
        "\n",
        "        # add come images and labels from current task to memory\n",
        "        random_indices = torch.randint(low=0, high=len(trainsets[k - 1]), size=(memory_size_per_task,))\n",
        "        memory_task = Subset(trainsets[k], random_indices)\n",
        "        memories.append(memory_task)\n",
        "\n",
        "    # finish logging run\n",
        "    wandb.finish()"
      ]
    },
    {
      "cell_type": "markdown",
      "metadata": {
        "id": "HUfS_XeJqjds"
      },
      "source": [
        "#### elastic weight consolidation\n"
      ]
    },
    {
      "cell_type": "code",
      "execution_count": null,
      "metadata": {
        "id": "Q4kS8Vxvqjdt"
      },
      "outputs": [],
      "source": [
        "def calculate_fisher_optimal_parameters(\n",
        "    trainset: Subset,\n",
        "    model: nn.Module,\n",
        "    device: torch.device,\n",
        "    optimizer: torch.optim.Optimizer,\n",
        "    batch_size: int,\n",
        "    current_task: int,\n",
        "    fisher_dict: dict,\n",
        "    optpar_dict: dict,\n",
        "    samples_for_fisher_approximation: int,\n",
        "    criterion: nn.modules.loss._Loss,\n",
        "):\n",
        "    model.train()\n",
        "    optimizer.zero_grad()\n",
        "\n",
        "    # get subset from trainset\n",
        "    indices = torch.randint(low=0, high=len(trainset.indices), size=(samples_for_fisher_approximation,))\n",
        "    dataset = Subset(trainset, indices)\n",
        "    dataloader = DataLoader(dataset, batch_size=batch_size, shuffle=False, num_workers=2)\n",
        "\n",
        "    # accumulating gradients\n",
        "    for images, labels in dataloader:\n",
        "        # forward\n",
        "        prediction = model(images.to(device=device))\n",
        "        # calc loss\n",
        "        loss = criterion(prediction, labels.to(device=device))\n",
        "        # backward\n",
        "        loss.backward()\n",
        "\n",
        "    # gradients accumulated can be used to calculate fisher\n",
        "    optpar_dict[current_task] = {}\n",
        "    fisher_dict[current_task] = {}\n",
        "\n",
        "    for name, param in model.named_parameters():\n",
        "        optpar_dict[current_task][name] = param.data.clone()\n",
        "        fisher_dict[current_task][name] = param.grad.data.clone().pow(2) / samples_for_fisher_approximation"
      ]
    },
    {
      "cell_type": "code",
      "execution_count": null,
      "metadata": {
        "id": "175G-seRqjdt"
      },
      "outputs": [],
      "source": [
        "def train_on_task_with_elastic_weight_loss(\n",
        "    trainset: Subset,\n",
        "    testset: Subset,\n",
        "    model: nn.Module,\n",
        "    device: torch.device,\n",
        "    optimizer: torch.optim.Optimizer,\n",
        "    epochs: int,\n",
        "    batch_size: int,\n",
        "    lr: float,\n",
        "    fisher_dict: dict,\n",
        "    optpar_dict: dict,\n",
        "    ewc_lambda: float,\n",
        "    current_task: int,\n",
        "    criterion: nn.modules.loss._Loss,\n",
        "    scheduler: torch.optim.lr_scheduler.LRScheduler | None = None,\n",
        "):\n",
        "    # create dataloaders\n",
        "    trainloader = DataLoader(trainset, batch_size=batch_size, shuffle=True, num_workers=2)\n",
        "\n",
        "    # move model to device\n",
        "    model.to(device=device)\n",
        "\n",
        "    if scheduler is None:\n",
        "        scheduler = torch.optim.lr_scheduler.OneCycleLR(\n",
        "            optimizer,\n",
        "            max_lr=lr,\n",
        "            steps_per_epoch=len(trainloader),\n",
        "            epochs=epochs,\n",
        "        )\n",
        "\n",
        "    # training\n",
        "    for epoch in range(epochs):\n",
        "        # train one epoch\n",
        "        with tqdm(total=len(trainset), unit=\"images\") as progress_bar:\n",
        "            model.train()\n",
        "            for i, (images, labels) in enumerate(trainloader):\n",
        "                progress_bar.set_description(f\"Epoch {epoch+1} Batch {i}\")\n",
        "                # zero the parameter gradients\n",
        "                optimizer.zero_grad()\n",
        "\n",
        "                # forward\n",
        "                prediction = model(images.to(device=device))\n",
        "                # calc loss\n",
        "                loss = criterion(prediction, labels.to(device=device))\n",
        "\n",
        "                # add elastic weight loss\n",
        "                elastic_weight_loss = 0\n",
        "                for task in range(current_task):\n",
        "                    for name, param in model.named_parameters():\n",
        "                        fisher = fisher_dict[task][name]\n",
        "                        optpar = optpar_dict[task][name]\n",
        "                        elastic_weight_loss += (fisher * (optpar - param).pow(2)).sum()\n",
        "                # combine loss\n",
        "                loss = loss + 0.5 * elastic_weight_loss * ewc_lambda\n",
        "                # backward\n",
        "                loss.backward()\n",
        "                # optimizer\n",
        "                optimizer.step()\n",
        "                # scheduler\n",
        "                scheduler.step()\n",
        "                progress_bar.set_postfix(loss=loss.item())\n",
        "                progress_bar.update(labels.shape[0])\n",
        "                wandb.log({\"loss\": loss})\n",
        "                wandb.log({\"lr\": scheduler.get_last_lr()[0]})\n",
        "                wandb.log({\"elastic_weight_loss\": elastic_weight_loss})\n",
        "                wandb.log({\"elastic_weight_loss_scaled\": 0.5 * elastic_weight_loss * ewc_lambda})\n",
        "        # save model\n",
        "        path = Path(wandb.run.dir).joinpath(f\"model{epoch}.pth\")\n",
        "        torch.save(model.state_dict(), path)\n",
        "\n",
        "        # eval\n",
        "        test_accucracy = accuracy(testset=testset, model=model, device=device, batch_size=batch_size)\n",
        "        wandb.log({\"test_accucracy\": test_accucracy})\n",
        "\n",
        "    # save final model\n",
        "    path = Path(wandb.run.dir).joinpath(\"model.pth\")\n",
        "    torch.save(model.state_dict(), path)"
      ]
    },
    {
      "cell_type": "code",
      "execution_count": null,
      "metadata": {
        "id": "I-gENJ9Qqjdt"
      },
      "outputs": [],
      "source": [
        "def train_tasks_sequentially_elastic_weight_consolidation(  # noqa: PLR0913\n",
        "    model_dict: dict,\n",
        "    device: torch.device,\n",
        "    epochs: int,\n",
        "    batch_size: int,\n",
        "    tasks: int,\n",
        "    lr: float,\n",
        "    weight_decay: float,\n",
        "    ewc_lambda: float,\n",
        "    samples_for_fisher_approximation: int,\n",
        "    criterion: nn.modules.loss._Loss | None = None,\n",
        "    scheduler: torch.optim.lr_scheduler.LRScheduler | None = None,\n",
        ") -> None:\n",
        "    # build model\n",
        "    constructor = model_dict.pop(\"constructor\")\n",
        "    model = constructor(**model_dict)\n",
        "    # create optimizer\n",
        "    # optimizer = optim.AdamW(model.parameters(), lr=lr, weight_decay=weight_decay)\n",
        "    optimizer = optim.SGD(model.parameters(), lr=lr, momentum=0.95)\n",
        "    if criterion is None:\n",
        "        criterion = nn.CrossEntropyLoss()\n",
        "    # setup logging\n",
        "    project_name = \"continual_learning\"\n",
        "    run_name = f\"{datetime.now(tz=timezone.utc).strftime('%Y_%m_%d_%H_%M_%S')}\"\n",
        "    config = {\n",
        "        \"training_method\": \"sequentially with elastic weight consolidation\",\n",
        "        \"model\": model,\n",
        "        \"optimizer\": optimizer,\n",
        "        \"dataset\": \"CIFAR-10\",\n",
        "        \"epochs\": epochs,\n",
        "        \"batch_size\": batch_size,\n",
        "        \"tasks\": tasks,\n",
        "        \"lr\": lr,\n",
        "        \"weight_decay\": weight_decay,\n",
        "        \"ewc_lambda\": ewc_lambda,\n",
        "        \"samples_for_fisher_approximation\": samples_for_fisher_approximation,\n",
        "        \"num_parameters\": sum(p.numel() for p in model.parameters()),\n",
        "    }\n",
        "    config.update(model_dict)\n",
        "    wandb.init(\n",
        "        project=project_name,\n",
        "        name=run_name,\n",
        "        config=config,\n",
        "    )\n",
        "\n",
        "    # get datasets\n",
        "    trainsets, testsets = get_datasets(tasks=tasks)\n",
        "\n",
        "    avg_accs_per_task = []\n",
        "    fisher_dict = {}\n",
        "    optpar_dict = {}\n",
        "    for k in range(tasks):\n",
        "        train_on_task_with_elastic_weight_loss(\n",
        "            trainset=trainsets[k],\n",
        "            testset=testsets[k],\n",
        "            model=model,\n",
        "            device=device,\n",
        "            optimizer=optimizer,\n",
        "            epochs=epochs,\n",
        "            batch_size=batch_size,\n",
        "            lr=lr,\n",
        "            fisher_dict=fisher_dict,\n",
        "            optpar_dict=optpar_dict,\n",
        "            ewc_lambda=ewc_lambda,\n",
        "            current_task=k,\n",
        "            criterion=criterion,\n",
        "            scheduler=scheduler,\n",
        "        )\n",
        "        # evaluate model\n",
        "        avg_acc, avg_accs = average_accuracy(\n",
        "            testsets=testsets[: k + 1],  # include current task\n",
        "            model=model,\n",
        "            device=device,\n",
        "            return_intermediate=True,\n",
        "        )\n",
        "        avg_accs_per_task.append(avg_accs)\n",
        "        wandb.log({\"accuracy_on_current_task_only\": avg_accs[-1]})\n",
        "        wandb.log({\"average_accuracy\": avg_acc})\n",
        "\n",
        "        # calculate forgetting measure as defined here https://arxiv.org/pdf/2302.00487.pdf\n",
        "        if k > 0:  # forgetting measure only makes sense, if we already trained on prior task\n",
        "            wandb.log(\n",
        "                {\n",
        "                    \"forgetting_measure\": forgetting_measure(\n",
        "                        average_accuracies_per_training_per_task=avg_accs_per_task,\n",
        "                        current_task=k,\n",
        "                    ),\n",
        "                },\n",
        "            )\n",
        "\n",
        "        # save model\n",
        "        path = Path(wandb.run.dir).joinpath(f\"model_task{k}_of{tasks}.pth\")\n",
        "        torch.save(model.state_dict(), path)\n",
        "\n",
        "        # gradients accumulated can be used to calculate fisher\n",
        "        calculate_fisher_optimal_parameters(\n",
        "            trainset=trainsets[k],\n",
        "            model=model,\n",
        "            device=device,\n",
        "            optimizer=optimizer,\n",
        "            batch_size=batch_size,\n",
        "            current_task=k,\n",
        "            fisher_dict=fisher_dict,\n",
        "            optpar_dict=optpar_dict,\n",
        "            samples_for_fisher_approximation=samples_for_fisher_approximation,\n",
        "            criterion=criterion,\n",
        "        )\n",
        "\n",
        "    # finish logging run\n",
        "    wandb.finish()"
      ]
    },
    {
      "cell_type": "markdown",
      "metadata": {
        "id": "EsfwnjFyqjdt"
      },
      "source": [
        "### wandb\n"
      ]
    },
    {
      "cell_type": "code",
      "execution_count": null,
      "metadata": {
        "id": "UILvQs6gGeqS"
      },
      "outputs": [],
      "source": [
        "def load_weights_from_wandb(model: nn.Module, run_name: str) -> nn.Module:\n",
        "    best_model = wandb.restore(\n",
        "        \"model.pth\",\n",
        "        run_path=f\"fabianfuchs/continual_learning/{run_name}\",\n",
        "        root=Path.cwd().joinpath(\"checkpoints\"),\n",
        "        replace=True,\n",
        "    )\n",
        "\n",
        "    # use the \"name\" attribute of the returned object if your framework expects a filename, e.g. as in Keras\n",
        "    model.load_state_dict(torch.load(best_model.name))\n",
        "    return model"
      ]
    },
    {
      "cell_type": "markdown",
      "metadata": {
        "id": "hIt_EXa1GeqS"
      },
      "source": [
        "## Setup\n"
      ]
    },
    {
      "cell_type": "code",
      "execution_count": null,
      "metadata": {
        "id": "3psLpC6hGeqS"
      },
      "outputs": [],
      "source": [
        "epochs = 1\n",
        "batch_size = 64\n",
        "lr = 0.01\n",
        "momentum = 0.9\n",
        "weight_decay = 0.01\n",
        "device = torch.device(\"cuda:0\") if torch.cuda.is_available() else torch.device(\"cpu\")\n",
        "tasks = 1"
      ]
    },
    {
      "cell_type": "code",
      "execution_count": null,
      "metadata": {
        "id": "pBszzWHfqjdu"
      },
      "outputs": [],
      "source": [
        "models = []"
      ]
    },
    {
      "cell_type": "code",
      "source": [
        "# convnext_minimal_v2 = {\n",
        "#     \"constructor\": ConvNeXtV2,\n",
        "#     \"in_chans\": 3,\n",
        "#     \"num_classes\": 10,\n",
        "#     \"depths\": [1, 1, 1, 1],\n",
        "#     \"dims\": [5, 10, 20, 40],\n",
        "#     \"patch_size\": 1,\n",
        "# }\n",
        "# models.append(convnext_minimal_v2)"
      ],
      "metadata": {
        "id": "YdXvxoAhgoVf"
      },
      "execution_count": null,
      "outputs": []
    },
    {
      "cell_type": "code",
      "execution_count": null,
      "metadata": {
        "id": "Px0FCnGVqjdu"
      },
      "outputs": [],
      "source": [
        "# convnext_minimal = {\n",
        "#     \"constructor\": ConvNeXtV2,\n",
        "#     \"name\": \"ConvNeXtV2\",\n",
        "#     \"in_chans\": 3,\n",
        "#     \"num_classes\": 10,\n",
        "#     \"depths\": [2, 2, 2, 2],\n",
        "#     \"dims\": [128, 128, 128, 128],\n",
        "#     \"patch_size\": 1,\n",
        "# }\n",
        "# models.append(convnext_minimal)"
      ]
    },
    {
      "cell_type": "code",
      "execution_count": null,
      "metadata": {
        "id": "kmRL4K2LGeqS"
      },
      "outputs": [],
      "source": [
        "# convnext_atto = {\n",
        "#     \"constructor\": ConvNeXtV2,\n",
        "#     \"name\": \"ConvNeXtV2\",\n",
        "#     \"in_chans\": 3,\n",
        "#     \"num_classes\": 10,\n",
        "#     \"depths\": [2, 2, 6, 2],\n",
        "#     \"dims\": [40, 80, 160, 320],\n",
        "#     \"patch_size\": 1,\n",
        "# }\n",
        "# models.append(convnext_atto)"
      ]
    },
    {
      "cell_type": "code",
      "execution_count": null,
      "metadata": {
        "id": "zX3B6pscGeqT"
      },
      "outputs": [],
      "source": [
        "# convnext_tiny = {\n",
        "#     \"constructor\": ConvNeXtV2,\n",
        "#     \"name\": \"ConvNeXtV2\",\n",
        "#     \"in_chans\": 3,\n",
        "#     \"num_classes\": 10,\n",
        "#     \"depths\": [3, 3, 9, 3],\n",
        "#     \"dims\": [96, 192, 384, 768],\n",
        "#     \"patch_size\": 1,\n",
        "# }\n",
        "# models.append(convnext_tiny)"
      ]
    },
    {
      "cell_type": "code",
      "execution_count": null,
      "metadata": {
        "id": "9OZ7CY4EGeqT"
      },
      "outputs": [],
      "source": [
        "# convnext_base = {\n",
        "#     \"constructor\": ConvNeXtV2,\n",
        "#     \"name\": \"ConvNeXtV2\",\n",
        "#     \"in_chans\": 3,\n",
        "#     \"num_classes\": 10,\n",
        "#     \"depths\": [3, 3, 27, 3],\n",
        "#     \"dims\": [128, 256, 512, 1024],\n",
        "#     \"patch_size\": 1,\n",
        "# }\n",
        "# models.append(convnext_base)"
      ]
    },
    {
      "cell_type": "code",
      "execution_count": null,
      "metadata": {
        "id": "Tua0WUvkqjd6"
      },
      "outputs": [],
      "source": [
        "# conv_mixer_minimal = {\n",
        "#     \"constructor\": ConvMixer,\n",
        "#     \"name\": \"ConvMixer\",\n",
        "#     \"dim\": 128,\n",
        "#     \"depth\": 4,\n",
        "#     \"kernel_size\": 7,\n",
        "#     \"patch_size\": 1,\n",
        "#     \"n_classes\": 10,\n",
        "# }\n",
        "# models.append(conv_mixer_minimal)"
      ]
    },
    {
      "cell_type": "code",
      "execution_count": null,
      "metadata": {
        "id": "U1_SEK_hqjd6"
      },
      "outputs": [],
      "source": [
        "# conv_mixer_atto = {\n",
        "#     \"constructor\": ConvMixer,\n",
        "#     \"name\": \"ConvMixer\",\n",
        "#     \"dim\": 128,\n",
        "#     \"depth\": 8,\n",
        "#     \"kernel_size\": 7,\n",
        "#     \"patch_size\": 1,\n",
        "#     \"n_classes\": 10,\n",
        "# }\n",
        "# models.append(conv_mixer_atto)"
      ]
    },
    {
      "cell_type": "code",
      "execution_count": null,
      "metadata": {
        "id": "mF_1WzCYqjd6"
      },
      "outputs": [],
      "source": [
        "# conv_mixer_tiny = {\n",
        "#     \"constructor\": ConvMixer,\n",
        "#     \"name\": \"ConvMixer\",\n",
        "#     \"dim\": 256,\n",
        "#     \"depth\": 8,\n",
        "#     \"kernel_size\": 7,\n",
        "#     \"patch_size\": 1,\n",
        "#     \"n_classes\": 10,\n",
        "# }\n",
        "# models.append(conv_mixer_tiny)"
      ]
    },
    {
      "cell_type": "code",
      "source": [
        "simple_cnn = {\n",
        "    \"constructor\": SimpleCNN,\n",
        "}\n",
        "models.append(simple_cnn)"
      ],
      "metadata": {
        "id": "QSzNBlE1brbe"
      },
      "execution_count": null,
      "outputs": []
    },
    {
      "cell_type": "markdown",
      "source": [
        "## Standard Setting"
      ],
      "metadata": {
        "id": "16KYUaUObvpN"
      }
    },
    {
      "cell_type": "code",
      "execution_count": null,
      "metadata": {
        "id": "rHEyR98AGeqT",
        "colab": {
          "base_uri": "https://localhost:8080/",
          "height": 652,
          "referenced_widgets": [
            "5420c29693df42fe8f82c3fb0a92c848",
            "e333ca24b1fa4ac9a3fc1018116f6120",
            "3f25bdf8f7834b609837ac1c17203646",
            "3ccbc5de8d7c45c188a955f04f405633",
            "dff4df32965c4fb79cc01e45621c17f6",
            "bcb772185f874d33a3d91b37ebb33e38",
            "2f16533c821b46c489d05d7e6cb0b9bb",
            "728ff6f7363941e1a33d2f437058a969",
            "d80213d3b4fc4a279cc28c7bcbfa04d9",
            "391ed6755af145ffb151476bfe9ffd37",
            "bfb6b352df54409c91a1779e98f783fe",
            "94d5e5e6d2134b4fa0c2e17e470d93df",
            "2b92617d5ea440a2acbbc4969b0e8911",
            "e8271e77998343908db85d5756f238f3",
            "d6446883f8414e2aad02a0df3a38aa02",
            "60d583d654a8419fb2d2a306837f68a5"
          ]
        },
        "outputId": "1f0fe451-0fda-4ccb-fd03-41386653c2c3"
      },
      "outputs": [
        {
          "output_type": "display_data",
          "data": {
            "text/plain": [
              "<IPython.core.display.HTML object>"
            ],
            "text/html": [
              "Finishing last run (ID:q2e8wnnu) before initializing another..."
            ]
          },
          "metadata": {}
        },
        {
          "output_type": "display_data",
          "data": {
            "text/plain": [
              "VBox(children=(Label(value='0.001 MB of 0.001 MB uploaded\\r'), FloatProgress(value=1.0, max=1.0)))"
            ],
            "application/vnd.jupyter.widget-view+json": {
              "version_major": 2,
              "version_minor": 0,
              "model_id": "5420c29693df42fe8f82c3fb0a92c848"
            }
          },
          "metadata": {}
        },
        {
          "output_type": "display_data",
          "data": {
            "text/plain": [
              "<IPython.core.display.HTML object>"
            ],
            "text/html": [
              "<style>\n",
              "    table.wandb td:nth-child(1) { padding: 0 10px; text-align: left ; width: auto;} td:nth-child(2) {text-align: left ; width: 100%}\n",
              "    .wandb-row { display: flex; flex-direction: row; flex-wrap: wrap; justify-content: flex-start; width: 100% }\n",
              "    .wandb-col { display: flex; flex-direction: column; flex-basis: 100%; flex: 1; padding: 10px; }\n",
              "    </style>\n",
              "<div class=\"wandb-row\"><div class=\"wandb-col\"><h3>Run history:</h3><br/><table class=\"wandb\"><tr><td>loss</td><td>███▇▇▇▇▇▅▇▅▆▅▄▅▅▄▄▄▄▄▃▃▅▄▅▄▄▁▄▃▂▄▂▄▅▃▃▂▄</td></tr><tr><td>lr</td><td>▁▁▁▁▁▁▁▁▁▁▁▂▂▂▂▂▂▂▃▃▃▃▃▃▄▄▄▄▅▅▅▅▆▆▆▇▇▇██</td></tr><tr><td>test_accucracy</td><td>▁</td></tr></table><br/></div><div class=\"wandb-col\"><h3>Run summary:</h3><br/><table class=\"wandb\"><tr><td>loss</td><td>1.72945</td></tr><tr><td>lr</td><td>0.0012</td></tr><tr><td>test_accucracy</td><td>43.34</td></tr></table><br/></div></div>"
            ]
          },
          "metadata": {}
        },
        {
          "output_type": "display_data",
          "data": {
            "text/plain": [
              "<IPython.core.display.HTML object>"
            ],
            "text/html": [
              " View run <strong style=\"color:#cdcd00\">2024_04_20_17_01_41</strong> at: <a href='https://wandb.ai/fabianfuchs/continual_learning/runs/q2e8wnnu' target=\"_blank\">https://wandb.ai/fabianfuchs/continual_learning/runs/q2e8wnnu</a><br/> View project at: <a href='https://wandb.ai/fabianfuchs/continual_learning' target=\"_blank\">https://wandb.ai/fabianfuchs/continual_learning</a><br/>Synced 5 W&B file(s), 0 media file(s), 0 artifact file(s) and 1 other file(s)"
            ]
          },
          "metadata": {}
        },
        {
          "output_type": "display_data",
          "data": {
            "text/plain": [
              "<IPython.core.display.HTML object>"
            ],
            "text/html": [
              "Find logs at: <code>./wandb/run-20240420_170141-q2e8wnnu/logs</code>"
            ]
          },
          "metadata": {}
        },
        {
          "output_type": "display_data",
          "data": {
            "text/plain": [
              "<IPython.core.display.HTML object>"
            ],
            "text/html": [
              "Successfully finished last run (ID:q2e8wnnu). Initializing new run:<br/>"
            ]
          },
          "metadata": {}
        },
        {
          "output_type": "display_data",
          "data": {
            "text/plain": [
              "<IPython.core.display.HTML object>"
            ],
            "text/html": [
              "Tracking run with wandb version 0.16.6"
            ]
          },
          "metadata": {}
        },
        {
          "output_type": "display_data",
          "data": {
            "text/plain": [
              "<IPython.core.display.HTML object>"
            ],
            "text/html": [
              "Run data is saved locally in <code>/content/wandb/run-20240420_170305-w2mmu2yh</code>"
            ]
          },
          "metadata": {}
        },
        {
          "output_type": "display_data",
          "data": {
            "text/plain": [
              "<IPython.core.display.HTML object>"
            ],
            "text/html": [
              "Syncing run <strong><a href='https://wandb.ai/fabianfuchs/continual_learning/runs/w2mmu2yh' target=\"_blank\">2024_04_20_17_03_05</a></strong> to <a href='https://wandb.ai/fabianfuchs/continual_learning' target=\"_blank\">Weights & Biases</a> (<a href='https://wandb.me/run' target=\"_blank\">docs</a>)<br/>"
            ]
          },
          "metadata": {}
        },
        {
          "output_type": "display_data",
          "data": {
            "text/plain": [
              "<IPython.core.display.HTML object>"
            ],
            "text/html": [
              " View project at <a href='https://wandb.ai/fabianfuchs/continual_learning' target=\"_blank\">https://wandb.ai/fabianfuchs/continual_learning</a>"
            ]
          },
          "metadata": {}
        },
        {
          "output_type": "display_data",
          "data": {
            "text/plain": [
              "<IPython.core.display.HTML object>"
            ],
            "text/html": [
              " View run at <a href='https://wandb.ai/fabianfuchs/continual_learning/runs/w2mmu2yh' target=\"_blank\">https://wandb.ai/fabianfuchs/continual_learning/runs/w2mmu2yh</a>"
            ]
          },
          "metadata": {}
        },
        {
          "output_type": "stream",
          "name": "stdout",
          "text": [
            "Files already downloaded and verified\n",
            "Files already downloaded and verified\n"
          ]
        },
        {
          "output_type": "stream",
          "name": "stderr",
          "text": [
            "Epoch 1 Batch 781: 100%|██████████| 50000/50000 [00:41<00:00, 1211.24images/s, loss=1.71]\n"
          ]
        },
        {
          "output_type": "display_data",
          "data": {
            "text/plain": [
              "VBox(children=(Label(value='0.001 MB of 0.001 MB uploaded\\r'), FloatProgress(value=1.0, max=1.0)))"
            ],
            "application/vnd.jupyter.widget-view+json": {
              "version_major": 2,
              "version_minor": 0,
              "model_id": "d80213d3b4fc4a279cc28c7bcbfa04d9"
            }
          },
          "metadata": {}
        },
        {
          "output_type": "display_data",
          "data": {
            "text/plain": [
              "<IPython.core.display.HTML object>"
            ],
            "text/html": [
              "<style>\n",
              "    table.wandb td:nth-child(1) { padding: 0 10px; text-align: left ; width: auto;} td:nth-child(2) {text-align: left ; width: 100%}\n",
              "    .wandb-row { display: flex; flex-direction: row; flex-wrap: wrap; justify-content: flex-start; width: 100% }\n",
              "    .wandb-col { display: flex; flex-direction: column; flex-basis: 100%; flex: 1; padding: 10px; }\n",
              "    </style>\n",
              "<div class=\"wandb-row\"><div class=\"wandb-col\"><h3>Run history:</h3><br/><table class=\"wandb\"><tr><td>loss</td><td>███▆▆▇▄▅▆▄▅▅▄▅▅▇▅▇▇▅▃▄▆▄▂▅▄▅▄▃▃▁▃▃▅▁▃▅▇▂</td></tr><tr><td>lr</td><td>▁▁▂▂▃▄▅▆▆▇███████▇▇▇▇▆▆▆▅▅▄▄▄▃▃▂▂▂▂▁▁▁▁▁</td></tr><tr><td>test_accucracy</td><td>▁</td></tr></table><br/></div><div class=\"wandb-col\"><h3>Run summary:</h3><br/><table class=\"wandb\"><tr><td>loss</td><td>1.70865</td></tr><tr><td>lr</td><td>0.0</td></tr><tr><td>test_accucracy</td><td>38.28</td></tr></table><br/></div></div>"
            ]
          },
          "metadata": {}
        },
        {
          "output_type": "display_data",
          "data": {
            "text/plain": [
              "<IPython.core.display.HTML object>"
            ],
            "text/html": [
              " View run <strong style=\"color:#cdcd00\">2024_04_20_17_03_05</strong> at: <a href='https://wandb.ai/fabianfuchs/continual_learning/runs/w2mmu2yh' target=\"_blank\">https://wandb.ai/fabianfuchs/continual_learning/runs/w2mmu2yh</a><br/> View project at: <a href='https://wandb.ai/fabianfuchs/continual_learning' target=\"_blank\">https://wandb.ai/fabianfuchs/continual_learning</a><br/>Synced 5 W&B file(s), 0 media file(s), 0 artifact file(s) and 2 other file(s)"
            ]
          },
          "metadata": {}
        },
        {
          "output_type": "display_data",
          "data": {
            "text/plain": [
              "<IPython.core.display.HTML object>"
            ],
            "text/html": [
              "Find logs at: <code>./wandb/run-20240420_170305-w2mmu2yh/logs</code>"
            ]
          },
          "metadata": {}
        }
      ],
      "source": [
        "for model in models:\n",
        "    train_tasks_concurrently(\n",
        "        model_dict=deepcopy(model),\n",
        "        device=device,\n",
        "        epochs=epochs,\n",
        "        batch_size=batch_size,\n",
        "        lr=lr,\n",
        "        weight_decay=weight_decay,\n",
        "    )"
      ]
    },
    {
      "cell_type": "markdown",
      "metadata": {
        "id": "R59sQDCoGeqT"
      },
      "source": [
        "\n",
        "\n",
        "## Sequential without modifications\n"
      ]
    },
    {
      "cell_type": "code",
      "execution_count": null,
      "metadata": {
        "id": "iwBNBJFzGeqT"
      },
      "outputs": [],
      "source": [
        "tasks = 5"
      ]
    },
    {
      "cell_type": "code",
      "execution_count": null,
      "metadata": {
        "id": "0JqT_GCKNG3T",
        "colab": {
          "base_uri": "https://localhost:8080/",
          "height": 610,
          "referenced_widgets": [
            "b07281d73fe443359cff9b06684bc26a",
            "7abedd73b6d44b6babbcb4ea580fbf9b",
            "556dbec7843844489217486df7ccd0a2",
            "7c08aa41458241c487d1392b3025987f",
            "aedba1774cb747229ed06f827561ac69",
            "d0d6de8fd76e4b6fbd07a4d111de0599",
            "3260cf3fc07a4810a77c59df9a07f1b9",
            "74915834ac7540e48521b926ff00a156"
          ]
        },
        "outputId": "9f857608-64b8-44d5-f079-ed3046e3eab4"
      },
      "outputs": [
        {
          "output_type": "display_data",
          "data": {
            "text/plain": [
              "<IPython.core.display.HTML object>"
            ],
            "text/html": [
              "Tracking run with wandb version 0.16.6"
            ]
          },
          "metadata": {}
        },
        {
          "output_type": "display_data",
          "data": {
            "text/plain": [
              "<IPython.core.display.HTML object>"
            ],
            "text/html": [
              "Run data is saved locally in <code>/content/wandb/run-20240420_170602-kv9wx8vo</code>"
            ]
          },
          "metadata": {}
        },
        {
          "output_type": "display_data",
          "data": {
            "text/plain": [
              "<IPython.core.display.HTML object>"
            ],
            "text/html": [
              "Syncing run <strong><a href='https://wandb.ai/fabianfuchs/continual_learning/runs/kv9wx8vo' target=\"_blank\">2024_04_20_17_06_02</a></strong> to <a href='https://wandb.ai/fabianfuchs/continual_learning' target=\"_blank\">Weights & Biases</a> (<a href='https://wandb.me/run' target=\"_blank\">docs</a>)<br/>"
            ]
          },
          "metadata": {}
        },
        {
          "output_type": "display_data",
          "data": {
            "text/plain": [
              "<IPython.core.display.HTML object>"
            ],
            "text/html": [
              " View project at <a href='https://wandb.ai/fabianfuchs/continual_learning' target=\"_blank\">https://wandb.ai/fabianfuchs/continual_learning</a>"
            ]
          },
          "metadata": {}
        },
        {
          "output_type": "display_data",
          "data": {
            "text/plain": [
              "<IPython.core.display.HTML object>"
            ],
            "text/html": [
              " View run at <a href='https://wandb.ai/fabianfuchs/continual_learning/runs/kv9wx8vo' target=\"_blank\">https://wandb.ai/fabianfuchs/continual_learning/runs/kv9wx8vo</a>"
            ]
          },
          "metadata": {}
        },
        {
          "output_type": "stream",
          "name": "stdout",
          "text": [
            "Files already downloaded and verified\n",
            "Files already downloaded and verified\n"
          ]
        },
        {
          "output_type": "stream",
          "name": "stderr",
          "text": [
            "\r  0%|          | 0/10000 [00:00<?, ?images/s]/usr/lib/python3.10/multiprocessing/popen_fork.py:66: RuntimeWarning: os.fork() was called. os.fork() is incompatible with multithreaded code, and JAX is multithreaded, so this will likely lead to a deadlock.\n",
            "  self.pid = os.fork()\n",
            "Epoch 1 Batch 156: 100%|█████████▉| 9984/10000 [00:13<00:00, 1066.33images/s, loss=0.335]/usr/lib/python3.10/multiprocessing/popen_fork.py:66: RuntimeWarning: os.fork() was called. os.fork() is incompatible with multithreaded code, and JAX is multithreaded, so this will likely lead to a deadlock.\n",
            "  self.pid = os.fork()\n",
            "Epoch 1 Batch 156: 100%|██████████| 10000/10000 [00:13<00:00, 758.26images/s, loss=0.335]\n",
            "Epoch 1 Batch 156: 100%|██████████| 10000/10000 [00:08<00:00, 1197.13images/s, loss=0.679]\n",
            "Epoch 1 Batch 156: 100%|██████████| 10000/10000 [00:07<00:00, 1253.81images/s, loss=0.751]\n",
            "Epoch 1 Batch 156: 100%|██████████| 10000/10000 [00:10<00:00, 991.39images/s, loss=0.986]\n",
            "Epoch 1 Batch 156: 100%|██████████| 10000/10000 [00:08<00:00, 1212.22images/s, loss=1.45]\n"
          ]
        },
        {
          "output_type": "display_data",
          "data": {
            "text/plain": [
              "VBox(children=(Label(value='0.001 MB of 0.001 MB uploaded\\r'), FloatProgress(value=1.0, max=1.0)))"
            ],
            "application/vnd.jupyter.widget-view+json": {
              "version_major": 2,
              "version_minor": 0,
              "model_id": "b07281d73fe443359cff9b06684bc26a"
            }
          },
          "metadata": {}
        },
        {
          "output_type": "display_data",
          "data": {
            "text/plain": [
              "<IPython.core.display.HTML object>"
            ],
            "text/html": [
              "<style>\n",
              "    table.wandb td:nth-child(1) { padding: 0 10px; text-align: left ; width: auto;} td:nth-child(2) {text-align: left ; width: 100%}\n",
              "    .wandb-row { display: flex; flex-direction: row; flex-wrap: wrap; justify-content: flex-start; width: 100% }\n",
              "    .wandb-col { display: flex; flex-direction: column; flex-basis: 100%; flex: 1; padding: 10px; }\n",
              "    </style>\n",
              "<div class=\"wandb-row\"><div class=\"wandb-col\"><h3>Run history:</h3><br/><table class=\"wandb\"><tr><td>accuracy_on_current_task_only</td><td>█▁▁▁▁</td></tr><tr><td>average_accuracy</td><td>█▂▂▁▁</td></tr><tr><td>forgetting_measure</td><td>█▃▂▁</td></tr><tr><td>loss</td><td>▂▁▁▁▁▁▁▁█▂▁▁▁▁▁▁▇▄▂▁▁▁▁▁▆▃▂▂▁▁▁▁▄▃▂▂▂▂▂▂</td></tr><tr><td>lr</td><td>▂▅██▆▄▃▁▁▆█▇▆▄▂▁▂▆█▇▆▄▂▁▂▇█▇▆▃▂▁▂▇█▇▅▃▂▁</td></tr><tr><td>test_accucracy</td><td>█▁▁▁▁</td></tr></table><br/></div><div class=\"wandb-col\"><h3>Run summary:</h3><br/><table class=\"wandb\"><tr><td>accuracy_on_current_task_only</td><td>50.0</td></tr><tr><td>average_accuracy</td><td>10.0</td></tr><tr><td>forgetting_measure</td><td>58.425</td></tr><tr><td>loss</td><td>1.44741</td></tr><tr><td>lr</td><td>0.0</td></tr><tr><td>test_accucracy</td><td>50.0</td></tr></table><br/></div></div>"
            ]
          },
          "metadata": {}
        },
        {
          "output_type": "display_data",
          "data": {
            "text/plain": [
              "<IPython.core.display.HTML object>"
            ],
            "text/html": [
              " View run <strong style=\"color:#cdcd00\">2024_04_20_17_06_02</strong> at: <a href='https://wandb.ai/fabianfuchs/continual_learning/runs/kv9wx8vo' target=\"_blank\">https://wandb.ai/fabianfuchs/continual_learning/runs/kv9wx8vo</a><br/> View project at: <a href='https://wandb.ai/fabianfuchs/continual_learning' target=\"_blank\">https://wandb.ai/fabianfuchs/continual_learning</a><br/>Synced 5 W&B file(s), 0 media file(s), 0 artifact file(s) and 7 other file(s)"
            ]
          },
          "metadata": {}
        },
        {
          "output_type": "display_data",
          "data": {
            "text/plain": [
              "<IPython.core.display.HTML object>"
            ],
            "text/html": [
              "Find logs at: <code>./wandb/run-20240420_170602-kv9wx8vo/logs</code>"
            ]
          },
          "metadata": {}
        }
      ],
      "source": [
        "for model in models:\n",
        "    train_tasks_sequentially(\n",
        "        model_dict=deepcopy(model),\n",
        "        device=device,\n",
        "        epochs=epochs,\n",
        "        batch_size=batch_size,\n",
        "        tasks=tasks,\n",
        "        lr=lr,\n",
        "        weight_decay=weight_decay,\n",
        "    )"
      ]
    },
    {
      "cell_type": "markdown",
      "metadata": {
        "id": "ATaL4qm8qjd7"
      },
      "source": [
        "## Sequential with rehearsal\n"
      ]
    },
    {
      "cell_type": "code",
      "execution_count": null,
      "metadata": {
        "id": "x4krDh2uGeqT",
        "colab": {
          "base_uri": "https://localhost:8080/",
          "height": 1000,
          "referenced_widgets": [
            "30439fa9911949aa8f0344776fc6c1b2",
            "ead62cd48dda46febaf50666a174812f",
            "4b622ed16bb947f397639c6fcb278d64",
            "81a4d378b43b4e2ca5ac07b5c4527dc8",
            "0516e48e806a46a2984c4af7a452d8c8",
            "38e880b22dd94c2bae35f7ac075d3635",
            "f176d8a2bc024fe2a4e036e94838b626",
            "7bab20a2ff32479596808972c73f979c",
            "0c972af08a52493891933ccafdf98e06",
            "533ed2fdc6d84f7ab3b5e78cd471e297",
            "2161e579a9ce4fca88ff405ad0c6513e",
            "a1ca8481478747b98ba9becb91e533b3",
            "ee9dcce03da14d46809f14b3ec542907",
            "c5b9a3ed108946389c88886ff70362ad",
            "5433467d6ae64082aa412a4332d4d831",
            "34d00f7960b34d27b2044e920073f3ca",
            "ad6bc674e9334b7a9402a9125f2f9500",
            "2bd82e03f6c644ffb5eb1d230012b6ef",
            "fb08fbe8be6c4825a1322a428f24d1e3",
            "a994c85237e44832bb1c9d15e5ebd4b2",
            "701ef7ed66ee4722acd71026ca576f1b",
            "3f8222daa4e44755ab5364962ec39147",
            "afb81984d0624d3fb54c16f49a5a2dd7",
            "ea0f7c4a6dd34ea39f4c1bc0cd70373f",
            "6387db9a9fed41a7bcda0577440ac1d4",
            "9ff36d7e6a9e4e19b0584e49be460a7e",
            "72d9259515cb44528046b68200daa3e6",
            "e9cade7e93ea4f70ad82bdd962488bf3",
            "9923a0a4ffa74fd8969d7465335519a7",
            "5ae8b18561a04d0b8d12df5da9b8d09c",
            "8c7a20efc4a94dc68d4f369bf905d1ef",
            "5659656e540c42acab228b36d9421475",
            "7fee781e4bfb4485b76c00f2b096452b",
            "4ec9eef99b6340b59eb18994aad5b4ff",
            "9885f271517546aaad0df1267e0228c8",
            "5a8ba20e5b1d45c88372310117673a41",
            "bffdeaf832c14069916f5205cdbb2efe",
            "6cae9faa4e674d70b4442a24adb5d21e",
            "d2dbcb9d43da48d1bff54ce6107246f0",
            "b01add6e44e146cca86202b224a1ec35"
          ]
        },
        "outputId": "647cdd2f-fadd-4648-e1ea-9eb67d0dd658"
      },
      "outputs": [
        {
          "output_type": "display_data",
          "data": {
            "text/plain": [
              "VBox(children=(Label(value='Waiting for wandb.init()...\\r'), FloatProgress(value=0.011112892766666644, max=1.0…"
            ],
            "application/vnd.jupyter.widget-view+json": {
              "version_major": 2,
              "version_minor": 0,
              "model_id": "30439fa9911949aa8f0344776fc6c1b2"
            }
          },
          "metadata": {}
        },
        {
          "output_type": "display_data",
          "data": {
            "text/plain": [
              "<IPython.core.display.HTML object>"
            ],
            "text/html": [
              "Tracking run with wandb version 0.16.6"
            ]
          },
          "metadata": {}
        },
        {
          "output_type": "display_data",
          "data": {
            "text/plain": [
              "<IPython.core.display.HTML object>"
            ],
            "text/html": [
              "Run data is saved locally in <code>/content/wandb/run-20240420_170913-653e47j3</code>"
            ]
          },
          "metadata": {}
        },
        {
          "output_type": "display_data",
          "data": {
            "text/plain": [
              "<IPython.core.display.HTML object>"
            ],
            "text/html": [
              "Syncing run <strong><a href='https://wandb.ai/fabianfuchs/continual_learning/runs/653e47j3' target=\"_blank\">2024_04_20_17_09_13</a></strong> to <a href='https://wandb.ai/fabianfuchs/continual_learning' target=\"_blank\">Weights & Biases</a> (<a href='https://wandb.me/run' target=\"_blank\">docs</a>)<br/>"
            ]
          },
          "metadata": {}
        },
        {
          "output_type": "display_data",
          "data": {
            "text/plain": [
              "<IPython.core.display.HTML object>"
            ],
            "text/html": [
              " View project at <a href='https://wandb.ai/fabianfuchs/continual_learning' target=\"_blank\">https://wandb.ai/fabianfuchs/continual_learning</a>"
            ]
          },
          "metadata": {}
        },
        {
          "output_type": "display_data",
          "data": {
            "text/plain": [
              "<IPython.core.display.HTML object>"
            ],
            "text/html": [
              " View run at <a href='https://wandb.ai/fabianfuchs/continual_learning/runs/653e47j3' target=\"_blank\">https://wandb.ai/fabianfuchs/continual_learning/runs/653e47j3</a>"
            ]
          },
          "metadata": {}
        },
        {
          "output_type": "stream",
          "name": "stdout",
          "text": [
            "Files already downloaded and verified\n",
            "Files already downloaded and verified\n"
          ]
        },
        {
          "output_type": "stream",
          "name": "stderr",
          "text": [
            "\r  0%|          | 0/10000 [00:00<?, ?images/s]/usr/lib/python3.10/multiprocessing/popen_fork.py:66: RuntimeWarning: os.fork() was called. os.fork() is incompatible with multithreaded code, and JAX is multithreaded, so this will likely lead to a deadlock.\n",
            "  self.pid = os.fork()\n",
            "Epoch 1 Batch 156: 100%|█████████▉| 9984/10000 [00:08<00:00, 961.10images/s, loss=0.472]/usr/lib/python3.10/multiprocessing/popen_fork.py:66: RuntimeWarning: os.fork() was called. os.fork() is incompatible with multithreaded code, and JAX is multithreaded, so this will likely lead to a deadlock.\n",
            "  self.pid = os.fork()\n",
            "Epoch 1 Batch 156: 100%|██████████| 10000/10000 [00:09<00:00, 1107.50images/s, loss=0.472]\n",
            "Epoch 1 Batch 171: 100%|██████████| 11000/11000 [00:09<00:00, 1113.68images/s, loss=1.11]\n",
            "Epoch 1 Batch 187: 100%|██████████| 12000/12000 [00:10<00:00, 1126.76images/s, loss=1.24]\n",
            "Epoch 1 Batch 203: 100%|██████████| 13000/13000 [00:11<00:00, 1102.56images/s, loss=1.28]\n",
            "Epoch 1 Batch 218: 100%|██████████| 14000/14000 [00:12<00:00, 1125.79images/s, loss=1.9]\n"
          ]
        },
        {
          "output_type": "display_data",
          "data": {
            "text/plain": [
              "VBox(children=(Label(value='0.001 MB of 0.001 MB uploaded\\r'), FloatProgress(value=1.0, max=1.0)))"
            ],
            "application/vnd.jupyter.widget-view+json": {
              "version_major": 2,
              "version_minor": 0,
              "model_id": "0c972af08a52493891933ccafdf98e06"
            }
          },
          "metadata": {}
        },
        {
          "output_type": "display_data",
          "data": {
            "text/plain": [
              "<IPython.core.display.HTML object>"
            ],
            "text/html": [
              "<style>\n",
              "    table.wandb td:nth-child(1) { padding: 0 10px; text-align: left ; width: auto;} td:nth-child(2) {text-align: left ; width: 100%}\n",
              "    .wandb-row { display: flex; flex-direction: row; flex-wrap: wrap; justify-content: flex-start; width: 100% }\n",
              "    .wandb-col { display: flex; flex-direction: column; flex-basis: 100%; flex: 1; padding: 10px; }\n",
              "    </style>\n",
              "<div class=\"wandb-row\"><div class=\"wandb-col\"><h3>Run history:</h3><br/><table class=\"wandb\"><tr><td>accuracy_on_current_task_only</td><td>█▁▁▁▁</td></tr><tr><td>average_accuracy</td><td>█▂▂▁▁</td></tr><tr><td>forgetting_measure</td><td>█▃▂▁</td></tr><tr><td>loss</td><td>▂▁▁▁▁▁▁▆▂▂▂▂▂▂█▄▂▂▂▂▂▂▆▄▃▂▂▂▂▂▂▅▄▃▃▃▃▃▃▂</td></tr><tr><td>lr</td><td>▂▅█▇▅▃▁▂▇█▇▅▃▁▂▅█▇▆▄▂▁▂▅██▆▅▃▁▁▃▇█▇▆▄▃▂▁</td></tr><tr><td>test_accucracy</td><td>█▁▁▁▁</td></tr></table><br/></div><div class=\"wandb-col\"><h3>Run summary:</h3><br/><table class=\"wandb\"><tr><td>accuracy_on_current_task_only</td><td>50.0</td></tr><tr><td>average_accuracy</td><td>10.0</td></tr><tr><td>forgetting_measure</td><td>58.9875</td></tr><tr><td>loss</td><td>1.89557</td></tr><tr><td>lr</td><td>0.0</td></tr><tr><td>test_accucracy</td><td>50.0</td></tr></table><br/></div></div>"
            ]
          },
          "metadata": {}
        },
        {
          "output_type": "display_data",
          "data": {
            "text/plain": [
              "<IPython.core.display.HTML object>"
            ],
            "text/html": [
              " View run <strong style=\"color:#cdcd00\">2024_04_20_17_09_13</strong> at: <a href='https://wandb.ai/fabianfuchs/continual_learning/runs/653e47j3' target=\"_blank\">https://wandb.ai/fabianfuchs/continual_learning/runs/653e47j3</a><br/> View project at: <a href='https://wandb.ai/fabianfuchs/continual_learning' target=\"_blank\">https://wandb.ai/fabianfuchs/continual_learning</a><br/>Synced 5 W&B file(s), 0 media file(s), 0 artifact file(s) and 7 other file(s)"
            ]
          },
          "metadata": {}
        },
        {
          "output_type": "display_data",
          "data": {
            "text/plain": [
              "<IPython.core.display.HTML object>"
            ],
            "text/html": [
              "Find logs at: <code>./wandb/run-20240420_170913-653e47j3/logs</code>"
            ]
          },
          "metadata": {}
        },
        {
          "output_type": "display_data",
          "data": {
            "text/plain": [
              "<IPython.core.display.HTML object>"
            ],
            "text/html": [
              "Tracking run with wandb version 0.16.6"
            ]
          },
          "metadata": {}
        },
        {
          "output_type": "display_data",
          "data": {
            "text/plain": [
              "<IPython.core.display.HTML object>"
            ],
            "text/html": [
              "Run data is saved locally in <code>/content/wandb/run-20240420_171106-hr1ygcnf</code>"
            ]
          },
          "metadata": {}
        },
        {
          "output_type": "display_data",
          "data": {
            "text/plain": [
              "<IPython.core.display.HTML object>"
            ],
            "text/html": [
              "Syncing run <strong><a href='https://wandb.ai/fabianfuchs/continual_learning/runs/hr1ygcnf' target=\"_blank\">2024_04_20_17_11_06</a></strong> to <a href='https://wandb.ai/fabianfuchs/continual_learning' target=\"_blank\">Weights & Biases</a> (<a href='https://wandb.me/run' target=\"_blank\">docs</a>)<br/>"
            ]
          },
          "metadata": {}
        },
        {
          "output_type": "display_data",
          "data": {
            "text/plain": [
              "<IPython.core.display.HTML object>"
            ],
            "text/html": [
              " View project at <a href='https://wandb.ai/fabianfuchs/continual_learning' target=\"_blank\">https://wandb.ai/fabianfuchs/continual_learning</a>"
            ]
          },
          "metadata": {}
        },
        {
          "output_type": "display_data",
          "data": {
            "text/plain": [
              "<IPython.core.display.HTML object>"
            ],
            "text/html": [
              " View run at <a href='https://wandb.ai/fabianfuchs/continual_learning/runs/hr1ygcnf' target=\"_blank\">https://wandb.ai/fabianfuchs/continual_learning/runs/hr1ygcnf</a>"
            ]
          },
          "metadata": {}
        },
        {
          "output_type": "stream",
          "name": "stdout",
          "text": [
            "Files already downloaded and verified\n",
            "Files already downloaded and verified\n"
          ]
        },
        {
          "output_type": "stream",
          "name": "stderr",
          "text": [
            "Epoch 1 Batch 156: 100%|██████████| 10000/10000 [00:08<00:00, 1196.02images/s, loss=0.31]\n",
            "Epoch 1 Batch 187: 100%|██████████| 12000/12000 [00:10<00:00, 1188.82images/s, loss=1.19]\n",
            "Epoch 1 Batch 218: 100%|██████████| 14000/14000 [00:12<00:00, 1135.73images/s, loss=1.6]\n",
            "Epoch 1 Batch 249: 100%|██████████| 16000/16000 [00:14<00:00, 1107.11images/s, loss=2.09]\n",
            "Epoch 1 Batch 281: 100%|██████████| 18000/18000 [00:16<00:00, 1071.45images/s, loss=1.92]\n"
          ]
        },
        {
          "output_type": "display_data",
          "data": {
            "text/plain": [
              "VBox(children=(Label(value='0.001 MB of 0.001 MB uploaded\\r'), FloatProgress(value=1.0, max=1.0)))"
            ],
            "application/vnd.jupyter.widget-view+json": {
              "version_major": 2,
              "version_minor": 0,
              "model_id": "ad6bc674e9334b7a9402a9125f2f9500"
            }
          },
          "metadata": {}
        },
        {
          "output_type": "display_data",
          "data": {
            "text/plain": [
              "<IPython.core.display.HTML object>"
            ],
            "text/html": [
              "<style>\n",
              "    table.wandb td:nth-child(1) { padding: 0 10px; text-align: left ; width: auto;} td:nth-child(2) {text-align: left ; width: 100%}\n",
              "    .wandb-row { display: flex; flex-direction: row; flex-wrap: wrap; justify-content: flex-start; width: 100% }\n",
              "    .wandb-col { display: flex; flex-direction: column; flex-basis: 100%; flex: 1; padding: 10px; }\n",
              "    </style>\n",
              "<div class=\"wandb-row\"><div class=\"wandb-col\"><h3>Run history:</h3><br/><table class=\"wandb\"><tr><td>accuracy_on_current_task_only</td><td>█▁▁▁▁</td></tr><tr><td>average_accuracy</td><td>█▂▂▁▁</td></tr><tr><td>forgetting_measure</td><td>█▃▂▁</td></tr><tr><td>loss</td><td>▂▁▁▁▁▁▄▂▂▂▂▂▂█▃▃▃▃▃▃▂▆▄▃▃▃▃▃▃▃▆▅▄▄▄▃▃▃▃▄</td></tr><tr><td>lr</td><td>▃▇█▅▃▁▃██▆▄▂▁▃██▇▅▄▂▁▃▆█▇▇▅▃▁▁▂▆▇█▇▆▅▃▂▁</td></tr><tr><td>test_accucracy</td><td>█▁▁▁▁</td></tr></table><br/></div><div class=\"wandb-col\"><h3>Run summary:</h3><br/><table class=\"wandb\"><tr><td>accuracy_on_current_task_only</td><td>50.0</td></tr><tr><td>average_accuracy</td><td>10.0</td></tr><tr><td>forgetting_measure</td><td>58.875</td></tr><tr><td>loss</td><td>1.91674</td></tr><tr><td>lr</td><td>0.0</td></tr><tr><td>test_accucracy</td><td>50.0</td></tr></table><br/></div></div>"
            ]
          },
          "metadata": {}
        },
        {
          "output_type": "display_data",
          "data": {
            "text/plain": [
              "<IPython.core.display.HTML object>"
            ],
            "text/html": [
              " View run <strong style=\"color:#cdcd00\">2024_04_20_17_11_06</strong> at: <a href='https://wandb.ai/fabianfuchs/continual_learning/runs/hr1ygcnf' target=\"_blank\">https://wandb.ai/fabianfuchs/continual_learning/runs/hr1ygcnf</a><br/> View project at: <a href='https://wandb.ai/fabianfuchs/continual_learning' target=\"_blank\">https://wandb.ai/fabianfuchs/continual_learning</a><br/>Synced 5 W&B file(s), 0 media file(s), 0 artifact file(s) and 7 other file(s)"
            ]
          },
          "metadata": {}
        },
        {
          "output_type": "display_data",
          "data": {
            "text/plain": [
              "<IPython.core.display.HTML object>"
            ],
            "text/html": [
              "Find logs at: <code>./wandb/run-20240420_171106-hr1ygcnf/logs</code>"
            ]
          },
          "metadata": {}
        },
        {
          "output_type": "display_data",
          "data": {
            "text/plain": [
              "<IPython.core.display.HTML object>"
            ],
            "text/html": [
              "Tracking run with wandb version 0.16.6"
            ]
          },
          "metadata": {}
        },
        {
          "output_type": "display_data",
          "data": {
            "text/plain": [
              "<IPython.core.display.HTML object>"
            ],
            "text/html": [
              "Run data is saved locally in <code>/content/wandb/run-20240420_171307-pc3qqoyr</code>"
            ]
          },
          "metadata": {}
        },
        {
          "output_type": "display_data",
          "data": {
            "text/plain": [
              "<IPython.core.display.HTML object>"
            ],
            "text/html": [
              "Syncing run <strong><a href='https://wandb.ai/fabianfuchs/continual_learning/runs/pc3qqoyr' target=\"_blank\">2024_04_20_17_13_07</a></strong> to <a href='https://wandb.ai/fabianfuchs/continual_learning' target=\"_blank\">Weights & Biases</a> (<a href='https://wandb.me/run' target=\"_blank\">docs</a>)<br/>"
            ]
          },
          "metadata": {}
        },
        {
          "output_type": "display_data",
          "data": {
            "text/plain": [
              "<IPython.core.display.HTML object>"
            ],
            "text/html": [
              " View project at <a href='https://wandb.ai/fabianfuchs/continual_learning' target=\"_blank\">https://wandb.ai/fabianfuchs/continual_learning</a>"
            ]
          },
          "metadata": {}
        },
        {
          "output_type": "display_data",
          "data": {
            "text/plain": [
              "<IPython.core.display.HTML object>"
            ],
            "text/html": [
              " View run at <a href='https://wandb.ai/fabianfuchs/continual_learning/runs/pc3qqoyr' target=\"_blank\">https://wandb.ai/fabianfuchs/continual_learning/runs/pc3qqoyr</a>"
            ]
          },
          "metadata": {}
        },
        {
          "output_type": "stream",
          "name": "stdout",
          "text": [
            "Files already downloaded and verified\n",
            "Files already downloaded and verified\n"
          ]
        },
        {
          "output_type": "stream",
          "name": "stderr",
          "text": [
            "Epoch 1 Batch 156: 100%|██████████| 10000/10000 [00:08<00:00, 1184.57images/s, loss=0.91]\n",
            "Epoch 1 Batch 234: 100%|██████████| 15000/15000 [00:13<00:00, 1132.13images/s, loss=1.3]\n",
            "Epoch 1 Batch 312: 100%|██████████| 20000/20000 [00:17<00:00, 1124.63images/s, loss=1.84]\n",
            "Epoch 1 Batch 390: 100%|██████████| 25000/25000 [00:22<00:00, 1120.47images/s, loss=2.08]\n",
            "Epoch 1 Batch 468: 100%|██████████| 30000/30000 [00:26<00:00, 1130.36images/s, loss=2.28]\n"
          ]
        },
        {
          "output_type": "display_data",
          "data": {
            "text/plain": [
              "VBox(children=(Label(value='0.001 MB of 0.001 MB uploaded\\r'), FloatProgress(value=1.0, max=1.0)))"
            ],
            "application/vnd.jupyter.widget-view+json": {
              "version_major": 2,
              "version_minor": 0,
              "model_id": "6387db9a9fed41a7bcda0577440ac1d4"
            }
          },
          "metadata": {}
        },
        {
          "output_type": "display_data",
          "data": {
            "text/plain": [
              "<IPython.core.display.HTML object>"
            ],
            "text/html": [
              "<style>\n",
              "    table.wandb td:nth-child(1) { padding: 0 10px; text-align: left ; width: auto;} td:nth-child(2) {text-align: left ; width: 100%}\n",
              "    .wandb-row { display: flex; flex-direction: row; flex-wrap: wrap; justify-content: flex-start; width: 100% }\n",
              "    .wandb-col { display: flex; flex-direction: column; flex-basis: 100%; flex: 1; padding: 10px; }\n",
              "    </style>\n",
              "<div class=\"wandb-row\"><div class=\"wandb-col\"><h3>Run history:</h3><br/><table class=\"wandb\"><tr><td>accuracy_on_current_task_only</td><td>█▁▁▁▁</td></tr><tr><td>average_accuracy</td><td>█▂▂▁▁</td></tr><tr><td>forgetting_measure</td><td>█▃▂▁</td></tr><tr><td>loss</td><td>▂▁▁▁█▂▂▂▂▂▅▂▂▂▂▂▂▂▃▃▂▂▂▂▂▂▂▂▃▃▃▂▂▂▂▂▂▂▂▂</td></tr><tr><td>lr</td><td>▃█▆▂▁▇█▆▄▁▁▆█▇▆▅▂▁▂▄▇█▇▆▄▃▂▁▁▄▆██▇▆▅▄▂▂▁</td></tr><tr><td>test_accucracy</td><td>█▁▁▁▁</td></tr></table><br/></div><div class=\"wandb-col\"><h3>Run summary:</h3><br/><table class=\"wandb\"><tr><td>accuracy_on_current_task_only</td><td>50.0</td></tr><tr><td>average_accuracy</td><td>10.0</td></tr><tr><td>forgetting_measure</td><td>59.1</td></tr><tr><td>loss</td><td>2.28002</td></tr><tr><td>lr</td><td>0.0</td></tr><tr><td>test_accucracy</td><td>50.0</td></tr></table><br/></div></div>"
            ]
          },
          "metadata": {}
        },
        {
          "output_type": "display_data",
          "data": {
            "text/plain": [
              "<IPython.core.display.HTML object>"
            ],
            "text/html": [
              " View run <strong style=\"color:#cdcd00\">2024_04_20_17_13_07</strong> at: <a href='https://wandb.ai/fabianfuchs/continual_learning/runs/pc3qqoyr' target=\"_blank\">https://wandb.ai/fabianfuchs/continual_learning/runs/pc3qqoyr</a><br/> View project at: <a href='https://wandb.ai/fabianfuchs/continual_learning' target=\"_blank\">https://wandb.ai/fabianfuchs/continual_learning</a><br/>Synced 5 W&B file(s), 0 media file(s), 0 artifact file(s) and 7 other file(s)"
            ]
          },
          "metadata": {}
        },
        {
          "output_type": "display_data",
          "data": {
            "text/plain": [
              "<IPython.core.display.HTML object>"
            ],
            "text/html": [
              "Find logs at: <code>./wandb/run-20240420_171307-pc3qqoyr/logs</code>"
            ]
          },
          "metadata": {}
        },
        {
          "output_type": "display_data",
          "data": {
            "text/plain": [
              "<IPython.core.display.HTML object>"
            ],
            "text/html": [
              "Tracking run with wandb version 0.16.6"
            ]
          },
          "metadata": {}
        },
        {
          "output_type": "display_data",
          "data": {
            "text/plain": [
              "<IPython.core.display.HTML object>"
            ],
            "text/html": [
              "Run data is saved locally in <code>/content/wandb/run-20240420_171533-zxkj0xkx</code>"
            ]
          },
          "metadata": {}
        },
        {
          "output_type": "display_data",
          "data": {
            "text/plain": [
              "<IPython.core.display.HTML object>"
            ],
            "text/html": [
              "Syncing run <strong><a href='https://wandb.ai/fabianfuchs/continual_learning/runs/zxkj0xkx' target=\"_blank\">2024_04_20_17_15_33</a></strong> to <a href='https://wandb.ai/fabianfuchs/continual_learning' target=\"_blank\">Weights & Biases</a> (<a href='https://wandb.me/run' target=\"_blank\">docs</a>)<br/>"
            ]
          },
          "metadata": {}
        },
        {
          "output_type": "display_data",
          "data": {
            "text/plain": [
              "<IPython.core.display.HTML object>"
            ],
            "text/html": [
              " View project at <a href='https://wandb.ai/fabianfuchs/continual_learning' target=\"_blank\">https://wandb.ai/fabianfuchs/continual_learning</a>"
            ]
          },
          "metadata": {}
        },
        {
          "output_type": "display_data",
          "data": {
            "text/plain": [
              "<IPython.core.display.HTML object>"
            ],
            "text/html": [
              " View run at <a href='https://wandb.ai/fabianfuchs/continual_learning/runs/zxkj0xkx' target=\"_blank\">https://wandb.ai/fabianfuchs/continual_learning/runs/zxkj0xkx</a>"
            ]
          },
          "metadata": {}
        },
        {
          "output_type": "stream",
          "name": "stdout",
          "text": [
            "Files already downloaded and verified\n",
            "Files already downloaded and verified\n"
          ]
        },
        {
          "output_type": "stream",
          "name": "stderr",
          "text": [
            "Epoch 1 Batch 156: 100%|██████████| 10000/10000 [00:09<00:00, 1064.04images/s, loss=0.262]\n",
            "Epoch 1 Batch 312: 100%|██████████| 20000/20000 [00:17<00:00, 1155.23images/s, loss=1.35]\n",
            "Epoch 1 Batch 468: 100%|██████████| 30000/30000 [00:35<00:00, 842.26images/s, loss=1.55] \n",
            "Epoch 1 Batch 624: 100%|██████████| 40000/40000 [00:41<00:00, 966.01images/s, loss=2.07] \n",
            "Epoch 1 Batch 781: 100%|██████████| 50000/50000 [00:52<00:00, 947.78images/s, loss=1.75] \n"
          ]
        },
        {
          "output_type": "display_data",
          "data": {
            "text/plain": [
              "VBox(children=(Label(value='0.001 MB of 0.001 MB uploaded\\r'), FloatProgress(value=1.0, max=1.0)))"
            ],
            "application/vnd.jupyter.widget-view+json": {
              "version_major": 2,
              "version_minor": 0,
              "model_id": "7fee781e4bfb4485b76c00f2b096452b"
            }
          },
          "metadata": {}
        },
        {
          "output_type": "display_data",
          "data": {
            "text/plain": [
              "<IPython.core.display.HTML object>"
            ],
            "text/html": [
              "<style>\n",
              "    table.wandb td:nth-child(1) { padding: 0 10px; text-align: left ; width: auto;} td:nth-child(2) {text-align: left ; width: 100%}\n",
              "    .wandb-row { display: flex; flex-direction: row; flex-wrap: wrap; justify-content: flex-start; width: 100% }\n",
              "    .wandb-col { display: flex; flex-direction: column; flex-basis: 100%; flex: 1; padding: 10px; }\n",
              "    </style>\n",
              "<div class=\"wandb-row\"><div class=\"wandb-col\"><h3>Run history:</h3><br/><table class=\"wandb\"><tr><td>accuracy_on_current_task_only</td><td>█▂▁▄▁</td></tr><tr><td>average_accuracy</td><td>█▃▂▁▁</td></tr><tr><td>forgetting_measure</td><td>█▁▃▂</td></tr><tr><td>loss</td><td>▂▁▁▄▃▃▃▃▇▄▃▃▃▃▃▃█▄▅▄▄▄▄▄▄▄█▆▅▅▄▄▄▄▄▄▄▄▄▄</td></tr><tr><td>lr</td><td>▇█▂▃█▆▃▂▁▅█▇▆▄▃▁▁▄▇██▇▅▄▂▁▁▂▄▇██▇▇▆▄▃▂▁▁</td></tr><tr><td>test_accucracy</td><td>█▂▁▄▁</td></tr></table><br/></div><div class=\"wandb-col\"><h3>Run summary:</h3><br/><table class=\"wandb\"><tr><td>accuracy_on_current_task_only</td><td>41.6</td></tr><tr><td>average_accuracy</td><td>30.67</td></tr><tr><td>forgetting_measure</td><td>30.8875</td></tr><tr><td>loss</td><td>1.75228</td></tr><tr><td>lr</td><td>0.0</td></tr><tr><td>test_accucracy</td><td>41.6</td></tr></table><br/></div></div>"
            ]
          },
          "metadata": {}
        },
        {
          "output_type": "display_data",
          "data": {
            "text/plain": [
              "<IPython.core.display.HTML object>"
            ],
            "text/html": [
              " View run <strong style=\"color:#cdcd00\">2024_04_20_17_15_33</strong> at: <a href='https://wandb.ai/fabianfuchs/continual_learning/runs/zxkj0xkx' target=\"_blank\">https://wandb.ai/fabianfuchs/continual_learning/runs/zxkj0xkx</a><br/> View project at: <a href='https://wandb.ai/fabianfuchs/continual_learning' target=\"_blank\">https://wandb.ai/fabianfuchs/continual_learning</a><br/>Synced 5 W&B file(s), 0 media file(s), 0 artifact file(s) and 7 other file(s)"
            ]
          },
          "metadata": {}
        },
        {
          "output_type": "display_data",
          "data": {
            "text/plain": [
              "<IPython.core.display.HTML object>"
            ],
            "text/html": [
              "Find logs at: <code>./wandb/run-20240420_171533-zxkj0xkx/logs</code>"
            ]
          },
          "metadata": {}
        }
      ],
      "source": [
        "for model in models:\n",
        "    for memory_size_per_task in [1000, 2000, 5000, 10000]:\n",
        "        train_tasks_sequentially_rehearsal(\n",
        "            model_dict=deepcopy(model),\n",
        "            device=device,\n",
        "            epochs=epochs,\n",
        "            batch_size=batch_size,\n",
        "            tasks=tasks,\n",
        "            lr=lr,\n",
        "            weight_decay=weight_decay,\n",
        "            memory_size_per_task=memory_size_per_task,\n",
        "        )"
      ]
    },
    {
      "cell_type": "markdown",
      "metadata": {
        "id": "gmKfz0hmqjd8"
      },
      "source": [
        "## Sequential with elastic weight consolidation\n"
      ]
    },
    {
      "cell_type": "code",
      "execution_count": null,
      "metadata": {
        "id": "QAQIr1Bcqjd8",
        "colab": {
          "base_uri": "https://localhost:8080/",
          "height": 914,
          "referenced_widgets": [
            "a2df05cc5c8345b5bb0427d67a1d29b7",
            "e2b74490450e40108a2b9c284df6c9a8",
            "63214f8111e746a687f576e1159a2a3c",
            "720b8ac7a12c4800a8da74fd6f3c6874",
            "180505f04cba4b4aa542a3099ee57698",
            "8c7555befe83473ca5978602b64a4a7e",
            "6c3b68c583964e4cbc7c906000ef4545",
            "360dccb1134e488c83a5df1d1fe5c342",
            "0bde2e89e4414fed84cb9cb05a53f53e",
            "53f67aeca63e404fbf59d66afa30ac27",
            "7c40619e9c5041b4b30f571a54d54c41",
            "a66832b5aac44f0d9362c82b4618c301",
            "dfad8ccb885447b39b4bfe9c7a1d15ef",
            "26c83c039d6d4fb695b1dd1b900caed6",
            "630fb87967504e98951af3cb05908904",
            "c8d7aff7b17c48d1af7777caee6e81ed"
          ]
        },
        "outputId": "97cfce98-ff21-4990-bfa7-b1f4e4dc5926"
      },
      "outputs": [
        {
          "output_type": "display_data",
          "data": {
            "text/plain": [
              "<IPython.core.display.HTML object>"
            ],
            "text/html": [
              "Finishing last run (ID:tp6epmm6) before initializing another..."
            ]
          },
          "metadata": {}
        },
        {
          "output_type": "display_data",
          "data": {
            "text/plain": [
              "VBox(children=(Label(value='0.001 MB of 0.001 MB uploaded\\r'), FloatProgress(value=1.0, max=1.0)))"
            ],
            "application/vnd.jupyter.widget-view+json": {
              "version_major": 2,
              "version_minor": 0,
              "model_id": "a2df05cc5c8345b5bb0427d67a1d29b7"
            }
          },
          "metadata": {}
        },
        {
          "output_type": "display_data",
          "data": {
            "text/plain": [
              "<IPython.core.display.HTML object>"
            ],
            "text/html": [
              "<style>\n",
              "    table.wandb td:nth-child(1) { padding: 0 10px; text-align: left ; width: auto;} td:nth-child(2) {text-align: left ; width: 100%}\n",
              "    .wandb-row { display: flex; flex-direction: row; flex-wrap: wrap; justify-content: flex-start; width: 100% }\n",
              "    .wandb-col { display: flex; flex-direction: column; flex-basis: 100%; flex: 1; padding: 10px; }\n",
              "    </style>\n",
              "<div class=\"wandb-row\"><div class=\"wandb-col\"><h3>Run history:</h3><br/><table class=\"wandb\"><tr><td>accuracy_on_current_task_only</td><td>▁</td></tr><tr><td>average_accuracy</td><td>▁</td></tr><tr><td>elastic_weight_loss</td><td>▁▁▁▁▁▁▁▁▁▁▁▁▁▁▁▁▁▁▁▁▁▁▁█                </td></tr><tr><td>elastic_weight_loss_scaled</td><td>▁▁▁▁▁▁▁▁▁▁▁▁▁▁▁▁▁▁▁▁▁▁▁█                </td></tr><tr><td>loss</td><td>▁▁▁▁▁▁▁▁▁▁▁▁▁▁▁▁▁▁▁▁▁▁▁█                </td></tr><tr><td>lr</td><td>▁▂▃▅▇████▇▆▆▅▄▃▃▂▂▁▁▁▂▄▆▇███▇▇▆▅▅▄▃▂▂▁▁▁</td></tr><tr><td>test_accucracy</td><td>▁</td></tr></table><br/></div><div class=\"wandb-col\"><h3>Run summary:</h3><br/><table class=\"wandb\"><tr><td>accuracy_on_current_task_only</td><td>77.35</td></tr><tr><td>average_accuracy</td><td>77.35</td></tr><tr><td>elastic_weight_loss</td><td>nan</td></tr><tr><td>elastic_weight_loss_scaled</td><td>nan</td></tr><tr><td>loss</td><td>nan</td></tr><tr><td>lr</td><td>0.0</td></tr><tr><td>test_accucracy</td><td>77.35</td></tr></table><br/></div></div>"
            ]
          },
          "metadata": {}
        },
        {
          "output_type": "display_data",
          "data": {
            "text/plain": [
              "<IPython.core.display.HTML object>"
            ],
            "text/html": [
              " View run <strong style=\"color:#cdcd00\">2024_04_20_17_33_59</strong> at: <a href='https://wandb.ai/fabianfuchs/continual_learning/runs/tp6epmm6' target=\"_blank\">https://wandb.ai/fabianfuchs/continual_learning/runs/tp6epmm6</a><br/> View project at: <a href='https://wandb.ai/fabianfuchs/continual_learning' target=\"_blank\">https://wandb.ai/fabianfuchs/continual_learning</a><br/>Synced 5 W&B file(s), 0 media file(s), 0 artifact file(s) and 3 other file(s)"
            ]
          },
          "metadata": {}
        },
        {
          "output_type": "display_data",
          "data": {
            "text/plain": [
              "<IPython.core.display.HTML object>"
            ],
            "text/html": [
              "Find logs at: <code>./wandb/run-20240420_173359-tp6epmm6/logs</code>"
            ]
          },
          "metadata": {}
        },
        {
          "output_type": "display_data",
          "data": {
            "text/plain": [
              "<IPython.core.display.HTML object>"
            ],
            "text/html": [
              "Successfully finished last run (ID:tp6epmm6). Initializing new run:<br/>"
            ]
          },
          "metadata": {}
        },
        {
          "output_type": "display_data",
          "data": {
            "text/plain": [
              "<IPython.core.display.HTML object>"
            ],
            "text/html": [
              "Tracking run with wandb version 0.16.6"
            ]
          },
          "metadata": {}
        },
        {
          "output_type": "display_data",
          "data": {
            "text/plain": [
              "<IPython.core.display.HTML object>"
            ],
            "text/html": [
              "Run data is saved locally in <code>/content/wandb/run-20240420_173523-fxvbri55</code>"
            ]
          },
          "metadata": {}
        },
        {
          "output_type": "display_data",
          "data": {
            "text/plain": [
              "<IPython.core.display.HTML object>"
            ],
            "text/html": [
              "Syncing run <strong><a href='https://wandb.ai/fabianfuchs/continual_learning/runs/fxvbri55' target=\"_blank\">2024_04_20_17_35_23</a></strong> to <a href='https://wandb.ai/fabianfuchs/continual_learning' target=\"_blank\">Weights & Biases</a> (<a href='https://wandb.me/run' target=\"_blank\">docs</a>)<br/>"
            ]
          },
          "metadata": {}
        },
        {
          "output_type": "display_data",
          "data": {
            "text/plain": [
              "<IPython.core.display.HTML object>"
            ],
            "text/html": [
              " View project at <a href='https://wandb.ai/fabianfuchs/continual_learning' target=\"_blank\">https://wandb.ai/fabianfuchs/continual_learning</a>"
            ]
          },
          "metadata": {}
        },
        {
          "output_type": "display_data",
          "data": {
            "text/plain": [
              "<IPython.core.display.HTML object>"
            ],
            "text/html": [
              " View run at <a href='https://wandb.ai/fabianfuchs/continual_learning/runs/fxvbri55' target=\"_blank\">https://wandb.ai/fabianfuchs/continual_learning/runs/fxvbri55</a>"
            ]
          },
          "metadata": {}
        },
        {
          "output_type": "stream",
          "name": "stdout",
          "text": [
            "Files already downloaded and verified\n",
            "Files already downloaded and verified\n"
          ]
        },
        {
          "output_type": "stream",
          "name": "stderr",
          "text": [
            "Epoch 1 Batch 156: 100%|██████████| 10000/10000 [00:09<00:00, 1004.07images/s, loss=0.469]\n",
            "Epoch 1 Batch 156: 100%|██████████| 10000/10000 [00:09<00:00, 1023.85images/s, loss=0.987]\n",
            "Epoch 1 Batch 156: 100%|██████████| 10000/10000 [00:10<00:00, 968.53images/s, loss=nan]\n",
            "Epoch 1 Batch 156: 100%|██████████| 10000/10000 [00:11<00:00, 858.78images/s, loss=nan]\n",
            "Epoch 1 Batch 156: 100%|██████████| 10000/10000 [00:10<00:00, 980.76images/s, loss=nan]\n"
          ]
        },
        {
          "output_type": "display_data",
          "data": {
            "text/plain": [
              "VBox(children=(Label(value='0.001 MB of 0.001 MB uploaded\\r'), FloatProgress(value=1.0, max=1.0)))"
            ],
            "application/vnd.jupyter.widget-view+json": {
              "version_major": 2,
              "version_minor": 0,
              "model_id": "0bde2e89e4414fed84cb9cb05a53f53e"
            }
          },
          "metadata": {}
        },
        {
          "output_type": "display_data",
          "data": {
            "text/plain": [
              "<IPython.core.display.HTML object>"
            ],
            "text/html": [
              "<style>\n",
              "    table.wandb td:nth-child(1) { padding: 0 10px; text-align: left ; width: auto;} td:nth-child(2) {text-align: left ; width: 100%}\n",
              "    .wandb-row { display: flex; flex-direction: row; flex-wrap: wrap; justify-content: flex-start; width: 100% }\n",
              "    .wandb-col { display: flex; flex-direction: column; flex-basis: 100%; flex: 1; padding: 10px; }\n",
              "    </style>\n",
              "<div class=\"wandb-row\"><div class=\"wandb-col\"><h3>Run history:</h3><br/><table class=\"wandb\"><tr><td>accuracy_on_current_task_only</td><td>█▆▁▁▁</td></tr><tr><td>average_accuracy</td><td>█▃▂▁▁</td></tr><tr><td>elastic_weight_loss</td><td>▁▁▁▁▁▁▁▁▁▁▁▁▁▁▁▁▁▁█                     </td></tr><tr><td>elastic_weight_loss_scaled</td><td>▁▁▁▁▁▁▁▁▁▁▁▁▁▁▁▁▁▁█                     </td></tr><tr><td>forgetting_measure</td><td>█▄▂▁</td></tr><tr><td>loss</td><td>▁▁▁▁▁▁▁▁▁▁▁▁▁▁▁▁▁▁█                     </td></tr><tr><td>lr</td><td>▂▅██▆▄▃▁▁▆█▇▆▄▂▁▂▆█▇▆▄▂▁▂▇█▇▆▃▂▁▂▇█▇▅▃▂▁</td></tr><tr><td>test_accucracy</td><td>█▆▁▁▁</td></tr></table><br/></div><div class=\"wandb-col\"><h3>Run summary:</h3><br/><table class=\"wandb\"><tr><td>accuracy_on_current_task_only</td><td>0.0</td></tr><tr><td>average_accuracy</td><td>10.0</td></tr><tr><td>elastic_weight_loss</td><td>nan</td></tr><tr><td>elastic_weight_loss_scaled</td><td>nan</td></tr><tr><td>forgetting_measure</td><td>22.3</td></tr><tr><td>loss</td><td>nan</td></tr><tr><td>lr</td><td>0.0</td></tr><tr><td>test_accucracy</td><td>0.0</td></tr></table><br/></div></div>"
            ]
          },
          "metadata": {}
        },
        {
          "output_type": "display_data",
          "data": {
            "text/plain": [
              "<IPython.core.display.HTML object>"
            ],
            "text/html": [
              " View run <strong style=\"color:#cdcd00\">2024_04_20_17_35_23</strong> at: <a href='https://wandb.ai/fabianfuchs/continual_learning/runs/fxvbri55' target=\"_blank\">https://wandb.ai/fabianfuchs/continual_learning/runs/fxvbri55</a><br/> View project at: <a href='https://wandb.ai/fabianfuchs/continual_learning' target=\"_blank\">https://wandb.ai/fabianfuchs/continual_learning</a><br/>Synced 5 W&B file(s), 0 media file(s), 0 artifact file(s) and 7 other file(s)"
            ]
          },
          "metadata": {}
        },
        {
          "output_type": "display_data",
          "data": {
            "text/plain": [
              "<IPython.core.display.HTML object>"
            ],
            "text/html": [
              "Find logs at: <code>./wandb/run-20240420_173523-fxvbri55/logs</code>"
            ]
          },
          "metadata": {}
        }
      ],
      "source": [
        "for model in models:\n",
        "    for ewc_lambda in [75000]:\n",
        "        for samples_for_fisher_approximation in [1000]:\n",
        "            train_tasks_sequentially_elastic_weight_consolidation(\n",
        "                model_dict=deepcopy(model),\n",
        "                device=device,\n",
        "                epochs=epochs,\n",
        "                batch_size=batch_size,\n",
        "                tasks=tasks,\n",
        "                lr=lr,\n",
        "                weight_decay=weight_decay,\n",
        "                ewc_lambda=ewc_lambda,\n",
        "                samples_for_fisher_approximation=samples_for_fisher_approximation,\n",
        "            )"
      ]
    },
    {
      "cell_type": "markdown",
      "source": [
        "### Avalanche"
      ],
      "metadata": {
        "id": "-BTmmctfZBep"
      }
    },
    {
      "cell_type": "code",
      "execution_count": null,
      "metadata": {
        "id": "t7ttMs0uqjd9",
        "colab": {
          "base_uri": "https://localhost:8080/",
          "height": 1000
        },
        "outputId": "6e326a87-b0ab-4f7f-c6bb-a1084e0f87c6"
      },
      "outputs": [
        {
          "output_type": "stream",
          "name": "stdout",
          "text": [
            "Collecting avalanche-lib[all]\n",
            "  Downloading avalanche_lib-0.5.0-py3-none-any.whl (971 kB)\n",
            "\u001b[2K     \u001b[90m━━━━━━━━━━━━━━━━━━━━━━━━━━━━━━━━━━━━━━━━\u001b[0m \u001b[32m971.9/971.9 kB\u001b[0m \u001b[31m6.2 MB/s\u001b[0m eta \u001b[36m0:00:00\u001b[0m\n",
            "\u001b[?25hRequirement already satisfied: typing-extensions>=4.6.0 in /usr/local/lib/python3.10/dist-packages (from avalanche-lib[all]) (4.11.0)\n",
            "Requirement already satisfied: psutil in /usr/local/lib/python3.10/dist-packages (from avalanche-lib[all]) (5.9.5)\n",
            "Collecting gputil (from avalanche-lib[all])\n",
            "  Downloading GPUtil-1.4.0.tar.gz (5.5 kB)\n",
            "  Preparing metadata (setup.py) ... \u001b[?25l\u001b[?25hdone\n",
            "Requirement already satisfied: scikit-learn in /usr/local/lib/python3.10/dist-packages (from avalanche-lib[all]) (1.2.2)\n",
            "Requirement already satisfied: matplotlib in /usr/local/lib/python3.10/dist-packages (from avalanche-lib[all]) (3.7.1)\n",
            "Requirement already satisfied: numpy in /usr/local/lib/python3.10/dist-packages (from avalanche-lib[all]) (1.25.2)\n",
            "Collecting pytorchcv (from avalanche-lib[all])\n",
            "  Downloading pytorchcv-0.0.67-py2.py3-none-any.whl (532 kB)\n",
            "\u001b[2K     \u001b[90m━━━━━━━━━━━━━━━━━━━━━━━━━━━━━━━━━━━━━━━━\u001b[0m \u001b[32m532.4/532.4 kB\u001b[0m \u001b[31m37.4 MB/s\u001b[0m eta \u001b[36m0:00:00\u001b[0m\n",
            "\u001b[?25hRequirement already satisfied: wandb in /usr/local/lib/python3.10/dist-packages (from avalanche-lib[all]) (0.16.6)\n",
            "Requirement already satisfied: tensorboard>=1.15 in /usr/local/lib/python3.10/dist-packages (from avalanche-lib[all]) (2.15.2)\n",
            "Requirement already satisfied: tqdm in /usr/local/lib/python3.10/dist-packages (from avalanche-lib[all]) (4.66.2)\n",
            "Requirement already satisfied: torch in /usr/local/lib/python3.10/dist-packages (from avalanche-lib[all]) (2.2.1+cu121)\n",
            "Requirement already satisfied: torchvision in /usr/local/lib/python3.10/dist-packages (from avalanche-lib[all]) (0.17.1+cu121)\n",
            "Collecting torchmetrics (from avalanche-lib[all])\n",
            "  Downloading torchmetrics-1.3.2-py3-none-any.whl (841 kB)\n",
            "\u001b[2K     \u001b[90m━━━━━━━━━━━━━━━━━━━━━━━━━━━━━━━━━━━━━━━━\u001b[0m \u001b[32m841.5/841.5 kB\u001b[0m \u001b[31m48.3 MB/s\u001b[0m eta \u001b[36m0:00:00\u001b[0m\n",
            "\u001b[?25hRequirement already satisfied: gdown in /usr/local/lib/python3.10/dist-packages (from avalanche-lib[all]) (4.7.3)\n",
            "Collecting qpsolvers[open_source_solvers] (from avalanche-lib[all])\n",
            "  Downloading qpsolvers-4.3.2-py3-none-any.whl (79 kB)\n",
            "\u001b[2K     \u001b[90m━━━━━━━━━━━━━━━━━━━━━━━━━━━━━━━━━━━━━━━━\u001b[0m \u001b[32m79.6/79.6 kB\u001b[0m \u001b[31m11.1 MB/s\u001b[0m eta \u001b[36m0:00:00\u001b[0m\n",
            "\u001b[?25hCollecting dill (from avalanche-lib[all])\n",
            "  Downloading dill-0.3.8-py3-none-any.whl (116 kB)\n",
            "\u001b[2K     \u001b[90m━━━━━━━━━━━━━━━━━━━━━━━━━━━━━━━━━━━━━━━━\u001b[0m \u001b[32m116.3/116.3 kB\u001b[0m \u001b[31m14.2 MB/s\u001b[0m eta \u001b[36m0:00:00\u001b[0m\n",
            "\u001b[?25hRequirement already satisfied: packaging in /usr/local/lib/python3.10/dist-packages (from avalanche-lib[all]) (24.0)\n",
            "Collecting ctrl-benchmark (from avalanche-lib[all])\n",
            "  Downloading ctrl_benchmark-0.0.4-py3-none-any.whl (50 kB)\n",
            "\u001b[2K     \u001b[90m━━━━━━━━━━━━━━━━━━━━━━━━━━━━━━━━━━━━━━━━\u001b[0m \u001b[32m51.0/51.0 kB\u001b[0m \u001b[31m7.4 MB/s\u001b[0m eta \u001b[36m0:00:00\u001b[0m\n",
            "\u001b[?25hRequirement already satisfied: sphinx in /usr/local/lib/python3.10/dist-packages (from avalanche-lib[all]) (5.0.2)\n",
            "Collecting sphinx-autoapi (from avalanche-lib[all])\n",
            "  Downloading sphinx_autoapi-3.0.0-py2.py3-none-any.whl (35 kB)\n",
            "Collecting sphinx-rtd-theme (from avalanche-lib[all])\n",
            "  Downloading sphinx_rtd_theme-2.0.0-py2.py3-none-any.whl (2.8 MB)\n",
            "\u001b[2K     \u001b[90m━━━━━━━━━━━━━━━━━━━━━━━━━━━━━━━━━━━━━━━━\u001b[0m \u001b[32m2.8/2.8 MB\u001b[0m \u001b[31m46.9 MB/s\u001b[0m eta \u001b[36m0:00:00\u001b[0m\n",
            "\u001b[?25hCollecting timm (from avalanche-lib[all])\n",
            "  Downloading timm-0.9.16-py3-none-any.whl (2.2 MB)\n",
            "\u001b[2K     \u001b[90m━━━━━━━━━━━━━━━━━━━━━━━━━━━━━━━━━━━━━━━━\u001b[0m \u001b[32m2.2/2.2 MB\u001b[0m \u001b[31m93.4 MB/s\u001b[0m eta \u001b[36m0:00:00\u001b[0m\n",
            "\u001b[?25hRequirement already satisfied: gym in /usr/local/lib/python3.10/dist-packages (from avalanche-lib[all]) (0.25.2)\n",
            "Collecting higher (from avalanche-lib[all])\n",
            "  Downloading higher-0.2.1-py3-none-any.whl (27 kB)\n",
            "Requirement already satisfied: pycocotools in /usr/local/lib/python3.10/dist-packages (from avalanche-lib[all]) (2.0.7)\n",
            "Collecting lvis (from avalanche-lib[all])\n",
            "  Downloading lvis-0.5.3-py3-none-any.whl (14 kB)\n",
            "Requirement already satisfied: torchaudio in /usr/local/lib/python3.10/dist-packages (from avalanche-lib[all]) (2.2.1+cu121)\n",
            "Collecting sphinx-copybutton (from avalanche-lib[all])\n",
            "  Downloading sphinx_copybutton-0.5.2-py3-none-any.whl (13 kB)\n",
            "Requirement already satisfied: absl-py>=0.4 in /usr/local/lib/python3.10/dist-packages (from tensorboard>=1.15->avalanche-lib[all]) (1.4.0)\n",
            "Requirement already satisfied: grpcio>=1.48.2 in /usr/local/lib/python3.10/dist-packages (from tensorboard>=1.15->avalanche-lib[all]) (1.62.1)\n",
            "Requirement already satisfied: google-auth<3,>=1.6.3 in /usr/local/lib/python3.10/dist-packages (from tensorboard>=1.15->avalanche-lib[all]) (2.27.0)\n",
            "Requirement already satisfied: google-auth-oauthlib<2,>=0.5 in /usr/local/lib/python3.10/dist-packages (from tensorboard>=1.15->avalanche-lib[all]) (1.2.0)\n",
            "Requirement already satisfied: markdown>=2.6.8 in /usr/local/lib/python3.10/dist-packages (from tensorboard>=1.15->avalanche-lib[all]) (3.6)\n",
            "Requirement already satisfied: protobuf!=4.24.0,>=3.19.6 in /usr/local/lib/python3.10/dist-packages (from tensorboard>=1.15->avalanche-lib[all]) (3.20.3)\n",
            "Requirement already satisfied: requests<3,>=2.21.0 in /usr/local/lib/python3.10/dist-packages (from tensorboard>=1.15->avalanche-lib[all]) (2.31.0)\n",
            "Requirement already satisfied: setuptools>=41.0.0 in /usr/local/lib/python3.10/dist-packages (from tensorboard>=1.15->avalanche-lib[all]) (67.7.2)\n",
            "Requirement already satisfied: six>1.9 in /usr/local/lib/python3.10/dist-packages (from tensorboard>=1.15->avalanche-lib[all]) (1.16.0)\n",
            "Requirement already satisfied: tensorboard-data-server<0.8.0,>=0.7.0 in /usr/local/lib/python3.10/dist-packages (from tensorboard>=1.15->avalanche-lib[all]) (0.7.2)\n",
            "Requirement already satisfied: werkzeug>=1.0.1 in /usr/local/lib/python3.10/dist-packages (from tensorboard>=1.15->avalanche-lib[all]) (3.0.2)\n",
            "Requirement already satisfied: pyyaml in /usr/local/lib/python3.10/dist-packages (from ctrl-benchmark->avalanche-lib[all]) (6.0.1)\n",
            "Collecting torch (from avalanche-lib[all])\n",
            "  Downloading torch-1.13.1-cp310-cp310-manylinux1_x86_64.whl (887.5 MB)\n",
            "\u001b[2K     \u001b[90m━━━━━━━━━━━━━━━━━━━━━━━━━━━━━━━━━━━━━━━━\u001b[0m \u001b[32m887.5/887.5 MB\u001b[0m \u001b[31m1.8 MB/s\u001b[0m eta \u001b[36m0:00:00\u001b[0m\n",
            "\u001b[?25hCollecting networkx<3,>2 (from ctrl-benchmark->avalanche-lib[all])\n",
            "  Downloading networkx-2.8.8-py3-none-any.whl (2.0 MB)\n",
            "\u001b[2K     \u001b[90m━━━━━━━━━━━━━━━━━━━━━━━━━━━━━━━━━━━━━━━━\u001b[0m \u001b[32m2.0/2.0 MB\u001b[0m \u001b[31m72.0 MB/s\u001b[0m eta \u001b[36m0:00:00\u001b[0m\n",
            "\u001b[?25hRequirement already satisfied: plotly in /usr/local/lib/python3.10/dist-packages (from ctrl-benchmark->avalanche-lib[all]) (5.15.0)\n",
            "Requirement already satisfied: pydot in /usr/local/lib/python3.10/dist-packages (from ctrl-benchmark->avalanche-lib[all]) (1.4.2)\n",
            "Collecting bs4 (from ctrl-benchmark->avalanche-lib[all])\n",
            "  Downloading bs4-0.0.2-py2.py3-none-any.whl (1.2 kB)\n",
            "Collecting nvidia-cuda-runtime-cu11==11.7.99 (from torch->avalanche-lib[all])\n",
            "  Downloading nvidia_cuda_runtime_cu11-11.7.99-py3-none-manylinux1_x86_64.whl (849 kB)\n",
            "\u001b[2K     \u001b[90m━━━━━━━━━━━━━━━━━━━━━━━━━━━━━━━━━━━━━━━━\u001b[0m \u001b[32m849.3/849.3 kB\u001b[0m \u001b[31m66.5 MB/s\u001b[0m eta \u001b[36m0:00:00\u001b[0m\n",
            "\u001b[?25hCollecting nvidia-cudnn-cu11==8.5.0.96 (from torch->avalanche-lib[all])\n",
            "  Downloading nvidia_cudnn_cu11-8.5.0.96-2-py3-none-manylinux1_x86_64.whl (557.1 MB)\n",
            "\u001b[2K     \u001b[90m━━━━━━━━━━━━━━━━━━━━━━━━━━━━━━━━━━━━━━━━\u001b[0m \u001b[32m557.1/557.1 MB\u001b[0m \u001b[31m1.3 MB/s\u001b[0m eta \u001b[36m0:00:00\u001b[0m\n",
            "\u001b[?25hCollecting nvidia-cublas-cu11==11.10.3.66 (from torch->avalanche-lib[all])\n",
            "  Downloading nvidia_cublas_cu11-11.10.3.66-py3-none-manylinux1_x86_64.whl (317.1 MB)\n",
            "\u001b[2K     \u001b[90m━━━━━━━━━━━━━━━━━━━━━━━━━━━━━━━━━━━━━━━━\u001b[0m \u001b[32m317.1/317.1 MB\u001b[0m \u001b[31m4.7 MB/s\u001b[0m eta \u001b[36m0:00:00\u001b[0m\n",
            "\u001b[?25hCollecting nvidia-cuda-nvrtc-cu11==11.7.99 (from torch->avalanche-lib[all])\n",
            "  Downloading nvidia_cuda_nvrtc_cu11-11.7.99-2-py3-none-manylinux1_x86_64.whl (21.0 MB)\n",
            "\u001b[2K     \u001b[90m━━━━━━━━━━━━━━━━━━━━━━━━━━━━━━━━━━━━━━━━\u001b[0m \u001b[32m21.0/21.0 MB\u001b[0m \u001b[31m50.2 MB/s\u001b[0m eta \u001b[36m0:00:00\u001b[0m\n",
            "\u001b[?25hRequirement already satisfied: wheel in /usr/local/lib/python3.10/dist-packages (from nvidia-cublas-cu11==11.10.3.66->torch->avalanche-lib[all]) (0.43.0)\n",
            "INFO: pip is looking at multiple versions of torchvision to determine which version is compatible with other requirements. This could take a while.\n",
            "Collecting torchvision (from avalanche-lib[all])\n",
            "  Downloading torchvision-0.17.2-cp310-cp310-manylinux1_x86_64.whl (6.9 MB)\n",
            "\u001b[2K     \u001b[90m━━━━━━━━━━━━━━━━━━━━━━━━━━━━━━━━━━━━━━━━\u001b[0m \u001b[32m6.9/6.9 MB\u001b[0m \u001b[31m67.4 MB/s\u001b[0m eta \u001b[36m0:00:00\u001b[0m\n",
            "\u001b[?25h  Downloading torchvision-0.17.1-cp310-cp310-manylinux1_x86_64.whl (6.9 MB)\n",
            "\u001b[2K     \u001b[90m━━━━━━━━━━━━━━━━━━━━━━━━━━━━━━━━━━━━━━━━\u001b[0m \u001b[32m6.9/6.9 MB\u001b[0m \u001b[31m70.1 MB/s\u001b[0m eta \u001b[36m0:00:00\u001b[0m\n",
            "\u001b[?25h  Downloading torchvision-0.17.0-cp310-cp310-manylinux1_x86_64.whl (6.9 MB)\n",
            "\u001b[2K     \u001b[90m━━━━━━━━━━━━━━━━━━━━━━━━━━━━━━━━━━━━━━━━\u001b[0m \u001b[32m6.9/6.9 MB\u001b[0m \u001b[31m70.4 MB/s\u001b[0m eta \u001b[36m0:00:00\u001b[0m\n",
            "\u001b[?25h  Downloading torchvision-0.16.2-cp310-cp310-manylinux1_x86_64.whl (6.8 MB)\n",
            "\u001b[2K     \u001b[90m━━━━━━━━━━━━━━━━━━━━━━━━━━━━━━━━━━━━━━━━\u001b[0m \u001b[32m6.8/6.8 MB\u001b[0m \u001b[31m69.9 MB/s\u001b[0m eta \u001b[36m0:00:00\u001b[0m\n",
            "\u001b[?25h  Downloading torchvision-0.16.1-cp310-cp310-manylinux1_x86_64.whl (6.8 MB)\n",
            "\u001b[2K     \u001b[90m━━━━━━━━━━━━━━━━━━━━━━━━━━━━━━━━━━━━━━━━\u001b[0m \u001b[32m6.8/6.8 MB\u001b[0m \u001b[31m69.9 MB/s\u001b[0m eta \u001b[36m0:00:00\u001b[0m\n",
            "\u001b[?25h  Downloading torchvision-0.16.0-cp310-cp310-manylinux1_x86_64.whl (6.9 MB)\n",
            "\u001b[2K     \u001b[90m━━━━━━━━━━━━━━━━━━━━━━━━━━━━━━━━━━━━━━━━\u001b[0m \u001b[32m6.9/6.9 MB\u001b[0m \u001b[31m70.3 MB/s\u001b[0m eta \u001b[36m0:00:00\u001b[0m\n",
            "\u001b[?25h  Downloading torchvision-0.15.2-cp310-cp310-manylinux1_x86_64.whl (6.0 MB)\n",
            "\u001b[2K     \u001b[90m━━━━━━━━━━━━━━━━━━━━━━━━━━━━━━━━━━━━━━━━\u001b[0m \u001b[32m6.0/6.0 MB\u001b[0m \u001b[31m72.9 MB/s\u001b[0m eta \u001b[36m0:00:00\u001b[0m\n",
            "\u001b[?25hINFO: pip is looking at multiple versions of torchvision to determine which version is compatible with other requirements. This could take a while.\n",
            "  Downloading torchvision-0.15.1-cp310-cp310-manylinux1_x86_64.whl (6.0 MB)\n",
            "\u001b[2K     \u001b[90m━━━━━━━━━━━━━━━━━━━━━━━━━━━━━━━━━━━━━━━━\u001b[0m \u001b[32m6.0/6.0 MB\u001b[0m \u001b[31m75.3 MB/s\u001b[0m eta \u001b[36m0:00:00\u001b[0m\n",
            "\u001b[?25h  Downloading torchvision-0.14.1-cp310-cp310-manylinux1_x86_64.whl (24.2 MB)\n",
            "\u001b[2K     \u001b[90m━━━━━━━━━━━━━━━━━━━━━━━━━━━━━━━━━━━━━━━━\u001b[0m \u001b[32m24.2/24.2 MB\u001b[0m \u001b[31m13.4 MB/s\u001b[0m eta \u001b[36m0:00:00\u001b[0m\n",
            "\u001b[?25hRequirement already satisfied: pillow!=8.3.*,>=5.3.0 in /usr/local/lib/python3.10/dist-packages (from torchvision->avalanche-lib[all]) (9.4.0)\n",
            "Requirement already satisfied: filelock in /usr/local/lib/python3.10/dist-packages (from gdown->avalanche-lib[all]) (3.13.4)\n",
            "Requirement already satisfied: beautifulsoup4 in /usr/local/lib/python3.10/dist-packages (from gdown->avalanche-lib[all]) (4.12.3)\n",
            "Requirement already satisfied: cloudpickle>=1.2.0 in /usr/local/lib/python3.10/dist-packages (from gym->avalanche-lib[all]) (2.2.1)\n",
            "Requirement already satisfied: gym-notices>=0.0.4 in /usr/local/lib/python3.10/dist-packages (from gym->avalanche-lib[all]) (0.0.8)\n",
            "Requirement already satisfied: cycler>=0.10.0 in /usr/local/lib/python3.10/dist-packages (from lvis->avalanche-lib[all]) (0.12.1)\n",
            "Requirement already satisfied: Cython>=0.29.12 in /usr/local/lib/python3.10/dist-packages (from lvis->avalanche-lib[all]) (3.0.10)\n",
            "Requirement already satisfied: kiwisolver>=1.1.0 in /usr/local/lib/python3.10/dist-packages (from lvis->avalanche-lib[all]) (1.4.5)\n",
            "Requirement already satisfied: opencv-python>=4.1.0.25 in /usr/local/lib/python3.10/dist-packages (from lvis->avalanche-lib[all]) (4.8.0.76)\n",
            "Requirement already satisfied: pyparsing>=2.4.0 in /usr/local/lib/python3.10/dist-packages (from lvis->avalanche-lib[all]) (3.1.2)\n",
            "Requirement already satisfied: python-dateutil>=2.8.0 in /usr/local/lib/python3.10/dist-packages (from lvis->avalanche-lib[all]) (2.8.2)\n",
            "Requirement already satisfied: contourpy>=1.0.1 in /usr/local/lib/python3.10/dist-packages (from matplotlib->avalanche-lib[all]) (1.2.1)\n",
            "Requirement already satisfied: fonttools>=4.22.0 in /usr/local/lib/python3.10/dist-packages (from matplotlib->avalanche-lib[all]) (4.51.0)\n",
            "Requirement already satisfied: scipy>=1.2.0 in /usr/local/lib/python3.10/dist-packages (from qpsolvers[open_source_solvers]->avalanche-lib[all]) (1.11.4)\n",
            "Requirement already satisfied: joblib>=1.1.1 in /usr/local/lib/python3.10/dist-packages (from scikit-learn->avalanche-lib[all]) (1.4.0)\n",
            "Requirement already satisfied: threadpoolctl>=2.0.0 in /usr/local/lib/python3.10/dist-packages (from scikit-learn->avalanche-lib[all]) (3.4.0)\n",
            "Requirement already satisfied: sphinxcontrib-applehelp in /usr/local/lib/python3.10/dist-packages (from sphinx->avalanche-lib[all]) (1.0.8)\n",
            "Requirement already satisfied: sphinxcontrib-devhelp in /usr/local/lib/python3.10/dist-packages (from sphinx->avalanche-lib[all]) (1.0.6)\n",
            "Requirement already satisfied: sphinxcontrib-jsmath in /usr/local/lib/python3.10/dist-packages (from sphinx->avalanche-lib[all]) (1.0.1)\n",
            "Requirement already satisfied: sphinxcontrib-htmlhelp>=2.0.0 in /usr/local/lib/python3.10/dist-packages (from sphinx->avalanche-lib[all]) (2.0.5)\n",
            "Requirement already satisfied: sphinxcontrib-serializinghtml>=1.1.5 in /usr/local/lib/python3.10/dist-packages (from sphinx->avalanche-lib[all]) (1.1.10)\n",
            "Requirement already satisfied: sphinxcontrib-qthelp in /usr/local/lib/python3.10/dist-packages (from sphinx->avalanche-lib[all]) (1.0.7)\n",
            "Requirement already satisfied: Jinja2>=2.3 in /usr/local/lib/python3.10/dist-packages (from sphinx->avalanche-lib[all]) (3.1.3)\n",
            "Requirement already satisfied: Pygments>=2.0 in /usr/local/lib/python3.10/dist-packages (from sphinx->avalanche-lib[all]) (2.16.1)\n",
            "Requirement already satisfied: docutils<0.19,>=0.14 in /usr/local/lib/python3.10/dist-packages (from sphinx->avalanche-lib[all]) (0.18.1)\n",
            "Requirement already satisfied: snowballstemmer>=1.1 in /usr/local/lib/python3.10/dist-packages (from sphinx->avalanche-lib[all]) (2.2.0)\n",
            "Requirement already satisfied: babel>=1.3 in /usr/local/lib/python3.10/dist-packages (from sphinx->avalanche-lib[all]) (2.14.0)\n",
            "Requirement already satisfied: alabaster<0.8,>=0.7 in /usr/local/lib/python3.10/dist-packages (from sphinx->avalanche-lib[all]) (0.7.16)\n",
            "Requirement already satisfied: imagesize in /usr/local/lib/python3.10/dist-packages (from sphinx->avalanche-lib[all]) (1.4.1)\n",
            "Collecting anyascii (from sphinx-autoapi->avalanche-lib[all])\n",
            "  Downloading anyascii-0.3.2-py3-none-any.whl (289 kB)\n",
            "\u001b[2K     \u001b[90m━━━━━━━━━━━━━━━━━━━━━━━━━━━━━━━━━━━━━━━━\u001b[0m \u001b[32m289.9/289.9 kB\u001b[0m \u001b[31m34.9 MB/s\u001b[0m eta \u001b[36m0:00:00\u001b[0m\n",
            "\u001b[?25hCollecting sphinx (from avalanche-lib[all])\n",
            "  Downloading sphinx-7.3.7-py3-none-any.whl (3.3 MB)\n",
            "\u001b[2K     \u001b[90m━━━━━━━━━━━━━━━━━━━━━━━━━━━━━━━━━━━━━━━━\u001b[0m \u001b[32m3.3/3.3 MB\u001b[0m \u001b[31m63.2 MB/s\u001b[0m eta \u001b[36m0:00:00\u001b[0m\n",
            "\u001b[?25hCollecting astroid>=2.7 (from sphinx-autoapi->avalanche-lib[all])\n",
            "  Downloading astroid-3.1.0-py3-none-any.whl (275 kB)\n",
            "\u001b[2K     \u001b[90m━━━━━━━━━━━━━━━━━━━━━━━━━━━━━━━━━━━━━━━━\u001b[0m \u001b[32m275.6/275.6 kB\u001b[0m \u001b[31m34.4 MB/s\u001b[0m eta \u001b[36m0:00:00\u001b[0m\n",
            "\u001b[?25hRequirement already satisfied: tomli>=2 in /usr/local/lib/python3.10/dist-packages (from sphinx->avalanche-lib[all]) (2.0.1)\n",
            "Collecting sphinxcontrib-jquery<5,>=4 (from sphinx-rtd-theme->avalanche-lib[all])\n",
            "  Downloading sphinxcontrib_jquery-4.1-py2.py3-none-any.whl (121 kB)\n",
            "\u001b[2K     \u001b[90m━━━━━━━━━━━━━━━━━━━━━━━━━━━━━━━━━━━━━━━━\u001b[0m \u001b[32m121.1/121.1 kB\u001b[0m \u001b[31m18.2 MB/s\u001b[0m eta \u001b[36m0:00:00\u001b[0m\n",
            "\u001b[?25hRequirement already satisfied: huggingface_hub in /usr/local/lib/python3.10/dist-packages (from timm->avalanche-lib[all]) (0.20.3)\n",
            "Requirement already satisfied: safetensors in /usr/local/lib/python3.10/dist-packages (from timm->avalanche-lib[all]) (0.4.3)\n",
            "INFO: pip is looking at multiple versions of torchaudio to determine which version is compatible with other requirements. This could take a while.\n",
            "Collecting torchaudio (from avalanche-lib[all])\n",
            "  Downloading torchaudio-2.2.2-cp310-cp310-manylinux1_x86_64.whl (3.3 MB)\n",
            "\u001b[2K     \u001b[90m━━━━━━━━━━━━━━━━━━━━━━━━━━━━━━━━━━━━━━━━\u001b[0m \u001b[32m3.3/3.3 MB\u001b[0m \u001b[31m61.4 MB/s\u001b[0m eta \u001b[36m0:00:00\u001b[0m\n",
            "\u001b[?25h  Downloading torchaudio-2.2.1-cp310-cp310-manylinux1_x86_64.whl (3.3 MB)\n",
            "\u001b[2K     \u001b[90m━━━━━━━━━━━━━━━━━━━━━━━━━━━━━━━━━━━━━━━━\u001b[0m \u001b[32m3.3/3.3 MB\u001b[0m \u001b[31m64.1 MB/s\u001b[0m eta \u001b[36m0:00:00\u001b[0m\n",
            "\u001b[?25h  Downloading torchaudio-2.2.0-cp310-cp310-manylinux1_x86_64.whl (3.3 MB)\n",
            "\u001b[2K     \u001b[90m━━━━━━━━━━━━━━━━━━━━━━━━━━━━━━━━━━━━━━━━\u001b[0m \u001b[32m3.3/3.3 MB\u001b[0m \u001b[31m64.8 MB/s\u001b[0m eta \u001b[36m0:00:00\u001b[0m\n",
            "\u001b[?25h  Downloading torchaudio-2.1.2-cp310-cp310-manylinux1_x86_64.whl (3.3 MB)\n",
            "\u001b[2K     \u001b[90m━━━━━━━━━━━━━━━━━━━━━━━━━━━━━━━━━━━━━━━━\u001b[0m \u001b[32m3.3/3.3 MB\u001b[0m \u001b[31m64.1 MB/s\u001b[0m eta \u001b[36m0:00:00\u001b[0m\n",
            "\u001b[?25h  Downloading torchaudio-2.1.1-cp310-cp310-manylinux1_x86_64.whl (3.3 MB)\n",
            "\u001b[2K     \u001b[90m━━━━━━━━━━━━━━━━━━━━━━━━━━━━━━━━━━━━━━━━\u001b[0m \u001b[32m3.3/3.3 MB\u001b[0m \u001b[31m54.0 MB/s\u001b[0m eta \u001b[36m0:00:00\u001b[0m\n",
            "\u001b[?25h  Downloading torchaudio-2.1.0-cp310-cp310-manylinux1_x86_64.whl (3.3 MB)\n",
            "\u001b[2K     \u001b[90m━━━━━━━━━━━━━━━━━━━━━━━━━━━━━━━━━━━━━━━━\u001b[0m \u001b[32m3.3/3.3 MB\u001b[0m \u001b[31m66.2 MB/s\u001b[0m eta \u001b[36m0:00:00\u001b[0m\n",
            "\u001b[?25h  Downloading torchaudio-2.0.2-cp310-cp310-manylinux1_x86_64.whl (4.4 MB)\n",
            "\u001b[2K     \u001b[90m━━━━━━━━━━━━━━━━━━━━━━━━━━━━━━━━━━━━━━━━\u001b[0m \u001b[32m4.4/4.4 MB\u001b[0m \u001b[31m72.3 MB/s\u001b[0m eta \u001b[36m0:00:00\u001b[0m\n",
            "\u001b[?25hINFO: pip is looking at multiple versions of torchaudio to determine which version is compatible with other requirements. This could take a while.\n",
            "  Downloading torchaudio-2.0.1-cp310-cp310-manylinux1_x86_64.whl (4.4 MB)\n",
            "\u001b[2K     \u001b[90m━━━━━━━━━━━━━━━━━━━━━━━━━━━━━━━━━━━━━━━━\u001b[0m \u001b[32m4.4/4.4 MB\u001b[0m \u001b[31m72.4 MB/s\u001b[0m eta \u001b[36m0:00:00\u001b[0m\n",
            "\u001b[?25h  Downloading torchaudio-0.13.1-cp310-cp310-manylinux1_x86_64.whl (4.2 MB)\n",
            "\u001b[2K     \u001b[90m━━━━━━━━━━━━━━━━━━━━━━━━━━━━━━━━━━━━━━━━\u001b[0m \u001b[32m4.2/4.2 MB\u001b[0m \u001b[31m72.5 MB/s\u001b[0m eta \u001b[36m0:00:00\u001b[0m\n",
            "\u001b[?25hCollecting lightning-utilities>=0.8.0 (from torchmetrics->avalanche-lib[all])\n",
            "  Downloading lightning_utilities-0.11.2-py3-none-any.whl (26 kB)\n",
            "Requirement already satisfied: Click!=8.0.0,>=7.1 in /usr/local/lib/python3.10/dist-packages (from wandb->avalanche-lib[all]) (8.1.7)\n",
            "Requirement already satisfied: GitPython!=3.1.29,>=1.0.0 in /usr/local/lib/python3.10/dist-packages (from wandb->avalanche-lib[all]) (3.1.43)\n",
            "Requirement already satisfied: sentry-sdk>=1.0.0 in /usr/local/lib/python3.10/dist-packages (from wandb->avalanche-lib[all]) (1.45.0)\n",
            "Requirement already satisfied: docker-pycreds>=0.4.0 in /usr/local/lib/python3.10/dist-packages (from wandb->avalanche-lib[all]) (0.4.0)\n",
            "Requirement already satisfied: setproctitle in /usr/local/lib/python3.10/dist-packages (from wandb->avalanche-lib[all]) (1.3.3)\n",
            "Requirement already satisfied: appdirs>=1.4.3 in /usr/local/lib/python3.10/dist-packages (from wandb->avalanche-lib[all]) (1.4.4)\n",
            "Requirement already satisfied: gitdb<5,>=4.0.1 in /usr/local/lib/python3.10/dist-packages (from GitPython!=3.1.29,>=1.0.0->wandb->avalanche-lib[all]) (4.0.11)\n",
            "Requirement already satisfied: cachetools<6.0,>=2.0.0 in /usr/local/lib/python3.10/dist-packages (from google-auth<3,>=1.6.3->tensorboard>=1.15->avalanche-lib[all]) (5.3.3)\n",
            "Requirement already satisfied: pyasn1-modules>=0.2.1 in /usr/local/lib/python3.10/dist-packages (from google-auth<3,>=1.6.3->tensorboard>=1.15->avalanche-lib[all]) (0.4.0)\n",
            "Requirement already satisfied: rsa<5,>=3.1.4 in /usr/local/lib/python3.10/dist-packages (from google-auth<3,>=1.6.3->tensorboard>=1.15->avalanche-lib[all]) (4.9)\n",
            "Requirement already satisfied: requests-oauthlib>=0.7.0 in /usr/local/lib/python3.10/dist-packages (from google-auth-oauthlib<2,>=0.5->tensorboard>=1.15->avalanche-lib[all]) (1.3.1)\n",
            "Requirement already satisfied: MarkupSafe>=2.0 in /usr/local/lib/python3.10/dist-packages (from Jinja2>=2.3->sphinx->avalanche-lib[all]) (2.1.5)\n",
            "Requirement already satisfied: charset-normalizer<4,>=2 in /usr/local/lib/python3.10/dist-packages (from requests<3,>=2.21.0->tensorboard>=1.15->avalanche-lib[all]) (3.3.2)\n",
            "Requirement already satisfied: idna<4,>=2.5 in /usr/local/lib/python3.10/dist-packages (from requests<3,>=2.21.0->tensorboard>=1.15->avalanche-lib[all]) (3.7)\n",
            "Requirement already satisfied: urllib3<3,>=1.21.1 in /usr/local/lib/python3.10/dist-packages (from requests<3,>=2.21.0->tensorboard>=1.15->avalanche-lib[all]) (2.0.7)\n",
            "Requirement already satisfied: certifi>=2017.4.17 in /usr/local/lib/python3.10/dist-packages (from requests<3,>=2.21.0->tensorboard>=1.15->avalanche-lib[all]) (2024.2.2)\n",
            "Requirement already satisfied: soupsieve>1.2 in /usr/local/lib/python3.10/dist-packages (from beautifulsoup4->gdown->avalanche-lib[all]) (2.5)\n",
            "Requirement already satisfied: fsspec>=2023.5.0 in /usr/local/lib/python3.10/dist-packages (from huggingface_hub->timm->avalanche-lib[all]) (2023.6.0)\n",
            "Requirement already satisfied: tenacity>=6.2.0 in /usr/local/lib/python3.10/dist-packages (from plotly->ctrl-benchmark->avalanche-lib[all]) (8.2.3)\n",
            "Collecting daqp>=0.5.1 (from qpsolvers[open_source_solvers]->avalanche-lib[all])\n",
            "  Downloading daqp-0.5.1.post1-cp310-cp310-manylinux_2_17_x86_64.manylinux2014_x86_64.whl (526 kB)\n",
            "\u001b[2K     \u001b[90m━━━━━━━━━━━━━━━━━━━━━━━━━━━━━━━━━━━━━━━━\u001b[0m \u001b[32m526.7/526.7 kB\u001b[0m \u001b[31m51.3 MB/s\u001b[0m eta \u001b[36m0:00:00\u001b[0m\n",
            "\u001b[?25hCollecting proxsuite>=0.2.9 (from qpsolvers[open_source_solvers]->avalanche-lib[all])\n",
            "  Downloading proxsuite-0.6.3-0-cp310-cp310-manylinux_2_17_x86_64.whl (2.7 MB)\n",
            "\u001b[2K     \u001b[90m━━━━━━━━━━━━━━━━━━━━━━━━━━━━━━━━━━━━━━━━\u001b[0m \u001b[32m2.7/2.7 MB\u001b[0m \u001b[31m81.7 MB/s\u001b[0m eta \u001b[36m0:00:00\u001b[0m\n",
            "\u001b[?25hRequirement already satisfied: cvxopt>=1.2.6 in /usr/local/lib/python3.10/dist-packages (from qpsolvers[open_source_solvers]->avalanche-lib[all]) (1.3.2)\n",
            "Requirement already satisfied: ecos>=2.0.8 in /usr/local/lib/python3.10/dist-packages (from qpsolvers[open_source_solvers]->avalanche-lib[all]) (2.0.13)\n",
            "Collecting clarabel>=0.4.1 (from qpsolvers[open_source_solvers]->avalanche-lib[all])\n",
            "  Downloading clarabel-0.7.1-cp37-abi3-manylinux_2_17_x86_64.manylinux2014_x86_64.whl (1.3 MB)\n",
            "\u001b[2K     \u001b[90m━━━━━━━━━━━━━━━━━━━━━━━━━━━━━━━━━━━━━━━━\u001b[0m \u001b[32m1.3/1.3 MB\u001b[0m \u001b[31m70.9 MB/s\u001b[0m eta \u001b[36m0:00:00\u001b[0m\n",
            "\u001b[?25hCollecting highspy>=1.1.2.dev3 (from qpsolvers[open_source_solvers]->avalanche-lib[all])\n",
            "  Downloading highspy-1.7.1.dev1-cp310-cp310-manylinux_2_17_x86_64.manylinux2014_x86_64.whl (2.1 MB)\n",
            "\u001b[2K     \u001b[90m━━━━━━━━━━━━━━━━━━━━━━━━━━━━━━━━━━━━━━━━\u001b[0m \u001b[32m2.1/2.1 MB\u001b[0m \u001b[31m72.6 MB/s\u001b[0m eta \u001b[36m0:00:00\u001b[0m\n",
            "\u001b[?25hRequirement already satisfied: osqp>=0.6.2 in /usr/local/lib/python3.10/dist-packages (from qpsolvers[open_source_solvers]->avalanche-lib[all]) (0.6.2.post8)\n",
            "Collecting piqp>=0.2.2 (from qpsolvers[open_source_solvers]->avalanche-lib[all])\n",
            "  Downloading piqp-0.2.4-cp310-cp310-manylinux_2_17_x86_64.manylinux2014_x86_64.whl (959 kB)\n",
            "\u001b[2K     \u001b[90m━━━━━━━━━━━━━━━━━━━━━━━━━━━━━━━━━━━━━━━━\u001b[0m \u001b[32m960.0/960.0 kB\u001b[0m \u001b[31m64.1 MB/s\u001b[0m eta \u001b[36m0:00:00\u001b[0m\n",
            "\u001b[?25hRequirement already satisfied: scs>=3.2.0 in /usr/local/lib/python3.10/dist-packages (from qpsolvers[open_source_solvers]->avalanche-lib[all]) (3.2.4.post1)\n",
            "Collecting qpalm>=1.2.1 (from qpsolvers[open_source_solvers]->avalanche-lib[all])\n",
            "  Downloading qpalm-1.2.3-cp310-cp310-manylinux_2_17_x86_64.whl (1.3 MB)\n",
            "\u001b[2K     \u001b[90m━━━━━━━━━━━━━━━━━━━━━━━━━━━━━━━━━━━━━━━━\u001b[0m \u001b[32m1.3/1.3 MB\u001b[0m \u001b[31m74.4 MB/s\u001b[0m eta \u001b[36m0:00:00\u001b[0m\n",
            "\u001b[?25hCollecting quadprog>=0.1.11 (from qpsolvers[open_source_solvers]->avalanche-lib[all])\n",
            "  Downloading quadprog-0.1.12-cp310-cp310-manylinux_2_17_x86_64.manylinux2014_x86_64.whl (508 kB)\n",
            "\u001b[2K     \u001b[90m━━━━━━━━━━━━━━━━━━━━━━━━━━━━━━━━━━━━━━━━\u001b[0m \u001b[32m508.2/508.2 kB\u001b[0m \u001b[31m55.6 MB/s\u001b[0m eta \u001b[36m0:00:00\u001b[0m\n",
            "\u001b[?25hRequirement already satisfied: PySocks!=1.5.7,>=1.5.6 in /usr/local/lib/python3.10/dist-packages (from requests<3,>=2.21.0->tensorboard>=1.15->avalanche-lib[all]) (1.7.1)\n",
            "Requirement already satisfied: smmap<6,>=3.0.1 in /usr/local/lib/python3.10/dist-packages (from gitdb<5,>=4.0.1->GitPython!=3.1.29,>=1.0.0->wandb->avalanche-lib[all]) (5.0.1)\n",
            "Requirement already satisfied: qdldl in /usr/local/lib/python3.10/dist-packages (from osqp>=0.6.2->qpsolvers[open_source_solvers]->avalanche-lib[all]) (0.1.7.post1)\n",
            "Collecting cmeel (from proxsuite>=0.2.9->qpsolvers[open_source_solvers]->avalanche-lib[all])\n",
            "  Downloading cmeel-0.53.3-py3-none-any.whl (20 kB)\n",
            "Requirement already satisfied: pyasn1<0.7.0,>=0.4.6 in /usr/local/lib/python3.10/dist-packages (from pyasn1-modules>=0.2.1->google-auth<3,>=1.6.3->tensorboard>=1.15->avalanche-lib[all]) (0.6.0)\n",
            "Requirement already satisfied: oauthlib>=3.0.0 in /usr/local/lib/python3.10/dist-packages (from requests-oauthlib>=0.7.0->google-auth-oauthlib<2,>=0.5->tensorboard>=1.15->avalanche-lib[all]) (3.2.2)\n",
            "Building wheels for collected packages: gputil\n",
            "  Building wheel for gputil (setup.py) ... \u001b[?25l\u001b[?25hdone\n",
            "  Created wheel for gputil: filename=GPUtil-1.4.0-py3-none-any.whl size=7394 sha256=bada8d763c7d1769b1e37dc8d262169316a266c3e060daf41d7aad1fa2648bd6\n",
            "  Stored in directory: /root/.cache/pip/wheels/a9/8a/bd/81082387151853ab8b6b3ef33426e98f5cbfebc3c397a9d4d0\n",
            "Successfully built gputil\n",
            "Installing collected packages: gputil, daqp, quadprog, piqp, nvidia-cuda-runtime-cu11, nvidia-cuda-nvrtc-cu11, nvidia-cublas-cu11, networkx, lightning-utilities, highspy, dill, cmeel, astroid, anyascii, sphinx, qpsolvers, qpalm, pytorchcv, proxsuite, nvidia-cudnn-cu11, clarabel, bs4, torch, sphinxcontrib-jquery, sphinx-copybutton, sphinx-autoapi, lvis, torchvision, torchmetrics, torchaudio, sphinx-rtd-theme, higher, timm, ctrl-benchmark, avalanche-lib\n",
            "  Attempting uninstall: networkx\n",
            "    Found existing installation: networkx 3.3\n",
            "    Uninstalling networkx-3.3:\n",
            "      Successfully uninstalled networkx-3.3\n",
            "  Attempting uninstall: sphinx\n",
            "    Found existing installation: Sphinx 5.0.2\n",
            "    Uninstalling Sphinx-5.0.2:\n",
            "      Successfully uninstalled Sphinx-5.0.2\n",
            "  Attempting uninstall: torch\n",
            "    Found existing installation: torch 2.2.1+cu121\n",
            "    Uninstalling torch-2.2.1+cu121:\n",
            "      Successfully uninstalled torch-2.2.1+cu121\n",
            "  Attempting uninstall: torchvision\n",
            "    Found existing installation: torchvision 0.17.1+cu121\n",
            "    Uninstalling torchvision-0.17.1+cu121:\n",
            "      Successfully uninstalled torchvision-0.17.1+cu121\n",
            "  Attempting uninstall: torchaudio\n",
            "    Found existing installation: torchaudio 2.2.1+cu121\n",
            "    Uninstalling torchaudio-2.2.1+cu121:\n",
            "      Successfully uninstalled torchaudio-2.2.1+cu121\n",
            "\u001b[31mERROR: pip's dependency resolver does not currently take into account all the packages that are installed. This behaviour is the source of the following dependency conflicts.\n",
            "torchdata 0.7.1 requires torch>=2, but you have torch 1.13.1 which is incompatible.\n",
            "torchtext 0.17.1 requires torch==2.2.1, but you have torch 1.13.1 which is incompatible.\u001b[0m\u001b[31m\n",
            "\u001b[0mSuccessfully installed anyascii-0.3.2 astroid-3.1.0 avalanche-lib-0.5.0 bs4-0.0.2 clarabel-0.7.1 cmeel-0.53.3 ctrl-benchmark-0.0.4 daqp-0.5.1.post1 dill-0.3.8 gputil-1.4.0 higher-0.2.1 highspy-1.7.1.dev1 lightning-utilities-0.11.2 lvis-0.5.3 networkx-2.8.8 nvidia-cublas-cu11-11.10.3.66 nvidia-cuda-nvrtc-cu11-11.7.99 nvidia-cuda-runtime-cu11-11.7.99 nvidia-cudnn-cu11-8.5.0.96 piqp-0.2.4 proxsuite-0.6.3 pytorchcv-0.0.67 qpalm-1.2.3 qpsolvers-4.3.2 quadprog-0.1.12 sphinx-7.3.7 sphinx-autoapi-3.0.0 sphinx-copybutton-0.5.2 sphinx-rtd-theme-2.0.0 sphinxcontrib-jquery-4.1 timm-0.9.16 torch-1.13.1 torchaudio-0.13.1 torchmetrics-1.3.2 torchvision-0.14.1\n"
          ]
        },
        {
          "output_type": "display_data",
          "data": {
            "application/vnd.colab-display-data+json": {
              "pip_warning": {
                "packages": [
                  "torch",
                  "torchgen",
                  "torchvision"
                ]
              },
              "id": "01f18d8df4304222a992803d803b472f"
            }
          },
          "metadata": {}
        }
      ],
      "source": [
        "!pip install avalanche-lib[all]"
      ]
    },
    {
      "cell_type": "code",
      "source": [
        "from avalanche.benchmarks.classic import SplitCIFAR10"
      ],
      "metadata": {
        "id": "ZBAnwHUpXwu4"
      },
      "execution_count": null,
      "outputs": []
    },
    {
      "cell_type": "code",
      "source": [
        "from avalanche.training.supervised import EWC"
      ],
      "metadata": {
        "id": "d1d0G0BSZedL"
      },
      "execution_count": null,
      "outputs": []
    },
    {
      "cell_type": "code",
      "source": [
        "from avalanche.evaluation.metrics.checkpoint import WeightCheckpoint\n",
        "from avalanche.logging import InteractiveLogger, WandBLogger\n",
        "from avalanche.training.plugins import EvaluationPlugin, EarlyStoppingPlugin\n",
        "from avalanche.evaluation.metrics import (\n",
        "    forgetting_metrics,\n",
        "    accuracy_metrics,\n",
        "    loss_metrics,\n",
        ")"
      ],
      "metadata": {
        "id": "wA953wZkgX9d"
      },
      "execution_count": null,
      "outputs": []
    },
    {
      "cell_type": "code",
      "source": [
        "from avalanche.models import SimpleMLP"
      ],
      "metadata": {
        "id": "EFjNCnkUj-x8"
      },
      "execution_count": null,
      "outputs": []
    },
    {
      "cell_type": "code",
      "source": [
        "# scenario\n",
        "benchmark = SplitCIFAR10(n_experiences=5, shuffle=False)"
      ],
      "metadata": {
        "colab": {
          "base_uri": "https://localhost:8080/"
        },
        "id": "KygVXjktYzLA",
        "outputId": "893a832f-3e95-4ba7-cdb4-8a92be79bf4f"
      },
      "execution_count": null,
      "outputs": [
        {
          "output_type": "stream",
          "name": "stdout",
          "text": [
            "Downloading https://www.cs.toronto.edu/~kriz/cifar-10-python.tar.gz to /root/.avalanche/data/cifar10/cifar-10-python.tar.gz\n"
          ]
        },
        {
          "output_type": "stream",
          "name": "stderr",
          "text": [
            "100%|██████████| 170498071/170498071 [00:02<00:00, 78229449.17it/s]\n"
          ]
        },
        {
          "output_type": "stream",
          "name": "stdout",
          "text": [
            "Extracting /root/.avalanche/data/cifar10/cifar-10-python.tar.gz to /root/.avalanche/data/cifar10\n",
            "Files already downloaded and verified\n"
          ]
        }
      ]
    },
    {
      "cell_type": "code",
      "source": [
        "# model = ConvMixer(\n",
        "#     dim= 128,\n",
        "#     depth= 4,\n",
        "#     kernel_size= 7,\n",
        "#     patch_size= 1,\n",
        "#     n_classes= 10,\n",
        "# )"
      ],
      "metadata": {
        "id": "Qh-UEYjxZGX3"
      },
      "execution_count": null,
      "outputs": []
    },
    {
      "cell_type": "code",
      "source": [
        "class Net(nn.Module):\n",
        "    def __init__(self):\n",
        "        super(Net, self).__init__()\n",
        "        self.conv1 = nn.Conv2d(3, 10, kernel_size=5)\n",
        "        self.conv2 = nn.Conv2d(10, 20, kernel_size=5)\n",
        "        self.conv2_drop = nn.Dropout2d()\n",
        "        self.fc1 = nn.Linear(500, 70)\n",
        "        self.fc2 = nn.Linear(70, 10)\n",
        "        self.flatten = torch.nn.Flatten()\n",
        "\n",
        "    def forward(self, x):\n",
        "        x = F.relu(F.max_pool2d(self.conv1(x), 2))\n",
        "        x = F.relu(F.max_pool2d(self.conv2_drop(self.conv2(x)), 2))\n",
        "        x = self.flatten(x)\n",
        "        x = F.relu(self.fc1(x))\n",
        "        x = F.dropout(x, training=self.training)\n",
        "        x = self.fc2(x)\n",
        "        return x"
      ],
      "metadata": {
        "id": "O07T6lLJVN2X"
      },
      "execution_count": null,
      "outputs": []
    },
    {
      "cell_type": "code",
      "source": [
        "batch_size = 32\n",
        "epochs = 1\n",
        "lr = 0.01\n",
        "momentum = 0.9"
      ],
      "metadata": {
        "id": "RAWmEqW-gmGL"
      },
      "execution_count": null,
      "outputs": []
    },
    {
      "cell_type": "code",
      "source": [
        "# torch.cat((torch.linspace(0.6, 1, 3), torch.linspace(2, 10, 9), torch.linspace(15, 100, 15)))\n"
      ],
      "metadata": {
        "id": "j_raHTb4hyDY"
      },
      "execution_count": null,
      "outputs": []
    },
    {
      "cell_type": "code",
      "source": [
        "for ewc_lambda in torch.linspace(280, 300, 10):\n",
        "    #model = SimpleMLP(num_classes=benchmark.n_classes, input_size=3*32*32)\n",
        "    model = Net()\n",
        "    optimizer = torch.optim.SGD(model.parameters(), lr=lr, momentum=momentum)\n",
        "    criterion = nn.CrossEntropyLoss()\n",
        "    interactive_logger = InteractiveLogger()\n",
        "    wandb_logger = WandBLogger(\n",
        "        project_name=\"continual learning\",\n",
        "        run_name=f\"avalanche_{datetime.now(tz=timezone.utc).strftime('%Y_%m_%d_%H_%M_%S')}\",\n",
        "        log_artifacts=True,\n",
        "        config={\n",
        "            \"ewc_lambda\":ewc_lambda,\n",
        "            \"batch_size\": batch_size,\n",
        "            \"epochs\": epochs,\n",
        "            \"lr\": lr,\n",
        "            \"optimizer\":optimizer,\n",
        "            \"momentum\":momentum,\n",
        "            \"model\": model,\n",
        "        },\n",
        "    )\n",
        "\n",
        "    eval_plugin = EvaluationPlugin(\n",
        "        accuracy_metrics(\n",
        "            minibatch=False,\n",
        "            epoch=True,\n",
        "            epoch_running=False,\n",
        "            experience=True,\n",
        "            stream=True,\n",
        "            trained_experience=True\n",
        "        ),\n",
        "        loss_metrics(\n",
        "            minibatch=False,\n",
        "            epoch=False,\n",
        "            epoch_running=True,\n",
        "            experience=False,\n",
        "            stream=False,\n",
        "        ),\n",
        "        forgetting_metrics(experience=True, stream=True),\n",
        "        WeightCheckpoint(),\n",
        "        loggers=[interactive_logger, wandb_logger],\n",
        "    )\n",
        "    plugin = EarlyStoppingPlugin(patience= 3, val_stream_name=\"eval_phase/test_stream/Task000\", metric_name=\"Accuracy_On_Trained_Experiences\", mode=\"max\")\n",
        "    cl_strategy = EWC(model=model, optimizer=optimizer, criterion=criterion, ewc_lambda=ewc_lambda.item(), mode=\"separate\",train_mb_size=batch_size, train_epochs=epochs, eval_mb_size=batch_size, device=\"cuda\", evaluator=eval_plugin)\n",
        "    results = []\n",
        "    for experience in benchmark.train_stream:\n",
        "        print(\"Start of experience: \", experience.current_experience)\n",
        "        print(\"Current Classes: \", experience.classes_in_this_experience)\n",
        "\n",
        "        cl_strategy.train(experience)\n",
        "        print('Training completed')\n",
        "\n",
        "        print('Computing accuracy on the whole test set')\n",
        "        results.append(cl_strategy.eval(benchmark.test_stream))\n",
        "    del model"
      ],
      "metadata": {
        "colab": {
          "base_uri": "https://localhost:8080/",
          "height": 1000,
          "referenced_widgets": [
            "1982e6688da346e68fdb84cea389d4f5",
            "db871f1b8b2740819a330776cc18c1e5",
            "d8504be0ae874ace85d90a138a160ca7",
            "d147a907845a480d937bd1a9c736e986",
            "ad410cbf3cfa454b9210ce64ee9b0ecb",
            "77d22b9d315642dba9aa8c39dcb173ad",
            "2ba00f37f7624fdb9ba0929d8ed7fbdb",
            "76fb2436236145e5921679469ede9ece",
            "f435a6a0acc3452da8c972b3c99ce765",
            "0113a6003fa549dd9e5e7588b99ee3a0",
            "611aa8aafc8042768673e56ae7f8838f",
            "8acb24d24c3b43cd97746ba70d613e93",
            "984fe2d3a7874fb4a9b0c670ef41f105",
            "b43dbefea8ce4078b3b1d3a5837ecfc3",
            "7fe0cb2e1a01411d8e4331d13bf53370",
            "ec86e1a5c4c14e04bafd30c4e57adeea",
            "f718fa74648449bc9cd068047a39e1ab",
            "35699ab31fb24dd9933fabc34a65999b",
            "e62bc481f05d4813bdff3a3f10e24f7b",
            "bee7de15e22a44f58af386a3bd9d5326",
            "a28ecbaba50840d8b4116da7cd3a2116",
            "60987ea9a30b410e93b476ea4fc73e86",
            "f000d9b3d5a94c37a4189d511ffb3e18",
            "d819b808f02140f7b9bfe974c02bc1df",
            "17c98b852b8f4dd0a49aa5b7b8b36072",
            "26f7f8728ffd4f299cada48341237616",
            "c8509559e94047ad86538e5d038a5cce",
            "d3205ee05ce541508e021dcc31bebc4c",
            "b3b2c81d8596487d8de69d2eb50526e2",
            "1d067229980e43578e1d9ea797ce2ae5",
            "0cc92133874c42f5ac96e4bb40ab954c",
            "8a401b95a5214f2489f7da5fe7d354c2",
            "8fc870755a034df68b594dc6662612fa",
            "b08e67265bc845d887381294daa09d4c",
            "13d57e542ad7486ca90a80fbb84394c3",
            "8efff5e656454a269532f8c3be3387c3",
            "31e8a46a879a4f8794bd13fb1ac2d5b7",
            "6064bd9b1d1a4ab58fda6e24abf63d78",
            "5b6bd48c0b55425baf8d5c870dd2af1d",
            "9617147df31141e59e2dcfedaeab0089",
            "d7220169dbb94c6c9c975d233074f448",
            "fa8910158ed14df89ce75dc44fd87d10",
            "efa3679f39644f818a159ceeb03480ca",
            "b4afbabdd93d49fd920dac843dc0372a",
            "02bb1e1f5b4a4b3f913d7c3ed6209d51",
            "79a9f1da6ce34ee6bff990e28711d9ef",
            "303c12d0df384b62a9f2773bb06c6f38",
            "e0e4eb64c2e84497b806007b48b1555c",
            "5d6bfa4acdf14b4c8f0ead87ad74795c",
            "fc5134b9df5d40ffa3cb19bb7ff2bf00",
            "44da3d9f18d54ce0b32dabc44a6b24a4",
            "296eb16b7f374df0ad75942d11ce0139",
            "45c0915fe0474653942a5991fc13ff82",
            "d8c84ef629824c87bbee354a1e5c0280",
            "90628df31eab4300a0438a819617cf39",
            "68ef6533e3c3459cab34f2549e76bc67",
            "b8d34dec37b841c585774fc37d31134d",
            "36d7c5fbd7cb4ffb9b14cabf124d7c3d",
            "dcbec7cf79c4481cac4ceb4c7443be22",
            "34645e2cfb0446a1ba4233e4bc491943",
            "a20a38156c154231bf3cd85d65b0e6c6",
            "c70df5316eb04529a2f5f0f99b9a0feb",
            "040a781acbe64a2ab6e91ef2d55ad958",
            "a17242d4e0914e9f910057cc91d2867d",
            "a98ddac0240e4201b018624936bc7cba",
            "737e5071a04d45f09e28a8e0c12b8e98",
            "42b0aa8e4e8244379fe1249548dddcc1",
            "f9f1448de0b24df59e1c9f9a402b968e",
            "1f8bafd2ddba41ebadfe69db019f3d9b",
            "c0caa9158bd7416dbc637d93a2a8089d",
            "6a9b7b1736a94b3892038aaed2c4c516",
            "c0edff8588c643178938d1df2ca249fe",
            "c47f405b18a3479b9d4951cdf2d12f24",
            "568cab38cd2d4baab3351f6d5779f95c",
            "edfe10cfcea84696afb52588f13565e0",
            "f3999d4183dd4a41bbfd877d413e01b6",
            "b3341e2b34f0460ea5838416017ddfcf",
            "f1f7ab0500a4498486ff37b8237e725b",
            "a52c1c2f4ce14165ad70a45b68015288",
            "8b9858d9788647f3bb6babdbe91c3af4"
          ]
        },
        "id": "wpLnSoPqgR5a",
        "outputId": "bde68507-5bbe-4bc1-b262-4da9399e8c61"
      },
      "execution_count": null,
      "outputs": [
        {
          "output_type": "display_data",
          "data": {
            "text/plain": [
              "<IPython.core.display.HTML object>"
            ],
            "text/html": [
              "Finishing last run (ID:hv0wcbey) before initializing another..."
            ]
          },
          "metadata": {}
        },
        {
          "output_type": "display_data",
          "data": {
            "text/plain": [
              "VBox(children=(Label(value='0.799 MB of 0.799 MB uploaded\\r'), FloatProgress(value=1.0, max=1.0)))"
            ],
            "application/vnd.jupyter.widget-view+json": {
              "version_major": 2,
              "version_minor": 0,
              "model_id": "1982e6688da346e68fdb84cea389d4f5"
            }
          },
          "metadata": {}
        },
        {
          "output_type": "display_data",
          "data": {
            "text/plain": [
              "<IPython.core.display.HTML object>"
            ],
            "text/html": [
              "<style>\n",
              "    table.wandb td:nth-child(1) { padding: 0 10px; text-align: left ; width: auto;} td:nth-child(2) {text-align: left ; width: 100%}\n",
              "    .wandb-row { display: flex; flex-direction: row; flex-wrap: wrap; justify-content: flex-start; width: 100% }\n",
              "    .wandb-col { display: flex; flex-direction: column; flex-basis: 100%; flex: 1; padding: 10px; }\n",
              "    </style>\n",
              "<div class=\"wandb-row\"><div class=\"wandb-col\"><h3>Run history:</h3><br/><table class=\"wandb\"><tr><td>Accuracy_On_Trained_Experiences/eval_phase/test_stream/Task000</td><td>█▃▂▁▁</td></tr><tr><td>ExperienceForgetting/eval_phase/test_stream/Task000/Exp000</td><td>██▁▁</td></tr><tr><td>ExperienceForgetting/eval_phase/test_stream/Task000/Exp001</td><td>▁▁▁</td></tr><tr><td>ExperienceForgetting/eval_phase/test_stream/Task000/Exp002</td><td>▁▁</td></tr><tr><td>ExperienceForgetting/eval_phase/test_stream/Task000/Exp003</td><td>▁</td></tr><tr><td>RunningLoss_Epoch/train_phase/train_stream/Task000</td><td>▁▁▁▁▁▁▁▁▁▁▁▁▁▁▁▁▁▁▁▁▁▁▁▁█               </td></tr><tr><td>StreamForgetting/eval_phase/test_stream</td><td>▁█▇▅▄</td></tr><tr><td>Top1_Acc_Epoch/train_phase/train_stream/Task000</td><td>█▆▆▁▁</td></tr><tr><td>Top1_Acc_Exp/eval_phase/test_stream/Task000/Exp000</td><td>█▁▁▅▅</td></tr><tr><td>Top1_Acc_Exp/eval_phase/test_stream/Task000/Exp001</td><td>▁█▁▁▁</td></tr><tr><td>Top1_Acc_Exp/eval_phase/test_stream/Task000/Exp002</td><td>▁▁█▁▁</td></tr><tr><td>Top1_Acc_Exp/eval_phase/test_stream/Task000/Exp003</td><td>▁▁▁▁▁</td></tr><tr><td>Top1_Acc_Exp/eval_phase/test_stream/Task000/Exp004</td><td>▁▁▁▁▁</td></tr><tr><td>Top1_Acc_Stream/eval_phase/test_stream/Task000</td><td>█▂▄▁▁</td></tr><tr><td>TrainingExperience</td><td>▁▃▅▆█</td></tr></table><br/></div><div class=\"wandb-col\"><h3>Run summary:</h3><br/><table class=\"wandb\"><tr><td>Accuracy_On_Trained_Experiences/eval_phase/test_stream/Task000</td><td>0.1</td></tr><tr><td>ExperienceForgetting/eval_phase/test_stream/Task000/Exp000</td><td>0.3455</td></tr><tr><td>ExperienceForgetting/eval_phase/test_stream/Task000/Exp001</td><td>0.527</td></tr><tr><td>ExperienceForgetting/eval_phase/test_stream/Task000/Exp002</td><td>0.6535</td></tr><tr><td>ExperienceForgetting/eval_phase/test_stream/Task000/Exp003</td><td>0.0</td></tr><tr><td>RunningLoss_Epoch/train_phase/train_stream/Task000</td><td>nan</td></tr><tr><td>StreamForgetting/eval_phase/test_stream</td><td>0.3815</td></tr><tr><td>Top1_Acc_Epoch/train_phase/train_stream/Task000</td><td>0.0</td></tr><tr><td>Top1_Acc_Exp/eval_phase/test_stream/Task000/Exp000</td><td>0.5</td></tr><tr><td>Top1_Acc_Exp/eval_phase/test_stream/Task000/Exp001</td><td>0.0</td></tr><tr><td>Top1_Acc_Exp/eval_phase/test_stream/Task000/Exp002</td><td>0.0</td></tr><tr><td>Top1_Acc_Exp/eval_phase/test_stream/Task000/Exp003</td><td>0.0</td></tr><tr><td>Top1_Acc_Exp/eval_phase/test_stream/Task000/Exp004</td><td>0.0</td></tr><tr><td>Top1_Acc_Stream/eval_phase/test_stream/Task000</td><td>0.1</td></tr><tr><td>TrainingExperience</td><td>4</td></tr></table><br/></div></div>"
            ]
          },
          "metadata": {}
        },
        {
          "output_type": "display_data",
          "data": {
            "text/plain": [
              "<IPython.core.display.HTML object>"
            ],
            "text/html": [
              " View run <strong style=\"color:#cdcd00\">avalanche_2024_04_20_13_32_06</strong> at: <a href='https://wandb.ai/fabianfuchs/continual%20learning/runs/hv0wcbey' target=\"_blank\">https://wandb.ai/fabianfuchs/continual%20learning/runs/hv0wcbey</a><br/> View project at: <a href='https://wandb.ai/fabianfuchs/continual%20learning' target=\"_blank\">https://wandb.ai/fabianfuchs/continual%20learning</a><br/>Synced 5 W&B file(s), 0 media file(s), 8 artifact file(s) and 1 other file(s)"
            ]
          },
          "metadata": {}
        },
        {
          "output_type": "display_data",
          "data": {
            "text/plain": [
              "<IPython.core.display.HTML object>"
            ],
            "text/html": [
              "Find logs at: <code>./wandb/run-20240420_133206-hv0wcbey/logs</code>"
            ]
          },
          "metadata": {}
        },
        {
          "output_type": "display_data",
          "data": {
            "text/plain": [
              "<IPython.core.display.HTML object>"
            ],
            "text/html": [
              "Successfully finished last run (ID:hv0wcbey). Initializing new run:<br/>"
            ]
          },
          "metadata": {}
        },
        {
          "output_type": "display_data",
          "data": {
            "text/plain": [
              "<IPython.core.display.HTML object>"
            ],
            "text/html": [
              "Tracking run with wandb version 0.16.6"
            ]
          },
          "metadata": {}
        },
        {
          "output_type": "display_data",
          "data": {
            "text/plain": [
              "<IPython.core.display.HTML object>"
            ],
            "text/html": [
              "Run data is saved locally in <code>/content/wandb/run-20240420_133646-76fkll4h</code>"
            ]
          },
          "metadata": {}
        },
        {
          "output_type": "display_data",
          "data": {
            "text/plain": [
              "<IPython.core.display.HTML object>"
            ],
            "text/html": [
              "Syncing run <strong><a href='https://wandb.ai/fabianfuchs/continual%20learning/runs/76fkll4h' target=\"_blank\">avalanche_2024_04_20_13_36_45</a></strong> to <a href='https://wandb.ai/fabianfuchs/continual%20learning' target=\"_blank\">Weights & Biases</a> (<a href='https://wandb.me/run' target=\"_blank\">docs</a>)<br/>"
            ]
          },
          "metadata": {}
        },
        {
          "output_type": "display_data",
          "data": {
            "text/plain": [
              "<IPython.core.display.HTML object>"
            ],
            "text/html": [
              " View project at <a href='https://wandb.ai/fabianfuchs/continual%20learning' target=\"_blank\">https://wandb.ai/fabianfuchs/continual%20learning</a>"
            ]
          },
          "metadata": {}
        },
        {
          "output_type": "display_data",
          "data": {
            "text/plain": [
              "<IPython.core.display.HTML object>"
            ],
            "text/html": [
              " View run at <a href='https://wandb.ai/fabianfuchs/continual%20learning/runs/76fkll4h' target=\"_blank\">https://wandb.ai/fabianfuchs/continual%20learning/runs/76fkll4h</a>"
            ]
          },
          "metadata": {}
        },
        {
          "output_type": "stream",
          "name": "stdout",
          "text": [
            "Start of experience:  0\n",
            "Current Classes:  [0, 1]\n",
            "-- >> Start of training phase << --\n",
            "100%|██████████| 313/313 [00:08<00:00, 36.35it/s]\n",
            "Epoch 0 ended.\n",
            "\tRunningLoss_Epoch/train_phase/train_stream/Task000 = 0.7437\n",
            "\tTop1_Acc_Epoch/train_phase/train_stream/Task000 = 0.6364\n",
            "-- >> End of training phase << --\n",
            "Training completed\n",
            "Computing accuracy on the whole test set\n",
            "-- >> Start of eval phase << --\n",
            "-- Starting eval on experience 0 (Task 0) from test stream --\n",
            "100%|██████████| 63/63 [00:00<00:00, 64.33it/s]\n",
            "> Eval on experience 0 (Task 0) from test stream ended.\n",
            "\tTop1_Acc_Exp/eval_phase/test_stream/Task000/Exp000 = 0.8335\n",
            "-- Starting eval on experience 1 (Task 0) from test stream --\n",
            "100%|██████████| 63/63 [00:00<00:00, 64.54it/s]\n",
            "> Eval on experience 1 (Task 0) from test stream ended.\n",
            "\tTop1_Acc_Exp/eval_phase/test_stream/Task000/Exp001 = 0.0000\n",
            "-- Starting eval on experience 2 (Task 0) from test stream --\n",
            "100%|██████████| 63/63 [00:01<00:00, 57.75it/s]\n",
            "> Eval on experience 2 (Task 0) from test stream ended.\n",
            "\tTop1_Acc_Exp/eval_phase/test_stream/Task000/Exp002 = 0.0000\n",
            "-- Starting eval on experience 3 (Task 0) from test stream --\n",
            "100%|██████████| 63/63 [00:01<00:00, 50.71it/s]\n",
            "> Eval on experience 3 (Task 0) from test stream ended.\n",
            "\tTop1_Acc_Exp/eval_phase/test_stream/Task000/Exp003 = 0.0000\n",
            "-- Starting eval on experience 4 (Task 0) from test stream --\n",
            "100%|██████████| 63/63 [00:01<00:00, 48.14it/s]\n",
            "> Eval on experience 4 (Task 0) from test stream ended.\n",
            "\tTop1_Acc_Exp/eval_phase/test_stream/Task000/Exp004 = 0.0000\n",
            "-- >> End of eval phase << --\n",
            "\tAccuracy_On_Trained_Experiences/eval_phase/test_stream/Task000 = 0.8335\n",
            "\tStreamForgetting/eval_phase/test_stream = 0.0000\n",
            "\tTop1_Acc_Stream/eval_phase/test_stream/Task000 = 0.1667\n",
            "Start of experience:  1\n",
            "Current Classes:  [2, 3]\n",
            "-- >> Start of training phase << --\n",
            "100%|██████████| 313/313 [00:07<00:00, 39.92it/s]\n",
            "Epoch 0 ended.\n",
            "\tRunningLoss_Epoch/train_phase/train_stream/Task000 = 1.1262\n",
            "\tTop1_Acc_Epoch/train_phase/train_stream/Task000 = 0.4880\n",
            "-- >> End of training phase << --\n",
            "Training completed\n",
            "Computing accuracy on the whole test set\n",
            "-- >> Start of eval phase << --\n",
            "-- Starting eval on experience 0 (Task 0) from test stream --\n",
            "100%|██████████| 63/63 [00:00<00:00, 63.41it/s]\n",
            "> Eval on experience 0 (Task 0) from test stream ended.\n",
            "\tExperienceForgetting/eval_phase/test_stream/Task000/Exp000 = 0.8335\n",
            "\tTop1_Acc_Exp/eval_phase/test_stream/Task000/Exp000 = 0.0000\n",
            "-- Starting eval on experience 1 (Task 0) from test stream --\n",
            "100%|██████████| 63/63 [00:01<00:00, 62.13it/s]\n",
            "> Eval on experience 1 (Task 0) from test stream ended.\n",
            "\tTop1_Acc_Exp/eval_phase/test_stream/Task000/Exp001 = 0.6525\n",
            "-- Starting eval on experience 2 (Task 0) from test stream --\n",
            "100%|██████████| 63/63 [00:00<00:00, 63.00it/s]\n",
            "> Eval on experience 2 (Task 0) from test stream ended.\n",
            "\tTop1_Acc_Exp/eval_phase/test_stream/Task000/Exp002 = 0.0000\n",
            "-- Starting eval on experience 3 (Task 0) from test stream --\n",
            "100%|██████████| 63/63 [00:01<00:00, 61.64it/s]\n",
            "> Eval on experience 3 (Task 0) from test stream ended.\n",
            "\tTop1_Acc_Exp/eval_phase/test_stream/Task000/Exp003 = 0.0000\n",
            "-- Starting eval on experience 4 (Task 0) from test stream --\n",
            "100%|██████████| 63/63 [00:01<00:00, 62.53it/s]\n",
            "> Eval on experience 4 (Task 0) from test stream ended.\n",
            "\tTop1_Acc_Exp/eval_phase/test_stream/Task000/Exp004 = 0.0000\n",
            "-- >> End of eval phase << --\n",
            "\tAccuracy_On_Trained_Experiences/eval_phase/test_stream/Task000 = 0.3262\n",
            "\tStreamForgetting/eval_phase/test_stream = 0.8335\n",
            "\tTop1_Acc_Stream/eval_phase/test_stream/Task000 = 0.1305\n",
            "Start of experience:  2\n",
            "Current Classes:  [4, 5]\n",
            "-- >> Start of training phase << --\n",
            "100%|██████████| 313/313 [00:09<00:00, 33.82it/s]\n",
            "Epoch 0 ended.\n",
            "\tRunningLoss_Epoch/train_phase/train_stream/Task000 = 1.4036\n",
            "\tTop1_Acc_Epoch/train_phase/train_stream/Task000 = 0.4833\n",
            "-- >> End of training phase << --\n",
            "Training completed\n",
            "Computing accuracy on the whole test set\n",
            "-- >> Start of eval phase << --\n",
            "-- Starting eval on experience 0 (Task 0) from test stream --\n",
            "100%|██████████| 63/63 [00:00<00:00, 63.20it/s]\n",
            "> Eval on experience 0 (Task 0) from test stream ended.\n",
            "\tExperienceForgetting/eval_phase/test_stream/Task000/Exp000 = 0.8335\n",
            "\tTop1_Acc_Exp/eval_phase/test_stream/Task000/Exp000 = 0.0000\n",
            "-- Starting eval on experience 1 (Task 0) from test stream --\n",
            "100%|██████████| 63/63 [00:01<00:00, 35.97it/s]\n",
            "> Eval on experience 1 (Task 0) from test stream ended.\n",
            "\tExperienceForgetting/eval_phase/test_stream/Task000/Exp001 = 0.6525\n",
            "\tTop1_Acc_Exp/eval_phase/test_stream/Task000/Exp001 = 0.0000\n",
            "-- Starting eval on experience 2 (Task 0) from test stream --\n",
            "100%|██████████| 63/63 [00:01<00:00, 32.40it/s]\n",
            "> Eval on experience 2 (Task 0) from test stream ended.\n",
            "\tTop1_Acc_Exp/eval_phase/test_stream/Task000/Exp002 = 0.6785\n",
            "-- Starting eval on experience 3 (Task 0) from test stream --\n",
            "100%|██████████| 63/63 [00:01<00:00, 62.12it/s]\n",
            "> Eval on experience 3 (Task 0) from test stream ended.\n",
            "\tTop1_Acc_Exp/eval_phase/test_stream/Task000/Exp003 = 0.0000\n",
            "-- Starting eval on experience 4 (Task 0) from test stream --\n",
            "100%|██████████| 63/63 [00:00<00:00, 63.59it/s]\n",
            "> Eval on experience 4 (Task 0) from test stream ended.\n",
            "\tTop1_Acc_Exp/eval_phase/test_stream/Task000/Exp004 = 0.0000\n",
            "-- >> End of eval phase << --\n",
            "\tAccuracy_On_Trained_Experiences/eval_phase/test_stream/Task000 = 0.2262\n",
            "\tStreamForgetting/eval_phase/test_stream = 0.7430\n",
            "\tTop1_Acc_Stream/eval_phase/test_stream/Task000 = 0.1357\n",
            "Start of experience:  3\n",
            "Current Classes:  [6, 7]\n",
            "-- >> Start of training phase << --\n",
            "100%|██████████| 313/313 [00:09<00:00, 32.70it/s]\n",
            "Epoch 0 ended.\n",
            "\tRunningLoss_Epoch/train_phase/train_stream/Task000 = 1.7664\n",
            "\tTop1_Acc_Epoch/train_phase/train_stream/Task000 = 0.5173\n",
            "-- >> End of training phase << --\n",
            "Training completed\n",
            "Computing accuracy on the whole test set\n",
            "-- >> Start of eval phase << --\n",
            "-- Starting eval on experience 0 (Task 0) from test stream --\n",
            "100%|██████████| 63/63 [00:01<00:00, 62.34it/s]\n",
            "> Eval on experience 0 (Task 0) from test stream ended.\n",
            "\tExperienceForgetting/eval_phase/test_stream/Task000/Exp000 = 0.8335\n",
            "\tTop1_Acc_Exp/eval_phase/test_stream/Task000/Exp000 = 0.0000\n",
            "-- Starting eval on experience 1 (Task 0) from test stream --\n",
            "100%|██████████| 63/63 [00:00<00:00, 63.37it/s]\n",
            "> Eval on experience 1 (Task 0) from test stream ended.\n",
            "\tExperienceForgetting/eval_phase/test_stream/Task000/Exp001 = 0.6525\n",
            "\tTop1_Acc_Exp/eval_phase/test_stream/Task000/Exp001 = 0.0000\n",
            "-- Starting eval on experience 2 (Task 0) from test stream --\n",
            "100%|██████████| 63/63 [00:01<00:00, 60.14it/s]\n",
            "> Eval on experience 2 (Task 0) from test stream ended.\n",
            "\tExperienceForgetting/eval_phase/test_stream/Task000/Exp002 = 0.6785\n",
            "\tTop1_Acc_Exp/eval_phase/test_stream/Task000/Exp002 = 0.0000\n",
            "-- Starting eval on experience 3 (Task 0) from test stream --\n",
            "100%|██████████| 63/63 [00:01<00:00, 61.62it/s]\n",
            "> Eval on experience 3 (Task 0) from test stream ended.\n",
            "\tTop1_Acc_Exp/eval_phase/test_stream/Task000/Exp003 = 0.7615\n",
            "-- Starting eval on experience 4 (Task 0) from test stream --\n",
            "100%|██████████| 63/63 [00:01<00:00, 53.09it/s]\n",
            "> Eval on experience 4 (Task 0) from test stream ended.\n",
            "\tTop1_Acc_Exp/eval_phase/test_stream/Task000/Exp004 = 0.0000\n",
            "-- >> End of eval phase << --\n",
            "\tAccuracy_On_Trained_Experiences/eval_phase/test_stream/Task000 = 0.1904\n",
            "\tStreamForgetting/eval_phase/test_stream = 0.7215\n",
            "\tTop1_Acc_Stream/eval_phase/test_stream/Task000 = 0.1523\n",
            "Start of experience:  4\n",
            "Current Classes:  [8, 9]\n",
            "-- >> Start of training phase << --\n",
            "100%|██████████| 313/313 [00:10<00:00, 31.30it/s]\n",
            "Epoch 0 ended.\n",
            "\tRunningLoss_Epoch/train_phase/train_stream/Task000 = nan\n",
            "\tTop1_Acc_Epoch/train_phase/train_stream/Task000 = 0.0112\n",
            "-- >> End of training phase << --\n",
            "Training completed\n",
            "Computing accuracy on the whole test set\n",
            "-- >> Start of eval phase << --\n",
            "-- Starting eval on experience 0 (Task 0) from test stream --\n",
            "100%|██████████| 63/63 [00:01<00:00, 61.05it/s]\n",
            "> Eval on experience 0 (Task 0) from test stream ended.\n",
            "\tExperienceForgetting/eval_phase/test_stream/Task000/Exp000 = 0.3335\n",
            "\tTop1_Acc_Exp/eval_phase/test_stream/Task000/Exp000 = 0.5000\n",
            "-- Starting eval on experience 1 (Task 0) from test stream --\n",
            "100%|██████████| 63/63 [00:01<00:00, 60.41it/s]\n",
            "> Eval on experience 1 (Task 0) from test stream ended.\n",
            "\tExperienceForgetting/eval_phase/test_stream/Task000/Exp001 = 0.6525\n",
            "\tTop1_Acc_Exp/eval_phase/test_stream/Task000/Exp001 = 0.0000\n",
            "-- Starting eval on experience 2 (Task 0) from test stream --\n",
            "100%|██████████| 63/63 [00:01<00:00, 61.46it/s]\n",
            "> Eval on experience 2 (Task 0) from test stream ended.\n",
            "\tExperienceForgetting/eval_phase/test_stream/Task000/Exp002 = 0.6785\n",
            "\tTop1_Acc_Exp/eval_phase/test_stream/Task000/Exp002 = 0.0000\n",
            "-- Starting eval on experience 3 (Task 0) from test stream --\n",
            "100%|██████████| 63/63 [00:01<00:00, 62.14it/s]\n",
            "> Eval on experience 3 (Task 0) from test stream ended.\n",
            "\tExperienceForgetting/eval_phase/test_stream/Task000/Exp003 = 0.7615\n",
            "\tTop1_Acc_Exp/eval_phase/test_stream/Task000/Exp003 = 0.0000\n",
            "-- Starting eval on experience 4 (Task 0) from test stream --\n",
            "100%|██████████| 63/63 [00:01<00:00, 61.36it/s]\n",
            "> Eval on experience 4 (Task 0) from test stream ended.\n",
            "\tTop1_Acc_Exp/eval_phase/test_stream/Task000/Exp004 = 0.0000\n",
            "-- >> End of eval phase << --\n",
            "\tAccuracy_On_Trained_Experiences/eval_phase/test_stream/Task000 = 0.1000\n",
            "\tStreamForgetting/eval_phase/test_stream = 0.6065\n",
            "\tTop1_Acc_Stream/eval_phase/test_stream/Task000 = 0.1000\n"
          ]
        },
        {
          "output_type": "display_data",
          "data": {
            "text/plain": [
              "<IPython.core.display.HTML object>"
            ],
            "text/html": [
              "Finishing last run (ID:76fkll4h) before initializing another..."
            ]
          },
          "metadata": {}
        },
        {
          "output_type": "display_data",
          "data": {
            "text/plain": [
              "VBox(children=(Label(value='0.654 MB of 0.654 MB uploaded\\r'), FloatProgress(value=1.0, max=1.0)))"
            ],
            "application/vnd.jupyter.widget-view+json": {
              "version_major": 2,
              "version_minor": 0,
              "model_id": "f435a6a0acc3452da8c972b3c99ce765"
            }
          },
          "metadata": {}
        },
        {
          "output_type": "display_data",
          "data": {
            "text/plain": [
              "<IPython.core.display.HTML object>"
            ],
            "text/html": [
              "<style>\n",
              "    table.wandb td:nth-child(1) { padding: 0 10px; text-align: left ; width: auto;} td:nth-child(2) {text-align: left ; width: 100%}\n",
              "    .wandb-row { display: flex; flex-direction: row; flex-wrap: wrap; justify-content: flex-start; width: 100% }\n",
              "    .wandb-col { display: flex; flex-direction: column; flex-basis: 100%; flex: 1; padding: 10px; }\n",
              "    </style>\n",
              "<div class=\"wandb-row\"><div class=\"wandb-col\"><h3>Run history:</h3><br/><table class=\"wandb\"><tr><td>Accuracy_On_Trained_Experiences/eval_phase/test_stream/Task000</td><td>█▃▂▂▁</td></tr><tr><td>ExperienceForgetting/eval_phase/test_stream/Task000/Exp000</td><td>███▁</td></tr><tr><td>ExperienceForgetting/eval_phase/test_stream/Task000/Exp001</td><td>▁▁▁</td></tr><tr><td>ExperienceForgetting/eval_phase/test_stream/Task000/Exp002</td><td>▁▁</td></tr><tr><td>ExperienceForgetting/eval_phase/test_stream/Task000/Exp003</td><td>▁</td></tr><tr><td>RunningLoss_Epoch/train_phase/train_stream/Task000</td><td>▁▁▁▁▁▁▁▁▁▁▁▁▁▁▁▁▁▁▁▁▁▁▁▁▁▁▁▁▁▁▁▁█       </td></tr><tr><td>StreamForgetting/eval_phase/test_stream</td><td>▁█▇▇▆</td></tr><tr><td>Top1_Acc_Epoch/train_phase/train_stream/Task000</td><td>█▆▆▇▁</td></tr><tr><td>Top1_Acc_Exp/eval_phase/test_stream/Task000/Exp000</td><td>█▁▁▁▅</td></tr><tr><td>Top1_Acc_Exp/eval_phase/test_stream/Task000/Exp001</td><td>▁█▁▁▁</td></tr><tr><td>Top1_Acc_Exp/eval_phase/test_stream/Task000/Exp002</td><td>▁▁█▁▁</td></tr><tr><td>Top1_Acc_Exp/eval_phase/test_stream/Task000/Exp003</td><td>▁▁▁█▁</td></tr><tr><td>Top1_Acc_Exp/eval_phase/test_stream/Task000/Exp004</td><td>▁▁▁▁▁</td></tr><tr><td>Top1_Acc_Stream/eval_phase/test_stream/Task000</td><td>█▄▅▆▁</td></tr><tr><td>TrainingExperience</td><td>▁▃▅▆█</td></tr></table><br/></div><div class=\"wandb-col\"><h3>Run summary:</h3><br/><table class=\"wandb\"><tr><td>Accuracy_On_Trained_Experiences/eval_phase/test_stream/Task000</td><td>0.1</td></tr><tr><td>ExperienceForgetting/eval_phase/test_stream/Task000/Exp000</td><td>0.3335</td></tr><tr><td>ExperienceForgetting/eval_phase/test_stream/Task000/Exp001</td><td>0.6525</td></tr><tr><td>ExperienceForgetting/eval_phase/test_stream/Task000/Exp002</td><td>0.6785</td></tr><tr><td>ExperienceForgetting/eval_phase/test_stream/Task000/Exp003</td><td>0.7615</td></tr><tr><td>RunningLoss_Epoch/train_phase/train_stream/Task000</td><td>nan</td></tr><tr><td>StreamForgetting/eval_phase/test_stream</td><td>0.6065</td></tr><tr><td>Top1_Acc_Epoch/train_phase/train_stream/Task000</td><td>0.0112</td></tr><tr><td>Top1_Acc_Exp/eval_phase/test_stream/Task000/Exp000</td><td>0.5</td></tr><tr><td>Top1_Acc_Exp/eval_phase/test_stream/Task000/Exp001</td><td>0.0</td></tr><tr><td>Top1_Acc_Exp/eval_phase/test_stream/Task000/Exp002</td><td>0.0</td></tr><tr><td>Top1_Acc_Exp/eval_phase/test_stream/Task000/Exp003</td><td>0.0</td></tr><tr><td>Top1_Acc_Exp/eval_phase/test_stream/Task000/Exp004</td><td>0.0</td></tr><tr><td>Top1_Acc_Stream/eval_phase/test_stream/Task000</td><td>0.1</td></tr><tr><td>TrainingExperience</td><td>4</td></tr></table><br/></div></div>"
            ]
          },
          "metadata": {}
        },
        {
          "output_type": "display_data",
          "data": {
            "text/plain": [
              "<IPython.core.display.HTML object>"
            ],
            "text/html": [
              " View run <strong style=\"color:#cdcd00\">avalanche_2024_04_20_13_36_45</strong> at: <a href='https://wandb.ai/fabianfuchs/continual%20learning/runs/76fkll4h' target=\"_blank\">https://wandb.ai/fabianfuchs/continual%20learning/runs/76fkll4h</a><br/> View project at: <a href='https://wandb.ai/fabianfuchs/continual%20learning' target=\"_blank\">https://wandb.ai/fabianfuchs/continual%20learning</a><br/>Synced 5 W&B file(s), 0 media file(s), 4 artifact file(s) and 0 other file(s)"
            ]
          },
          "metadata": {}
        },
        {
          "output_type": "display_data",
          "data": {
            "text/plain": [
              "<IPython.core.display.HTML object>"
            ],
            "text/html": [
              "Find logs at: <code>./wandb/run-20240420_133646-76fkll4h/logs</code>"
            ]
          },
          "metadata": {}
        },
        {
          "output_type": "display_data",
          "data": {
            "text/plain": [
              "<IPython.core.display.HTML object>"
            ],
            "text/html": [
              "Successfully finished last run (ID:76fkll4h). Initializing new run:<br/>"
            ]
          },
          "metadata": {}
        },
        {
          "output_type": "display_data",
          "data": {
            "text/plain": [
              "<IPython.core.display.HTML object>"
            ],
            "text/html": [
              "Tracking run with wandb version 0.16.6"
            ]
          },
          "metadata": {}
        },
        {
          "output_type": "display_data",
          "data": {
            "text/plain": [
              "<IPython.core.display.HTML object>"
            ],
            "text/html": [
              "Run data is saved locally in <code>/content/wandb/run-20240420_133835-lfohe3ox</code>"
            ]
          },
          "metadata": {}
        },
        {
          "output_type": "display_data",
          "data": {
            "text/plain": [
              "<IPython.core.display.HTML object>"
            ],
            "text/html": [
              "Syncing run <strong><a href='https://wandb.ai/fabianfuchs/continual%20learning/runs/lfohe3ox' target=\"_blank\">avalanche_2024_04_20_13_38_35</a></strong> to <a href='https://wandb.ai/fabianfuchs/continual%20learning' target=\"_blank\">Weights & Biases</a> (<a href='https://wandb.me/run' target=\"_blank\">docs</a>)<br/>"
            ]
          },
          "metadata": {}
        },
        {
          "output_type": "display_data",
          "data": {
            "text/plain": [
              "<IPython.core.display.HTML object>"
            ],
            "text/html": [
              " View project at <a href='https://wandb.ai/fabianfuchs/continual%20learning' target=\"_blank\">https://wandb.ai/fabianfuchs/continual%20learning</a>"
            ]
          },
          "metadata": {}
        },
        {
          "output_type": "display_data",
          "data": {
            "text/plain": [
              "<IPython.core.display.HTML object>"
            ],
            "text/html": [
              " View run at <a href='https://wandb.ai/fabianfuchs/continual%20learning/runs/lfohe3ox' target=\"_blank\">https://wandb.ai/fabianfuchs/continual%20learning/runs/lfohe3ox</a>"
            ]
          },
          "metadata": {}
        },
        {
          "output_type": "stream",
          "name": "stdout",
          "text": [
            "Start of experience:  0\n",
            "Current Classes:  [0, 1]\n",
            "-- >> Start of training phase << --\n",
            "100%|██████████| 313/313 [00:07<00:00, 40.86it/s]\n",
            "Epoch 0 ended.\n",
            "\tRunningLoss_Epoch/train_phase/train_stream/Task000 = 0.7072\n",
            "\tTop1_Acc_Epoch/train_phase/train_stream/Task000 = 0.6579\n",
            "-- >> End of training phase << --\n",
            "Training completed\n",
            "Computing accuracy on the whole test set\n",
            "-- >> Start of eval phase << --\n",
            "-- Starting eval on experience 0 (Task 0) from test stream --\n",
            "100%|██████████| 63/63 [00:01<00:00, 58.66it/s]\n",
            "> Eval on experience 0 (Task 0) from test stream ended.\n",
            "\tTop1_Acc_Exp/eval_phase/test_stream/Task000/Exp000 = 0.7365\n",
            "-- Starting eval on experience 1 (Task 0) from test stream --\n",
            "100%|██████████| 63/63 [00:01<00:00, 59.94it/s]\n",
            "> Eval on experience 1 (Task 0) from test stream ended.\n",
            "\tTop1_Acc_Exp/eval_phase/test_stream/Task000/Exp001 = 0.0000\n",
            "-- Starting eval on experience 2 (Task 0) from test stream --\n",
            "100%|██████████| 63/63 [00:00<00:00, 63.68it/s]\n",
            "> Eval on experience 2 (Task 0) from test stream ended.\n",
            "\tTop1_Acc_Exp/eval_phase/test_stream/Task000/Exp002 = 0.0000\n",
            "-- Starting eval on experience 3 (Task 0) from test stream --\n",
            "100%|██████████| 63/63 [00:01<00:00, 61.54it/s]\n",
            "> Eval on experience 3 (Task 0) from test stream ended.\n",
            "\tTop1_Acc_Exp/eval_phase/test_stream/Task000/Exp003 = 0.0000\n",
            "-- Starting eval on experience 4 (Task 0) from test stream --\n",
            "100%|██████████| 63/63 [00:01<00:00, 61.51it/s]\n",
            "> Eval on experience 4 (Task 0) from test stream ended.\n",
            "\tTop1_Acc_Exp/eval_phase/test_stream/Task000/Exp004 = 0.0000\n",
            "-- >> End of eval phase << --\n",
            "\tAccuracy_On_Trained_Experiences/eval_phase/test_stream/Task000 = 0.7365\n",
            "\tStreamForgetting/eval_phase/test_stream = 0.0000\n",
            "\tTop1_Acc_Stream/eval_phase/test_stream/Task000 = 0.1473\n",
            "Start of experience:  1\n",
            "Current Classes:  [2, 3]\n",
            "-- >> Start of training phase << --\n",
            "100%|██████████| 313/313 [00:08<00:00, 36.09it/s]\n",
            "Epoch 0 ended.\n",
            "\tRunningLoss_Epoch/train_phase/train_stream/Task000 = nan\n",
            "\tTop1_Acc_Epoch/train_phase/train_stream/Task000 = 0.0047\n",
            "-- >> End of training phase << --\n",
            "Training completed\n",
            "Computing accuracy on the whole test set\n",
            "-- >> Start of eval phase << --\n",
            "-- Starting eval on experience 0 (Task 0) from test stream --\n",
            "100%|██████████| 63/63 [00:01<00:00, 51.52it/s]\n",
            "> Eval on experience 0 (Task 0) from test stream ended.\n",
            "\tExperienceForgetting/eval_phase/test_stream/Task000/Exp000 = 0.2365\n",
            "\tTop1_Acc_Exp/eval_phase/test_stream/Task000/Exp000 = 0.5000\n",
            "-- Starting eval on experience 1 (Task 0) from test stream --\n",
            "100%|██████████| 63/63 [00:01<00:00, 46.29it/s]\n",
            "> Eval on experience 1 (Task 0) from test stream ended.\n",
            "\tTop1_Acc_Exp/eval_phase/test_stream/Task000/Exp001 = 0.0000\n",
            "-- Starting eval on experience 2 (Task 0) from test stream --\n",
            "100%|██████████| 63/63 [00:01<00:00, 52.11it/s]\n",
            "> Eval on experience 2 (Task 0) from test stream ended.\n",
            "\tTop1_Acc_Exp/eval_phase/test_stream/Task000/Exp002 = 0.0000\n",
            "-- Starting eval on experience 3 (Task 0) from test stream --\n",
            "100%|██████████| 63/63 [00:00<00:00, 64.22it/s]\n",
            "> Eval on experience 3 (Task 0) from test stream ended.\n",
            "\tTop1_Acc_Exp/eval_phase/test_stream/Task000/Exp003 = 0.0000\n",
            "-- Starting eval on experience 4 (Task 0) from test stream --\n",
            "100%|██████████| 63/63 [00:01<00:00, 61.53it/s]\n",
            "> Eval on experience 4 (Task 0) from test stream ended.\n",
            "\tTop1_Acc_Exp/eval_phase/test_stream/Task000/Exp004 = 0.0000\n",
            "-- >> End of eval phase << --\n",
            "\tAccuracy_On_Trained_Experiences/eval_phase/test_stream/Task000 = 0.2500\n",
            "\tStreamForgetting/eval_phase/test_stream = 0.2365\n",
            "\tTop1_Acc_Stream/eval_phase/test_stream/Task000 = 0.1000\n",
            "Start of experience:  2\n",
            "Current Classes:  [4, 5]\n",
            "-- >> Start of training phase << --\n",
            "100%|██████████| 313/313 [00:08<00:00, 34.87it/s]\n",
            "Epoch 0 ended.\n",
            "\tRunningLoss_Epoch/train_phase/train_stream/Task000 = nan\n",
            "\tTop1_Acc_Epoch/train_phase/train_stream/Task000 = 0.0000\n",
            "-- >> End of training phase << --\n",
            "Training completed\n",
            "Computing accuracy on the whole test set\n",
            "-- >> Start of eval phase << --\n",
            "-- Starting eval on experience 0 (Task 0) from test stream --\n",
            "100%|██████████| 63/63 [00:01<00:00, 59.40it/s]\n",
            "> Eval on experience 0 (Task 0) from test stream ended.\n",
            "\tExperienceForgetting/eval_phase/test_stream/Task000/Exp000 = 0.2365\n",
            "\tTop1_Acc_Exp/eval_phase/test_stream/Task000/Exp000 = 0.5000\n",
            "-- Starting eval on experience 1 (Task 0) from test stream --\n",
            "100%|██████████| 63/63 [00:01<00:00, 62.97it/s]\n",
            "> Eval on experience 1 (Task 0) from test stream ended.\n",
            "\tExperienceForgetting/eval_phase/test_stream/Task000/Exp001 = 0.0000\n",
            "\tTop1_Acc_Exp/eval_phase/test_stream/Task000/Exp001 = 0.0000\n",
            "-- Starting eval on experience 2 (Task 0) from test stream --\n",
            "100%|██████████| 63/63 [00:01<00:00, 57.53it/s]\n",
            "> Eval on experience 2 (Task 0) from test stream ended.\n",
            "\tTop1_Acc_Exp/eval_phase/test_stream/Task000/Exp002 = 0.0000\n",
            "-- Starting eval on experience 3 (Task 0) from test stream --\n",
            "100%|██████████| 63/63 [00:01<00:00, 61.32it/s]\n",
            "> Eval on experience 3 (Task 0) from test stream ended.\n",
            "\tTop1_Acc_Exp/eval_phase/test_stream/Task000/Exp003 = 0.0000\n",
            "-- Starting eval on experience 4 (Task 0) from test stream --\n",
            "100%|██████████| 63/63 [00:01<00:00, 49.25it/s]\n",
            "> Eval on experience 4 (Task 0) from test stream ended.\n",
            "\tTop1_Acc_Exp/eval_phase/test_stream/Task000/Exp004 = 0.0000\n",
            "-- >> End of eval phase << --\n",
            "\tAccuracy_On_Trained_Experiences/eval_phase/test_stream/Task000 = 0.1667\n",
            "\tStreamForgetting/eval_phase/test_stream = 0.1183\n",
            "\tTop1_Acc_Stream/eval_phase/test_stream/Task000 = 0.1000\n",
            "Start of experience:  3\n",
            "Current Classes:  [6, 7]\n",
            "-- >> Start of training phase << --\n",
            "100%|██████████| 313/313 [00:09<00:00, 33.35it/s]\n",
            "Epoch 0 ended.\n",
            "\tRunningLoss_Epoch/train_phase/train_stream/Task000 = nan\n",
            "\tTop1_Acc_Epoch/train_phase/train_stream/Task000 = 0.0000\n",
            "-- >> End of training phase << --\n",
            "Training completed\n",
            "Computing accuracy on the whole test set\n",
            "-- >> Start of eval phase << --\n",
            "-- Starting eval on experience 0 (Task 0) from test stream --\n",
            "100%|██████████| 63/63 [00:01<00:00, 62.93it/s]\n",
            "> Eval on experience 0 (Task 0) from test stream ended.\n",
            "\tExperienceForgetting/eval_phase/test_stream/Task000/Exp000 = 0.2365\n",
            "\tTop1_Acc_Exp/eval_phase/test_stream/Task000/Exp000 = 0.5000\n",
            "-- Starting eval on experience 1 (Task 0) from test stream --\n",
            "100%|██████████| 63/63 [00:00<00:00, 63.69it/s]\n",
            "> Eval on experience 1 (Task 0) from test stream ended.\n",
            "\tExperienceForgetting/eval_phase/test_stream/Task000/Exp001 = 0.0000\n",
            "\tTop1_Acc_Exp/eval_phase/test_stream/Task000/Exp001 = 0.0000\n",
            "-- Starting eval on experience 2 (Task 0) from test stream --\n",
            "100%|██████████| 63/63 [00:01<00:00, 61.20it/s]\n",
            "> Eval on experience 2 (Task 0) from test stream ended.\n",
            "\tExperienceForgetting/eval_phase/test_stream/Task000/Exp002 = 0.0000\n",
            "\tTop1_Acc_Exp/eval_phase/test_stream/Task000/Exp002 = 0.0000\n",
            "-- Starting eval on experience 3 (Task 0) from test stream --\n",
            "100%|██████████| 63/63 [00:01<00:00, 61.90it/s]\n",
            "> Eval on experience 3 (Task 0) from test stream ended.\n",
            "\tTop1_Acc_Exp/eval_phase/test_stream/Task000/Exp003 = 0.0000\n",
            "-- Starting eval on experience 4 (Task 0) from test stream --\n",
            "100%|██████████| 63/63 [00:01<00:00, 62.28it/s]\n",
            "> Eval on experience 4 (Task 0) from test stream ended.\n",
            "\tTop1_Acc_Exp/eval_phase/test_stream/Task000/Exp004 = 0.0000\n",
            "-- >> End of eval phase << --\n",
            "\tAccuracy_On_Trained_Experiences/eval_phase/test_stream/Task000 = 0.1250\n",
            "\tStreamForgetting/eval_phase/test_stream = 0.0788\n",
            "\tTop1_Acc_Stream/eval_phase/test_stream/Task000 = 0.1000\n",
            "Start of experience:  4\n",
            "Current Classes:  [8, 9]\n",
            "-- >> Start of training phase << --\n",
            "100%|██████████| 313/313 [00:10<00:00, 30.22it/s]\n",
            "Epoch 0 ended.\n",
            "\tRunningLoss_Epoch/train_phase/train_stream/Task000 = nan\n",
            "\tTop1_Acc_Epoch/train_phase/train_stream/Task000 = 0.0000\n",
            "-- >> End of training phase << --\n",
            "Training completed\n",
            "Computing accuracy on the whole test set\n",
            "-- >> Start of eval phase << --\n",
            "-- Starting eval on experience 0 (Task 0) from test stream --\n",
            "100%|██████████| 63/63 [00:01<00:00, 49.71it/s]\n",
            "> Eval on experience 0 (Task 0) from test stream ended.\n",
            "\tExperienceForgetting/eval_phase/test_stream/Task000/Exp000 = 0.2365\n",
            "\tTop1_Acc_Exp/eval_phase/test_stream/Task000/Exp000 = 0.5000\n",
            "-- Starting eval on experience 1 (Task 0) from test stream --\n",
            "100%|██████████| 63/63 [00:01<00:00, 44.80it/s]\n",
            "> Eval on experience 1 (Task 0) from test stream ended.\n",
            "\tExperienceForgetting/eval_phase/test_stream/Task000/Exp001 = 0.0000\n",
            "\tTop1_Acc_Exp/eval_phase/test_stream/Task000/Exp001 = 0.0000\n",
            "-- Starting eval on experience 2 (Task 0) from test stream --\n",
            "100%|██████████| 63/63 [00:01<00:00, 53.70it/s]\n",
            "> Eval on experience 2 (Task 0) from test stream ended.\n",
            "\tExperienceForgetting/eval_phase/test_stream/Task000/Exp002 = 0.0000\n",
            "\tTop1_Acc_Exp/eval_phase/test_stream/Task000/Exp002 = 0.0000\n",
            "-- Starting eval on experience 3 (Task 0) from test stream --\n",
            "100%|██████████| 63/63 [00:01<00:00, 60.27it/s]\n",
            "> Eval on experience 3 (Task 0) from test stream ended.\n",
            "\tExperienceForgetting/eval_phase/test_stream/Task000/Exp003 = 0.0000\n",
            "\tTop1_Acc_Exp/eval_phase/test_stream/Task000/Exp003 = 0.0000\n",
            "-- Starting eval on experience 4 (Task 0) from test stream --\n",
            "100%|██████████| 63/63 [00:01<00:00, 60.66it/s]\n",
            "> Eval on experience 4 (Task 0) from test stream ended.\n",
            "\tTop1_Acc_Exp/eval_phase/test_stream/Task000/Exp004 = 0.0000\n",
            "-- >> End of eval phase << --\n",
            "\tAccuracy_On_Trained_Experiences/eval_phase/test_stream/Task000 = 0.1000\n",
            "\tStreamForgetting/eval_phase/test_stream = 0.0591\n",
            "\tTop1_Acc_Stream/eval_phase/test_stream/Task000 = 0.1000\n"
          ]
        },
        {
          "output_type": "display_data",
          "data": {
            "text/plain": [
              "<IPython.core.display.HTML object>"
            ],
            "text/html": [
              "Finishing last run (ID:lfohe3ox) before initializing another..."
            ]
          },
          "metadata": {}
        },
        {
          "output_type": "display_data",
          "data": {
            "text/plain": [
              "VBox(children=(Label(value='0.401 MB of 0.401 MB uploaded\\r'), FloatProgress(value=1.0, max=1.0)))"
            ],
            "application/vnd.jupyter.widget-view+json": {
              "version_major": 2,
              "version_minor": 0,
              "model_id": "f718fa74648449bc9cd068047a39e1ab"
            }
          },
          "metadata": {}
        },
        {
          "output_type": "display_data",
          "data": {
            "text/plain": [
              "<IPython.core.display.HTML object>"
            ],
            "text/html": [
              "W&B sync reduced upload amount by 1.7%             "
            ]
          },
          "metadata": {}
        },
        {
          "output_type": "display_data",
          "data": {
            "text/plain": [
              "<IPython.core.display.HTML object>"
            ],
            "text/html": [
              "<style>\n",
              "    table.wandb td:nth-child(1) { padding: 0 10px; text-align: left ; width: auto;} td:nth-child(2) {text-align: left ; width: 100%}\n",
              "    .wandb-row { display: flex; flex-direction: row; flex-wrap: wrap; justify-content: flex-start; width: 100% }\n",
              "    .wandb-col { display: flex; flex-direction: column; flex-basis: 100%; flex: 1; padding: 10px; }\n",
              "    </style>\n",
              "<div class=\"wandb-row\"><div class=\"wandb-col\"><h3>Run history:</h3><br/><table class=\"wandb\"><tr><td>Accuracy_On_Trained_Experiences/eval_phase/test_stream/Task000</td><td>█▃▂▁▁</td></tr><tr><td>ExperienceForgetting/eval_phase/test_stream/Task000/Exp000</td><td>▁▁▁▁</td></tr><tr><td>ExperienceForgetting/eval_phase/test_stream/Task000/Exp001</td><td>▁▁▁</td></tr><tr><td>ExperienceForgetting/eval_phase/test_stream/Task000/Exp002</td><td>▁▁</td></tr><tr><td>ExperienceForgetting/eval_phase/test_stream/Task000/Exp003</td><td>▁</td></tr><tr><td>RunningLoss_Epoch/train_phase/train_stream/Task000</td><td>▁▁▁▁▁▁▁▁█                               </td></tr><tr><td>StreamForgetting/eval_phase/test_stream</td><td>▁█▅▃▃</td></tr><tr><td>Top1_Acc_Epoch/train_phase/train_stream/Task000</td><td>█▁▁▁▁</td></tr><tr><td>Top1_Acc_Exp/eval_phase/test_stream/Task000/Exp000</td><td>█▁▁▁▁</td></tr><tr><td>Top1_Acc_Exp/eval_phase/test_stream/Task000/Exp001</td><td>▁▁▁▁▁</td></tr><tr><td>Top1_Acc_Exp/eval_phase/test_stream/Task000/Exp002</td><td>▁▁▁▁▁</td></tr><tr><td>Top1_Acc_Exp/eval_phase/test_stream/Task000/Exp003</td><td>▁▁▁▁▁</td></tr><tr><td>Top1_Acc_Exp/eval_phase/test_stream/Task000/Exp004</td><td>▁▁▁▁▁</td></tr><tr><td>Top1_Acc_Stream/eval_phase/test_stream/Task000</td><td>█▁▁▁▁</td></tr><tr><td>TrainingExperience</td><td>▁▃▅▆█</td></tr></table><br/></div><div class=\"wandb-col\"><h3>Run summary:</h3><br/><table class=\"wandb\"><tr><td>Accuracy_On_Trained_Experiences/eval_phase/test_stream/Task000</td><td>0.1</td></tr><tr><td>ExperienceForgetting/eval_phase/test_stream/Task000/Exp000</td><td>0.2365</td></tr><tr><td>ExperienceForgetting/eval_phase/test_stream/Task000/Exp001</td><td>0.0</td></tr><tr><td>ExperienceForgetting/eval_phase/test_stream/Task000/Exp002</td><td>0.0</td></tr><tr><td>ExperienceForgetting/eval_phase/test_stream/Task000/Exp003</td><td>0.0</td></tr><tr><td>RunningLoss_Epoch/train_phase/train_stream/Task000</td><td>nan</td></tr><tr><td>StreamForgetting/eval_phase/test_stream</td><td>0.05913</td></tr><tr><td>Top1_Acc_Epoch/train_phase/train_stream/Task000</td><td>0.0</td></tr><tr><td>Top1_Acc_Exp/eval_phase/test_stream/Task000/Exp000</td><td>0.5</td></tr><tr><td>Top1_Acc_Exp/eval_phase/test_stream/Task000/Exp001</td><td>0.0</td></tr><tr><td>Top1_Acc_Exp/eval_phase/test_stream/Task000/Exp002</td><td>0.0</td></tr><tr><td>Top1_Acc_Exp/eval_phase/test_stream/Task000/Exp003</td><td>0.0</td></tr><tr><td>Top1_Acc_Exp/eval_phase/test_stream/Task000/Exp004</td><td>0.0</td></tr><tr><td>Top1_Acc_Stream/eval_phase/test_stream/Task000</td><td>0.1</td></tr><tr><td>TrainingExperience</td><td>4</td></tr></table><br/></div></div>"
            ]
          },
          "metadata": {}
        },
        {
          "output_type": "display_data",
          "data": {
            "text/plain": [
              "<IPython.core.display.HTML object>"
            ],
            "text/html": [
              " View run <strong style=\"color:#cdcd00\">avalanche_2024_04_20_13_38_35</strong> at: <a href='https://wandb.ai/fabianfuchs/continual%20learning/runs/lfohe3ox' target=\"_blank\">https://wandb.ai/fabianfuchs/continual%20learning/runs/lfohe3ox</a><br/> View project at: <a href='https://wandb.ai/fabianfuchs/continual%20learning' target=\"_blank\">https://wandb.ai/fabianfuchs/continual%20learning</a><br/>Synced 5 W&B file(s), 0 media file(s), 5 artifact file(s) and 1 other file(s)"
            ]
          },
          "metadata": {}
        },
        {
          "output_type": "display_data",
          "data": {
            "text/plain": [
              "<IPython.core.display.HTML object>"
            ],
            "text/html": [
              "Find logs at: <code>./wandb/run-20240420_133835-lfohe3ox/logs</code>"
            ]
          },
          "metadata": {}
        },
        {
          "output_type": "display_data",
          "data": {
            "text/plain": [
              "<IPython.core.display.HTML object>"
            ],
            "text/html": [
              "Successfully finished last run (ID:lfohe3ox). Initializing new run:<br/>"
            ]
          },
          "metadata": {}
        },
        {
          "output_type": "display_data",
          "data": {
            "text/plain": [
              "<IPython.core.display.HTML object>"
            ],
            "text/html": [
              "Tracking run with wandb version 0.16.6"
            ]
          },
          "metadata": {}
        },
        {
          "output_type": "display_data",
          "data": {
            "text/plain": [
              "<IPython.core.display.HTML object>"
            ],
            "text/html": [
              "Run data is saved locally in <code>/content/wandb/run-20240420_134024-sjy7j5po</code>"
            ]
          },
          "metadata": {}
        },
        {
          "output_type": "display_data",
          "data": {
            "text/plain": [
              "<IPython.core.display.HTML object>"
            ],
            "text/html": [
              "Syncing run <strong><a href='https://wandb.ai/fabianfuchs/continual%20learning/runs/sjy7j5po' target=\"_blank\">avalanche_2024_04_20_13_40_24</a></strong> to <a href='https://wandb.ai/fabianfuchs/continual%20learning' target=\"_blank\">Weights & Biases</a> (<a href='https://wandb.me/run' target=\"_blank\">docs</a>)<br/>"
            ]
          },
          "metadata": {}
        },
        {
          "output_type": "display_data",
          "data": {
            "text/plain": [
              "<IPython.core.display.HTML object>"
            ],
            "text/html": [
              " View project at <a href='https://wandb.ai/fabianfuchs/continual%20learning' target=\"_blank\">https://wandb.ai/fabianfuchs/continual%20learning</a>"
            ]
          },
          "metadata": {}
        },
        {
          "output_type": "display_data",
          "data": {
            "text/plain": [
              "<IPython.core.display.HTML object>"
            ],
            "text/html": [
              " View run at <a href='https://wandb.ai/fabianfuchs/continual%20learning/runs/sjy7j5po' target=\"_blank\">https://wandb.ai/fabianfuchs/continual%20learning/runs/sjy7j5po</a>"
            ]
          },
          "metadata": {}
        },
        {
          "output_type": "stream",
          "name": "stdout",
          "text": [
            "Start of experience:  0\n",
            "Current Classes:  [0, 1]\n",
            "-- >> Start of training phase << --\n",
            "100%|██████████| 313/313 [00:08<00:00, 37.42it/s]\n",
            "Epoch 0 ended.\n",
            "\tRunningLoss_Epoch/train_phase/train_stream/Task000 = 0.6719\n",
            "\tTop1_Acc_Epoch/train_phase/train_stream/Task000 = 0.6719\n",
            "-- >> End of training phase << --\n",
            "Training completed\n",
            "Computing accuracy on the whole test set\n",
            "-- >> Start of eval phase << --\n",
            "-- Starting eval on experience 0 (Task 0) from test stream --\n",
            "100%|██████████| 63/63 [00:01<00:00, 44.93it/s]\n",
            "> Eval on experience 0 (Task 0) from test stream ended.\n",
            "\tTop1_Acc_Exp/eval_phase/test_stream/Task000/Exp000 = 0.8235\n",
            "-- Starting eval on experience 1 (Task 0) from test stream --\n",
            "100%|██████████| 63/63 [00:00<00:00, 63.58it/s]\n",
            "> Eval on experience 1 (Task 0) from test stream ended.\n",
            "\tTop1_Acc_Exp/eval_phase/test_stream/Task000/Exp001 = 0.0000\n",
            "-- Starting eval on experience 2 (Task 0) from test stream --\n",
            "100%|██████████| 63/63 [00:00<00:00, 63.36it/s]\n",
            "> Eval on experience 2 (Task 0) from test stream ended.\n",
            "\tTop1_Acc_Exp/eval_phase/test_stream/Task000/Exp002 = 0.0000\n",
            "-- Starting eval on experience 3 (Task 0) from test stream --\n",
            "100%|██████████| 63/63 [00:00<00:00, 64.14it/s]\n",
            "> Eval on experience 3 (Task 0) from test stream ended.\n",
            "\tTop1_Acc_Exp/eval_phase/test_stream/Task000/Exp003 = 0.0000\n",
            "-- Starting eval on experience 4 (Task 0) from test stream --\n",
            "100%|██████████| 63/63 [00:00<00:00, 64.73it/s]\n",
            "> Eval on experience 4 (Task 0) from test stream ended.\n",
            "\tTop1_Acc_Exp/eval_phase/test_stream/Task000/Exp004 = 0.0000\n",
            "-- >> End of eval phase << --\n",
            "\tAccuracy_On_Trained_Experiences/eval_phase/test_stream/Task000 = 0.8235\n",
            "\tStreamForgetting/eval_phase/test_stream = 0.0000\n",
            "\tTop1_Acc_Stream/eval_phase/test_stream/Task000 = 0.1647\n",
            "Start of experience:  1\n",
            "Current Classes:  [2, 3]\n",
            "-- >> Start of training phase << --\n",
            "100%|██████████| 313/313 [00:08<00:00, 35.59it/s]\n",
            "Epoch 0 ended.\n",
            "\tRunningLoss_Epoch/train_phase/train_stream/Task000 = 1.0684\n",
            "\tTop1_Acc_Epoch/train_phase/train_stream/Task000 = 0.5389\n",
            "-- >> End of training phase << --\n",
            "Training completed\n",
            "Computing accuracy on the whole test set\n",
            "-- >> Start of eval phase << --\n",
            "-- Starting eval on experience 0 (Task 0) from test stream --\n",
            "100%|██████████| 63/63 [00:01<00:00, 62.05it/s]\n",
            "> Eval on experience 0 (Task 0) from test stream ended.\n",
            "\tExperienceForgetting/eval_phase/test_stream/Task000/Exp000 = 0.8235\n",
            "\tTop1_Acc_Exp/eval_phase/test_stream/Task000/Exp000 = 0.0000\n",
            "-- Starting eval on experience 1 (Task 0) from test stream --\n",
            "100%|██████████| 63/63 [00:01<00:00, 61.54it/s]\n",
            "> Eval on experience 1 (Task 0) from test stream ended.\n",
            "\tTop1_Acc_Exp/eval_phase/test_stream/Task000/Exp001 = 0.7145\n",
            "-- Starting eval on experience 2 (Task 0) from test stream --\n",
            "100%|██████████| 63/63 [00:00<00:00, 63.43it/s]\n",
            "> Eval on experience 2 (Task 0) from test stream ended.\n",
            "\tTop1_Acc_Exp/eval_phase/test_stream/Task000/Exp002 = 0.0000\n",
            "-- Starting eval on experience 3 (Task 0) from test stream --\n",
            "100%|██████████| 63/63 [00:00<00:00, 64.76it/s]\n",
            "> Eval on experience 3 (Task 0) from test stream ended.\n",
            "\tTop1_Acc_Exp/eval_phase/test_stream/Task000/Exp003 = 0.0000\n",
            "-- Starting eval on experience 4 (Task 0) from test stream --\n",
            "100%|██████████| 63/63 [00:01<00:00, 54.87it/s]\n",
            "> Eval on experience 4 (Task 0) from test stream ended.\n",
            "\tTop1_Acc_Exp/eval_phase/test_stream/Task000/Exp004 = 0.0000\n",
            "-- >> End of eval phase << --\n",
            "\tAccuracy_On_Trained_Experiences/eval_phase/test_stream/Task000 = 0.3573\n",
            "\tStreamForgetting/eval_phase/test_stream = 0.8235\n",
            "\tTop1_Acc_Stream/eval_phase/test_stream/Task000 = 0.1429\n",
            "Start of experience:  2\n",
            "Current Classes:  [4, 5]\n",
            "-- >> Start of training phase << --\n",
            "100%|██████████| 313/313 [00:09<00:00, 34.41it/s]\n",
            "Epoch 0 ended.\n",
            "\tRunningLoss_Epoch/train_phase/train_stream/Task000 = 1.2559\n",
            "\tTop1_Acc_Epoch/train_phase/train_stream/Task000 = 0.5505\n",
            "-- >> End of training phase << --\n",
            "Training completed\n",
            "Computing accuracy on the whole test set\n",
            "-- >> Start of eval phase << --\n",
            "-- Starting eval on experience 0 (Task 0) from test stream --\n",
            "100%|██████████| 63/63 [00:01<00:00, 62.25it/s]\n",
            "> Eval on experience 0 (Task 0) from test stream ended.\n",
            "\tExperienceForgetting/eval_phase/test_stream/Task000/Exp000 = 0.8235\n",
            "\tTop1_Acc_Exp/eval_phase/test_stream/Task000/Exp000 = 0.0000\n",
            "-- Starting eval on experience 1 (Task 0) from test stream --\n",
            "100%|██████████| 63/63 [00:01<00:00, 61.00it/s]\n",
            "> Eval on experience 1 (Task 0) from test stream ended.\n",
            "\tExperienceForgetting/eval_phase/test_stream/Task000/Exp001 = 0.7145\n",
            "\tTop1_Acc_Exp/eval_phase/test_stream/Task000/Exp001 = 0.0000\n",
            "-- Starting eval on experience 2 (Task 0) from test stream --\n",
            "100%|██████████| 63/63 [00:01<00:00, 58.20it/s]\n",
            "> Eval on experience 2 (Task 0) from test stream ended.\n",
            "\tTop1_Acc_Exp/eval_phase/test_stream/Task000/Exp002 = 0.7195\n",
            "-- Starting eval on experience 3 (Task 0) from test stream --\n",
            "100%|██████████| 63/63 [00:01<00:00, 58.64it/s]\n",
            "> Eval on experience 3 (Task 0) from test stream ended.\n",
            "\tTop1_Acc_Exp/eval_phase/test_stream/Task000/Exp003 = 0.0000\n",
            "-- Starting eval on experience 4 (Task 0) from test stream --\n",
            "100%|██████████| 63/63 [00:01<00:00, 61.79it/s]\n",
            "> Eval on experience 4 (Task 0) from test stream ended.\n",
            "\tTop1_Acc_Exp/eval_phase/test_stream/Task000/Exp004 = 0.0000\n",
            "-- >> End of eval phase << --\n",
            "\tAccuracy_On_Trained_Experiences/eval_phase/test_stream/Task000 = 0.2398\n",
            "\tStreamForgetting/eval_phase/test_stream = 0.7690\n",
            "\tTop1_Acc_Stream/eval_phase/test_stream/Task000 = 0.1439\n",
            "Start of experience:  3\n",
            "Current Classes:  [6, 7]\n",
            "-- >> Start of training phase << --\n",
            "100%|██████████| 313/313 [00:09<00:00, 32.38it/s]\n",
            "Epoch 0 ended.\n",
            "\tRunningLoss_Epoch/train_phase/train_stream/Task000 = 1.4480\n",
            "\tTop1_Acc_Epoch/train_phase/train_stream/Task000 = 0.5841\n",
            "-- >> End of training phase << --\n",
            "Training completed\n",
            "Computing accuracy on the whole test set\n",
            "-- >> Start of eval phase << --\n",
            "-- Starting eval on experience 0 (Task 0) from test stream --\n",
            "100%|██████████| 63/63 [00:01<00:00, 60.99it/s]\n",
            "> Eval on experience 0 (Task 0) from test stream ended.\n",
            "\tExperienceForgetting/eval_phase/test_stream/Task000/Exp000 = 0.8235\n",
            "\tTop1_Acc_Exp/eval_phase/test_stream/Task000/Exp000 = 0.0000\n",
            "-- Starting eval on experience 1 (Task 0) from test stream --\n",
            "100%|██████████| 63/63 [00:01<00:00, 51.88it/s]\n",
            "> Eval on experience 1 (Task 0) from test stream ended.\n",
            "\tExperienceForgetting/eval_phase/test_stream/Task000/Exp001 = 0.7145\n",
            "\tTop1_Acc_Exp/eval_phase/test_stream/Task000/Exp001 = 0.0000\n",
            "-- Starting eval on experience 2 (Task 0) from test stream --\n",
            "100%|██████████| 63/63 [00:01<00:00, 50.29it/s]\n",
            "> Eval on experience 2 (Task 0) from test stream ended.\n",
            "\tExperienceForgetting/eval_phase/test_stream/Task000/Exp002 = 0.7195\n",
            "\tTop1_Acc_Exp/eval_phase/test_stream/Task000/Exp002 = 0.0000\n",
            "-- Starting eval on experience 3 (Task 0) from test stream --\n",
            "100%|██████████| 63/63 [00:01<00:00, 50.65it/s]\n",
            "> Eval on experience 3 (Task 0) from test stream ended.\n",
            "\tTop1_Acc_Exp/eval_phase/test_stream/Task000/Exp003 = 0.8475\n",
            "-- Starting eval on experience 4 (Task 0) from test stream --\n",
            "100%|██████████| 63/63 [00:01<00:00, 61.67it/s]\n",
            "> Eval on experience 4 (Task 0) from test stream ended.\n",
            "\tTop1_Acc_Exp/eval_phase/test_stream/Task000/Exp004 = 0.0000\n",
            "-- >> End of eval phase << --\n",
            "\tAccuracy_On_Trained_Experiences/eval_phase/test_stream/Task000 = 0.2119\n",
            "\tStreamForgetting/eval_phase/test_stream = 0.7525\n",
            "\tTop1_Acc_Stream/eval_phase/test_stream/Task000 = 0.1695\n",
            "Start of experience:  4\n",
            "Current Classes:  [8, 9]\n",
            "-- >> Start of training phase << --\n",
            "100%|██████████| 313/313 [00:10<00:00, 30.60it/s]\n",
            "Epoch 0 ended.\n",
            "\tRunningLoss_Epoch/train_phase/train_stream/Task000 = nan\n",
            "\tTop1_Acc_Epoch/train_phase/train_stream/Task000 = 0.0017\n",
            "-- >> End of training phase << --\n",
            "Training completed\n",
            "Computing accuracy on the whole test set\n",
            "-- >> Start of eval phase << --\n",
            "-- Starting eval on experience 0 (Task 0) from test stream --\n",
            "100%|██████████| 63/63 [00:01<00:00, 59.99it/s]\n",
            "> Eval on experience 0 (Task 0) from test stream ended.\n",
            "\tExperienceForgetting/eval_phase/test_stream/Task000/Exp000 = 0.3235\n",
            "\tTop1_Acc_Exp/eval_phase/test_stream/Task000/Exp000 = 0.5000\n",
            "-- Starting eval on experience 1 (Task 0) from test stream --\n",
            "100%|██████████| 63/63 [00:01<00:00, 61.21it/s]\n",
            "> Eval on experience 1 (Task 0) from test stream ended.\n",
            "\tExperienceForgetting/eval_phase/test_stream/Task000/Exp001 = 0.7145\n",
            "\tTop1_Acc_Exp/eval_phase/test_stream/Task000/Exp001 = 0.0000\n",
            "-- Starting eval on experience 2 (Task 0) from test stream --\n",
            "100%|██████████| 63/63 [00:01<00:00, 60.52it/s]\n",
            "> Eval on experience 2 (Task 0) from test stream ended.\n",
            "\tExperienceForgetting/eval_phase/test_stream/Task000/Exp002 = 0.7195\n",
            "\tTop1_Acc_Exp/eval_phase/test_stream/Task000/Exp002 = 0.0000\n",
            "-- Starting eval on experience 3 (Task 0) from test stream --\n",
            "100%|██████████| 63/63 [00:01<00:00, 59.36it/s]\n",
            "> Eval on experience 3 (Task 0) from test stream ended.\n",
            "\tExperienceForgetting/eval_phase/test_stream/Task000/Exp003 = 0.8475\n",
            "\tTop1_Acc_Exp/eval_phase/test_stream/Task000/Exp003 = 0.0000\n",
            "-- Starting eval on experience 4 (Task 0) from test stream --\n",
            "100%|██████████| 63/63 [00:01<00:00, 57.13it/s]\n",
            "> Eval on experience 4 (Task 0) from test stream ended.\n",
            "\tTop1_Acc_Exp/eval_phase/test_stream/Task000/Exp004 = 0.0000\n",
            "-- >> End of eval phase << --\n",
            "\tAccuracy_On_Trained_Experiences/eval_phase/test_stream/Task000 = 0.1000\n",
            "\tStreamForgetting/eval_phase/test_stream = 0.6512\n",
            "\tTop1_Acc_Stream/eval_phase/test_stream/Task000 = 0.1000\n"
          ]
        },
        {
          "output_type": "display_data",
          "data": {
            "text/plain": [
              "<IPython.core.display.HTML object>"
            ],
            "text/html": [
              "Finishing last run (ID:sjy7j5po) before initializing another..."
            ]
          },
          "metadata": {}
        },
        {
          "output_type": "display_data",
          "data": {
            "text/plain": [
              "VBox(children=(Label(value='0.672 MB of 0.672 MB uploaded\\r'), FloatProgress(value=1.0, max=1.0)))"
            ],
            "application/vnd.jupyter.widget-view+json": {
              "version_major": 2,
              "version_minor": 0,
              "model_id": "17c98b852b8f4dd0a49aa5b7b8b36072"
            }
          },
          "metadata": {}
        },
        {
          "output_type": "display_data",
          "data": {
            "text/plain": [
              "<IPython.core.display.HTML object>"
            ],
            "text/html": [
              "<style>\n",
              "    table.wandb td:nth-child(1) { padding: 0 10px; text-align: left ; width: auto;} td:nth-child(2) {text-align: left ; width: 100%}\n",
              "    .wandb-row { display: flex; flex-direction: row; flex-wrap: wrap; justify-content: flex-start; width: 100% }\n",
              "    .wandb-col { display: flex; flex-direction: column; flex-basis: 100%; flex: 1; padding: 10px; }\n",
              "    </style>\n",
              "<div class=\"wandb-row\"><div class=\"wandb-col\"><h3>Run history:</h3><br/><table class=\"wandb\"><tr><td>Accuracy_On_Trained_Experiences/eval_phase/test_stream/Task000</td><td>█▃▂▂▁</td></tr><tr><td>ExperienceForgetting/eval_phase/test_stream/Task000/Exp000</td><td>███▁</td></tr><tr><td>ExperienceForgetting/eval_phase/test_stream/Task000/Exp001</td><td>▁▁▁</td></tr><tr><td>ExperienceForgetting/eval_phase/test_stream/Task000/Exp002</td><td>▁▁</td></tr><tr><td>ExperienceForgetting/eval_phase/test_stream/Task000/Exp003</td><td>▁</td></tr><tr><td>RunningLoss_Epoch/train_phase/train_stream/Task000</td><td>▁▁▁▁▁▁▁▁▁▁▁▁▁▁▁▁▁▁▁▁▁▁▁▁▁▁▁▁▁▁▁▁█       </td></tr><tr><td>StreamForgetting/eval_phase/test_stream</td><td>▁██▇▇</td></tr><tr><td>Top1_Acc_Epoch/train_phase/train_stream/Task000</td><td>█▇▇▇▁</td></tr><tr><td>Top1_Acc_Exp/eval_phase/test_stream/Task000/Exp000</td><td>█▁▁▁▅</td></tr><tr><td>Top1_Acc_Exp/eval_phase/test_stream/Task000/Exp001</td><td>▁█▁▁▁</td></tr><tr><td>Top1_Acc_Exp/eval_phase/test_stream/Task000/Exp002</td><td>▁▁█▁▁</td></tr><tr><td>Top1_Acc_Exp/eval_phase/test_stream/Task000/Exp003</td><td>▁▁▁█▁</td></tr><tr><td>Top1_Acc_Exp/eval_phase/test_stream/Task000/Exp004</td><td>▁▁▁▁▁</td></tr><tr><td>Top1_Acc_Stream/eval_phase/test_stream/Task000</td><td>█▅▅█▁</td></tr><tr><td>TrainingExperience</td><td>▁▃▅▆█</td></tr></table><br/></div><div class=\"wandb-col\"><h3>Run summary:</h3><br/><table class=\"wandb\"><tr><td>Accuracy_On_Trained_Experiences/eval_phase/test_stream/Task000</td><td>0.1</td></tr><tr><td>ExperienceForgetting/eval_phase/test_stream/Task000/Exp000</td><td>0.3235</td></tr><tr><td>ExperienceForgetting/eval_phase/test_stream/Task000/Exp001</td><td>0.7145</td></tr><tr><td>ExperienceForgetting/eval_phase/test_stream/Task000/Exp002</td><td>0.7195</td></tr><tr><td>ExperienceForgetting/eval_phase/test_stream/Task000/Exp003</td><td>0.8475</td></tr><tr><td>RunningLoss_Epoch/train_phase/train_stream/Task000</td><td>nan</td></tr><tr><td>StreamForgetting/eval_phase/test_stream</td><td>0.65125</td></tr><tr><td>Top1_Acc_Epoch/train_phase/train_stream/Task000</td><td>0.0017</td></tr><tr><td>Top1_Acc_Exp/eval_phase/test_stream/Task000/Exp000</td><td>0.5</td></tr><tr><td>Top1_Acc_Exp/eval_phase/test_stream/Task000/Exp001</td><td>0.0</td></tr><tr><td>Top1_Acc_Exp/eval_phase/test_stream/Task000/Exp002</td><td>0.0</td></tr><tr><td>Top1_Acc_Exp/eval_phase/test_stream/Task000/Exp003</td><td>0.0</td></tr><tr><td>Top1_Acc_Exp/eval_phase/test_stream/Task000/Exp004</td><td>0.0</td></tr><tr><td>Top1_Acc_Stream/eval_phase/test_stream/Task000</td><td>0.1</td></tr><tr><td>TrainingExperience</td><td>4</td></tr></table><br/></div></div>"
            ]
          },
          "metadata": {}
        },
        {
          "output_type": "display_data",
          "data": {
            "text/plain": [
              "<IPython.core.display.HTML object>"
            ],
            "text/html": [
              " View run <strong style=\"color:#cdcd00\">avalanche_2024_04_20_13_40_24</strong> at: <a href='https://wandb.ai/fabianfuchs/continual%20learning/runs/sjy7j5po' target=\"_blank\">https://wandb.ai/fabianfuchs/continual%20learning/runs/sjy7j5po</a><br/> View project at: <a href='https://wandb.ai/fabianfuchs/continual%20learning' target=\"_blank\">https://wandb.ai/fabianfuchs/continual%20learning</a><br/>Synced 5 W&B file(s), 0 media file(s), 4 artifact file(s) and 0 other file(s)"
            ]
          },
          "metadata": {}
        },
        {
          "output_type": "display_data",
          "data": {
            "text/plain": [
              "<IPython.core.display.HTML object>"
            ],
            "text/html": [
              "Find logs at: <code>./wandb/run-20240420_134024-sjy7j5po/logs</code>"
            ]
          },
          "metadata": {}
        },
        {
          "output_type": "display_data",
          "data": {
            "text/plain": [
              "<IPython.core.display.HTML object>"
            ],
            "text/html": [
              "Successfully finished last run (ID:sjy7j5po). Initializing new run:<br/>"
            ]
          },
          "metadata": {}
        },
        {
          "output_type": "display_data",
          "data": {
            "text/plain": [
              "<IPython.core.display.HTML object>"
            ],
            "text/html": [
              "Tracking run with wandb version 0.16.6"
            ]
          },
          "metadata": {}
        },
        {
          "output_type": "display_data",
          "data": {
            "text/plain": [
              "<IPython.core.display.HTML object>"
            ],
            "text/html": [
              "Run data is saved locally in <code>/content/wandb/run-20240420_134212-1xyme871</code>"
            ]
          },
          "metadata": {}
        },
        {
          "output_type": "display_data",
          "data": {
            "text/plain": [
              "<IPython.core.display.HTML object>"
            ],
            "text/html": [
              "Syncing run <strong><a href='https://wandb.ai/fabianfuchs/continual%20learning/runs/1xyme871' target=\"_blank\">avalanche_2024_04_20_13_42_12</a></strong> to <a href='https://wandb.ai/fabianfuchs/continual%20learning' target=\"_blank\">Weights & Biases</a> (<a href='https://wandb.me/run' target=\"_blank\">docs</a>)<br/>"
            ]
          },
          "metadata": {}
        },
        {
          "output_type": "display_data",
          "data": {
            "text/plain": [
              "<IPython.core.display.HTML object>"
            ],
            "text/html": [
              " View project at <a href='https://wandb.ai/fabianfuchs/continual%20learning' target=\"_blank\">https://wandb.ai/fabianfuchs/continual%20learning</a>"
            ]
          },
          "metadata": {}
        },
        {
          "output_type": "display_data",
          "data": {
            "text/plain": [
              "<IPython.core.display.HTML object>"
            ],
            "text/html": [
              " View run at <a href='https://wandb.ai/fabianfuchs/continual%20learning/runs/1xyme871' target=\"_blank\">https://wandb.ai/fabianfuchs/continual%20learning/runs/1xyme871</a>"
            ]
          },
          "metadata": {}
        },
        {
          "output_type": "stream",
          "name": "stdout",
          "text": [
            "Start of experience:  0\n",
            "Current Classes:  [0, 1]\n",
            "-- >> Start of training phase << --\n",
            "100%|██████████| 313/313 [00:08<00:00, 37.37it/s]\n",
            "Epoch 0 ended.\n",
            "\tRunningLoss_Epoch/train_phase/train_stream/Task000 = 0.7278\n",
            "\tTop1_Acc_Epoch/train_phase/train_stream/Task000 = 0.6542\n",
            "-- >> End of training phase << --\n",
            "Training completed\n",
            "Computing accuracy on the whole test set\n",
            "-- >> Start of eval phase << --\n",
            "-- Starting eval on experience 0 (Task 0) from test stream --\n",
            "100%|██████████| 63/63 [00:01<00:00, 60.18it/s]\n",
            "> Eval on experience 0 (Task 0) from test stream ended.\n",
            "\tTop1_Acc_Exp/eval_phase/test_stream/Task000/Exp000 = 0.8160\n",
            "-- Starting eval on experience 1 (Task 0) from test stream --\n",
            "100%|██████████| 63/63 [00:01<00:00, 59.55it/s]\n",
            "> Eval on experience 1 (Task 0) from test stream ended.\n",
            "\tTop1_Acc_Exp/eval_phase/test_stream/Task000/Exp001 = 0.0000\n",
            "-- Starting eval on experience 2 (Task 0) from test stream --\n",
            "100%|██████████| 63/63 [00:01<00:00, 60.12it/s]\n",
            "> Eval on experience 2 (Task 0) from test stream ended.\n",
            "\tTop1_Acc_Exp/eval_phase/test_stream/Task000/Exp002 = 0.0000\n",
            "-- Starting eval on experience 3 (Task 0) from test stream --\n",
            "100%|██████████| 63/63 [00:01<00:00, 61.86it/s]\n",
            "> Eval on experience 3 (Task 0) from test stream ended.\n",
            "\tTop1_Acc_Exp/eval_phase/test_stream/Task000/Exp003 = 0.0000\n",
            "-- Starting eval on experience 4 (Task 0) from test stream --\n",
            "100%|██████████| 63/63 [00:01<00:00, 54.91it/s]\n",
            "> Eval on experience 4 (Task 0) from test stream ended.\n",
            "\tTop1_Acc_Exp/eval_phase/test_stream/Task000/Exp004 = 0.0000\n",
            "-- >> End of eval phase << --\n",
            "\tAccuracy_On_Trained_Experiences/eval_phase/test_stream/Task000 = 0.8160\n",
            "\tStreamForgetting/eval_phase/test_stream = 0.0000\n",
            "\tTop1_Acc_Stream/eval_phase/test_stream/Task000 = 0.1632\n",
            "Start of experience:  1\n",
            "Current Classes:  [2, 3]\n",
            "-- >> Start of training phase << --\n",
            "100%|██████████| 313/313 [00:08<00:00, 35.37it/s]\n",
            "Epoch 0 ended.\n",
            "\tRunningLoss_Epoch/train_phase/train_stream/Task000 = 1.1434\n",
            "\tTop1_Acc_Epoch/train_phase/train_stream/Task000 = 0.5090\n",
            "-- >> End of training phase << --\n",
            "Training completed\n",
            "Computing accuracy on the whole test set\n",
            "-- >> Start of eval phase << --\n",
            "-- Starting eval on experience 0 (Task 0) from test stream --\n",
            "100%|██████████| 63/63 [00:01<00:00, 59.22it/s]\n",
            "> Eval on experience 0 (Task 0) from test stream ended.\n",
            "\tExperienceForgetting/eval_phase/test_stream/Task000/Exp000 = 0.8160\n",
            "\tTop1_Acc_Exp/eval_phase/test_stream/Task000/Exp000 = 0.0000\n",
            "-- Starting eval on experience 1 (Task 0) from test stream --\n",
            "100%|██████████| 63/63 [00:01<00:00, 60.11it/s]\n",
            "> Eval on experience 1 (Task 0) from test stream ended.\n",
            "\tTop1_Acc_Exp/eval_phase/test_stream/Task000/Exp001 = 0.6735\n",
            "-- Starting eval on experience 2 (Task 0) from test stream --\n",
            "100%|██████████| 63/63 [00:01<00:00, 61.34it/s]\n",
            "> Eval on experience 2 (Task 0) from test stream ended.\n",
            "\tTop1_Acc_Exp/eval_phase/test_stream/Task000/Exp002 = 0.0000\n",
            "-- Starting eval on experience 3 (Task 0) from test stream --\n",
            "100%|██████████| 63/63 [00:01<00:00, 57.91it/s]\n",
            "> Eval on experience 3 (Task 0) from test stream ended.\n",
            "\tTop1_Acc_Exp/eval_phase/test_stream/Task000/Exp003 = 0.0000\n",
            "-- Starting eval on experience 4 (Task 0) from test stream --\n",
            "100%|██████████| 63/63 [00:01<00:00, 48.76it/s]\n",
            "> Eval on experience 4 (Task 0) from test stream ended.\n",
            "\tTop1_Acc_Exp/eval_phase/test_stream/Task000/Exp004 = 0.0000\n",
            "-- >> End of eval phase << --\n",
            "\tAccuracy_On_Trained_Experiences/eval_phase/test_stream/Task000 = 0.3367\n",
            "\tStreamForgetting/eval_phase/test_stream = 0.8160\n",
            "\tTop1_Acc_Stream/eval_phase/test_stream/Task000 = 0.1347\n",
            "Start of experience:  2\n",
            "Current Classes:  [4, 5]\n",
            "-- >> Start of training phase << --\n",
            "100%|██████████| 313/313 [00:09<00:00, 32.23it/s]\n",
            "Epoch 0 ended.\n",
            "\tRunningLoss_Epoch/train_phase/train_stream/Task000 = nan\n",
            "\tTop1_Acc_Epoch/train_phase/train_stream/Task000 = 0.0018\n",
            "-- >> End of training phase << --\n",
            "Training completed\n",
            "Computing accuracy on the whole test set\n",
            "-- >> Start of eval phase << --\n",
            "-- Starting eval on experience 0 (Task 0) from test stream --\n",
            "100%|██████████| 63/63 [00:01<00:00, 60.68it/s]\n",
            "> Eval on experience 0 (Task 0) from test stream ended.\n",
            "\tExperienceForgetting/eval_phase/test_stream/Task000/Exp000 = 0.3160\n",
            "\tTop1_Acc_Exp/eval_phase/test_stream/Task000/Exp000 = 0.5000\n",
            "-- Starting eval on experience 1 (Task 0) from test stream --\n",
            "100%|██████████| 63/63 [00:01<00:00, 53.81it/s]\n",
            "> Eval on experience 1 (Task 0) from test stream ended.\n",
            "\tExperienceForgetting/eval_phase/test_stream/Task000/Exp001 = 0.6735\n",
            "\tTop1_Acc_Exp/eval_phase/test_stream/Task000/Exp001 = 0.0000\n",
            "-- Starting eval on experience 2 (Task 0) from test stream --\n",
            "100%|██████████| 63/63 [00:01<00:00, 47.34it/s]\n",
            "> Eval on experience 2 (Task 0) from test stream ended.\n",
            "\tTop1_Acc_Exp/eval_phase/test_stream/Task000/Exp002 = 0.0000\n",
            "-- Starting eval on experience 3 (Task 0) from test stream --\n",
            "100%|██████████| 63/63 [00:01<00:00, 46.43it/s]\n",
            "> Eval on experience 3 (Task 0) from test stream ended.\n",
            "\tTop1_Acc_Exp/eval_phase/test_stream/Task000/Exp003 = 0.0000\n",
            "-- Starting eval on experience 4 (Task 0) from test stream --\n",
            "100%|██████████| 63/63 [00:01<00:00, 61.27it/s]\n",
            "> Eval on experience 4 (Task 0) from test stream ended.\n",
            "\tTop1_Acc_Exp/eval_phase/test_stream/Task000/Exp004 = 0.0000\n",
            "-- >> End of eval phase << --\n",
            "\tAccuracy_On_Trained_Experiences/eval_phase/test_stream/Task000 = 0.1667\n",
            "\tStreamForgetting/eval_phase/test_stream = 0.4947\n",
            "\tTop1_Acc_Stream/eval_phase/test_stream/Task000 = 0.1000\n",
            "Start of experience:  3\n",
            "Current Classes:  [6, 7]\n",
            "-- >> Start of training phase << --\n",
            "100%|██████████| 313/313 [00:09<00:00, 33.25it/s]\n",
            "Epoch 0 ended.\n",
            "\tRunningLoss_Epoch/train_phase/train_stream/Task000 = nan\n",
            "\tTop1_Acc_Epoch/train_phase/train_stream/Task000 = 0.0000\n",
            "-- >> End of training phase << --\n",
            "Training completed\n",
            "Computing accuracy on the whole test set\n",
            "-- >> Start of eval phase << --\n",
            "-- Starting eval on experience 0 (Task 0) from test stream --\n",
            "100%|██████████| 63/63 [00:01<00:00, 61.04it/s]\n",
            "> Eval on experience 0 (Task 0) from test stream ended.\n",
            "\tExperienceForgetting/eval_phase/test_stream/Task000/Exp000 = 0.3160\n",
            "\tTop1_Acc_Exp/eval_phase/test_stream/Task000/Exp000 = 0.5000\n",
            "-- Starting eval on experience 1 (Task 0) from test stream --\n",
            "100%|██████████| 63/63 [00:01<00:00, 59.67it/s]\n",
            "> Eval on experience 1 (Task 0) from test stream ended.\n",
            "\tExperienceForgetting/eval_phase/test_stream/Task000/Exp001 = 0.6735\n",
            "\tTop1_Acc_Exp/eval_phase/test_stream/Task000/Exp001 = 0.0000\n",
            "-- Starting eval on experience 2 (Task 0) from test stream --\n",
            "100%|██████████| 63/63 [00:01<00:00, 57.97it/s]\n",
            "> Eval on experience 2 (Task 0) from test stream ended.\n",
            "\tExperienceForgetting/eval_phase/test_stream/Task000/Exp002 = 0.0000\n",
            "\tTop1_Acc_Exp/eval_phase/test_stream/Task000/Exp002 = 0.0000\n",
            "-- Starting eval on experience 3 (Task 0) from test stream --\n",
            "100%|██████████| 63/63 [00:01<00:00, 59.37it/s]\n",
            "> Eval on experience 3 (Task 0) from test stream ended.\n",
            "\tTop1_Acc_Exp/eval_phase/test_stream/Task000/Exp003 = 0.0000\n",
            "-- Starting eval on experience 4 (Task 0) from test stream --\n",
            "100%|██████████| 63/63 [00:01<00:00, 61.32it/s]\n",
            "> Eval on experience 4 (Task 0) from test stream ended.\n",
            "\tTop1_Acc_Exp/eval_phase/test_stream/Task000/Exp004 = 0.0000\n",
            "-- >> End of eval phase << --\n",
            "\tAccuracy_On_Trained_Experiences/eval_phase/test_stream/Task000 = 0.1250\n",
            "\tStreamForgetting/eval_phase/test_stream = 0.3298\n",
            "\tTop1_Acc_Stream/eval_phase/test_stream/Task000 = 0.1000\n",
            "Start of experience:  4\n",
            "Current Classes:  [8, 9]\n",
            "-- >> Start of training phase << --\n",
            "100%|██████████| 313/313 [00:10<00:00, 30.95it/s]\n",
            "Epoch 0 ended.\n",
            "\tRunningLoss_Epoch/train_phase/train_stream/Task000 = nan\n",
            "\tTop1_Acc_Epoch/train_phase/train_stream/Task000 = 0.0000\n",
            "-- >> End of training phase << --\n",
            "Training completed\n",
            "Computing accuracy on the whole test set\n",
            "-- >> Start of eval phase << --\n",
            "-- Starting eval on experience 0 (Task 0) from test stream --\n",
            "100%|██████████| 63/63 [00:01<00:00, 60.81it/s]\n",
            "> Eval on experience 0 (Task 0) from test stream ended.\n",
            "\tExperienceForgetting/eval_phase/test_stream/Task000/Exp000 = 0.3160\n",
            "\tTop1_Acc_Exp/eval_phase/test_stream/Task000/Exp000 = 0.5000\n",
            "-- Starting eval on experience 1 (Task 0) from test stream --\n",
            "100%|██████████| 63/63 [00:01<00:00, 59.84it/s]\n",
            "> Eval on experience 1 (Task 0) from test stream ended.\n",
            "\tExperienceForgetting/eval_phase/test_stream/Task000/Exp001 = 0.6735\n",
            "\tTop1_Acc_Exp/eval_phase/test_stream/Task000/Exp001 = 0.0000\n",
            "-- Starting eval on experience 2 (Task 0) from test stream --\n",
            "100%|██████████| 63/63 [00:01<00:00, 60.09it/s]\n",
            "> Eval on experience 2 (Task 0) from test stream ended.\n",
            "\tExperienceForgetting/eval_phase/test_stream/Task000/Exp002 = 0.0000\n",
            "\tTop1_Acc_Exp/eval_phase/test_stream/Task000/Exp002 = 0.0000\n",
            "-- Starting eval on experience 3 (Task 0) from test stream --\n",
            "100%|██████████| 63/63 [00:01<00:00, 57.93it/s]\n",
            "> Eval on experience 3 (Task 0) from test stream ended.\n",
            "\tExperienceForgetting/eval_phase/test_stream/Task000/Exp003 = 0.0000\n",
            "\tTop1_Acc_Exp/eval_phase/test_stream/Task000/Exp003 = 0.0000\n",
            "-- Starting eval on experience 4 (Task 0) from test stream --\n",
            "100%|██████████| 63/63 [00:01<00:00, 59.91it/s]\n",
            "> Eval on experience 4 (Task 0) from test stream ended.\n",
            "\tTop1_Acc_Exp/eval_phase/test_stream/Task000/Exp004 = 0.0000\n",
            "-- >> End of eval phase << --\n",
            "\tAccuracy_On_Trained_Experiences/eval_phase/test_stream/Task000 = 0.1000\n",
            "\tStreamForgetting/eval_phase/test_stream = 0.2474\n",
            "\tTop1_Acc_Stream/eval_phase/test_stream/Task000 = 0.1000\n"
          ]
        },
        {
          "output_type": "display_data",
          "data": {
            "text/plain": [
              "<IPython.core.display.HTML object>"
            ],
            "text/html": [
              "Finishing last run (ID:1xyme871) before initializing another..."
            ]
          },
          "metadata": {}
        },
        {
          "output_type": "display_data",
          "data": {
            "text/plain": [
              "VBox(children=(Label(value='0.612 MB of 0.612 MB uploaded\\r'), FloatProgress(value=1.0, max=1.0)))"
            ],
            "application/vnd.jupyter.widget-view+json": {
              "version_major": 2,
              "version_minor": 0,
              "model_id": "8fc870755a034df68b594dc6662612fa"
            }
          },
          "metadata": {}
        },
        {
          "output_type": "display_data",
          "data": {
            "text/plain": [
              "<IPython.core.display.HTML object>"
            ],
            "text/html": [
              "W&B sync reduced upload amount by 1.2%             "
            ]
          },
          "metadata": {}
        },
        {
          "output_type": "display_data",
          "data": {
            "text/plain": [
              "<IPython.core.display.HTML object>"
            ],
            "text/html": [
              "<style>\n",
              "    table.wandb td:nth-child(1) { padding: 0 10px; text-align: left ; width: auto;} td:nth-child(2) {text-align: left ; width: 100%}\n",
              "    .wandb-row { display: flex; flex-direction: row; flex-wrap: wrap; justify-content: flex-start; width: 100% }\n",
              "    .wandb-col { display: flex; flex-direction: column; flex-basis: 100%; flex: 1; padding: 10px; }\n",
              "    </style>\n",
              "<div class=\"wandb-row\"><div class=\"wandb-col\"><h3>Run history:</h3><br/><table class=\"wandb\"><tr><td>Accuracy_On_Trained_Experiences/eval_phase/test_stream/Task000</td><td>█▃▂▁▁</td></tr><tr><td>ExperienceForgetting/eval_phase/test_stream/Task000/Exp000</td><td>█▁▁▁</td></tr><tr><td>ExperienceForgetting/eval_phase/test_stream/Task000/Exp001</td><td>▁▁▁</td></tr><tr><td>ExperienceForgetting/eval_phase/test_stream/Task000/Exp002</td><td>▁▁</td></tr><tr><td>ExperienceForgetting/eval_phase/test_stream/Task000/Exp003</td><td>▁</td></tr><tr><td>RunningLoss_Epoch/train_phase/train_stream/Task000</td><td>▁▁▁▁▁▁▁▁▁▁▁▁▁▁▁▁█                       </td></tr><tr><td>StreamForgetting/eval_phase/test_stream</td><td>▁█▅▄▃</td></tr><tr><td>Top1_Acc_Epoch/train_phase/train_stream/Task000</td><td>█▆▁▁▁</td></tr><tr><td>Top1_Acc_Exp/eval_phase/test_stream/Task000/Exp000</td><td>█▁▅▅▅</td></tr><tr><td>Top1_Acc_Exp/eval_phase/test_stream/Task000/Exp001</td><td>▁█▁▁▁</td></tr><tr><td>Top1_Acc_Exp/eval_phase/test_stream/Task000/Exp002</td><td>▁▁▁▁▁</td></tr><tr><td>Top1_Acc_Exp/eval_phase/test_stream/Task000/Exp003</td><td>▁▁▁▁▁</td></tr><tr><td>Top1_Acc_Exp/eval_phase/test_stream/Task000/Exp004</td><td>▁▁▁▁▁</td></tr><tr><td>Top1_Acc_Stream/eval_phase/test_stream/Task000</td><td>█▅▁▁▁</td></tr><tr><td>TrainingExperience</td><td>▁▃▅▆█</td></tr></table><br/></div><div class=\"wandb-col\"><h3>Run summary:</h3><br/><table class=\"wandb\"><tr><td>Accuracy_On_Trained_Experiences/eval_phase/test_stream/Task000</td><td>0.1</td></tr><tr><td>ExperienceForgetting/eval_phase/test_stream/Task000/Exp000</td><td>0.316</td></tr><tr><td>ExperienceForgetting/eval_phase/test_stream/Task000/Exp001</td><td>0.6735</td></tr><tr><td>ExperienceForgetting/eval_phase/test_stream/Task000/Exp002</td><td>0.0</td></tr><tr><td>ExperienceForgetting/eval_phase/test_stream/Task000/Exp003</td><td>0.0</td></tr><tr><td>RunningLoss_Epoch/train_phase/train_stream/Task000</td><td>nan</td></tr><tr><td>StreamForgetting/eval_phase/test_stream</td><td>0.24737</td></tr><tr><td>Top1_Acc_Epoch/train_phase/train_stream/Task000</td><td>0.0</td></tr><tr><td>Top1_Acc_Exp/eval_phase/test_stream/Task000/Exp000</td><td>0.5</td></tr><tr><td>Top1_Acc_Exp/eval_phase/test_stream/Task000/Exp001</td><td>0.0</td></tr><tr><td>Top1_Acc_Exp/eval_phase/test_stream/Task000/Exp002</td><td>0.0</td></tr><tr><td>Top1_Acc_Exp/eval_phase/test_stream/Task000/Exp003</td><td>0.0</td></tr><tr><td>Top1_Acc_Exp/eval_phase/test_stream/Task000/Exp004</td><td>0.0</td></tr><tr><td>Top1_Acc_Stream/eval_phase/test_stream/Task000</td><td>0.1</td></tr><tr><td>TrainingExperience</td><td>4</td></tr></table><br/></div></div>"
            ]
          },
          "metadata": {}
        },
        {
          "output_type": "display_data",
          "data": {
            "text/plain": [
              "<IPython.core.display.HTML object>"
            ],
            "text/html": [
              " View run <strong style=\"color:#cdcd00\">avalanche_2024_04_20_13_42_12</strong> at: <a href='https://wandb.ai/fabianfuchs/continual%20learning/runs/1xyme871' target=\"_blank\">https://wandb.ai/fabianfuchs/continual%20learning/runs/1xyme871</a><br/> View project at: <a href='https://wandb.ai/fabianfuchs/continual%20learning' target=\"_blank\">https://wandb.ai/fabianfuchs/continual%20learning</a><br/>Synced 5 W&B file(s), 0 media file(s), 6 artifact file(s) and 1 other file(s)"
            ]
          },
          "metadata": {}
        },
        {
          "output_type": "display_data",
          "data": {
            "text/plain": [
              "<IPython.core.display.HTML object>"
            ],
            "text/html": [
              "Find logs at: <code>./wandb/run-20240420_134212-1xyme871/logs</code>"
            ]
          },
          "metadata": {}
        },
        {
          "output_type": "display_data",
          "data": {
            "text/plain": [
              "<IPython.core.display.HTML object>"
            ],
            "text/html": [
              "Successfully finished last run (ID:1xyme871). Initializing new run:<br/>"
            ]
          },
          "metadata": {}
        },
        {
          "output_type": "display_data",
          "data": {
            "text/plain": [
              "<IPython.core.display.HTML object>"
            ],
            "text/html": [
              "Tracking run with wandb version 0.16.6"
            ]
          },
          "metadata": {}
        },
        {
          "output_type": "display_data",
          "data": {
            "text/plain": [
              "<IPython.core.display.HTML object>"
            ],
            "text/html": [
              "Run data is saved locally in <code>/content/wandb/run-20240420_134400-zrrb084k</code>"
            ]
          },
          "metadata": {}
        },
        {
          "output_type": "display_data",
          "data": {
            "text/plain": [
              "<IPython.core.display.HTML object>"
            ],
            "text/html": [
              "Syncing run <strong><a href='https://wandb.ai/fabianfuchs/continual%20learning/runs/zrrb084k' target=\"_blank\">avalanche_2024_04_20_13_44_00</a></strong> to <a href='https://wandb.ai/fabianfuchs/continual%20learning' target=\"_blank\">Weights & Biases</a> (<a href='https://wandb.me/run' target=\"_blank\">docs</a>)<br/>"
            ]
          },
          "metadata": {}
        },
        {
          "output_type": "display_data",
          "data": {
            "text/plain": [
              "<IPython.core.display.HTML object>"
            ],
            "text/html": [
              " View project at <a href='https://wandb.ai/fabianfuchs/continual%20learning' target=\"_blank\">https://wandb.ai/fabianfuchs/continual%20learning</a>"
            ]
          },
          "metadata": {}
        },
        {
          "output_type": "display_data",
          "data": {
            "text/plain": [
              "<IPython.core.display.HTML object>"
            ],
            "text/html": [
              " View run at <a href='https://wandb.ai/fabianfuchs/continual%20learning/runs/zrrb084k' target=\"_blank\">https://wandb.ai/fabianfuchs/continual%20learning/runs/zrrb084k</a>"
            ]
          },
          "metadata": {}
        },
        {
          "output_type": "stream",
          "name": "stdout",
          "text": [
            "Start of experience:  0\n",
            "Current Classes:  [0, 1]\n",
            "-- >> Start of training phase << --\n",
            "100%|██████████| 313/313 [00:08<00:00, 39.06it/s]\n",
            "Epoch 0 ended.\n",
            "\tRunningLoss_Epoch/train_phase/train_stream/Task000 = 0.6888\n",
            "\tTop1_Acc_Epoch/train_phase/train_stream/Task000 = 0.6662\n",
            "-- >> End of training phase << --\n",
            "Training completed\n",
            "Computing accuracy on the whole test set\n",
            "-- >> Start of eval phase << --\n",
            "-- Starting eval on experience 0 (Task 0) from test stream --\n",
            "100%|██████████| 63/63 [00:01<00:00, 59.31it/s]\n",
            "> Eval on experience 0 (Task 0) from test stream ended.\n",
            "\tTop1_Acc_Exp/eval_phase/test_stream/Task000/Exp000 = 0.7975\n",
            "-- Starting eval on experience 1 (Task 0) from test stream --\n",
            "100%|██████████| 63/63 [00:01<00:00, 59.93it/s]\n",
            "> Eval on experience 1 (Task 0) from test stream ended.\n",
            "\tTop1_Acc_Exp/eval_phase/test_stream/Task000/Exp001 = 0.0000\n",
            "-- Starting eval on experience 2 (Task 0) from test stream --\n",
            "100%|██████████| 63/63 [00:01<00:00, 60.65it/s]\n",
            "> Eval on experience 2 (Task 0) from test stream ended.\n",
            "\tTop1_Acc_Exp/eval_phase/test_stream/Task000/Exp002 = 0.0000\n",
            "-- Starting eval on experience 3 (Task 0) from test stream --\n",
            "100%|██████████| 63/63 [00:01<00:00, 60.72it/s]\n",
            "> Eval on experience 3 (Task 0) from test stream ended.\n",
            "\tTop1_Acc_Exp/eval_phase/test_stream/Task000/Exp003 = 0.0000\n",
            "-- Starting eval on experience 4 (Task 0) from test stream --\n",
            "100%|██████████| 63/63 [00:01<00:00, 52.19it/s]\n",
            "> Eval on experience 4 (Task 0) from test stream ended.\n",
            "\tTop1_Acc_Exp/eval_phase/test_stream/Task000/Exp004 = 0.0000\n",
            "-- >> End of eval phase << --\n",
            "\tAccuracy_On_Trained_Experiences/eval_phase/test_stream/Task000 = 0.7975\n",
            "\tStreamForgetting/eval_phase/test_stream = 0.0000\n",
            "\tTop1_Acc_Stream/eval_phase/test_stream/Task000 = 0.1595\n",
            "Start of experience:  1\n",
            "Current Classes:  [2, 3]\n",
            "-- >> Start of training phase << --\n",
            "100%|██████████| 313/313 [00:09<00:00, 34.01it/s]\n",
            "Epoch 0 ended.\n",
            "\tRunningLoss_Epoch/train_phase/train_stream/Task000 = 1.0760\n",
            "\tTop1_Acc_Epoch/train_phase/train_stream/Task000 = 0.5074\n",
            "-- >> End of training phase << --\n",
            "Training completed\n",
            "Computing accuracy on the whole test set\n",
            "-- >> Start of eval phase << --\n",
            "-- Starting eval on experience 0 (Task 0) from test stream --\n",
            "100%|██████████| 63/63 [00:01<00:00, 58.73it/s]\n",
            "> Eval on experience 0 (Task 0) from test stream ended.\n",
            "\tExperienceForgetting/eval_phase/test_stream/Task000/Exp000 = 0.7975\n",
            "\tTop1_Acc_Exp/eval_phase/test_stream/Task000/Exp000 = 0.0000\n",
            "-- Starting eval on experience 1 (Task 0) from test stream --\n",
            "100%|██████████| 63/63 [00:01<00:00, 61.08it/s]\n",
            "> Eval on experience 1 (Task 0) from test stream ended.\n",
            "\tTop1_Acc_Exp/eval_phase/test_stream/Task000/Exp001 = 0.5910\n",
            "-- Starting eval on experience 2 (Task 0) from test stream --\n",
            "100%|██████████| 63/63 [00:01<00:00, 60.56it/s]\n",
            "> Eval on experience 2 (Task 0) from test stream ended.\n",
            "\tTop1_Acc_Exp/eval_phase/test_stream/Task000/Exp002 = 0.0000\n",
            "-- Starting eval on experience 3 (Task 0) from test stream --\n",
            "100%|██████████| 63/63 [00:01<00:00, 61.15it/s]\n",
            "> Eval on experience 3 (Task 0) from test stream ended.\n",
            "\tTop1_Acc_Exp/eval_phase/test_stream/Task000/Exp003 = 0.0000\n",
            "-- Starting eval on experience 4 (Task 0) from test stream --\n",
            "100%|██████████| 63/63 [00:01<00:00, 60.61it/s]\n",
            "> Eval on experience 4 (Task 0) from test stream ended.\n",
            "\tTop1_Acc_Exp/eval_phase/test_stream/Task000/Exp004 = 0.0000\n",
            "-- >> End of eval phase << --\n",
            "\tAccuracy_On_Trained_Experiences/eval_phase/test_stream/Task000 = 0.2955\n",
            "\tStreamForgetting/eval_phase/test_stream = 0.7975\n",
            "\tTop1_Acc_Stream/eval_phase/test_stream/Task000 = 0.1182\n",
            "Start of experience:  2\n",
            "Current Classes:  [4, 5]\n",
            "-- >> Start of training phase << --\n",
            "100%|██████████| 313/313 [00:09<00:00, 32.57it/s]\n",
            "Epoch 0 ended.\n",
            "\tRunningLoss_Epoch/train_phase/train_stream/Task000 = 1.3559\n",
            "\tTop1_Acc_Epoch/train_phase/train_stream/Task000 = 0.4702\n",
            "-- >> End of training phase << --\n",
            "Training completed\n",
            "Computing accuracy on the whole test set\n",
            "-- >> Start of eval phase << --\n",
            "-- Starting eval on experience 0 (Task 0) from test stream --\n",
            "100%|██████████| 63/63 [00:01<00:00, 46.45it/s]\n",
            "> Eval on experience 0 (Task 0) from test stream ended.\n",
            "\tExperienceForgetting/eval_phase/test_stream/Task000/Exp000 = 0.7975\n",
            "\tTop1_Acc_Exp/eval_phase/test_stream/Task000/Exp000 = 0.0000\n",
            "-- Starting eval on experience 1 (Task 0) from test stream --\n",
            "100%|██████████| 63/63 [00:01<00:00, 49.08it/s]\n",
            "> Eval on experience 1 (Task 0) from test stream ended.\n",
            "\tExperienceForgetting/eval_phase/test_stream/Task000/Exp001 = 0.5910\n",
            "\tTop1_Acc_Exp/eval_phase/test_stream/Task000/Exp001 = 0.0000\n",
            "-- Starting eval on experience 2 (Task 0) from test stream --\n",
            "100%|██████████| 63/63 [00:01<00:00, 41.52it/s]\n",
            "> Eval on experience 2 (Task 0) from test stream ended.\n",
            "\tTop1_Acc_Exp/eval_phase/test_stream/Task000/Exp002 = 0.6560\n",
            "-- Starting eval on experience 3 (Task 0) from test stream --\n",
            "100%|██████████| 63/63 [00:01<00:00, 49.25it/s]\n",
            "> Eval on experience 3 (Task 0) from test stream ended.\n",
            "\tTop1_Acc_Exp/eval_phase/test_stream/Task000/Exp003 = 0.0000\n",
            "-- Starting eval on experience 4 (Task 0) from test stream --\n",
            "100%|██████████| 63/63 [00:01<00:00, 60.24it/s]\n",
            "> Eval on experience 4 (Task 0) from test stream ended.\n",
            "\tTop1_Acc_Exp/eval_phase/test_stream/Task000/Exp004 = 0.0000\n",
            "-- >> End of eval phase << --\n",
            "\tAccuracy_On_Trained_Experiences/eval_phase/test_stream/Task000 = 0.2187\n",
            "\tStreamForgetting/eval_phase/test_stream = 0.6943\n",
            "\tTop1_Acc_Stream/eval_phase/test_stream/Task000 = 0.1312\n",
            "Start of experience:  3\n",
            "Current Classes:  [6, 7]\n",
            "-- >> Start of training phase << --\n",
            "100%|██████████| 313/313 [00:09<00:00, 32.53it/s]\n",
            "Epoch 0 ended.\n",
            "\tRunningLoss_Epoch/train_phase/train_stream/Task000 = nan\n",
            "\tTop1_Acc_Epoch/train_phase/train_stream/Task000 = 0.0285\n",
            "-- >> End of training phase << --\n",
            "Training completed\n",
            "Computing accuracy on the whole test set\n",
            "-- >> Start of eval phase << --\n",
            "-- Starting eval on experience 0 (Task 0) from test stream --\n",
            "100%|██████████| 63/63 [00:01<00:00, 59.24it/s]\n",
            "> Eval on experience 0 (Task 0) from test stream ended.\n",
            "\tExperienceForgetting/eval_phase/test_stream/Task000/Exp000 = 0.2975\n",
            "\tTop1_Acc_Exp/eval_phase/test_stream/Task000/Exp000 = 0.5000\n",
            "-- Starting eval on experience 1 (Task 0) from test stream --\n",
            "100%|██████████| 63/63 [00:01<00:00, 59.02it/s]\n",
            "> Eval on experience 1 (Task 0) from test stream ended.\n",
            "\tExperienceForgetting/eval_phase/test_stream/Task000/Exp001 = 0.5910\n",
            "\tTop1_Acc_Exp/eval_phase/test_stream/Task000/Exp001 = 0.0000\n",
            "-- Starting eval on experience 2 (Task 0) from test stream --\n",
            "100%|██████████| 63/63 [00:01<00:00, 58.65it/s]\n",
            "> Eval on experience 2 (Task 0) from test stream ended.\n",
            "\tExperienceForgetting/eval_phase/test_stream/Task000/Exp002 = 0.6560\n",
            "\tTop1_Acc_Exp/eval_phase/test_stream/Task000/Exp002 = 0.0000\n",
            "-- Starting eval on experience 3 (Task 0) from test stream --\n",
            "100%|██████████| 63/63 [00:01<00:00, 55.94it/s]\n",
            "> Eval on experience 3 (Task 0) from test stream ended.\n",
            "\tTop1_Acc_Exp/eval_phase/test_stream/Task000/Exp003 = 0.0000\n",
            "-- Starting eval on experience 4 (Task 0) from test stream --\n",
            "100%|██████████| 63/63 [00:01<00:00, 56.07it/s]\n",
            "> Eval on experience 4 (Task 0) from test stream ended.\n",
            "\tTop1_Acc_Exp/eval_phase/test_stream/Task000/Exp004 = 0.0000\n",
            "-- >> End of eval phase << --\n",
            "\tAccuracy_On_Trained_Experiences/eval_phase/test_stream/Task000 = 0.1250\n",
            "\tStreamForgetting/eval_phase/test_stream = 0.5148\n",
            "\tTop1_Acc_Stream/eval_phase/test_stream/Task000 = 0.1000\n",
            "Start of experience:  4\n",
            "Current Classes:  [8, 9]\n",
            "-- >> Start of training phase << --\n",
            "100%|██████████| 313/313 [00:10<00:00, 30.12it/s]\n",
            "Epoch 0 ended.\n",
            "\tRunningLoss_Epoch/train_phase/train_stream/Task000 = nan\n",
            "\tTop1_Acc_Epoch/train_phase/train_stream/Task000 = 0.0000\n",
            "-- >> End of training phase << --\n",
            "Training completed\n",
            "Computing accuracy on the whole test set\n",
            "-- >> Start of eval phase << --\n",
            "-- Starting eval on experience 0 (Task 0) from test stream --\n",
            "100%|██████████| 63/63 [00:01<00:00, 57.81it/s]\n",
            "> Eval on experience 0 (Task 0) from test stream ended.\n",
            "\tExperienceForgetting/eval_phase/test_stream/Task000/Exp000 = 0.2975\n",
            "\tTop1_Acc_Exp/eval_phase/test_stream/Task000/Exp000 = 0.5000\n",
            "-- Starting eval on experience 1 (Task 0) from test stream --\n",
            "100%|██████████| 63/63 [00:01<00:00, 58.35it/s]\n",
            "> Eval on experience 1 (Task 0) from test stream ended.\n",
            "\tExperienceForgetting/eval_phase/test_stream/Task000/Exp001 = 0.5910\n",
            "\tTop1_Acc_Exp/eval_phase/test_stream/Task000/Exp001 = 0.0000\n",
            "-- Starting eval on experience 2 (Task 0) from test stream --\n",
            "100%|██████████| 63/63 [00:01<00:00, 56.85it/s]\n",
            "> Eval on experience 2 (Task 0) from test stream ended.\n",
            "\tExperienceForgetting/eval_phase/test_stream/Task000/Exp002 = 0.6560\n",
            "\tTop1_Acc_Exp/eval_phase/test_stream/Task000/Exp002 = 0.0000\n",
            "-- Starting eval on experience 3 (Task 0) from test stream --\n",
            "100%|██████████| 63/63 [00:01<00:00, 58.78it/s]\n",
            "> Eval on experience 3 (Task 0) from test stream ended.\n",
            "\tExperienceForgetting/eval_phase/test_stream/Task000/Exp003 = 0.0000\n",
            "\tTop1_Acc_Exp/eval_phase/test_stream/Task000/Exp003 = 0.0000\n",
            "-- Starting eval on experience 4 (Task 0) from test stream --\n",
            "100%|██████████| 63/63 [00:01<00:00, 57.36it/s]\n",
            "> Eval on experience 4 (Task 0) from test stream ended.\n",
            "\tTop1_Acc_Exp/eval_phase/test_stream/Task000/Exp004 = 0.0000\n",
            "-- >> End of eval phase << --\n",
            "\tAccuracy_On_Trained_Experiences/eval_phase/test_stream/Task000 = 0.1000\n",
            "\tStreamForgetting/eval_phase/test_stream = 0.3861\n",
            "\tTop1_Acc_Stream/eval_phase/test_stream/Task000 = 0.1000\n"
          ]
        },
        {
          "output_type": "display_data",
          "data": {
            "text/plain": [
              "<IPython.core.display.HTML object>"
            ],
            "text/html": [
              "Finishing last run (ID:zrrb084k) before initializing another..."
            ]
          },
          "metadata": {}
        },
        {
          "output_type": "display_data",
          "data": {
            "text/plain": [
              "VBox(children=(Label(value='0.491 MB of 0.491 MB uploaded\\r'), FloatProgress(value=1.0, max=1.0)))"
            ],
            "application/vnd.jupyter.widget-view+json": {
              "version_major": 2,
              "version_minor": 0,
              "model_id": "d7220169dbb94c6c9c975d233074f448"
            }
          },
          "metadata": {}
        },
        {
          "output_type": "display_data",
          "data": {
            "text/plain": [
              "<IPython.core.display.HTML object>"
            ],
            "text/html": [
              "<style>\n",
              "    table.wandb td:nth-child(1) { padding: 0 10px; text-align: left ; width: auto;} td:nth-child(2) {text-align: left ; width: 100%}\n",
              "    .wandb-row { display: flex; flex-direction: row; flex-wrap: wrap; justify-content: flex-start; width: 100% }\n",
              "    .wandb-col { display: flex; flex-direction: column; flex-basis: 100%; flex: 1; padding: 10px; }\n",
              "    </style>\n",
              "<div class=\"wandb-row\"><div class=\"wandb-col\"><h3>Run history:</h3><br/><table class=\"wandb\"><tr><td>Accuracy_On_Trained_Experiences/eval_phase/test_stream/Task000</td><td>█▃▂▁▁</td></tr><tr><td>ExperienceForgetting/eval_phase/test_stream/Task000/Exp000</td><td>██▁▁</td></tr><tr><td>ExperienceForgetting/eval_phase/test_stream/Task000/Exp001</td><td>▁▁▁</td></tr><tr><td>ExperienceForgetting/eval_phase/test_stream/Task000/Exp002</td><td>▁▁</td></tr><tr><td>ExperienceForgetting/eval_phase/test_stream/Task000/Exp003</td><td>▁</td></tr><tr><td>RunningLoss_Epoch/train_phase/train_stream/Task000</td><td>▁▁▁▁▁▁▁▁▁▁▁▁▁▁▁▁▁▁▁▁▁▁▁▁█               </td></tr><tr><td>StreamForgetting/eval_phase/test_stream</td><td>▁█▇▆▄</td></tr><tr><td>Top1_Acc_Epoch/train_phase/train_stream/Task000</td><td>█▆▆▁▁</td></tr><tr><td>Top1_Acc_Exp/eval_phase/test_stream/Task000/Exp000</td><td>█▁▁▅▅</td></tr><tr><td>Top1_Acc_Exp/eval_phase/test_stream/Task000/Exp001</td><td>▁█▁▁▁</td></tr><tr><td>Top1_Acc_Exp/eval_phase/test_stream/Task000/Exp002</td><td>▁▁█▁▁</td></tr><tr><td>Top1_Acc_Exp/eval_phase/test_stream/Task000/Exp003</td><td>▁▁▁▁▁</td></tr><tr><td>Top1_Acc_Exp/eval_phase/test_stream/Task000/Exp004</td><td>▁▁▁▁▁</td></tr><tr><td>Top1_Acc_Stream/eval_phase/test_stream/Task000</td><td>█▃▅▁▁</td></tr><tr><td>TrainingExperience</td><td>▁▃▅▆█</td></tr></table><br/></div><div class=\"wandb-col\"><h3>Run summary:</h3><br/><table class=\"wandb\"><tr><td>Accuracy_On_Trained_Experiences/eval_phase/test_stream/Task000</td><td>0.1</td></tr><tr><td>ExperienceForgetting/eval_phase/test_stream/Task000/Exp000</td><td>0.2975</td></tr><tr><td>ExperienceForgetting/eval_phase/test_stream/Task000/Exp001</td><td>0.591</td></tr><tr><td>ExperienceForgetting/eval_phase/test_stream/Task000/Exp002</td><td>0.656</td></tr><tr><td>ExperienceForgetting/eval_phase/test_stream/Task000/Exp003</td><td>0.0</td></tr><tr><td>RunningLoss_Epoch/train_phase/train_stream/Task000</td><td>nan</td></tr><tr><td>StreamForgetting/eval_phase/test_stream</td><td>0.38612</td></tr><tr><td>Top1_Acc_Epoch/train_phase/train_stream/Task000</td><td>0.0</td></tr><tr><td>Top1_Acc_Exp/eval_phase/test_stream/Task000/Exp000</td><td>0.5</td></tr><tr><td>Top1_Acc_Exp/eval_phase/test_stream/Task000/Exp001</td><td>0.0</td></tr><tr><td>Top1_Acc_Exp/eval_phase/test_stream/Task000/Exp002</td><td>0.0</td></tr><tr><td>Top1_Acc_Exp/eval_phase/test_stream/Task000/Exp003</td><td>0.0</td></tr><tr><td>Top1_Acc_Exp/eval_phase/test_stream/Task000/Exp004</td><td>0.0</td></tr><tr><td>Top1_Acc_Stream/eval_phase/test_stream/Task000</td><td>0.1</td></tr><tr><td>TrainingExperience</td><td>4</td></tr></table><br/></div></div>"
            ]
          },
          "metadata": {}
        },
        {
          "output_type": "display_data",
          "data": {
            "text/plain": [
              "<IPython.core.display.HTML object>"
            ],
            "text/html": [
              " View run <strong style=\"color:#cdcd00\">avalanche_2024_04_20_13_44_00</strong> at: <a href='https://wandb.ai/fabianfuchs/continual%20learning/runs/zrrb084k' target=\"_blank\">https://wandb.ai/fabianfuchs/continual%20learning/runs/zrrb084k</a><br/> View project at: <a href='https://wandb.ai/fabianfuchs/continual%20learning' target=\"_blank\">https://wandb.ai/fabianfuchs/continual%20learning</a><br/>Synced 5 W&B file(s), 0 media file(s), 3 artifact file(s) and 0 other file(s)"
            ]
          },
          "metadata": {}
        },
        {
          "output_type": "display_data",
          "data": {
            "text/plain": [
              "<IPython.core.display.HTML object>"
            ],
            "text/html": [
              "Find logs at: <code>./wandb/run-20240420_134400-zrrb084k/logs</code>"
            ]
          },
          "metadata": {}
        },
        {
          "output_type": "display_data",
          "data": {
            "text/plain": [
              "<IPython.core.display.HTML object>"
            ],
            "text/html": [
              "Successfully finished last run (ID:zrrb084k). Initializing new run:<br/>"
            ]
          },
          "metadata": {}
        },
        {
          "output_type": "display_data",
          "data": {
            "text/plain": [
              "<IPython.core.display.HTML object>"
            ],
            "text/html": [
              "Tracking run with wandb version 0.16.6"
            ]
          },
          "metadata": {}
        },
        {
          "output_type": "display_data",
          "data": {
            "text/plain": [
              "<IPython.core.display.HTML object>"
            ],
            "text/html": [
              "Run data is saved locally in <code>/content/wandb/run-20240420_134554-zd6sfquq</code>"
            ]
          },
          "metadata": {}
        },
        {
          "output_type": "display_data",
          "data": {
            "text/plain": [
              "<IPython.core.display.HTML object>"
            ],
            "text/html": [
              "Syncing run <strong><a href='https://wandb.ai/fabianfuchs/continual%20learning/runs/zd6sfquq' target=\"_blank\">avalanche_2024_04_20_13_45_54</a></strong> to <a href='https://wandb.ai/fabianfuchs/continual%20learning' target=\"_blank\">Weights & Biases</a> (<a href='https://wandb.me/run' target=\"_blank\">docs</a>)<br/>"
            ]
          },
          "metadata": {}
        },
        {
          "output_type": "display_data",
          "data": {
            "text/plain": [
              "<IPython.core.display.HTML object>"
            ],
            "text/html": [
              " View project at <a href='https://wandb.ai/fabianfuchs/continual%20learning' target=\"_blank\">https://wandb.ai/fabianfuchs/continual%20learning</a>"
            ]
          },
          "metadata": {}
        },
        {
          "output_type": "display_data",
          "data": {
            "text/plain": [
              "<IPython.core.display.HTML object>"
            ],
            "text/html": [
              " View run at <a href='https://wandb.ai/fabianfuchs/continual%20learning/runs/zd6sfquq' target=\"_blank\">https://wandb.ai/fabianfuchs/continual%20learning/runs/zd6sfquq</a>"
            ]
          },
          "metadata": {}
        },
        {
          "output_type": "stream",
          "name": "stdout",
          "text": [
            "Start of experience:  0\n",
            "Current Classes:  [0, 1]\n",
            "-- >> Start of training phase << --\n",
            "100%|██████████| 313/313 [00:07<00:00, 39.39it/s]\n",
            "Epoch 0 ended.\n",
            "\tRunningLoss_Epoch/train_phase/train_stream/Task000 = 0.7194\n",
            "\tTop1_Acc_Epoch/train_phase/train_stream/Task000 = 0.6436\n",
            "-- >> End of training phase << --\n",
            "Training completed\n",
            "Computing accuracy on the whole test set\n",
            "-- >> Start of eval phase << --\n",
            "-- Starting eval on experience 0 (Task 0) from test stream --\n",
            "100%|██████████| 63/63 [00:01<00:00, 59.23it/s]\n",
            "> Eval on experience 0 (Task 0) from test stream ended.\n",
            "\tTop1_Acc_Exp/eval_phase/test_stream/Task000/Exp000 = 0.8440\n",
            "-- Starting eval on experience 1 (Task 0) from test stream --\n",
            "100%|██████████| 63/63 [00:01<00:00, 59.75it/s]\n",
            "> Eval on experience 1 (Task 0) from test stream ended.\n",
            "\tTop1_Acc_Exp/eval_phase/test_stream/Task000/Exp001 = 0.0000\n",
            "-- Starting eval on experience 2 (Task 0) from test stream --\n",
            "100%|██████████| 63/63 [00:01<00:00, 57.05it/s]\n",
            "> Eval on experience 2 (Task 0) from test stream ended.\n",
            "\tTop1_Acc_Exp/eval_phase/test_stream/Task000/Exp002 = 0.0000\n",
            "-- Starting eval on experience 3 (Task 0) from test stream --\n",
            "100%|██████████| 63/63 [00:01<00:00, 59.23it/s]\n",
            "> Eval on experience 3 (Task 0) from test stream ended.\n",
            "\tTop1_Acc_Exp/eval_phase/test_stream/Task000/Exp003 = 0.0000\n",
            "-- Starting eval on experience 4 (Task 0) from test stream --\n",
            "100%|██████████| 63/63 [00:01<00:00, 59.36it/s]\n",
            "> Eval on experience 4 (Task 0) from test stream ended.\n",
            "\tTop1_Acc_Exp/eval_phase/test_stream/Task000/Exp004 = 0.0000\n",
            "-- >> End of eval phase << --\n",
            "\tAccuracy_On_Trained_Experiences/eval_phase/test_stream/Task000 = 0.8440\n",
            "\tStreamForgetting/eval_phase/test_stream = 0.0000\n",
            "\tTop1_Acc_Stream/eval_phase/test_stream/Task000 = 0.1688\n",
            "Start of experience:  1\n",
            "Current Classes:  [2, 3]\n",
            "-- >> Start of training phase << --\n",
            "100%|██████████| 313/313 [00:09<00:00, 31.30it/s]\n",
            "Epoch 0 ended.\n",
            "\tRunningLoss_Epoch/train_phase/train_stream/Task000 = 1.1133\n",
            "\tTop1_Acc_Epoch/train_phase/train_stream/Task000 = 0.5113\n",
            "-- >> End of training phase << --\n",
            "Training completed\n",
            "Computing accuracy on the whole test set\n",
            "-- >> Start of eval phase << --\n",
            "-- Starting eval on experience 0 (Task 0) from test stream --\n",
            "100%|██████████| 63/63 [00:01<00:00, 48.21it/s]\n",
            "> Eval on experience 0 (Task 0) from test stream ended.\n",
            "\tExperienceForgetting/eval_phase/test_stream/Task000/Exp000 = 0.8440\n",
            "\tTop1_Acc_Exp/eval_phase/test_stream/Task000/Exp000 = 0.0000\n",
            "-- Starting eval on experience 1 (Task 0) from test stream --\n",
            "100%|██████████| 63/63 [00:01<00:00, 43.16it/s]\n",
            "> Eval on experience 1 (Task 0) from test stream ended.\n",
            "\tTop1_Acc_Exp/eval_phase/test_stream/Task000/Exp001 = 0.6805\n",
            "-- Starting eval on experience 2 (Task 0) from test stream --\n",
            "100%|██████████| 63/63 [00:01<00:00, 60.46it/s]\n",
            "> Eval on experience 2 (Task 0) from test stream ended.\n",
            "\tTop1_Acc_Exp/eval_phase/test_stream/Task000/Exp002 = 0.0000\n",
            "-- Starting eval on experience 3 (Task 0) from test stream --\n",
            "100%|██████████| 63/63 [00:01<00:00, 58.18it/s]\n",
            "> Eval on experience 3 (Task 0) from test stream ended.\n",
            "\tTop1_Acc_Exp/eval_phase/test_stream/Task000/Exp003 = 0.0000\n",
            "-- Starting eval on experience 4 (Task 0) from test stream --\n",
            "100%|██████████| 63/63 [00:01<00:00, 61.08it/s]\n",
            "> Eval on experience 4 (Task 0) from test stream ended.\n",
            "\tTop1_Acc_Exp/eval_phase/test_stream/Task000/Exp004 = 0.0000\n",
            "-- >> End of eval phase << --\n",
            "\tAccuracy_On_Trained_Experiences/eval_phase/test_stream/Task000 = 0.3402\n",
            "\tStreamForgetting/eval_phase/test_stream = 0.8440\n",
            "\tTop1_Acc_Stream/eval_phase/test_stream/Task000 = 0.1361\n",
            "Start of experience:  2\n",
            "Current Classes:  [4, 5]\n",
            "-- >> Start of training phase << --\n",
            "100%|██████████| 313/313 [00:09<00:00, 32.49it/s]\n",
            "Epoch 0 ended.\n",
            "\tRunningLoss_Epoch/train_phase/train_stream/Task000 = 1.3302\n",
            "\tTop1_Acc_Epoch/train_phase/train_stream/Task000 = 0.5163\n",
            "-- >> End of training phase << --\n",
            "Training completed\n",
            "Computing accuracy on the whole test set\n",
            "-- >> Start of eval phase << --\n",
            "-- Starting eval on experience 0 (Task 0) from test stream --\n",
            "100%|██████████| 63/63 [00:01<00:00, 59.01it/s]\n",
            "> Eval on experience 0 (Task 0) from test stream ended.\n",
            "\tExperienceForgetting/eval_phase/test_stream/Task000/Exp000 = 0.8440\n",
            "\tTop1_Acc_Exp/eval_phase/test_stream/Task000/Exp000 = 0.0000\n",
            "-- Starting eval on experience 1 (Task 0) from test stream --\n",
            "100%|██████████| 63/63 [00:01<00:00, 58.27it/s]\n",
            "> Eval on experience 1 (Task 0) from test stream ended.\n",
            "\tExperienceForgetting/eval_phase/test_stream/Task000/Exp001 = 0.6805\n",
            "\tTop1_Acc_Exp/eval_phase/test_stream/Task000/Exp001 = 0.0000\n",
            "-- Starting eval on experience 2 (Task 0) from test stream --\n",
            "100%|██████████| 63/63 [00:01<00:00, 59.92it/s]\n",
            "> Eval on experience 2 (Task 0) from test stream ended.\n",
            "\tTop1_Acc_Exp/eval_phase/test_stream/Task000/Exp002 = 0.6415\n",
            "-- Starting eval on experience 3 (Task 0) from test stream --\n",
            "100%|██████████| 63/63 [00:01<00:00, 59.44it/s]\n",
            "> Eval on experience 3 (Task 0) from test stream ended.\n",
            "\tTop1_Acc_Exp/eval_phase/test_stream/Task000/Exp003 = 0.0000\n",
            "-- Starting eval on experience 4 (Task 0) from test stream --\n",
            "100%|██████████| 63/63 [00:01<00:00, 45.33it/s]\n",
            "> Eval on experience 4 (Task 0) from test stream ended.\n",
            "\tTop1_Acc_Exp/eval_phase/test_stream/Task000/Exp004 = 0.0000\n",
            "-- >> End of eval phase << --\n",
            "\tAccuracy_On_Trained_Experiences/eval_phase/test_stream/Task000 = 0.2138\n",
            "\tStreamForgetting/eval_phase/test_stream = 0.7622\n",
            "\tTop1_Acc_Stream/eval_phase/test_stream/Task000 = 0.1283\n",
            "Start of experience:  3\n",
            "Current Classes:  [6, 7]\n",
            "-- >> Start of training phase << --\n",
            "100%|██████████| 313/313 [00:09<00:00, 32.31it/s]\n",
            "Epoch 0 ended.\n",
            "\tRunningLoss_Epoch/train_phase/train_stream/Task000 = nan\n",
            "\tTop1_Acc_Epoch/train_phase/train_stream/Task000 = 0.0118\n",
            "-- >> End of training phase << --\n",
            "Training completed\n",
            "Computing accuracy on the whole test set\n",
            "-- >> Start of eval phase << --\n",
            "-- Starting eval on experience 0 (Task 0) from test stream --\n",
            "100%|██████████| 63/63 [00:01<00:00, 57.96it/s]\n",
            "> Eval on experience 0 (Task 0) from test stream ended.\n",
            "\tExperienceForgetting/eval_phase/test_stream/Task000/Exp000 = 0.3440\n",
            "\tTop1_Acc_Exp/eval_phase/test_stream/Task000/Exp000 = 0.5000\n",
            "-- Starting eval on experience 1 (Task 0) from test stream --\n",
            "100%|██████████| 63/63 [00:01<00:00, 57.93it/s]\n",
            "> Eval on experience 1 (Task 0) from test stream ended.\n",
            "\tExperienceForgetting/eval_phase/test_stream/Task000/Exp001 = 0.6805\n",
            "\tTop1_Acc_Exp/eval_phase/test_stream/Task000/Exp001 = 0.0000\n",
            "-- Starting eval on experience 2 (Task 0) from test stream --\n",
            "100%|██████████| 63/63 [00:01<00:00, 59.70it/s]\n",
            "> Eval on experience 2 (Task 0) from test stream ended.\n",
            "\tExperienceForgetting/eval_phase/test_stream/Task000/Exp002 = 0.6415\n",
            "\tTop1_Acc_Exp/eval_phase/test_stream/Task000/Exp002 = 0.0000\n",
            "-- Starting eval on experience 3 (Task 0) from test stream --\n",
            "100%|██████████| 63/63 [00:01<00:00, 59.32it/s]\n",
            "> Eval on experience 3 (Task 0) from test stream ended.\n",
            "\tTop1_Acc_Exp/eval_phase/test_stream/Task000/Exp003 = 0.0000\n",
            "-- Starting eval on experience 4 (Task 0) from test stream --\n",
            "100%|██████████| 63/63 [00:01<00:00, 60.33it/s]\n",
            "> Eval on experience 4 (Task 0) from test stream ended.\n",
            "\tTop1_Acc_Exp/eval_phase/test_stream/Task000/Exp004 = 0.0000\n",
            "-- >> End of eval phase << --\n",
            "\tAccuracy_On_Trained_Experiences/eval_phase/test_stream/Task000 = 0.1250\n",
            "\tStreamForgetting/eval_phase/test_stream = 0.5553\n",
            "\tTop1_Acc_Stream/eval_phase/test_stream/Task000 = 0.1000\n",
            "Start of experience:  4\n",
            "Current Classes:  [8, 9]\n",
            "-- >> Start of training phase << --\n",
            "100%|██████████| 313/313 [00:10<00:00, 29.56it/s]\n",
            "Epoch 0 ended.\n",
            "\tRunningLoss_Epoch/train_phase/train_stream/Task000 = nan\n",
            "\tTop1_Acc_Epoch/train_phase/train_stream/Task000 = 0.0000\n",
            "-- >> End of training phase << --\n",
            "Training completed\n",
            "Computing accuracy on the whole test set\n",
            "-- >> Start of eval phase << --\n",
            "-- Starting eval on experience 0 (Task 0) from test stream --\n",
            "100%|██████████| 63/63 [00:01<00:00, 44.36it/s]\n",
            "> Eval on experience 0 (Task 0) from test stream ended.\n",
            "\tExperienceForgetting/eval_phase/test_stream/Task000/Exp000 = 0.3440\n",
            "\tTop1_Acc_Exp/eval_phase/test_stream/Task000/Exp000 = 0.5000\n",
            "-- Starting eval on experience 1 (Task 0) from test stream --\n",
            "100%|██████████| 63/63 [00:01<00:00, 48.29it/s]\n",
            "> Eval on experience 1 (Task 0) from test stream ended.\n",
            "\tExperienceForgetting/eval_phase/test_stream/Task000/Exp001 = 0.6805\n",
            "\tTop1_Acc_Exp/eval_phase/test_stream/Task000/Exp001 = 0.0000\n",
            "-- Starting eval on experience 2 (Task 0) from test stream --\n",
            "100%|██████████| 63/63 [00:01<00:00, 58.94it/s]\n",
            "> Eval on experience 2 (Task 0) from test stream ended.\n",
            "\tExperienceForgetting/eval_phase/test_stream/Task000/Exp002 = 0.6415\n",
            "\tTop1_Acc_Exp/eval_phase/test_stream/Task000/Exp002 = 0.0000\n",
            "-- Starting eval on experience 3 (Task 0) from test stream --\n",
            "100%|██████████| 63/63 [00:01<00:00, 59.21it/s]\n",
            "> Eval on experience 3 (Task 0) from test stream ended.\n",
            "\tExperienceForgetting/eval_phase/test_stream/Task000/Exp003 = 0.0000\n",
            "\tTop1_Acc_Exp/eval_phase/test_stream/Task000/Exp003 = 0.0000\n",
            "-- Starting eval on experience 4 (Task 0) from test stream --\n",
            "100%|██████████| 63/63 [00:01<00:00, 57.76it/s]\n",
            "> Eval on experience 4 (Task 0) from test stream ended.\n",
            "\tTop1_Acc_Exp/eval_phase/test_stream/Task000/Exp004 = 0.0000\n",
            "-- >> End of eval phase << --\n",
            "\tAccuracy_On_Trained_Experiences/eval_phase/test_stream/Task000 = 0.1000\n",
            "\tStreamForgetting/eval_phase/test_stream = 0.4165\n",
            "\tTop1_Acc_Stream/eval_phase/test_stream/Task000 = 0.1000\n"
          ]
        },
        {
          "output_type": "display_data",
          "data": {
            "text/plain": [
              "<IPython.core.display.HTML object>"
            ],
            "text/html": [
              "Finishing last run (ID:zd6sfquq) before initializing another..."
            ]
          },
          "metadata": {}
        },
        {
          "output_type": "display_data",
          "data": {
            "text/plain": [
              "VBox(children=(Label(value='0.823 MB of 0.823 MB uploaded\\r'), FloatProgress(value=1.0, max=1.0)))"
            ],
            "application/vnd.jupyter.widget-view+json": {
              "version_major": 2,
              "version_minor": 0,
              "model_id": "5d6bfa4acdf14b4c8f0ead87ad74795c"
            }
          },
          "metadata": {}
        },
        {
          "output_type": "display_data",
          "data": {
            "text/plain": [
              "<IPython.core.display.HTML object>"
            ],
            "text/html": [
              "<style>\n",
              "    table.wandb td:nth-child(1) { padding: 0 10px; text-align: left ; width: auto;} td:nth-child(2) {text-align: left ; width: 100%}\n",
              "    .wandb-row { display: flex; flex-direction: row; flex-wrap: wrap; justify-content: flex-start; width: 100% }\n",
              "    .wandb-col { display: flex; flex-direction: column; flex-basis: 100%; flex: 1; padding: 10px; }\n",
              "    </style>\n",
              "<div class=\"wandb-row\"><div class=\"wandb-col\"><h3>Run history:</h3><br/><table class=\"wandb\"><tr><td>Accuracy_On_Trained_Experiences/eval_phase/test_stream/Task000</td><td>█▃▂▁▁</td></tr><tr><td>ExperienceForgetting/eval_phase/test_stream/Task000/Exp000</td><td>██▁▁</td></tr><tr><td>ExperienceForgetting/eval_phase/test_stream/Task000/Exp001</td><td>▁▁▁</td></tr><tr><td>ExperienceForgetting/eval_phase/test_stream/Task000/Exp002</td><td>▁▁</td></tr><tr><td>ExperienceForgetting/eval_phase/test_stream/Task000/Exp003</td><td>▁</td></tr><tr><td>RunningLoss_Epoch/train_phase/train_stream/Task000</td><td>▁▁▁▁▁▁▁▁▁▁▁▁▁▁▁▁▁▁▁▁▁▁▁▁█               </td></tr><tr><td>StreamForgetting/eval_phase/test_stream</td><td>▁█▇▆▄</td></tr><tr><td>Top1_Acc_Epoch/train_phase/train_stream/Task000</td><td>█▇▇▁▁</td></tr><tr><td>Top1_Acc_Exp/eval_phase/test_stream/Task000/Exp000</td><td>█▁▁▅▅</td></tr><tr><td>Top1_Acc_Exp/eval_phase/test_stream/Task000/Exp001</td><td>▁█▁▁▁</td></tr><tr><td>Top1_Acc_Exp/eval_phase/test_stream/Task000/Exp002</td><td>▁▁█▁▁</td></tr><tr><td>Top1_Acc_Exp/eval_phase/test_stream/Task000/Exp003</td><td>▁▁▁▁▁</td></tr><tr><td>Top1_Acc_Exp/eval_phase/test_stream/Task000/Exp004</td><td>▁▁▁▁▁</td></tr><tr><td>Top1_Acc_Stream/eval_phase/test_stream/Task000</td><td>█▅▄▁▁</td></tr><tr><td>TrainingExperience</td><td>▁▃▅▆█</td></tr></table><br/></div><div class=\"wandb-col\"><h3>Run summary:</h3><br/><table class=\"wandb\"><tr><td>Accuracy_On_Trained_Experiences/eval_phase/test_stream/Task000</td><td>0.1</td></tr><tr><td>ExperienceForgetting/eval_phase/test_stream/Task000/Exp000</td><td>0.344</td></tr><tr><td>ExperienceForgetting/eval_phase/test_stream/Task000/Exp001</td><td>0.6805</td></tr><tr><td>ExperienceForgetting/eval_phase/test_stream/Task000/Exp002</td><td>0.6415</td></tr><tr><td>ExperienceForgetting/eval_phase/test_stream/Task000/Exp003</td><td>0.0</td></tr><tr><td>RunningLoss_Epoch/train_phase/train_stream/Task000</td><td>nan</td></tr><tr><td>StreamForgetting/eval_phase/test_stream</td><td>0.4165</td></tr><tr><td>Top1_Acc_Epoch/train_phase/train_stream/Task000</td><td>0.0</td></tr><tr><td>Top1_Acc_Exp/eval_phase/test_stream/Task000/Exp000</td><td>0.5</td></tr><tr><td>Top1_Acc_Exp/eval_phase/test_stream/Task000/Exp001</td><td>0.0</td></tr><tr><td>Top1_Acc_Exp/eval_phase/test_stream/Task000/Exp002</td><td>0.0</td></tr><tr><td>Top1_Acc_Exp/eval_phase/test_stream/Task000/Exp003</td><td>0.0</td></tr><tr><td>Top1_Acc_Exp/eval_phase/test_stream/Task000/Exp004</td><td>0.0</td></tr><tr><td>Top1_Acc_Stream/eval_phase/test_stream/Task000</td><td>0.1</td></tr><tr><td>TrainingExperience</td><td>4</td></tr></table><br/></div></div>"
            ]
          },
          "metadata": {}
        },
        {
          "output_type": "display_data",
          "data": {
            "text/plain": [
              "<IPython.core.display.HTML object>"
            ],
            "text/html": [
              " View run <strong style=\"color:#cdcd00\">avalanche_2024_04_20_13_45_54</strong> at: <a href='https://wandb.ai/fabianfuchs/continual%20learning/runs/zd6sfquq' target=\"_blank\">https://wandb.ai/fabianfuchs/continual%20learning/runs/zd6sfquq</a><br/> View project at: <a href='https://wandb.ai/fabianfuchs/continual%20learning' target=\"_blank\">https://wandb.ai/fabianfuchs/continual%20learning</a><br/>Synced 5 W&B file(s), 0 media file(s), 7 artifact file(s) and 1 other file(s)"
            ]
          },
          "metadata": {}
        },
        {
          "output_type": "display_data",
          "data": {
            "text/plain": [
              "<IPython.core.display.HTML object>"
            ],
            "text/html": [
              "Find logs at: <code>./wandb/run-20240420_134554-zd6sfquq/logs</code>"
            ]
          },
          "metadata": {}
        },
        {
          "output_type": "display_data",
          "data": {
            "text/plain": [
              "<IPython.core.display.HTML object>"
            ],
            "text/html": [
              "Successfully finished last run (ID:zd6sfquq). Initializing new run:<br/>"
            ]
          },
          "metadata": {}
        },
        {
          "output_type": "display_data",
          "data": {
            "text/plain": [
              "<IPython.core.display.HTML object>"
            ],
            "text/html": [
              "Tracking run with wandb version 0.16.6"
            ]
          },
          "metadata": {}
        },
        {
          "output_type": "display_data",
          "data": {
            "text/plain": [
              "<IPython.core.display.HTML object>"
            ],
            "text/html": [
              "Run data is saved locally in <code>/content/wandb/run-20240420_134745-5bv6vc6s</code>"
            ]
          },
          "metadata": {}
        },
        {
          "output_type": "display_data",
          "data": {
            "text/plain": [
              "<IPython.core.display.HTML object>"
            ],
            "text/html": [
              "Syncing run <strong><a href='https://wandb.ai/fabianfuchs/continual%20learning/runs/5bv6vc6s' target=\"_blank\">avalanche_2024_04_20_13_47_45</a></strong> to <a href='https://wandb.ai/fabianfuchs/continual%20learning' target=\"_blank\">Weights & Biases</a> (<a href='https://wandb.me/run' target=\"_blank\">docs</a>)<br/>"
            ]
          },
          "metadata": {}
        },
        {
          "output_type": "display_data",
          "data": {
            "text/plain": [
              "<IPython.core.display.HTML object>"
            ],
            "text/html": [
              " View project at <a href='https://wandb.ai/fabianfuchs/continual%20learning' target=\"_blank\">https://wandb.ai/fabianfuchs/continual%20learning</a>"
            ]
          },
          "metadata": {}
        },
        {
          "output_type": "display_data",
          "data": {
            "text/plain": [
              "<IPython.core.display.HTML object>"
            ],
            "text/html": [
              " View run at <a href='https://wandb.ai/fabianfuchs/continual%20learning/runs/5bv6vc6s' target=\"_blank\">https://wandb.ai/fabianfuchs/continual%20learning/runs/5bv6vc6s</a>"
            ]
          },
          "metadata": {}
        },
        {
          "output_type": "stream",
          "name": "stdout",
          "text": [
            "Start of experience:  0\n",
            "Current Classes:  [0, 1]\n",
            "-- >> Start of training phase << --\n",
            "100%|██████████| 313/313 [00:08<00:00, 38.69it/s]\n",
            "Epoch 0 ended.\n",
            "\tRunningLoss_Epoch/train_phase/train_stream/Task000 = 0.7241\n",
            "\tTop1_Acc_Epoch/train_phase/train_stream/Task000 = 0.6502\n",
            "-- >> End of training phase << --\n",
            "Training completed\n",
            "Computing accuracy on the whole test set\n",
            "-- >> Start of eval phase << --\n",
            "-- Starting eval on experience 0 (Task 0) from test stream --\n",
            "100%|██████████| 63/63 [00:01<00:00, 58.13it/s]\n",
            "> Eval on experience 0 (Task 0) from test stream ended.\n",
            "\tTop1_Acc_Exp/eval_phase/test_stream/Task000/Exp000 = 0.7645\n",
            "-- Starting eval on experience 1 (Task 0) from test stream --\n",
            "100%|██████████| 63/63 [00:01<00:00, 58.01it/s]\n",
            "> Eval on experience 1 (Task 0) from test stream ended.\n",
            "\tTop1_Acc_Exp/eval_phase/test_stream/Task000/Exp001 = 0.0000\n",
            "-- Starting eval on experience 2 (Task 0) from test stream --\n",
            "100%|██████████| 63/63 [00:01<00:00, 60.97it/s]\n",
            "> Eval on experience 2 (Task 0) from test stream ended.\n",
            "\tTop1_Acc_Exp/eval_phase/test_stream/Task000/Exp002 = 0.0000\n",
            "-- Starting eval on experience 3 (Task 0) from test stream --\n",
            "100%|██████████| 63/63 [00:01<00:00, 59.32it/s]\n",
            "> Eval on experience 3 (Task 0) from test stream ended.\n",
            "\tTop1_Acc_Exp/eval_phase/test_stream/Task000/Exp003 = 0.0000\n",
            "-- Starting eval on experience 4 (Task 0) from test stream --\n",
            "100%|██████████| 63/63 [00:01<00:00, 59.04it/s]\n",
            "> Eval on experience 4 (Task 0) from test stream ended.\n",
            "\tTop1_Acc_Exp/eval_phase/test_stream/Task000/Exp004 = 0.0000\n",
            "-- >> End of eval phase << --\n",
            "\tAccuracy_On_Trained_Experiences/eval_phase/test_stream/Task000 = 0.7645\n",
            "\tStreamForgetting/eval_phase/test_stream = 0.0000\n",
            "\tTop1_Acc_Stream/eval_phase/test_stream/Task000 = 0.1529\n",
            "Start of experience:  1\n",
            "Current Classes:  [2, 3]\n",
            "-- >> Start of training phase << --\n",
            "100%|██████████| 313/313 [00:09<00:00, 34.59it/s]\n",
            "Epoch 0 ended.\n",
            "\tRunningLoss_Epoch/train_phase/train_stream/Task000 = 1.1064\n",
            "\tTop1_Acc_Epoch/train_phase/train_stream/Task000 = 0.4994\n",
            "-- >> End of training phase << --\n",
            "Training completed\n",
            "Computing accuracy on the whole test set\n",
            "-- >> Start of eval phase << --\n",
            "-- Starting eval on experience 0 (Task 0) from test stream --\n",
            "100%|██████████| 63/63 [00:01<00:00, 46.67it/s]\n",
            "> Eval on experience 0 (Task 0) from test stream ended.\n",
            "\tExperienceForgetting/eval_phase/test_stream/Task000/Exp000 = 0.7645\n",
            "\tTop1_Acc_Exp/eval_phase/test_stream/Task000/Exp000 = 0.0000\n",
            "-- Starting eval on experience 1 (Task 0) from test stream --\n",
            "100%|██████████| 63/63 [00:01<00:00, 47.09it/s]\n",
            "> Eval on experience 1 (Task 0) from test stream ended.\n",
            "\tTop1_Acc_Exp/eval_phase/test_stream/Task000/Exp001 = 0.6790\n",
            "-- Starting eval on experience 2 (Task 0) from test stream --\n",
            "100%|██████████| 63/63 [00:01<00:00, 60.32it/s]\n",
            "> Eval on experience 2 (Task 0) from test stream ended.\n",
            "\tTop1_Acc_Exp/eval_phase/test_stream/Task000/Exp002 = 0.0000\n",
            "-- Starting eval on experience 3 (Task 0) from test stream --\n",
            "100%|██████████| 63/63 [00:01<00:00, 58.86it/s]\n",
            "> Eval on experience 3 (Task 0) from test stream ended.\n",
            "\tTop1_Acc_Exp/eval_phase/test_stream/Task000/Exp003 = 0.0000\n",
            "-- Starting eval on experience 4 (Task 0) from test stream --\n",
            "100%|██████████| 63/63 [00:01<00:00, 54.91it/s]\n",
            "> Eval on experience 4 (Task 0) from test stream ended.\n",
            "\tTop1_Acc_Exp/eval_phase/test_stream/Task000/Exp004 = 0.0000\n",
            "-- >> End of eval phase << --\n",
            "\tAccuracy_On_Trained_Experiences/eval_phase/test_stream/Task000 = 0.3395\n",
            "\tStreamForgetting/eval_phase/test_stream = 0.7645\n",
            "\tTop1_Acc_Stream/eval_phase/test_stream/Task000 = 0.1358\n",
            "Start of experience:  2\n",
            "Current Classes:  [4, 5]\n",
            "-- >> Start of training phase << --\n",
            "100%|██████████| 313/313 [00:09<00:00, 32.36it/s]\n",
            "Epoch 0 ended.\n",
            "\tRunningLoss_Epoch/train_phase/train_stream/Task000 = 1.3364\n",
            "\tTop1_Acc_Epoch/train_phase/train_stream/Task000 = 0.5301\n",
            "-- >> End of training phase << --\n",
            "Training completed\n",
            "Computing accuracy on the whole test set\n",
            "-- >> Start of eval phase << --\n",
            "-- Starting eval on experience 0 (Task 0) from test stream --\n",
            "100%|██████████| 63/63 [00:01<00:00, 57.48it/s]\n",
            "> Eval on experience 0 (Task 0) from test stream ended.\n",
            "\tExperienceForgetting/eval_phase/test_stream/Task000/Exp000 = 0.7645\n",
            "\tTop1_Acc_Exp/eval_phase/test_stream/Task000/Exp000 = 0.0000\n",
            "-- Starting eval on experience 1 (Task 0) from test stream --\n",
            "100%|██████████| 63/63 [00:01<00:00, 59.08it/s]\n",
            "> Eval on experience 1 (Task 0) from test stream ended.\n",
            "\tExperienceForgetting/eval_phase/test_stream/Task000/Exp001 = 0.6790\n",
            "\tTop1_Acc_Exp/eval_phase/test_stream/Task000/Exp001 = 0.0000\n",
            "-- Starting eval on experience 2 (Task 0) from test stream --\n",
            "100%|██████████| 63/63 [00:01<00:00, 51.27it/s]\n",
            "> Eval on experience 2 (Task 0) from test stream ended.\n",
            "\tTop1_Acc_Exp/eval_phase/test_stream/Task000/Exp002 = 0.6450\n",
            "-- Starting eval on experience 3 (Task 0) from test stream --\n",
            "100%|██████████| 63/63 [00:01<00:00, 48.95it/s]\n",
            "> Eval on experience 3 (Task 0) from test stream ended.\n",
            "\tTop1_Acc_Exp/eval_phase/test_stream/Task000/Exp003 = 0.0000\n",
            "-- Starting eval on experience 4 (Task 0) from test stream --\n",
            "100%|██████████| 63/63 [00:01<00:00, 42.65it/s]\n",
            "> Eval on experience 4 (Task 0) from test stream ended.\n",
            "\tTop1_Acc_Exp/eval_phase/test_stream/Task000/Exp004 = 0.0000\n",
            "-- >> End of eval phase << --\n",
            "\tAccuracy_On_Trained_Experiences/eval_phase/test_stream/Task000 = 0.2150\n",
            "\tStreamForgetting/eval_phase/test_stream = 0.7218\n",
            "\tTop1_Acc_Stream/eval_phase/test_stream/Task000 = 0.1290\n",
            "Start of experience:  3\n",
            "Current Classes:  [6, 7]\n",
            "-- >> Start of training phase << --\n",
            "100%|██████████| 313/313 [00:09<00:00, 32.98it/s]\n",
            "Epoch 0 ended.\n",
            "\tRunningLoss_Epoch/train_phase/train_stream/Task000 = nan\n",
            "\tTop1_Acc_Epoch/train_phase/train_stream/Task000 = 0.0011\n",
            "-- >> End of training phase << --\n",
            "Training completed\n",
            "Computing accuracy on the whole test set\n",
            "-- >> Start of eval phase << --\n",
            "-- Starting eval on experience 0 (Task 0) from test stream --\n",
            "100%|██████████| 63/63 [00:01<00:00, 58.01it/s]\n",
            "> Eval on experience 0 (Task 0) from test stream ended.\n",
            "\tExperienceForgetting/eval_phase/test_stream/Task000/Exp000 = 0.2645\n",
            "\tTop1_Acc_Exp/eval_phase/test_stream/Task000/Exp000 = 0.5000\n",
            "-- Starting eval on experience 1 (Task 0) from test stream --\n",
            "100%|██████████| 63/63 [00:01<00:00, 57.50it/s]\n",
            "> Eval on experience 1 (Task 0) from test stream ended.\n",
            "\tExperienceForgetting/eval_phase/test_stream/Task000/Exp001 = 0.6790\n",
            "\tTop1_Acc_Exp/eval_phase/test_stream/Task000/Exp001 = 0.0000\n",
            "-- Starting eval on experience 2 (Task 0) from test stream --\n",
            "100%|██████████| 63/63 [00:01<00:00, 56.20it/s]\n",
            "> Eval on experience 2 (Task 0) from test stream ended.\n",
            "\tExperienceForgetting/eval_phase/test_stream/Task000/Exp002 = 0.6450\n",
            "\tTop1_Acc_Exp/eval_phase/test_stream/Task000/Exp002 = 0.0000\n",
            "-- Starting eval on experience 3 (Task 0) from test stream --\n",
            "100%|██████████| 63/63 [00:01<00:00, 58.92it/s]\n",
            "> Eval on experience 3 (Task 0) from test stream ended.\n",
            "\tTop1_Acc_Exp/eval_phase/test_stream/Task000/Exp003 = 0.0000\n",
            "-- Starting eval on experience 4 (Task 0) from test stream --\n",
            "100%|██████████| 63/63 [00:01<00:00, 60.16it/s]\n",
            "> Eval on experience 4 (Task 0) from test stream ended.\n",
            "\tTop1_Acc_Exp/eval_phase/test_stream/Task000/Exp004 = 0.0000\n",
            "-- >> End of eval phase << --\n",
            "\tAccuracy_On_Trained_Experiences/eval_phase/test_stream/Task000 = 0.1250\n",
            "\tStreamForgetting/eval_phase/test_stream = 0.5295\n",
            "\tTop1_Acc_Stream/eval_phase/test_stream/Task000 = 0.1000\n",
            "Start of experience:  4\n",
            "Current Classes:  [8, 9]\n",
            "-- >> Start of training phase << --\n",
            "100%|██████████| 313/313 [00:10<00:00, 29.67it/s]\n",
            "Epoch 0 ended.\n",
            "\tRunningLoss_Epoch/train_phase/train_stream/Task000 = nan\n",
            "\tTop1_Acc_Epoch/train_phase/train_stream/Task000 = 0.0000\n",
            "-- >> End of training phase << --\n",
            "Training completed\n",
            "Computing accuracy on the whole test set\n",
            "-- >> Start of eval phase << --\n",
            "-- Starting eval on experience 0 (Task 0) from test stream --\n",
            "100%|██████████| 63/63 [00:01<00:00, 54.78it/s]\n",
            "> Eval on experience 0 (Task 0) from test stream ended.\n",
            "\tExperienceForgetting/eval_phase/test_stream/Task000/Exp000 = 0.2645\n",
            "\tTop1_Acc_Exp/eval_phase/test_stream/Task000/Exp000 = 0.5000\n",
            "-- Starting eval on experience 1 (Task 0) from test stream --\n",
            "100%|██████████| 63/63 [00:01<00:00, 55.37it/s]\n",
            "> Eval on experience 1 (Task 0) from test stream ended.\n",
            "\tExperienceForgetting/eval_phase/test_stream/Task000/Exp001 = 0.6790\n",
            "\tTop1_Acc_Exp/eval_phase/test_stream/Task000/Exp001 = 0.0000\n",
            "-- Starting eval on experience 2 (Task 0) from test stream --\n",
            "100%|██████████| 63/63 [00:01<00:00, 57.18it/s]\n",
            "> Eval on experience 2 (Task 0) from test stream ended.\n",
            "\tExperienceForgetting/eval_phase/test_stream/Task000/Exp002 = 0.6450\n",
            "\tTop1_Acc_Exp/eval_phase/test_stream/Task000/Exp002 = 0.0000\n",
            "-- Starting eval on experience 3 (Task 0) from test stream --\n",
            "100%|██████████| 63/63 [00:01<00:00, 54.31it/s]\n",
            "> Eval on experience 3 (Task 0) from test stream ended.\n",
            "\tExperienceForgetting/eval_phase/test_stream/Task000/Exp003 = 0.0000\n",
            "\tTop1_Acc_Exp/eval_phase/test_stream/Task000/Exp003 = 0.0000\n",
            "-- Starting eval on experience 4 (Task 0) from test stream --\n",
            "100%|██████████| 63/63 [00:01<00:00, 58.11it/s]\n",
            "> Eval on experience 4 (Task 0) from test stream ended.\n",
            "\tTop1_Acc_Exp/eval_phase/test_stream/Task000/Exp004 = 0.0000\n",
            "-- >> End of eval phase << --\n",
            "\tAccuracy_On_Trained_Experiences/eval_phase/test_stream/Task000 = 0.1000\n",
            "\tStreamForgetting/eval_phase/test_stream = 0.3971\n",
            "\tTop1_Acc_Stream/eval_phase/test_stream/Task000 = 0.1000\n"
          ]
        },
        {
          "output_type": "display_data",
          "data": {
            "text/plain": [
              "<IPython.core.display.HTML object>"
            ],
            "text/html": [
              "Finishing last run (ID:5bv6vc6s) before initializing another..."
            ]
          },
          "metadata": {}
        },
        {
          "output_type": "display_data",
          "data": {
            "text/plain": [
              "VBox(children=(Label(value='0.491 MB of 0.491 MB uploaded\\r'), FloatProgress(value=1.0, max=1.0)))"
            ],
            "application/vnd.jupyter.widget-view+json": {
              "version_major": 2,
              "version_minor": 0,
              "model_id": "b8d34dec37b841c585774fc37d31134d"
            }
          },
          "metadata": {}
        },
        {
          "output_type": "display_data",
          "data": {
            "text/plain": [
              "<IPython.core.display.HTML object>"
            ],
            "text/html": [
              "<style>\n",
              "    table.wandb td:nth-child(1) { padding: 0 10px; text-align: left ; width: auto;} td:nth-child(2) {text-align: left ; width: 100%}\n",
              "    .wandb-row { display: flex; flex-direction: row; flex-wrap: wrap; justify-content: flex-start; width: 100% }\n",
              "    .wandb-col { display: flex; flex-direction: column; flex-basis: 100%; flex: 1; padding: 10px; }\n",
              "    </style>\n",
              "<div class=\"wandb-row\"><div class=\"wandb-col\"><h3>Run history:</h3><br/><table class=\"wandb\"><tr><td>Accuracy_On_Trained_Experiences/eval_phase/test_stream/Task000</td><td>█▄▂▁▁</td></tr><tr><td>ExperienceForgetting/eval_phase/test_stream/Task000/Exp000</td><td>██▁▁</td></tr><tr><td>ExperienceForgetting/eval_phase/test_stream/Task000/Exp001</td><td>▁▁▁</td></tr><tr><td>ExperienceForgetting/eval_phase/test_stream/Task000/Exp002</td><td>▁▁</td></tr><tr><td>ExperienceForgetting/eval_phase/test_stream/Task000/Exp003</td><td>▁</td></tr><tr><td>RunningLoss_Epoch/train_phase/train_stream/Task000</td><td>▂▂▁▁▁▁▁▁▅▃▃▂▂▂▂▂█▄▃▃▂▂▂▂                </td></tr><tr><td>StreamForgetting/eval_phase/test_stream</td><td>▁██▆▅</td></tr><tr><td>Top1_Acc_Epoch/train_phase/train_stream/Task000</td><td>█▆▇▁▁</td></tr><tr><td>Top1_Acc_Exp/eval_phase/test_stream/Task000/Exp000</td><td>█▁▁▆▆</td></tr><tr><td>Top1_Acc_Exp/eval_phase/test_stream/Task000/Exp001</td><td>▁█▁▁▁</td></tr><tr><td>Top1_Acc_Exp/eval_phase/test_stream/Task000/Exp002</td><td>▁▁█▁▁</td></tr><tr><td>Top1_Acc_Exp/eval_phase/test_stream/Task000/Exp003</td><td>▁▁▁▁▁</td></tr><tr><td>Top1_Acc_Exp/eval_phase/test_stream/Task000/Exp004</td><td>▁▁▁▁▁</td></tr><tr><td>Top1_Acc_Stream/eval_phase/test_stream/Task000</td><td>█▆▅▁▁</td></tr><tr><td>TrainingExperience</td><td>▁▃▅▆█</td></tr></table><br/></div><div class=\"wandb-col\"><h3>Run summary:</h3><br/><table class=\"wandb\"><tr><td>Accuracy_On_Trained_Experiences/eval_phase/test_stream/Task000</td><td>0.1</td></tr><tr><td>ExperienceForgetting/eval_phase/test_stream/Task000/Exp000</td><td>0.2645</td></tr><tr><td>ExperienceForgetting/eval_phase/test_stream/Task000/Exp001</td><td>0.679</td></tr><tr><td>ExperienceForgetting/eval_phase/test_stream/Task000/Exp002</td><td>0.645</td></tr><tr><td>ExperienceForgetting/eval_phase/test_stream/Task000/Exp003</td><td>0.0</td></tr><tr><td>RunningLoss_Epoch/train_phase/train_stream/Task000</td><td>nan</td></tr><tr><td>StreamForgetting/eval_phase/test_stream</td><td>0.39713</td></tr><tr><td>Top1_Acc_Epoch/train_phase/train_stream/Task000</td><td>0.0</td></tr><tr><td>Top1_Acc_Exp/eval_phase/test_stream/Task000/Exp000</td><td>0.5</td></tr><tr><td>Top1_Acc_Exp/eval_phase/test_stream/Task000/Exp001</td><td>0.0</td></tr><tr><td>Top1_Acc_Exp/eval_phase/test_stream/Task000/Exp002</td><td>0.0</td></tr><tr><td>Top1_Acc_Exp/eval_phase/test_stream/Task000/Exp003</td><td>0.0</td></tr><tr><td>Top1_Acc_Exp/eval_phase/test_stream/Task000/Exp004</td><td>0.0</td></tr><tr><td>Top1_Acc_Stream/eval_phase/test_stream/Task000</td><td>0.1</td></tr><tr><td>TrainingExperience</td><td>4</td></tr></table><br/></div></div>"
            ]
          },
          "metadata": {}
        },
        {
          "output_type": "display_data",
          "data": {
            "text/plain": [
              "<IPython.core.display.HTML object>"
            ],
            "text/html": [
              " View run <strong style=\"color:#cdcd00\">avalanche_2024_04_20_13_47_45</strong> at: <a href='https://wandb.ai/fabianfuchs/continual%20learning/runs/5bv6vc6s' target=\"_blank\">https://wandb.ai/fabianfuchs/continual%20learning/runs/5bv6vc6s</a><br/> View project at: <a href='https://wandb.ai/fabianfuchs/continual%20learning' target=\"_blank\">https://wandb.ai/fabianfuchs/continual%20learning</a><br/>Synced 5 W&B file(s), 0 media file(s), 3 artifact file(s) and 0 other file(s)"
            ]
          },
          "metadata": {}
        },
        {
          "output_type": "display_data",
          "data": {
            "text/plain": [
              "<IPython.core.display.HTML object>"
            ],
            "text/html": [
              "Find logs at: <code>./wandb/run-20240420_134745-5bv6vc6s/logs</code>"
            ]
          },
          "metadata": {}
        },
        {
          "output_type": "display_data",
          "data": {
            "text/plain": [
              "<IPython.core.display.HTML object>"
            ],
            "text/html": [
              "Successfully finished last run (ID:5bv6vc6s). Initializing new run:<br/>"
            ]
          },
          "metadata": {}
        },
        {
          "output_type": "display_data",
          "data": {
            "text/plain": [
              "<IPython.core.display.HTML object>"
            ],
            "text/html": [
              "Tracking run with wandb version 0.16.6"
            ]
          },
          "metadata": {}
        },
        {
          "output_type": "display_data",
          "data": {
            "text/plain": [
              "<IPython.core.display.HTML object>"
            ],
            "text/html": [
              "Run data is saved locally in <code>/content/wandb/run-20240420_134940-1r2k8tmj</code>"
            ]
          },
          "metadata": {}
        },
        {
          "output_type": "display_data",
          "data": {
            "text/plain": [
              "<IPython.core.display.HTML object>"
            ],
            "text/html": [
              "Syncing run <strong><a href='https://wandb.ai/fabianfuchs/continual%20learning/runs/1r2k8tmj' target=\"_blank\">avalanche_2024_04_20_13_49_40</a></strong> to <a href='https://wandb.ai/fabianfuchs/continual%20learning' target=\"_blank\">Weights & Biases</a> (<a href='https://wandb.me/run' target=\"_blank\">docs</a>)<br/>"
            ]
          },
          "metadata": {}
        },
        {
          "output_type": "display_data",
          "data": {
            "text/plain": [
              "<IPython.core.display.HTML object>"
            ],
            "text/html": [
              " View project at <a href='https://wandb.ai/fabianfuchs/continual%20learning' target=\"_blank\">https://wandb.ai/fabianfuchs/continual%20learning</a>"
            ]
          },
          "metadata": {}
        },
        {
          "output_type": "display_data",
          "data": {
            "text/plain": [
              "<IPython.core.display.HTML object>"
            ],
            "text/html": [
              " View run at <a href='https://wandb.ai/fabianfuchs/continual%20learning/runs/1r2k8tmj' target=\"_blank\">https://wandb.ai/fabianfuchs/continual%20learning/runs/1r2k8tmj</a>"
            ]
          },
          "metadata": {}
        },
        {
          "output_type": "stream",
          "name": "stdout",
          "text": [
            "Start of experience:  0\n",
            "Current Classes:  [0, 1]\n",
            "-- >> Start of training phase << --\n",
            "100%|██████████| 313/313 [00:07<00:00, 39.73it/s]\n",
            "Epoch 0 ended.\n",
            "\tRunningLoss_Epoch/train_phase/train_stream/Task000 = 0.6891\n",
            "\tTop1_Acc_Epoch/train_phase/train_stream/Task000 = 0.6604\n",
            "-- >> End of training phase << --\n",
            "Training completed\n",
            "Computing accuracy on the whole test set\n",
            "-- >> Start of eval phase << --\n",
            "-- Starting eval on experience 0 (Task 0) from test stream --\n",
            "100%|██████████| 63/63 [00:01<00:00, 58.48it/s]\n",
            "> Eval on experience 0 (Task 0) from test stream ended.\n",
            "\tTop1_Acc_Exp/eval_phase/test_stream/Task000/Exp000 = 0.8380\n",
            "-- Starting eval on experience 1 (Task 0) from test stream --\n",
            "100%|██████████| 63/63 [00:01<00:00, 57.62it/s]\n",
            "> Eval on experience 1 (Task 0) from test stream ended.\n",
            "\tTop1_Acc_Exp/eval_phase/test_stream/Task000/Exp001 = 0.0000\n",
            "-- Starting eval on experience 2 (Task 0) from test stream --\n",
            "100%|██████████| 63/63 [00:01<00:00, 58.84it/s]\n",
            "> Eval on experience 2 (Task 0) from test stream ended.\n",
            "\tTop1_Acc_Exp/eval_phase/test_stream/Task000/Exp002 = 0.0000\n",
            "-- Starting eval on experience 3 (Task 0) from test stream --\n",
            "100%|██████████| 63/63 [00:01<00:00, 59.89it/s]\n",
            "> Eval on experience 3 (Task 0) from test stream ended.\n",
            "\tTop1_Acc_Exp/eval_phase/test_stream/Task000/Exp003 = 0.0000\n",
            "-- Starting eval on experience 4 (Task 0) from test stream --\n",
            "100%|██████████| 63/63 [00:01<00:00, 56.99it/s]\n",
            "> Eval on experience 4 (Task 0) from test stream ended.\n",
            "\tTop1_Acc_Exp/eval_phase/test_stream/Task000/Exp004 = 0.0000\n",
            "-- >> End of eval phase << --\n",
            "\tAccuracy_On_Trained_Experiences/eval_phase/test_stream/Task000 = 0.8380\n",
            "\tStreamForgetting/eval_phase/test_stream = 0.0000\n",
            "\tTop1_Acc_Stream/eval_phase/test_stream/Task000 = 0.1676\n",
            "Start of experience:  1\n",
            "Current Classes:  [2, 3]\n",
            "-- >> Start of training phase << --\n",
            "100%|██████████| 313/313 [00:09<00:00, 32.91it/s]\n",
            "Epoch 0 ended.\n",
            "\tRunningLoss_Epoch/train_phase/train_stream/Task000 = 1.0976\n",
            "\tTop1_Acc_Epoch/train_phase/train_stream/Task000 = 0.5397\n",
            "-- >> End of training phase << --\n",
            "Training completed\n",
            "Computing accuracy on the whole test set\n",
            "-- >> Start of eval phase << --\n",
            "-- Starting eval on experience 0 (Task 0) from test stream --\n",
            "100%|██████████| 63/63 [00:01<00:00, 49.19it/s]\n",
            "> Eval on experience 0 (Task 0) from test stream ended.\n",
            "\tExperienceForgetting/eval_phase/test_stream/Task000/Exp000 = 0.8380\n",
            "\tTop1_Acc_Exp/eval_phase/test_stream/Task000/Exp000 = 0.0000\n",
            "-- Starting eval on experience 1 (Task 0) from test stream --\n",
            "100%|██████████| 63/63 [00:01<00:00, 48.20it/s]\n",
            "> Eval on experience 1 (Task 0) from test stream ended.\n",
            "\tTop1_Acc_Exp/eval_phase/test_stream/Task000/Exp001 = 0.6780\n",
            "-- Starting eval on experience 2 (Task 0) from test stream --\n",
            "100%|██████████| 63/63 [00:01<00:00, 40.78it/s]\n",
            "> Eval on experience 2 (Task 0) from test stream ended.\n",
            "\tTop1_Acc_Exp/eval_phase/test_stream/Task000/Exp002 = 0.0000\n",
            "-- Starting eval on experience 3 (Task 0) from test stream --\n",
            "100%|██████████| 63/63 [00:01<00:00, 57.48it/s]\n",
            "> Eval on experience 3 (Task 0) from test stream ended.\n",
            "\tTop1_Acc_Exp/eval_phase/test_stream/Task000/Exp003 = 0.0000\n",
            "-- Starting eval on experience 4 (Task 0) from test stream --\n",
            "100%|██████████| 63/63 [00:01<00:00, 59.49it/s]\n",
            "> Eval on experience 4 (Task 0) from test stream ended.\n",
            "\tTop1_Acc_Exp/eval_phase/test_stream/Task000/Exp004 = 0.0000\n",
            "-- >> End of eval phase << --\n",
            "\tAccuracy_On_Trained_Experiences/eval_phase/test_stream/Task000 = 0.3390\n",
            "\tStreamForgetting/eval_phase/test_stream = 0.8380\n",
            "\tTop1_Acc_Stream/eval_phase/test_stream/Task000 = 0.1356\n",
            "Start of experience:  2\n",
            "Current Classes:  [4, 5]\n",
            "-- >> Start of training phase << --\n",
            "100%|██████████| 313/313 [00:09<00:00, 33.94it/s]\n",
            "Epoch 0 ended.\n",
            "\tRunningLoss_Epoch/train_phase/train_stream/Task000 = 1.2249\n",
            "\tTop1_Acc_Epoch/train_phase/train_stream/Task000 = 0.5189\n",
            "-- >> End of training phase << --\n",
            "Training completed\n",
            "Computing accuracy on the whole test set\n",
            "-- >> Start of eval phase << --\n",
            "-- Starting eval on experience 0 (Task 0) from test stream --\n",
            "100%|██████████| 63/63 [00:01<00:00, 56.68it/s]\n",
            "> Eval on experience 0 (Task 0) from test stream ended.\n",
            "\tExperienceForgetting/eval_phase/test_stream/Task000/Exp000 = 0.8380\n",
            "\tTop1_Acc_Exp/eval_phase/test_stream/Task000/Exp000 = 0.0000\n",
            "-- Starting eval on experience 1 (Task 0) from test stream --\n",
            "100%|██████████| 63/63 [00:01<00:00, 57.53it/s]\n",
            "> Eval on experience 1 (Task 0) from test stream ended.\n",
            "\tExperienceForgetting/eval_phase/test_stream/Task000/Exp001 = 0.6780\n",
            "\tTop1_Acc_Exp/eval_phase/test_stream/Task000/Exp001 = 0.0000\n",
            "-- Starting eval on experience 2 (Task 0) from test stream --\n",
            "100%|██████████| 63/63 [00:01<00:00, 57.90it/s]\n",
            "> Eval on experience 2 (Task 0) from test stream ended.\n",
            "\tTop1_Acc_Exp/eval_phase/test_stream/Task000/Exp002 = 0.7150\n",
            "-- Starting eval on experience 3 (Task 0) from test stream --\n",
            "100%|██████████| 63/63 [00:01<00:00, 58.17it/s]\n",
            "> Eval on experience 3 (Task 0) from test stream ended.\n",
            "\tTop1_Acc_Exp/eval_phase/test_stream/Task000/Exp003 = 0.0000\n",
            "-- Starting eval on experience 4 (Task 0) from test stream --\n",
            "100%|██████████| 63/63 [00:01<00:00, 55.00it/s]\n",
            "> Eval on experience 4 (Task 0) from test stream ended.\n",
            "\tTop1_Acc_Exp/eval_phase/test_stream/Task000/Exp004 = 0.0000\n",
            "-- >> End of eval phase << --\n",
            "\tAccuracy_On_Trained_Experiences/eval_phase/test_stream/Task000 = 0.2383\n",
            "\tStreamForgetting/eval_phase/test_stream = 0.7580\n",
            "\tTop1_Acc_Stream/eval_phase/test_stream/Task000 = 0.1430\n",
            "Start of experience:  3\n",
            "Current Classes:  [6, 7]\n",
            "-- >> Start of training phase << --\n",
            "100%|██████████| 313/313 [00:10<00:00, 31.05it/s]\n",
            "Epoch 0 ended.\n",
            "\tRunningLoss_Epoch/train_phase/train_stream/Task000 = nan\n",
            "\tTop1_Acc_Epoch/train_phase/train_stream/Task000 = 0.0055\n",
            "-- >> End of training phase << --\n",
            "Training completed\n",
            "Computing accuracy on the whole test set\n",
            "-- >> Start of eval phase << --\n",
            "-- Starting eval on experience 0 (Task 0) from test stream --\n",
            "100%|██████████| 63/63 [00:01<00:00, 56.22it/s]\n",
            "> Eval on experience 0 (Task 0) from test stream ended.\n",
            "\tExperienceForgetting/eval_phase/test_stream/Task000/Exp000 = 0.3380\n",
            "\tTop1_Acc_Exp/eval_phase/test_stream/Task000/Exp000 = 0.5000\n",
            "-- Starting eval on experience 1 (Task 0) from test stream --\n",
            "100%|██████████| 63/63 [00:01<00:00, 54.58it/s]\n",
            "> Eval on experience 1 (Task 0) from test stream ended.\n",
            "\tExperienceForgetting/eval_phase/test_stream/Task000/Exp001 = 0.6780\n",
            "\tTop1_Acc_Exp/eval_phase/test_stream/Task000/Exp001 = 0.0000\n",
            "-- Starting eval on experience 2 (Task 0) from test stream --\n",
            "100%|██████████| 63/63 [00:01<00:00, 58.86it/s]\n",
            "> Eval on experience 2 (Task 0) from test stream ended.\n",
            "\tExperienceForgetting/eval_phase/test_stream/Task000/Exp002 = 0.7150\n",
            "\tTop1_Acc_Exp/eval_phase/test_stream/Task000/Exp002 = 0.0000\n",
            "-- Starting eval on experience 3 (Task 0) from test stream --\n",
            "100%|██████████| 63/63 [00:01<00:00, 57.61it/s]\n",
            "> Eval on experience 3 (Task 0) from test stream ended.\n",
            "\tTop1_Acc_Exp/eval_phase/test_stream/Task000/Exp003 = 0.0000\n",
            "-- Starting eval on experience 4 (Task 0) from test stream --\n",
            "100%|██████████| 63/63 [00:01<00:00, 58.50it/s]\n",
            "> Eval on experience 4 (Task 0) from test stream ended.\n",
            "\tTop1_Acc_Exp/eval_phase/test_stream/Task000/Exp004 = 0.0000\n",
            "-- >> End of eval phase << --\n",
            "\tAccuracy_On_Trained_Experiences/eval_phase/test_stream/Task000 = 0.1250\n",
            "\tStreamForgetting/eval_phase/test_stream = 0.5770\n",
            "\tTop1_Acc_Stream/eval_phase/test_stream/Task000 = 0.1000\n",
            "Start of experience:  4\n",
            "Current Classes:  [8, 9]\n",
            "-- >> Start of training phase << --\n",
            "100%|██████████| 313/313 [00:10<00:00, 29.50it/s]\n",
            "Epoch 0 ended.\n",
            "\tRunningLoss_Epoch/train_phase/train_stream/Task000 = nan\n",
            "\tTop1_Acc_Epoch/train_phase/train_stream/Task000 = 0.0000\n",
            "-- >> End of training phase << --\n",
            "Training completed\n",
            "Computing accuracy on the whole test set\n",
            "-- >> Start of eval phase << --\n",
            "-- Starting eval on experience 0 (Task 0) from test stream --\n",
            "100%|██████████| 63/63 [00:01<00:00, 47.38it/s]\n",
            "> Eval on experience 0 (Task 0) from test stream ended.\n",
            "\tExperienceForgetting/eval_phase/test_stream/Task000/Exp000 = 0.3380\n",
            "\tTop1_Acc_Exp/eval_phase/test_stream/Task000/Exp000 = 0.5000\n",
            "-- Starting eval on experience 1 (Task 0) from test stream --\n",
            "100%|██████████| 63/63 [00:01<00:00, 47.19it/s]\n",
            "> Eval on experience 1 (Task 0) from test stream ended.\n",
            "\tExperienceForgetting/eval_phase/test_stream/Task000/Exp001 = 0.6780\n",
            "\tTop1_Acc_Exp/eval_phase/test_stream/Task000/Exp001 = 0.0000\n",
            "-- Starting eval on experience 2 (Task 0) from test stream --\n",
            "100%|██████████| 63/63 [00:01<00:00, 43.34it/s]\n",
            "> Eval on experience 2 (Task 0) from test stream ended.\n",
            "\tExperienceForgetting/eval_phase/test_stream/Task000/Exp002 = 0.7150\n",
            "\tTop1_Acc_Exp/eval_phase/test_stream/Task000/Exp002 = 0.0000\n",
            "-- Starting eval on experience 3 (Task 0) from test stream --\n",
            "100%|██████████| 63/63 [00:01<00:00, 57.43it/s]\n",
            "> Eval on experience 3 (Task 0) from test stream ended.\n",
            "\tExperienceForgetting/eval_phase/test_stream/Task000/Exp003 = 0.0000\n",
            "\tTop1_Acc_Exp/eval_phase/test_stream/Task000/Exp003 = 0.0000\n",
            "-- Starting eval on experience 4 (Task 0) from test stream --\n",
            "100%|██████████| 63/63 [00:01<00:00, 56.51it/s]\n",
            "> Eval on experience 4 (Task 0) from test stream ended.\n",
            "\tTop1_Acc_Exp/eval_phase/test_stream/Task000/Exp004 = 0.0000\n",
            "-- >> End of eval phase << --\n",
            "\tAccuracy_On_Trained_Experiences/eval_phase/test_stream/Task000 = 0.1000\n",
            "\tStreamForgetting/eval_phase/test_stream = 0.4327\n",
            "\tTop1_Acc_Stream/eval_phase/test_stream/Task000 = 0.1000\n"
          ]
        },
        {
          "output_type": "display_data",
          "data": {
            "text/plain": [
              "<IPython.core.display.HTML object>"
            ],
            "text/html": [
              "Finishing last run (ID:1r2k8tmj) before initializing another..."
            ]
          },
          "metadata": {}
        },
        {
          "output_type": "display_data",
          "data": {
            "text/plain": [
              "VBox(children=(Label(value='0.870 MB of 0.870 MB uploaded\\r'), FloatProgress(value=1.0, max=1.0)))"
            ],
            "application/vnd.jupyter.widget-view+json": {
              "version_major": 2,
              "version_minor": 0,
              "model_id": "a98ddac0240e4201b018624936bc7cba"
            }
          },
          "metadata": {}
        },
        {
          "output_type": "display_data",
          "data": {
            "text/plain": [
              "<IPython.core.display.HTML object>"
            ],
            "text/html": [
              "<style>\n",
              "    table.wandb td:nth-child(1) { padding: 0 10px; text-align: left ; width: auto;} td:nth-child(2) {text-align: left ; width: 100%}\n",
              "    .wandb-row { display: flex; flex-direction: row; flex-wrap: wrap; justify-content: flex-start; width: 100% }\n",
              "    .wandb-col { display: flex; flex-direction: column; flex-basis: 100%; flex: 1; padding: 10px; }\n",
              "    </style>\n",
              "<div class=\"wandb-row\"><div class=\"wandb-col\"><h3>Run history:</h3><br/><table class=\"wandb\"><tr><td>Accuracy_On_Trained_Experiences/eval_phase/test_stream/Task000</td><td>█▃▂▁▁</td></tr><tr><td>ExperienceForgetting/eval_phase/test_stream/Task000/Exp000</td><td>██▁▁</td></tr><tr><td>ExperienceForgetting/eval_phase/test_stream/Task000/Exp001</td><td>▁▁▁</td></tr><tr><td>ExperienceForgetting/eval_phase/test_stream/Task000/Exp002</td><td>▁▁</td></tr><tr><td>ExperienceForgetting/eval_phase/test_stream/Task000/Exp003</td><td>▁</td></tr><tr><td>RunningLoss_Epoch/train_phase/train_stream/Task000</td><td>▁▁▁▁▁▁▁▁▁▁▁▁▁▁▁▁▁▁▁▁▁▁▁▁█               </td></tr><tr><td>StreamForgetting/eval_phase/test_stream</td><td>▁█▇▆▅</td></tr><tr><td>Top1_Acc_Epoch/train_phase/train_stream/Task000</td><td>█▇▇▁▁</td></tr><tr><td>Top1_Acc_Exp/eval_phase/test_stream/Task000/Exp000</td><td>█▁▁▅▅</td></tr><tr><td>Top1_Acc_Exp/eval_phase/test_stream/Task000/Exp001</td><td>▁█▁▁▁</td></tr><tr><td>Top1_Acc_Exp/eval_phase/test_stream/Task000/Exp002</td><td>▁▁█▁▁</td></tr><tr><td>Top1_Acc_Exp/eval_phase/test_stream/Task000/Exp003</td><td>▁▁▁▁▁</td></tr><tr><td>Top1_Acc_Exp/eval_phase/test_stream/Task000/Exp004</td><td>▁▁▁▁▁</td></tr><tr><td>Top1_Acc_Stream/eval_phase/test_stream/Task000</td><td>█▅▅▁▁</td></tr><tr><td>TrainingExperience</td><td>▁▃▅▆█</td></tr></table><br/></div><div class=\"wandb-col\"><h3>Run summary:</h3><br/><table class=\"wandb\"><tr><td>Accuracy_On_Trained_Experiences/eval_phase/test_stream/Task000</td><td>0.1</td></tr><tr><td>ExperienceForgetting/eval_phase/test_stream/Task000/Exp000</td><td>0.338</td></tr><tr><td>ExperienceForgetting/eval_phase/test_stream/Task000/Exp001</td><td>0.678</td></tr><tr><td>ExperienceForgetting/eval_phase/test_stream/Task000/Exp002</td><td>0.715</td></tr><tr><td>ExperienceForgetting/eval_phase/test_stream/Task000/Exp003</td><td>0.0</td></tr><tr><td>RunningLoss_Epoch/train_phase/train_stream/Task000</td><td>nan</td></tr><tr><td>StreamForgetting/eval_phase/test_stream</td><td>0.43275</td></tr><tr><td>Top1_Acc_Epoch/train_phase/train_stream/Task000</td><td>0.0</td></tr><tr><td>Top1_Acc_Exp/eval_phase/test_stream/Task000/Exp000</td><td>0.5</td></tr><tr><td>Top1_Acc_Exp/eval_phase/test_stream/Task000/Exp001</td><td>0.0</td></tr><tr><td>Top1_Acc_Exp/eval_phase/test_stream/Task000/Exp002</td><td>0.0</td></tr><tr><td>Top1_Acc_Exp/eval_phase/test_stream/Task000/Exp003</td><td>0.0</td></tr><tr><td>Top1_Acc_Exp/eval_phase/test_stream/Task000/Exp004</td><td>0.0</td></tr><tr><td>Top1_Acc_Stream/eval_phase/test_stream/Task000</td><td>0.1</td></tr><tr><td>TrainingExperience</td><td>4</td></tr></table><br/></div></div>"
            ]
          },
          "metadata": {}
        },
        {
          "output_type": "display_data",
          "data": {
            "text/plain": [
              "<IPython.core.display.HTML object>"
            ],
            "text/html": [
              " View run <strong style=\"color:#cdcd00\">avalanche_2024_04_20_13_49_40</strong> at: <a href='https://wandb.ai/fabianfuchs/continual%20learning/runs/1r2k8tmj' target=\"_blank\">https://wandb.ai/fabianfuchs/continual%20learning/runs/1r2k8tmj</a><br/> View project at: <a href='https://wandb.ai/fabianfuchs/continual%20learning' target=\"_blank\">https://wandb.ai/fabianfuchs/continual%20learning</a><br/>Synced 5 W&B file(s), 0 media file(s), 7 artifact file(s) and 1 other file(s)"
            ]
          },
          "metadata": {}
        },
        {
          "output_type": "display_data",
          "data": {
            "text/plain": [
              "<IPython.core.display.HTML object>"
            ],
            "text/html": [
              "Find logs at: <code>./wandb/run-20240420_134940-1r2k8tmj/logs</code>"
            ]
          },
          "metadata": {}
        },
        {
          "output_type": "display_data",
          "data": {
            "text/plain": [
              "<IPython.core.display.HTML object>"
            ],
            "text/html": [
              "Successfully finished last run (ID:1r2k8tmj). Initializing new run:<br/>"
            ]
          },
          "metadata": {}
        },
        {
          "output_type": "display_data",
          "data": {
            "text/plain": [
              "<IPython.core.display.HTML object>"
            ],
            "text/html": [
              "Tracking run with wandb version 0.16.6"
            ]
          },
          "metadata": {}
        },
        {
          "output_type": "display_data",
          "data": {
            "text/plain": [
              "<IPython.core.display.HTML object>"
            ],
            "text/html": [
              "Run data is saved locally in <code>/content/wandb/run-20240420_135132-hr01s8zr</code>"
            ]
          },
          "metadata": {}
        },
        {
          "output_type": "display_data",
          "data": {
            "text/plain": [
              "<IPython.core.display.HTML object>"
            ],
            "text/html": [
              "Syncing run <strong><a href='https://wandb.ai/fabianfuchs/continual%20learning/runs/hr01s8zr' target=\"_blank\">avalanche_2024_04_20_13_51_32</a></strong> to <a href='https://wandb.ai/fabianfuchs/continual%20learning' target=\"_blank\">Weights & Biases</a> (<a href='https://wandb.me/run' target=\"_blank\">docs</a>)<br/>"
            ]
          },
          "metadata": {}
        },
        {
          "output_type": "display_data",
          "data": {
            "text/plain": [
              "<IPython.core.display.HTML object>"
            ],
            "text/html": [
              " View project at <a href='https://wandb.ai/fabianfuchs/continual%20learning' target=\"_blank\">https://wandb.ai/fabianfuchs/continual%20learning</a>"
            ]
          },
          "metadata": {}
        },
        {
          "output_type": "display_data",
          "data": {
            "text/plain": [
              "<IPython.core.display.HTML object>"
            ],
            "text/html": [
              " View run at <a href='https://wandb.ai/fabianfuchs/continual%20learning/runs/hr01s8zr' target=\"_blank\">https://wandb.ai/fabianfuchs/continual%20learning/runs/hr01s8zr</a>"
            ]
          },
          "metadata": {}
        },
        {
          "output_type": "stream",
          "name": "stdout",
          "text": [
            "Start of experience:  0\n",
            "Current Classes:  [0, 1]\n",
            "-- >> Start of training phase << --\n",
            "100%|██████████| 313/313 [00:08<00:00, 38.19it/s]\n",
            "Epoch 0 ended.\n",
            "\tRunningLoss_Epoch/train_phase/train_stream/Task000 = 0.6966\n",
            "\tTop1_Acc_Epoch/train_phase/train_stream/Task000 = 0.6541\n",
            "-- >> End of training phase << --\n",
            "Training completed\n",
            "Computing accuracy on the whole test set\n",
            "-- >> Start of eval phase << --\n",
            "-- Starting eval on experience 0 (Task 0) from test stream --\n",
            "100%|██████████| 63/63 [00:01<00:00, 55.97it/s]\n",
            "> Eval on experience 0 (Task 0) from test stream ended.\n",
            "\tTop1_Acc_Exp/eval_phase/test_stream/Task000/Exp000 = 0.8310\n",
            "-- Starting eval on experience 1 (Task 0) from test stream --\n",
            "100%|██████████| 63/63 [00:01<00:00, 58.17it/s]\n",
            "> Eval on experience 1 (Task 0) from test stream ended.\n",
            "\tTop1_Acc_Exp/eval_phase/test_stream/Task000/Exp001 = 0.0000\n",
            "-- Starting eval on experience 2 (Task 0) from test stream --\n",
            "100%|██████████| 63/63 [00:01<00:00, 58.20it/s]\n",
            "> Eval on experience 2 (Task 0) from test stream ended.\n",
            "\tTop1_Acc_Exp/eval_phase/test_stream/Task000/Exp002 = 0.0000\n",
            "-- Starting eval on experience 3 (Task 0) from test stream --\n",
            "100%|██████████| 63/63 [00:01<00:00, 58.52it/s]\n",
            "> Eval on experience 3 (Task 0) from test stream ended.\n",
            "\tTop1_Acc_Exp/eval_phase/test_stream/Task000/Exp003 = 0.0000\n",
            "-- Starting eval on experience 4 (Task 0) from test stream --\n",
            "100%|██████████| 63/63 [00:01<00:00, 60.07it/s]\n",
            "> Eval on experience 4 (Task 0) from test stream ended.\n",
            "\tTop1_Acc_Exp/eval_phase/test_stream/Task000/Exp004 = 0.0000\n",
            "-- >> End of eval phase << --\n",
            "\tAccuracy_On_Trained_Experiences/eval_phase/test_stream/Task000 = 0.8310\n",
            "\tStreamForgetting/eval_phase/test_stream = 0.0000\n",
            "\tTop1_Acc_Stream/eval_phase/test_stream/Task000 = 0.1662\n",
            "Start of experience:  1\n",
            "Current Classes:  [2, 3]\n",
            "-- >> Start of training phase << --\n",
            "100%|██████████| 313/313 [00:09<00:00, 33.39it/s]\n",
            "Epoch 0 ended.\n",
            "\tRunningLoss_Epoch/train_phase/train_stream/Task000 = nan\n",
            "\tTop1_Acc_Epoch/train_phase/train_stream/Task000 = 0.0892\n",
            "-- >> End of training phase << --\n",
            "Training completed\n",
            "Computing accuracy on the whole test set\n",
            "-- >> Start of eval phase << --\n",
            "-- Starting eval on experience 0 (Task 0) from test stream --\n",
            "100%|██████████| 63/63 [00:01<00:00, 52.07it/s]\n",
            "> Eval on experience 0 (Task 0) from test stream ended.\n",
            "\tExperienceForgetting/eval_phase/test_stream/Task000/Exp000 = 0.3310\n",
            "\tTop1_Acc_Exp/eval_phase/test_stream/Task000/Exp000 = 0.5000\n",
            "-- Starting eval on experience 1 (Task 0) from test stream --\n",
            "100%|██████████| 63/63 [00:01<00:00, 47.33it/s]\n",
            "> Eval on experience 1 (Task 0) from test stream ended.\n",
            "\tTop1_Acc_Exp/eval_phase/test_stream/Task000/Exp001 = 0.0000\n",
            "-- Starting eval on experience 2 (Task 0) from test stream --\n",
            "100%|██████████| 63/63 [00:01<00:00, 42.54it/s]\n",
            "> Eval on experience 2 (Task 0) from test stream ended.\n",
            "\tTop1_Acc_Exp/eval_phase/test_stream/Task000/Exp002 = 0.0000\n",
            "-- Starting eval on experience 3 (Task 0) from test stream --\n",
            "100%|██████████| 63/63 [00:01<00:00, 54.10it/s]\n",
            "> Eval on experience 3 (Task 0) from test stream ended.\n",
            "\tTop1_Acc_Exp/eval_phase/test_stream/Task000/Exp003 = 0.0000\n",
            "-- Starting eval on experience 4 (Task 0) from test stream --\n",
            "100%|██████████| 63/63 [00:01<00:00, 58.78it/s]\n",
            "> Eval on experience 4 (Task 0) from test stream ended.\n",
            "\tTop1_Acc_Exp/eval_phase/test_stream/Task000/Exp004 = 0.0000\n",
            "-- >> End of eval phase << --\n",
            "\tAccuracy_On_Trained_Experiences/eval_phase/test_stream/Task000 = 0.2500\n",
            "\tStreamForgetting/eval_phase/test_stream = 0.3310\n",
            "\tTop1_Acc_Stream/eval_phase/test_stream/Task000 = 0.1000\n",
            "Start of experience:  2\n",
            "Current Classes:  [4, 5]\n",
            "-- >> Start of training phase << --\n",
            "100%|██████████| 313/313 [00:09<00:00, 33.99it/s]\n",
            "Epoch 0 ended.\n",
            "\tRunningLoss_Epoch/train_phase/train_stream/Task000 = nan\n",
            "\tTop1_Acc_Epoch/train_phase/train_stream/Task000 = 0.0000\n",
            "-- >> End of training phase << --\n",
            "Training completed\n",
            "Computing accuracy on the whole test set\n",
            "-- >> Start of eval phase << --\n",
            "-- Starting eval on experience 0 (Task 0) from test stream --\n",
            "100%|██████████| 63/63 [00:01<00:00, 57.32it/s]\n",
            "> Eval on experience 0 (Task 0) from test stream ended.\n",
            "\tExperienceForgetting/eval_phase/test_stream/Task000/Exp000 = 0.3310\n",
            "\tTop1_Acc_Exp/eval_phase/test_stream/Task000/Exp000 = 0.5000\n",
            "-- Starting eval on experience 1 (Task 0) from test stream --\n",
            "100%|██████████| 63/63 [00:01<00:00, 58.44it/s]\n",
            "> Eval on experience 1 (Task 0) from test stream ended.\n",
            "\tExperienceForgetting/eval_phase/test_stream/Task000/Exp001 = 0.0000\n",
            "\tTop1_Acc_Exp/eval_phase/test_stream/Task000/Exp001 = 0.0000\n",
            "-- Starting eval on experience 2 (Task 0) from test stream --\n",
            "100%|██████████| 63/63 [00:01<00:00, 58.60it/s]\n",
            "> Eval on experience 2 (Task 0) from test stream ended.\n",
            "\tTop1_Acc_Exp/eval_phase/test_stream/Task000/Exp002 = 0.0000\n",
            "-- Starting eval on experience 3 (Task 0) from test stream --\n",
            "100%|██████████| 63/63 [00:01<00:00, 56.19it/s]\n",
            "> Eval on experience 3 (Task 0) from test stream ended.\n",
            "\tTop1_Acc_Exp/eval_phase/test_stream/Task000/Exp003 = 0.0000\n",
            "-- Starting eval on experience 4 (Task 0) from test stream --\n",
            "100%|██████████| 63/63 [00:01<00:00, 54.40it/s]\n",
            "> Eval on experience 4 (Task 0) from test stream ended.\n",
            "\tTop1_Acc_Exp/eval_phase/test_stream/Task000/Exp004 = 0.0000\n",
            "-- >> End of eval phase << --\n",
            "\tAccuracy_On_Trained_Experiences/eval_phase/test_stream/Task000 = 0.1667\n",
            "\tStreamForgetting/eval_phase/test_stream = 0.1655\n",
            "\tTop1_Acc_Stream/eval_phase/test_stream/Task000 = 0.1000\n",
            "Start of experience:  3\n",
            "Current Classes:  [6, 7]\n",
            "-- >> Start of training phase << --\n",
            "100%|██████████| 313/313 [00:10<00:00, 30.38it/s]\n",
            "Epoch 0 ended.\n",
            "\tRunningLoss_Epoch/train_phase/train_stream/Task000 = nan\n",
            "\tTop1_Acc_Epoch/train_phase/train_stream/Task000 = 0.0000\n",
            "-- >> End of training phase << --\n",
            "Training completed\n",
            "Computing accuracy on the whole test set\n",
            "-- >> Start of eval phase << --\n",
            "-- Starting eval on experience 0 (Task 0) from test stream --\n",
            "100%|██████████| 63/63 [00:01<00:00, 57.16it/s]\n",
            "> Eval on experience 0 (Task 0) from test stream ended.\n",
            "\tExperienceForgetting/eval_phase/test_stream/Task000/Exp000 = 0.3310\n",
            "\tTop1_Acc_Exp/eval_phase/test_stream/Task000/Exp000 = 0.5000\n",
            "-- Starting eval on experience 1 (Task 0) from test stream --\n",
            "100%|██████████| 63/63 [00:01<00:00, 57.97it/s]\n",
            "> Eval on experience 1 (Task 0) from test stream ended.\n",
            "\tExperienceForgetting/eval_phase/test_stream/Task000/Exp001 = 0.0000\n",
            "\tTop1_Acc_Exp/eval_phase/test_stream/Task000/Exp001 = 0.0000\n",
            "-- Starting eval on experience 2 (Task 0) from test stream --\n",
            "100%|██████████| 63/63 [00:01<00:00, 57.26it/s]\n",
            "> Eval on experience 2 (Task 0) from test stream ended.\n",
            "\tExperienceForgetting/eval_phase/test_stream/Task000/Exp002 = 0.0000\n",
            "\tTop1_Acc_Exp/eval_phase/test_stream/Task000/Exp002 = 0.0000\n",
            "-- Starting eval on experience 3 (Task 0) from test stream --\n",
            "100%|██████████| 63/63 [00:01<00:00, 58.58it/s]\n",
            "> Eval on experience 3 (Task 0) from test stream ended.\n",
            "\tTop1_Acc_Exp/eval_phase/test_stream/Task000/Exp003 = 0.0000\n",
            "-- Starting eval on experience 4 (Task 0) from test stream --\n",
            "100%|██████████| 63/63 [00:01<00:00, 57.73it/s]\n",
            "> Eval on experience 4 (Task 0) from test stream ended.\n",
            "\tTop1_Acc_Exp/eval_phase/test_stream/Task000/Exp004 = 0.0000\n",
            "-- >> End of eval phase << --\n",
            "\tAccuracy_On_Trained_Experiences/eval_phase/test_stream/Task000 = 0.1250\n",
            "\tStreamForgetting/eval_phase/test_stream = 0.1103\n",
            "\tTop1_Acc_Stream/eval_phase/test_stream/Task000 = 0.1000\n",
            "Start of experience:  4\n",
            "Current Classes:  [8, 9]\n",
            "-- >> Start of training phase << --\n",
            "100%|██████████| 313/313 [00:10<00:00, 28.88it/s]\n",
            "Epoch 0 ended.\n",
            "\tRunningLoss_Epoch/train_phase/train_stream/Task000 = nan\n",
            "\tTop1_Acc_Epoch/train_phase/train_stream/Task000 = 0.0000\n",
            "-- >> End of training phase << --\n",
            "Training completed\n",
            "Computing accuracy on the whole test set\n",
            "-- >> Start of eval phase << --\n",
            "-- Starting eval on experience 0 (Task 0) from test stream --\n",
            "100%|██████████| 63/63 [00:01<00:00, 45.81it/s]\n",
            "> Eval on experience 0 (Task 0) from test stream ended.\n",
            "\tExperienceForgetting/eval_phase/test_stream/Task000/Exp000 = 0.3310\n",
            "\tTop1_Acc_Exp/eval_phase/test_stream/Task000/Exp000 = 0.5000\n",
            "-- Starting eval on experience 1 (Task 0) from test stream --\n",
            "100%|██████████| 63/63 [00:01<00:00, 44.53it/s]\n",
            "> Eval on experience 1 (Task 0) from test stream ended.\n",
            "\tExperienceForgetting/eval_phase/test_stream/Task000/Exp001 = 0.0000\n",
            "\tTop1_Acc_Exp/eval_phase/test_stream/Task000/Exp001 = 0.0000\n",
            "-- Starting eval on experience 2 (Task 0) from test stream --\n",
            "100%|██████████| 63/63 [00:01<00:00, 41.67it/s]\n",
            "> Eval on experience 2 (Task 0) from test stream ended.\n",
            "\tExperienceForgetting/eval_phase/test_stream/Task000/Exp002 = 0.0000\n",
            "\tTop1_Acc_Exp/eval_phase/test_stream/Task000/Exp002 = 0.0000\n",
            "-- Starting eval on experience 3 (Task 0) from test stream --\n",
            "100%|██████████| 63/63 [00:01<00:00, 53.60it/s]\n",
            "> Eval on experience 3 (Task 0) from test stream ended.\n",
            "\tExperienceForgetting/eval_phase/test_stream/Task000/Exp003 = 0.0000\n",
            "\tTop1_Acc_Exp/eval_phase/test_stream/Task000/Exp003 = 0.0000\n",
            "-- Starting eval on experience 4 (Task 0) from test stream --\n",
            "100%|██████████| 63/63 [00:01<00:00, 56.28it/s]\n",
            "> Eval on experience 4 (Task 0) from test stream ended.\n",
            "\tTop1_Acc_Exp/eval_phase/test_stream/Task000/Exp004 = 0.0000\n",
            "-- >> End of eval phase << --\n",
            "\tAccuracy_On_Trained_Experiences/eval_phase/test_stream/Task000 = 0.1000\n",
            "\tStreamForgetting/eval_phase/test_stream = 0.0827\n",
            "\tTop1_Acc_Stream/eval_phase/test_stream/Task000 = 0.1000\n"
          ]
        },
        {
          "output_type": "display_data",
          "data": {
            "text/plain": [
              "<IPython.core.display.HTML object>"
            ],
            "text/html": [
              "Finishing last run (ID:hr01s8zr) before initializing another..."
            ]
          },
          "metadata": {}
        },
        {
          "output_type": "display_data",
          "data": {
            "text/plain": [
              "VBox(children=(Label(value='0.164 MB of 0.164 MB uploaded\\r'), FloatProgress(value=1.0, max=1.0)))"
            ],
            "application/vnd.jupyter.widget-view+json": {
              "version_major": 2,
              "version_minor": 0,
              "model_id": "c47f405b18a3479b9d4951cdf2d12f24"
            }
          },
          "metadata": {}
        },
        {
          "output_type": "display_data",
          "data": {
            "text/plain": [
              "<IPython.core.display.HTML object>"
            ],
            "text/html": [
              "<style>\n",
              "    table.wandb td:nth-child(1) { padding: 0 10px; text-align: left ; width: auto;} td:nth-child(2) {text-align: left ; width: 100%}\n",
              "    .wandb-row { display: flex; flex-direction: row; flex-wrap: wrap; justify-content: flex-start; width: 100% }\n",
              "    .wandb-col { display: flex; flex-direction: column; flex-basis: 100%; flex: 1; padding: 10px; }\n",
              "    </style>\n",
              "<div class=\"wandb-row\"><div class=\"wandb-col\"><h3>Run history:</h3><br/><table class=\"wandb\"><tr><td>Accuracy_On_Trained_Experiences/eval_phase/test_stream/Task000</td><td>█▂▂▁▁</td></tr><tr><td>ExperienceForgetting/eval_phase/test_stream/Task000/Exp000</td><td>▁▁▁▁</td></tr><tr><td>ExperienceForgetting/eval_phase/test_stream/Task000/Exp001</td><td>▁▁▁</td></tr><tr><td>ExperienceForgetting/eval_phase/test_stream/Task000/Exp002</td><td>▁▁</td></tr><tr><td>ExperienceForgetting/eval_phase/test_stream/Task000/Exp003</td><td>▁</td></tr><tr><td>RunningLoss_Epoch/train_phase/train_stream/Task000</td><td>▁▁▁▁▁▁▁▁█                               </td></tr><tr><td>StreamForgetting/eval_phase/test_stream</td><td>▁█▅▃▃</td></tr><tr><td>Top1_Acc_Epoch/train_phase/train_stream/Task000</td><td>█▂▁▁▁</td></tr><tr><td>Top1_Acc_Exp/eval_phase/test_stream/Task000/Exp000</td><td>█▁▁▁▁</td></tr><tr><td>Top1_Acc_Exp/eval_phase/test_stream/Task000/Exp001</td><td>▁▁▁▁▁</td></tr><tr><td>Top1_Acc_Exp/eval_phase/test_stream/Task000/Exp002</td><td>▁▁▁▁▁</td></tr><tr><td>Top1_Acc_Exp/eval_phase/test_stream/Task000/Exp003</td><td>▁▁▁▁▁</td></tr><tr><td>Top1_Acc_Exp/eval_phase/test_stream/Task000/Exp004</td><td>▁▁▁▁▁</td></tr><tr><td>Top1_Acc_Stream/eval_phase/test_stream/Task000</td><td>█▁▁▁▁</td></tr><tr><td>TrainingExperience</td><td>▁▃▅▆█</td></tr></table><br/></div><div class=\"wandb-col\"><h3>Run summary:</h3><br/><table class=\"wandb\"><tr><td>Accuracy_On_Trained_Experiences/eval_phase/test_stream/Task000</td><td>0.1</td></tr><tr><td>ExperienceForgetting/eval_phase/test_stream/Task000/Exp000</td><td>0.331</td></tr><tr><td>ExperienceForgetting/eval_phase/test_stream/Task000/Exp001</td><td>0.0</td></tr><tr><td>ExperienceForgetting/eval_phase/test_stream/Task000/Exp002</td><td>0.0</td></tr><tr><td>ExperienceForgetting/eval_phase/test_stream/Task000/Exp003</td><td>0.0</td></tr><tr><td>RunningLoss_Epoch/train_phase/train_stream/Task000</td><td>nan</td></tr><tr><td>StreamForgetting/eval_phase/test_stream</td><td>0.08275</td></tr><tr><td>Top1_Acc_Epoch/train_phase/train_stream/Task000</td><td>0.0</td></tr><tr><td>Top1_Acc_Exp/eval_phase/test_stream/Task000/Exp000</td><td>0.5</td></tr><tr><td>Top1_Acc_Exp/eval_phase/test_stream/Task000/Exp001</td><td>0.0</td></tr><tr><td>Top1_Acc_Exp/eval_phase/test_stream/Task000/Exp002</td><td>0.0</td></tr><tr><td>Top1_Acc_Exp/eval_phase/test_stream/Task000/Exp003</td><td>0.0</td></tr><tr><td>Top1_Acc_Exp/eval_phase/test_stream/Task000/Exp004</td><td>0.0</td></tr><tr><td>Top1_Acc_Stream/eval_phase/test_stream/Task000</td><td>0.1</td></tr><tr><td>TrainingExperience</td><td>4</td></tr></table><br/></div></div>"
            ]
          },
          "metadata": {}
        },
        {
          "output_type": "display_data",
          "data": {
            "text/plain": [
              "<IPython.core.display.HTML object>"
            ],
            "text/html": [
              " View run <strong style=\"color:#cdcd00\">avalanche_2024_04_20_13_51_32</strong> at: <a href='https://wandb.ai/fabianfuchs/continual%20learning/runs/hr01s8zr' target=\"_blank\">https://wandb.ai/fabianfuchs/continual%20learning/runs/hr01s8zr</a><br/> View project at: <a href='https://wandb.ai/fabianfuchs/continual%20learning' target=\"_blank\">https://wandb.ai/fabianfuchs/continual%20learning</a><br/>Synced 5 W&B file(s), 0 media file(s), 1 artifact file(s) and 0 other file(s)"
            ]
          },
          "metadata": {}
        },
        {
          "output_type": "display_data",
          "data": {
            "text/plain": [
              "<IPython.core.display.HTML object>"
            ],
            "text/html": [
              "Find logs at: <code>./wandb/run-20240420_135132-hr01s8zr/logs</code>"
            ]
          },
          "metadata": {}
        },
        {
          "output_type": "display_data",
          "data": {
            "text/plain": [
              "<IPython.core.display.HTML object>"
            ],
            "text/html": [
              "Successfully finished last run (ID:hr01s8zr). Initializing new run:<br/>"
            ]
          },
          "metadata": {}
        },
        {
          "output_type": "display_data",
          "data": {
            "text/plain": [
              "<IPython.core.display.HTML object>"
            ],
            "text/html": [
              "Tracking run with wandb version 0.16.6"
            ]
          },
          "metadata": {}
        },
        {
          "output_type": "display_data",
          "data": {
            "text/plain": [
              "<IPython.core.display.HTML object>"
            ],
            "text/html": [
              "Run data is saved locally in <code>/content/wandb/run-20240420_135328-walyk0m3</code>"
            ]
          },
          "metadata": {}
        },
        {
          "output_type": "display_data",
          "data": {
            "text/plain": [
              "<IPython.core.display.HTML object>"
            ],
            "text/html": [
              "Syncing run <strong><a href='https://wandb.ai/fabianfuchs/continual%20learning/runs/walyk0m3' target=\"_blank\">avalanche_2024_04_20_13_53_28</a></strong> to <a href='https://wandb.ai/fabianfuchs/continual%20learning' target=\"_blank\">Weights & Biases</a> (<a href='https://wandb.me/run' target=\"_blank\">docs</a>)<br/>"
            ]
          },
          "metadata": {}
        },
        {
          "output_type": "display_data",
          "data": {
            "text/plain": [
              "<IPython.core.display.HTML object>"
            ],
            "text/html": [
              " View project at <a href='https://wandb.ai/fabianfuchs/continual%20learning' target=\"_blank\">https://wandb.ai/fabianfuchs/continual%20learning</a>"
            ]
          },
          "metadata": {}
        },
        {
          "output_type": "display_data",
          "data": {
            "text/plain": [
              "<IPython.core.display.HTML object>"
            ],
            "text/html": [
              " View run at <a href='https://wandb.ai/fabianfuchs/continual%20learning/runs/walyk0m3' target=\"_blank\">https://wandb.ai/fabianfuchs/continual%20learning/runs/walyk0m3</a>"
            ]
          },
          "metadata": {}
        },
        {
          "output_type": "stream",
          "name": "stdout",
          "text": [
            "Start of experience:  0\n",
            "Current Classes:  [0, 1]\n",
            "-- >> Start of training phase << --\n",
            "100%|██████████| 313/313 [00:09<00:00, 32.40it/s]\n",
            "Epoch 0 ended.\n",
            "\tRunningLoss_Epoch/train_phase/train_stream/Task000 = 0.7250\n",
            "\tTop1_Acc_Epoch/train_phase/train_stream/Task000 = 0.6432\n",
            "-- >> End of training phase << --\n",
            "Training completed\n",
            "Computing accuracy on the whole test set\n",
            "-- >> Start of eval phase << --\n",
            "-- Starting eval on experience 0 (Task 0) from test stream --\n",
            "100%|██████████| 63/63 [00:01<00:00, 40.23it/s]\n",
            "> Eval on experience 0 (Task 0) from test stream ended.\n",
            "\tTop1_Acc_Exp/eval_phase/test_stream/Task000/Exp000 = 0.7785\n",
            "-- Starting eval on experience 1 (Task 0) from test stream --\n",
            "100%|██████████| 63/63 [00:01<00:00, 51.25it/s]\n",
            "> Eval on experience 1 (Task 0) from test stream ended.\n",
            "\tTop1_Acc_Exp/eval_phase/test_stream/Task000/Exp001 = 0.0000\n",
            "-- Starting eval on experience 2 (Task 0) from test stream --\n",
            "100%|██████████| 63/63 [00:01<00:00, 57.93it/s]\n",
            "> Eval on experience 2 (Task 0) from test stream ended.\n",
            "\tTop1_Acc_Exp/eval_phase/test_stream/Task000/Exp002 = 0.0000\n",
            "-- Starting eval on experience 3 (Task 0) from test stream --\n",
            "100%|██████████| 63/63 [00:01<00:00, 56.46it/s]\n",
            "> Eval on experience 3 (Task 0) from test stream ended.\n",
            "\tTop1_Acc_Exp/eval_phase/test_stream/Task000/Exp003 = 0.0000\n",
            "-- Starting eval on experience 4 (Task 0) from test stream --\n",
            "100%|██████████| 63/63 [00:01<00:00, 55.26it/s]\n",
            "> Eval on experience 4 (Task 0) from test stream ended.\n",
            "\tTop1_Acc_Exp/eval_phase/test_stream/Task000/Exp004 = 0.0000\n",
            "-- >> End of eval phase << --\n",
            "\tAccuracy_On_Trained_Experiences/eval_phase/test_stream/Task000 = 0.7785\n",
            "\tStreamForgetting/eval_phase/test_stream = 0.0000\n",
            "\tTop1_Acc_Stream/eval_phase/test_stream/Task000 = 0.1557\n",
            "Start of experience:  1\n",
            "Current Classes:  [2, 3]\n",
            "-- >> Start of training phase << --\n",
            "100%|██████████| 313/313 [00:09<00:00, 32.91it/s]\n",
            "Epoch 0 ended.\n",
            "\tRunningLoss_Epoch/train_phase/train_stream/Task000 = 1.1030\n",
            "\tTop1_Acc_Epoch/train_phase/train_stream/Task000 = 0.5018\n",
            "-- >> End of training phase << --\n",
            "Training completed\n",
            "Computing accuracy on the whole test set\n",
            "-- >> Start of eval phase << --\n",
            "-- Starting eval on experience 0 (Task 0) from test stream --\n",
            "100%|██████████| 63/63 [00:01<00:00, 52.42it/s]\n",
            "> Eval on experience 0 (Task 0) from test stream ended.\n",
            "\tExperienceForgetting/eval_phase/test_stream/Task000/Exp000 = 0.7785\n",
            "\tTop1_Acc_Exp/eval_phase/test_stream/Task000/Exp000 = 0.0000\n",
            "-- Starting eval on experience 1 (Task 0) from test stream --\n",
            "100%|██████████| 63/63 [00:01<00:00, 54.30it/s]\n",
            "> Eval on experience 1 (Task 0) from test stream ended.\n",
            "\tTop1_Acc_Exp/eval_phase/test_stream/Task000/Exp001 = 0.6605\n",
            "-- Starting eval on experience 2 (Task 0) from test stream --\n",
            "100%|██████████| 63/63 [00:01<00:00, 54.31it/s]\n",
            "> Eval on experience 2 (Task 0) from test stream ended.\n",
            "\tTop1_Acc_Exp/eval_phase/test_stream/Task000/Exp002 = 0.0000\n",
            "-- Starting eval on experience 3 (Task 0) from test stream --\n",
            "100%|██████████| 63/63 [00:01<00:00, 45.99it/s]\n",
            "> Eval on experience 3 (Task 0) from test stream ended.\n",
            "\tTop1_Acc_Exp/eval_phase/test_stream/Task000/Exp003 = 0.0000\n",
            "-- Starting eval on experience 4 (Task 0) from test stream --\n",
            "100%|██████████| 63/63 [00:01<00:00, 47.99it/s]\n",
            "> Eval on experience 4 (Task 0) from test stream ended.\n",
            "\tTop1_Acc_Exp/eval_phase/test_stream/Task000/Exp004 = 0.0000\n",
            "-- >> End of eval phase << --\n",
            "\tAccuracy_On_Trained_Experiences/eval_phase/test_stream/Task000 = 0.3302\n",
            "\tStreamForgetting/eval_phase/test_stream = 0.7785\n",
            "\tTop1_Acc_Stream/eval_phase/test_stream/Task000 = 0.1321\n",
            "Start of experience:  2\n",
            "Current Classes:  [4, 5]\n",
            "-- >> Start of training phase << --\n",
            "100%|██████████| 313/313 [00:09<00:00, 32.12it/s]\n",
            "Epoch 0 ended.\n",
            "\tRunningLoss_Epoch/train_phase/train_stream/Task000 = 1.3334\n",
            "\tTop1_Acc_Epoch/train_phase/train_stream/Task000 = 0.4894\n",
            "-- >> End of training phase << --\n",
            "Training completed\n",
            "Computing accuracy on the whole test set\n",
            "-- >> Start of eval phase << --\n",
            "-- Starting eval on experience 0 (Task 0) from test stream --\n",
            "100%|██████████| 63/63 [00:01<00:00, 55.38it/s]\n",
            "> Eval on experience 0 (Task 0) from test stream ended.\n",
            "\tExperienceForgetting/eval_phase/test_stream/Task000/Exp000 = 0.7785\n",
            "\tTop1_Acc_Exp/eval_phase/test_stream/Task000/Exp000 = 0.0000\n",
            "-- Starting eval on experience 1 (Task 0) from test stream --\n",
            "100%|██████████| 63/63 [00:01<00:00, 57.00it/s]\n",
            "> Eval on experience 1 (Task 0) from test stream ended.\n",
            "\tExperienceForgetting/eval_phase/test_stream/Task000/Exp001 = 0.6605\n",
            "\tTop1_Acc_Exp/eval_phase/test_stream/Task000/Exp001 = 0.0000\n",
            "-- Starting eval on experience 2 (Task 0) from test stream --\n",
            "100%|██████████| 63/63 [00:01<00:00, 55.07it/s]\n",
            "> Eval on experience 2 (Task 0) from test stream ended.\n",
            "\tTop1_Acc_Exp/eval_phase/test_stream/Task000/Exp002 = 0.6705\n",
            "-- Starting eval on experience 3 (Task 0) from test stream --\n",
            "100%|██████████| 63/63 [00:01<00:00, 53.66it/s]\n",
            "> Eval on experience 3 (Task 0) from test stream ended.\n",
            "\tTop1_Acc_Exp/eval_phase/test_stream/Task000/Exp003 = 0.0000\n",
            "-- Starting eval on experience 4 (Task 0) from test stream --\n",
            "100%|██████████| 63/63 [00:01<00:00, 54.50it/s]\n",
            "> Eval on experience 4 (Task 0) from test stream ended.\n",
            "\tTop1_Acc_Exp/eval_phase/test_stream/Task000/Exp004 = 0.0000\n",
            "-- >> End of eval phase << --\n",
            "\tAccuracy_On_Trained_Experiences/eval_phase/test_stream/Task000 = 0.2235\n",
            "\tStreamForgetting/eval_phase/test_stream = 0.7195\n",
            "\tTop1_Acc_Stream/eval_phase/test_stream/Task000 = 0.1341\n",
            "Start of experience:  3\n",
            "Current Classes:  [6, 7]\n",
            "-- >> Start of training phase << --\n",
            "100%|██████████| 313/313 [00:10<00:00, 30.40it/s]\n",
            "Epoch 0 ended.\n",
            "\tRunningLoss_Epoch/train_phase/train_stream/Task000 = nan\n",
            "\tTop1_Acc_Epoch/train_phase/train_stream/Task000 = 0.0458\n",
            "-- >> End of training phase << --\n",
            "Training completed\n",
            "Computing accuracy on the whole test set\n",
            "-- >> Start of eval phase << --\n",
            "-- Starting eval on experience 0 (Task 0) from test stream --\n",
            "100%|██████████| 63/63 [00:01<00:00, 50.98it/s]\n",
            "> Eval on experience 0 (Task 0) from test stream ended.\n",
            "\tExperienceForgetting/eval_phase/test_stream/Task000/Exp000 = 0.2785\n",
            "\tTop1_Acc_Exp/eval_phase/test_stream/Task000/Exp000 = 0.5000\n",
            "-- Starting eval on experience 1 (Task 0) from test stream --\n",
            "100%|██████████| 63/63 [00:01<00:00, 57.16it/s]\n",
            "> Eval on experience 1 (Task 0) from test stream ended.\n",
            "\tExperienceForgetting/eval_phase/test_stream/Task000/Exp001 = 0.6605\n",
            "\tTop1_Acc_Exp/eval_phase/test_stream/Task000/Exp001 = 0.0000\n",
            "-- Starting eval on experience 2 (Task 0) from test stream --\n",
            "100%|██████████| 63/63 [00:01<00:00, 56.95it/s]\n",
            "> Eval on experience 2 (Task 0) from test stream ended.\n",
            "\tExperienceForgetting/eval_phase/test_stream/Task000/Exp002 = 0.6705\n",
            "\tTop1_Acc_Exp/eval_phase/test_stream/Task000/Exp002 = 0.0000\n",
            "-- Starting eval on experience 3 (Task 0) from test stream --\n",
            "100%|██████████| 63/63 [00:01<00:00, 57.55it/s]\n",
            "> Eval on experience 3 (Task 0) from test stream ended.\n",
            "\tTop1_Acc_Exp/eval_phase/test_stream/Task000/Exp003 = 0.0000\n",
            "-- Starting eval on experience 4 (Task 0) from test stream --\n",
            "100%|██████████| 63/63 [00:01<00:00, 56.81it/s]\n",
            "> Eval on experience 4 (Task 0) from test stream ended.\n",
            "\tTop1_Acc_Exp/eval_phase/test_stream/Task000/Exp004 = 0.0000\n",
            "-- >> End of eval phase << --\n",
            "\tAccuracy_On_Trained_Experiences/eval_phase/test_stream/Task000 = 0.1250\n",
            "\tStreamForgetting/eval_phase/test_stream = 0.5365\n",
            "\tTop1_Acc_Stream/eval_phase/test_stream/Task000 = 0.1000\n",
            "Start of experience:  4\n",
            "Current Classes:  [8, 9]\n",
            "-- >> Start of training phase << --\n",
            "100%|██████████| 313/313 [00:11<00:00, 28.27it/s]\n",
            "Epoch 0 ended.\n",
            "\tRunningLoss_Epoch/train_phase/train_stream/Task000 = nan\n",
            "\tTop1_Acc_Epoch/train_phase/train_stream/Task000 = 0.0000\n",
            "-- >> End of training phase << --\n",
            "Training completed\n",
            "Computing accuracy on the whole test set\n",
            "-- >> Start of eval phase << --\n",
            "-- Starting eval on experience 0 (Task 0) from test stream --\n",
            "100%|██████████| 63/63 [00:01<00:00, 54.13it/s]\n",
            "> Eval on experience 0 (Task 0) from test stream ended.\n",
            "\tExperienceForgetting/eval_phase/test_stream/Task000/Exp000 = 0.2785\n",
            "\tTop1_Acc_Exp/eval_phase/test_stream/Task000/Exp000 = 0.5000\n",
            "-- Starting eval on experience 1 (Task 0) from test stream --\n",
            "100%|██████████| 63/63 [00:01<00:00, 45.43it/s]\n",
            "> Eval on experience 1 (Task 0) from test stream ended.\n",
            "\tExperienceForgetting/eval_phase/test_stream/Task000/Exp001 = 0.6605\n",
            "\tTop1_Acc_Exp/eval_phase/test_stream/Task000/Exp001 = 0.0000\n",
            "-- Starting eval on experience 2 (Task 0) from test stream --\n",
            "100%|██████████| 63/63 [00:01<00:00, 44.25it/s]\n",
            "> Eval on experience 2 (Task 0) from test stream ended.\n",
            "\tExperienceForgetting/eval_phase/test_stream/Task000/Exp002 = 0.6705\n",
            "\tTop1_Acc_Exp/eval_phase/test_stream/Task000/Exp002 = 0.0000\n",
            "-- Starting eval on experience 3 (Task 0) from test stream --\n",
            "100%|██████████| 63/63 [00:01<00:00, 47.13it/s]\n",
            "> Eval on experience 3 (Task 0) from test stream ended.\n",
            "\tExperienceForgetting/eval_phase/test_stream/Task000/Exp003 = 0.0000\n",
            "\tTop1_Acc_Exp/eval_phase/test_stream/Task000/Exp003 = 0.0000\n",
            "-- Starting eval on experience 4 (Task 0) from test stream --\n",
            "100%|██████████| 63/63 [00:01<00:00, 56.97it/s]\n",
            "> Eval on experience 4 (Task 0) from test stream ended.\n",
            "\tTop1_Acc_Exp/eval_phase/test_stream/Task000/Exp004 = 0.0000\n",
            "-- >> End of eval phase << --\n",
            "\tAccuracy_On_Trained_Experiences/eval_phase/test_stream/Task000 = 0.1000\n",
            "\tStreamForgetting/eval_phase/test_stream = 0.4024\n",
            "\tTop1_Acc_Stream/eval_phase/test_stream/Task000 = 0.1000\n"
          ]
        }
      ]
    },
    {
      "cell_type": "code",
      "source": [],
      "metadata": {
        "id": "W9b3eilRa2oI"
      },
      "execution_count": null,
      "outputs": []
    }
  ],
  "metadata": {
    "colab": {
      "provenance": [],
      "toc_visible": true,
      "gpuType": "T4",
      "collapsed_sections": [
        "81TzZYcUqjdj",
        "Uot78Zzcqjdl"
      ]
    },
    "kernelspec": {
      "display_name": "Python 3",
      "name": "python3"
    },
    "language_info": {
      "codemirror_mode": {
        "name": "ipython",
        "version": 3
      },
      "file_extension": ".py",
      "mimetype": "text/x-python",
      "name": "python",
      "nbconvert_exporter": "python",
      "pygments_lexer": "ipython3",
      "version": "3.10.14"
    },
    "accelerator": "GPU",
    "widgets": {
      "application/vnd.jupyter.widget-state+json": {
        "5420c29693df42fe8f82c3fb0a92c848": {
          "model_module": "@jupyter-widgets/controls",
          "model_name": "VBoxModel",
          "model_module_version": "1.5.0",
          "state": {
            "_dom_classes": [],
            "_model_module": "@jupyter-widgets/controls",
            "_model_module_version": "1.5.0",
            "_model_name": "VBoxModel",
            "_view_count": null,
            "_view_module": "@jupyter-widgets/controls",
            "_view_module_version": "1.5.0",
            "_view_name": "VBoxView",
            "box_style": "",
            "children": [
              "IPY_MODEL_e333ca24b1fa4ac9a3fc1018116f6120",
              "IPY_MODEL_3f25bdf8f7834b609837ac1c17203646"
            ],
            "layout": "IPY_MODEL_3ccbc5de8d7c45c188a955f04f405633"
          }
        },
        "e333ca24b1fa4ac9a3fc1018116f6120": {
          "model_module": "@jupyter-widgets/controls",
          "model_name": "LabelModel",
          "model_module_version": "1.5.0",
          "state": {
            "_dom_classes": [],
            "_model_module": "@jupyter-widgets/controls",
            "_model_module_version": "1.5.0",
            "_model_name": "LabelModel",
            "_view_count": null,
            "_view_module": "@jupyter-widgets/controls",
            "_view_module_version": "1.5.0",
            "_view_name": "LabelView",
            "description": "",
            "description_tooltip": null,
            "layout": "IPY_MODEL_dff4df32965c4fb79cc01e45621c17f6",
            "placeholder": "​",
            "style": "IPY_MODEL_bcb772185f874d33a3d91b37ebb33e38",
            "value": "0.174 MB of 0.174 MB uploaded\r"
          }
        },
        "3f25bdf8f7834b609837ac1c17203646": {
          "model_module": "@jupyter-widgets/controls",
          "model_name": "FloatProgressModel",
          "model_module_version": "1.5.0",
          "state": {
            "_dom_classes": [],
            "_model_module": "@jupyter-widgets/controls",
            "_model_module_version": "1.5.0",
            "_model_name": "FloatProgressModel",
            "_view_count": null,
            "_view_module": "@jupyter-widgets/controls",
            "_view_module_version": "1.5.0",
            "_view_name": "ProgressView",
            "bar_style": "",
            "description": "",
            "description_tooltip": null,
            "layout": "IPY_MODEL_2f16533c821b46c489d05d7e6cb0b9bb",
            "max": 1,
            "min": 0,
            "orientation": "horizontal",
            "style": "IPY_MODEL_728ff6f7363941e1a33d2f437058a969",
            "value": 1
          }
        },
        "3ccbc5de8d7c45c188a955f04f405633": {
          "model_module": "@jupyter-widgets/base",
          "model_name": "LayoutModel",
          "model_module_version": "1.2.0",
          "state": {
            "_model_module": "@jupyter-widgets/base",
            "_model_module_version": "1.2.0",
            "_model_name": "LayoutModel",
            "_view_count": null,
            "_view_module": "@jupyter-widgets/base",
            "_view_module_version": "1.2.0",
            "_view_name": "LayoutView",
            "align_content": null,
            "align_items": null,
            "align_self": null,
            "border": null,
            "bottom": null,
            "display": null,
            "flex": null,
            "flex_flow": null,
            "grid_area": null,
            "grid_auto_columns": null,
            "grid_auto_flow": null,
            "grid_auto_rows": null,
            "grid_column": null,
            "grid_gap": null,
            "grid_row": null,
            "grid_template_areas": null,
            "grid_template_columns": null,
            "grid_template_rows": null,
            "height": null,
            "justify_content": null,
            "justify_items": null,
            "left": null,
            "margin": null,
            "max_height": null,
            "max_width": null,
            "min_height": null,
            "min_width": null,
            "object_fit": null,
            "object_position": null,
            "order": null,
            "overflow": null,
            "overflow_x": null,
            "overflow_y": null,
            "padding": null,
            "right": null,
            "top": null,
            "visibility": null,
            "width": null
          }
        },
        "dff4df32965c4fb79cc01e45621c17f6": {
          "model_module": "@jupyter-widgets/base",
          "model_name": "LayoutModel",
          "model_module_version": "1.2.0",
          "state": {
            "_model_module": "@jupyter-widgets/base",
            "_model_module_version": "1.2.0",
            "_model_name": "LayoutModel",
            "_view_count": null,
            "_view_module": "@jupyter-widgets/base",
            "_view_module_version": "1.2.0",
            "_view_name": "LayoutView",
            "align_content": null,
            "align_items": null,
            "align_self": null,
            "border": null,
            "bottom": null,
            "display": null,
            "flex": null,
            "flex_flow": null,
            "grid_area": null,
            "grid_auto_columns": null,
            "grid_auto_flow": null,
            "grid_auto_rows": null,
            "grid_column": null,
            "grid_gap": null,
            "grid_row": null,
            "grid_template_areas": null,
            "grid_template_columns": null,
            "grid_template_rows": null,
            "height": null,
            "justify_content": null,
            "justify_items": null,
            "left": null,
            "margin": null,
            "max_height": null,
            "max_width": null,
            "min_height": null,
            "min_width": null,
            "object_fit": null,
            "object_position": null,
            "order": null,
            "overflow": null,
            "overflow_x": null,
            "overflow_y": null,
            "padding": null,
            "right": null,
            "top": null,
            "visibility": null,
            "width": null
          }
        },
        "bcb772185f874d33a3d91b37ebb33e38": {
          "model_module": "@jupyter-widgets/controls",
          "model_name": "DescriptionStyleModel",
          "model_module_version": "1.5.0",
          "state": {
            "_model_module": "@jupyter-widgets/controls",
            "_model_module_version": "1.5.0",
            "_model_name": "DescriptionStyleModel",
            "_view_count": null,
            "_view_module": "@jupyter-widgets/base",
            "_view_module_version": "1.2.0",
            "_view_name": "StyleView",
            "description_width": ""
          }
        },
        "2f16533c821b46c489d05d7e6cb0b9bb": {
          "model_module": "@jupyter-widgets/base",
          "model_name": "LayoutModel",
          "model_module_version": "1.2.0",
          "state": {
            "_model_module": "@jupyter-widgets/base",
            "_model_module_version": "1.2.0",
            "_model_name": "LayoutModel",
            "_view_count": null,
            "_view_module": "@jupyter-widgets/base",
            "_view_module_version": "1.2.0",
            "_view_name": "LayoutView",
            "align_content": null,
            "align_items": null,
            "align_self": null,
            "border": null,
            "bottom": null,
            "display": null,
            "flex": null,
            "flex_flow": null,
            "grid_area": null,
            "grid_auto_columns": null,
            "grid_auto_flow": null,
            "grid_auto_rows": null,
            "grid_column": null,
            "grid_gap": null,
            "grid_row": null,
            "grid_template_areas": null,
            "grid_template_columns": null,
            "grid_template_rows": null,
            "height": null,
            "justify_content": null,
            "justify_items": null,
            "left": null,
            "margin": null,
            "max_height": null,
            "max_width": null,
            "min_height": null,
            "min_width": null,
            "object_fit": null,
            "object_position": null,
            "order": null,
            "overflow": null,
            "overflow_x": null,
            "overflow_y": null,
            "padding": null,
            "right": null,
            "top": null,
            "visibility": null,
            "width": null
          }
        },
        "728ff6f7363941e1a33d2f437058a969": {
          "model_module": "@jupyter-widgets/controls",
          "model_name": "ProgressStyleModel",
          "model_module_version": "1.5.0",
          "state": {
            "_model_module": "@jupyter-widgets/controls",
            "_model_module_version": "1.5.0",
            "_model_name": "ProgressStyleModel",
            "_view_count": null,
            "_view_module": "@jupyter-widgets/base",
            "_view_module_version": "1.2.0",
            "_view_name": "StyleView",
            "bar_color": null,
            "description_width": ""
          }
        },
        "d80213d3b4fc4a279cc28c7bcbfa04d9": {
          "model_module": "@jupyter-widgets/controls",
          "model_name": "VBoxModel",
          "model_module_version": "1.5.0",
          "state": {
            "_dom_classes": [],
            "_model_module": "@jupyter-widgets/controls",
            "_model_module_version": "1.5.0",
            "_model_name": "VBoxModel",
            "_view_count": null,
            "_view_module": "@jupyter-widgets/controls",
            "_view_module_version": "1.5.0",
            "_view_name": "VBoxView",
            "box_style": "",
            "children": [
              "IPY_MODEL_391ed6755af145ffb151476bfe9ffd37",
              "IPY_MODEL_bfb6b352df54409c91a1779e98f783fe"
            ],
            "layout": "IPY_MODEL_94d5e5e6d2134b4fa0c2e17e470d93df"
          }
        },
        "391ed6755af145ffb151476bfe9ffd37": {
          "model_module": "@jupyter-widgets/controls",
          "model_name": "LabelModel",
          "model_module_version": "1.5.0",
          "state": {
            "_dom_classes": [],
            "_model_module": "@jupyter-widgets/controls",
            "_model_module_version": "1.5.0",
            "_model_name": "LabelModel",
            "_view_count": null,
            "_view_module": "@jupyter-widgets/controls",
            "_view_module_version": "1.5.0",
            "_view_name": "LabelView",
            "description": "",
            "description_tooltip": null,
            "layout": "IPY_MODEL_2b92617d5ea440a2acbbc4969b0e8911",
            "placeholder": "​",
            "style": "IPY_MODEL_e8271e77998343908db85d5756f238f3",
            "value": "0.334 MB of 0.334 MB uploaded\r"
          }
        },
        "bfb6b352df54409c91a1779e98f783fe": {
          "model_module": "@jupyter-widgets/controls",
          "model_name": "FloatProgressModel",
          "model_module_version": "1.5.0",
          "state": {
            "_dom_classes": [],
            "_model_module": "@jupyter-widgets/controls",
            "_model_module_version": "1.5.0",
            "_model_name": "FloatProgressModel",
            "_view_count": null,
            "_view_module": "@jupyter-widgets/controls",
            "_view_module_version": "1.5.0",
            "_view_name": "ProgressView",
            "bar_style": "",
            "description": "",
            "description_tooltip": null,
            "layout": "IPY_MODEL_d6446883f8414e2aad02a0df3a38aa02",
            "max": 1,
            "min": 0,
            "orientation": "horizontal",
            "style": "IPY_MODEL_60d583d654a8419fb2d2a306837f68a5",
            "value": 1
          }
        },
        "94d5e5e6d2134b4fa0c2e17e470d93df": {
          "model_module": "@jupyter-widgets/base",
          "model_name": "LayoutModel",
          "model_module_version": "1.2.0",
          "state": {
            "_model_module": "@jupyter-widgets/base",
            "_model_module_version": "1.2.0",
            "_model_name": "LayoutModel",
            "_view_count": null,
            "_view_module": "@jupyter-widgets/base",
            "_view_module_version": "1.2.0",
            "_view_name": "LayoutView",
            "align_content": null,
            "align_items": null,
            "align_self": null,
            "border": null,
            "bottom": null,
            "display": null,
            "flex": null,
            "flex_flow": null,
            "grid_area": null,
            "grid_auto_columns": null,
            "grid_auto_flow": null,
            "grid_auto_rows": null,
            "grid_column": null,
            "grid_gap": null,
            "grid_row": null,
            "grid_template_areas": null,
            "grid_template_columns": null,
            "grid_template_rows": null,
            "height": null,
            "justify_content": null,
            "justify_items": null,
            "left": null,
            "margin": null,
            "max_height": null,
            "max_width": null,
            "min_height": null,
            "min_width": null,
            "object_fit": null,
            "object_position": null,
            "order": null,
            "overflow": null,
            "overflow_x": null,
            "overflow_y": null,
            "padding": null,
            "right": null,
            "top": null,
            "visibility": null,
            "width": null
          }
        },
        "2b92617d5ea440a2acbbc4969b0e8911": {
          "model_module": "@jupyter-widgets/base",
          "model_name": "LayoutModel",
          "model_module_version": "1.2.0",
          "state": {
            "_model_module": "@jupyter-widgets/base",
            "_model_module_version": "1.2.0",
            "_model_name": "LayoutModel",
            "_view_count": null,
            "_view_module": "@jupyter-widgets/base",
            "_view_module_version": "1.2.0",
            "_view_name": "LayoutView",
            "align_content": null,
            "align_items": null,
            "align_self": null,
            "border": null,
            "bottom": null,
            "display": null,
            "flex": null,
            "flex_flow": null,
            "grid_area": null,
            "grid_auto_columns": null,
            "grid_auto_flow": null,
            "grid_auto_rows": null,
            "grid_column": null,
            "grid_gap": null,
            "grid_row": null,
            "grid_template_areas": null,
            "grid_template_columns": null,
            "grid_template_rows": null,
            "height": null,
            "justify_content": null,
            "justify_items": null,
            "left": null,
            "margin": null,
            "max_height": null,
            "max_width": null,
            "min_height": null,
            "min_width": null,
            "object_fit": null,
            "object_position": null,
            "order": null,
            "overflow": null,
            "overflow_x": null,
            "overflow_y": null,
            "padding": null,
            "right": null,
            "top": null,
            "visibility": null,
            "width": null
          }
        },
        "e8271e77998343908db85d5756f238f3": {
          "model_module": "@jupyter-widgets/controls",
          "model_name": "DescriptionStyleModel",
          "model_module_version": "1.5.0",
          "state": {
            "_model_module": "@jupyter-widgets/controls",
            "_model_module_version": "1.5.0",
            "_model_name": "DescriptionStyleModel",
            "_view_count": null,
            "_view_module": "@jupyter-widgets/base",
            "_view_module_version": "1.2.0",
            "_view_name": "StyleView",
            "description_width": ""
          }
        },
        "d6446883f8414e2aad02a0df3a38aa02": {
          "model_module": "@jupyter-widgets/base",
          "model_name": "LayoutModel",
          "model_module_version": "1.2.0",
          "state": {
            "_model_module": "@jupyter-widgets/base",
            "_model_module_version": "1.2.0",
            "_model_name": "LayoutModel",
            "_view_count": null,
            "_view_module": "@jupyter-widgets/base",
            "_view_module_version": "1.2.0",
            "_view_name": "LayoutView",
            "align_content": null,
            "align_items": null,
            "align_self": null,
            "border": null,
            "bottom": null,
            "display": null,
            "flex": null,
            "flex_flow": null,
            "grid_area": null,
            "grid_auto_columns": null,
            "grid_auto_flow": null,
            "grid_auto_rows": null,
            "grid_column": null,
            "grid_gap": null,
            "grid_row": null,
            "grid_template_areas": null,
            "grid_template_columns": null,
            "grid_template_rows": null,
            "height": null,
            "justify_content": null,
            "justify_items": null,
            "left": null,
            "margin": null,
            "max_height": null,
            "max_width": null,
            "min_height": null,
            "min_width": null,
            "object_fit": null,
            "object_position": null,
            "order": null,
            "overflow": null,
            "overflow_x": null,
            "overflow_y": null,
            "padding": null,
            "right": null,
            "top": null,
            "visibility": null,
            "width": null
          }
        },
        "60d583d654a8419fb2d2a306837f68a5": {
          "model_module": "@jupyter-widgets/controls",
          "model_name": "ProgressStyleModel",
          "model_module_version": "1.5.0",
          "state": {
            "_model_module": "@jupyter-widgets/controls",
            "_model_module_version": "1.5.0",
            "_model_name": "ProgressStyleModel",
            "_view_count": null,
            "_view_module": "@jupyter-widgets/base",
            "_view_module_version": "1.2.0",
            "_view_name": "StyleView",
            "bar_color": null,
            "description_width": ""
          }
        },
        "b07281d73fe443359cff9b06684bc26a": {
          "model_module": "@jupyter-widgets/controls",
          "model_name": "VBoxModel",
          "model_module_version": "1.5.0",
          "state": {
            "_dom_classes": [],
            "_model_module": "@jupyter-widgets/controls",
            "_model_module_version": "1.5.0",
            "_model_name": "VBoxModel",
            "_view_count": null,
            "_view_module": "@jupyter-widgets/controls",
            "_view_module_version": "1.5.0",
            "_view_name": "VBoxView",
            "box_style": "",
            "children": [
              "IPY_MODEL_7abedd73b6d44b6babbcb4ea580fbf9b",
              "IPY_MODEL_556dbec7843844489217486df7ccd0a2"
            ],
            "layout": "IPY_MODEL_7c08aa41458241c487d1392b3025987f"
          }
        },
        "7abedd73b6d44b6babbcb4ea580fbf9b": {
          "model_module": "@jupyter-widgets/controls",
          "model_name": "LabelModel",
          "model_module_version": "1.5.0",
          "state": {
            "_dom_classes": [],
            "_model_module": "@jupyter-widgets/controls",
            "_model_module_version": "1.5.0",
            "_model_name": "LabelModel",
            "_view_count": null,
            "_view_module": "@jupyter-widgets/controls",
            "_view_module_version": "1.5.0",
            "_view_name": "LabelView",
            "description": "",
            "description_tooltip": null,
            "layout": "IPY_MODEL_aedba1774cb747229ed06f827561ac69",
            "placeholder": "​",
            "style": "IPY_MODEL_d0d6de8fd76e4b6fbd07a4d111de0599",
            "value": "1.142 MB of 1.142 MB uploaded\r"
          }
        },
        "556dbec7843844489217486df7ccd0a2": {
          "model_module": "@jupyter-widgets/controls",
          "model_name": "FloatProgressModel",
          "model_module_version": "1.5.0",
          "state": {
            "_dom_classes": [],
            "_model_module": "@jupyter-widgets/controls",
            "_model_module_version": "1.5.0",
            "_model_name": "FloatProgressModel",
            "_view_count": null,
            "_view_module": "@jupyter-widgets/controls",
            "_view_module_version": "1.5.0",
            "_view_name": "ProgressView",
            "bar_style": "",
            "description": "",
            "description_tooltip": null,
            "layout": "IPY_MODEL_3260cf3fc07a4810a77c59df9a07f1b9",
            "max": 1,
            "min": 0,
            "orientation": "horizontal",
            "style": "IPY_MODEL_74915834ac7540e48521b926ff00a156",
            "value": 1
          }
        },
        "7c08aa41458241c487d1392b3025987f": {
          "model_module": "@jupyter-widgets/base",
          "model_name": "LayoutModel",
          "model_module_version": "1.2.0",
          "state": {
            "_model_module": "@jupyter-widgets/base",
            "_model_module_version": "1.2.0",
            "_model_name": "LayoutModel",
            "_view_count": null,
            "_view_module": "@jupyter-widgets/base",
            "_view_module_version": "1.2.0",
            "_view_name": "LayoutView",
            "align_content": null,
            "align_items": null,
            "align_self": null,
            "border": null,
            "bottom": null,
            "display": null,
            "flex": null,
            "flex_flow": null,
            "grid_area": null,
            "grid_auto_columns": null,
            "grid_auto_flow": null,
            "grid_auto_rows": null,
            "grid_column": null,
            "grid_gap": null,
            "grid_row": null,
            "grid_template_areas": null,
            "grid_template_columns": null,
            "grid_template_rows": null,
            "height": null,
            "justify_content": null,
            "justify_items": null,
            "left": null,
            "margin": null,
            "max_height": null,
            "max_width": null,
            "min_height": null,
            "min_width": null,
            "object_fit": null,
            "object_position": null,
            "order": null,
            "overflow": null,
            "overflow_x": null,
            "overflow_y": null,
            "padding": null,
            "right": null,
            "top": null,
            "visibility": null,
            "width": null
          }
        },
        "aedba1774cb747229ed06f827561ac69": {
          "model_module": "@jupyter-widgets/base",
          "model_name": "LayoutModel",
          "model_module_version": "1.2.0",
          "state": {
            "_model_module": "@jupyter-widgets/base",
            "_model_module_version": "1.2.0",
            "_model_name": "LayoutModel",
            "_view_count": null,
            "_view_module": "@jupyter-widgets/base",
            "_view_module_version": "1.2.0",
            "_view_name": "LayoutView",
            "align_content": null,
            "align_items": null,
            "align_self": null,
            "border": null,
            "bottom": null,
            "display": null,
            "flex": null,
            "flex_flow": null,
            "grid_area": null,
            "grid_auto_columns": null,
            "grid_auto_flow": null,
            "grid_auto_rows": null,
            "grid_column": null,
            "grid_gap": null,
            "grid_row": null,
            "grid_template_areas": null,
            "grid_template_columns": null,
            "grid_template_rows": null,
            "height": null,
            "justify_content": null,
            "justify_items": null,
            "left": null,
            "margin": null,
            "max_height": null,
            "max_width": null,
            "min_height": null,
            "min_width": null,
            "object_fit": null,
            "object_position": null,
            "order": null,
            "overflow": null,
            "overflow_x": null,
            "overflow_y": null,
            "padding": null,
            "right": null,
            "top": null,
            "visibility": null,
            "width": null
          }
        },
        "d0d6de8fd76e4b6fbd07a4d111de0599": {
          "model_module": "@jupyter-widgets/controls",
          "model_name": "DescriptionStyleModel",
          "model_module_version": "1.5.0",
          "state": {
            "_model_module": "@jupyter-widgets/controls",
            "_model_module_version": "1.5.0",
            "_model_name": "DescriptionStyleModel",
            "_view_count": null,
            "_view_module": "@jupyter-widgets/base",
            "_view_module_version": "1.2.0",
            "_view_name": "StyleView",
            "description_width": ""
          }
        },
        "3260cf3fc07a4810a77c59df9a07f1b9": {
          "model_module": "@jupyter-widgets/base",
          "model_name": "LayoutModel",
          "model_module_version": "1.2.0",
          "state": {
            "_model_module": "@jupyter-widgets/base",
            "_model_module_version": "1.2.0",
            "_model_name": "LayoutModel",
            "_view_count": null,
            "_view_module": "@jupyter-widgets/base",
            "_view_module_version": "1.2.0",
            "_view_name": "LayoutView",
            "align_content": null,
            "align_items": null,
            "align_self": null,
            "border": null,
            "bottom": null,
            "display": null,
            "flex": null,
            "flex_flow": null,
            "grid_area": null,
            "grid_auto_columns": null,
            "grid_auto_flow": null,
            "grid_auto_rows": null,
            "grid_column": null,
            "grid_gap": null,
            "grid_row": null,
            "grid_template_areas": null,
            "grid_template_columns": null,
            "grid_template_rows": null,
            "height": null,
            "justify_content": null,
            "justify_items": null,
            "left": null,
            "margin": null,
            "max_height": null,
            "max_width": null,
            "min_height": null,
            "min_width": null,
            "object_fit": null,
            "object_position": null,
            "order": null,
            "overflow": null,
            "overflow_x": null,
            "overflow_y": null,
            "padding": null,
            "right": null,
            "top": null,
            "visibility": null,
            "width": null
          }
        },
        "74915834ac7540e48521b926ff00a156": {
          "model_module": "@jupyter-widgets/controls",
          "model_name": "ProgressStyleModel",
          "model_module_version": "1.5.0",
          "state": {
            "_model_module": "@jupyter-widgets/controls",
            "_model_module_version": "1.5.0",
            "_model_name": "ProgressStyleModel",
            "_view_count": null,
            "_view_module": "@jupyter-widgets/base",
            "_view_module_version": "1.2.0",
            "_view_name": "StyleView",
            "bar_color": null,
            "description_width": ""
          }
        },
        "30439fa9911949aa8f0344776fc6c1b2": {
          "model_module": "@jupyter-widgets/controls",
          "model_name": "VBoxModel",
          "model_module_version": "1.5.0",
          "state": {
            "_dom_classes": [],
            "_model_module": "@jupyter-widgets/controls",
            "_model_module_version": "1.5.0",
            "_model_name": "VBoxModel",
            "_view_count": null,
            "_view_module": "@jupyter-widgets/controls",
            "_view_module_version": "1.5.0",
            "_view_name": "VBoxView",
            "box_style": "",
            "children": [
              "IPY_MODEL_ead62cd48dda46febaf50666a174812f",
              "IPY_MODEL_4b622ed16bb947f397639c6fcb278d64"
            ],
            "layout": "IPY_MODEL_81a4d378b43b4e2ca5ac07b5c4527dc8"
          }
        },
        "ead62cd48dda46febaf50666a174812f": {
          "model_module": "@jupyter-widgets/controls",
          "model_name": "LabelModel",
          "model_module_version": "1.5.0",
          "state": {
            "_dom_classes": [],
            "_model_module": "@jupyter-widgets/controls",
            "_model_module_version": "1.5.0",
            "_model_name": "LabelModel",
            "_view_count": null,
            "_view_module": "@jupyter-widgets/controls",
            "_view_module_version": "1.5.0",
            "_view_name": "LabelView",
            "description": "",
            "description_tooltip": null,
            "layout": "IPY_MODEL_0516e48e806a46a2984c4af7a452d8c8",
            "placeholder": "​",
            "style": "IPY_MODEL_38e880b22dd94c2bae35f7ac075d3635",
            "value": "Waiting for wandb.init()...\r"
          }
        },
        "4b622ed16bb947f397639c6fcb278d64": {
          "model_module": "@jupyter-widgets/controls",
          "model_name": "FloatProgressModel",
          "model_module_version": "1.5.0",
          "state": {
            "_dom_classes": [],
            "_model_module": "@jupyter-widgets/controls",
            "_model_module_version": "1.5.0",
            "_model_name": "FloatProgressModel",
            "_view_count": null,
            "_view_module": "@jupyter-widgets/controls",
            "_view_module_version": "1.5.0",
            "_view_name": "ProgressView",
            "bar_style": "",
            "description": "",
            "description_tooltip": null,
            "layout": "IPY_MODEL_f176d8a2bc024fe2a4e036e94838b626",
            "max": 1,
            "min": 0,
            "orientation": "horizontal",
            "style": "IPY_MODEL_7bab20a2ff32479596808972c73f979c",
            "value": 1
          }
        },
        "81a4d378b43b4e2ca5ac07b5c4527dc8": {
          "model_module": "@jupyter-widgets/base",
          "model_name": "LayoutModel",
          "model_module_version": "1.2.0",
          "state": {
            "_model_module": "@jupyter-widgets/base",
            "_model_module_version": "1.2.0",
            "_model_name": "LayoutModel",
            "_view_count": null,
            "_view_module": "@jupyter-widgets/base",
            "_view_module_version": "1.2.0",
            "_view_name": "LayoutView",
            "align_content": null,
            "align_items": null,
            "align_self": null,
            "border": null,
            "bottom": null,
            "display": null,
            "flex": null,
            "flex_flow": null,
            "grid_area": null,
            "grid_auto_columns": null,
            "grid_auto_flow": null,
            "grid_auto_rows": null,
            "grid_column": null,
            "grid_gap": null,
            "grid_row": null,
            "grid_template_areas": null,
            "grid_template_columns": null,
            "grid_template_rows": null,
            "height": null,
            "justify_content": null,
            "justify_items": null,
            "left": null,
            "margin": null,
            "max_height": null,
            "max_width": null,
            "min_height": null,
            "min_width": null,
            "object_fit": null,
            "object_position": null,
            "order": null,
            "overflow": null,
            "overflow_x": null,
            "overflow_y": null,
            "padding": null,
            "right": null,
            "top": null,
            "visibility": null,
            "width": null
          }
        },
        "0516e48e806a46a2984c4af7a452d8c8": {
          "model_module": "@jupyter-widgets/base",
          "model_name": "LayoutModel",
          "model_module_version": "1.2.0",
          "state": {
            "_model_module": "@jupyter-widgets/base",
            "_model_module_version": "1.2.0",
            "_model_name": "LayoutModel",
            "_view_count": null,
            "_view_module": "@jupyter-widgets/base",
            "_view_module_version": "1.2.0",
            "_view_name": "LayoutView",
            "align_content": null,
            "align_items": null,
            "align_self": null,
            "border": null,
            "bottom": null,
            "display": null,
            "flex": null,
            "flex_flow": null,
            "grid_area": null,
            "grid_auto_columns": null,
            "grid_auto_flow": null,
            "grid_auto_rows": null,
            "grid_column": null,
            "grid_gap": null,
            "grid_row": null,
            "grid_template_areas": null,
            "grid_template_columns": null,
            "grid_template_rows": null,
            "height": null,
            "justify_content": null,
            "justify_items": null,
            "left": null,
            "margin": null,
            "max_height": null,
            "max_width": null,
            "min_height": null,
            "min_width": null,
            "object_fit": null,
            "object_position": null,
            "order": null,
            "overflow": null,
            "overflow_x": null,
            "overflow_y": null,
            "padding": null,
            "right": null,
            "top": null,
            "visibility": null,
            "width": null
          }
        },
        "38e880b22dd94c2bae35f7ac075d3635": {
          "model_module": "@jupyter-widgets/controls",
          "model_name": "DescriptionStyleModel",
          "model_module_version": "1.5.0",
          "state": {
            "_model_module": "@jupyter-widgets/controls",
            "_model_module_version": "1.5.0",
            "_model_name": "DescriptionStyleModel",
            "_view_count": null,
            "_view_module": "@jupyter-widgets/base",
            "_view_module_version": "1.2.0",
            "_view_name": "StyleView",
            "description_width": ""
          }
        },
        "f176d8a2bc024fe2a4e036e94838b626": {
          "model_module": "@jupyter-widgets/base",
          "model_name": "LayoutModel",
          "model_module_version": "1.2.0",
          "state": {
            "_model_module": "@jupyter-widgets/base",
            "_model_module_version": "1.2.0",
            "_model_name": "LayoutModel",
            "_view_count": null,
            "_view_module": "@jupyter-widgets/base",
            "_view_module_version": "1.2.0",
            "_view_name": "LayoutView",
            "align_content": null,
            "align_items": null,
            "align_self": null,
            "border": null,
            "bottom": null,
            "display": null,
            "flex": null,
            "flex_flow": null,
            "grid_area": null,
            "grid_auto_columns": null,
            "grid_auto_flow": null,
            "grid_auto_rows": null,
            "grid_column": null,
            "grid_gap": null,
            "grid_row": null,
            "grid_template_areas": null,
            "grid_template_columns": null,
            "grid_template_rows": null,
            "height": null,
            "justify_content": null,
            "justify_items": null,
            "left": null,
            "margin": null,
            "max_height": null,
            "max_width": null,
            "min_height": null,
            "min_width": null,
            "object_fit": null,
            "object_position": null,
            "order": null,
            "overflow": null,
            "overflow_x": null,
            "overflow_y": null,
            "padding": null,
            "right": null,
            "top": null,
            "visibility": null,
            "width": null
          }
        },
        "7bab20a2ff32479596808972c73f979c": {
          "model_module": "@jupyter-widgets/controls",
          "model_name": "ProgressStyleModel",
          "model_module_version": "1.5.0",
          "state": {
            "_model_module": "@jupyter-widgets/controls",
            "_model_module_version": "1.5.0",
            "_model_name": "ProgressStyleModel",
            "_view_count": null,
            "_view_module": "@jupyter-widgets/base",
            "_view_module_version": "1.2.0",
            "_view_name": "StyleView",
            "bar_color": null,
            "description_width": ""
          }
        },
        "0c972af08a52493891933ccafdf98e06": {
          "model_module": "@jupyter-widgets/controls",
          "model_name": "VBoxModel",
          "model_module_version": "1.5.0",
          "state": {
            "_dom_classes": [],
            "_model_module": "@jupyter-widgets/controls",
            "_model_module_version": "1.5.0",
            "_model_name": "VBoxModel",
            "_view_count": null,
            "_view_module": "@jupyter-widgets/controls",
            "_view_module_version": "1.5.0",
            "_view_name": "VBoxView",
            "box_style": "",
            "children": [
              "IPY_MODEL_533ed2fdc6d84f7ab3b5e78cd471e297",
              "IPY_MODEL_2161e579a9ce4fca88ff405ad0c6513e"
            ],
            "layout": "IPY_MODEL_a1ca8481478747b98ba9becb91e533b3"
          }
        },
        "533ed2fdc6d84f7ab3b5e78cd471e297": {
          "model_module": "@jupyter-widgets/controls",
          "model_name": "LabelModel",
          "model_module_version": "1.5.0",
          "state": {
            "_dom_classes": [],
            "_model_module": "@jupyter-widgets/controls",
            "_model_module_version": "1.5.0",
            "_model_name": "LabelModel",
            "_view_count": null,
            "_view_module": "@jupyter-widgets/controls",
            "_view_module_version": "1.5.0",
            "_view_name": "LabelView",
            "description": "",
            "description_tooltip": null,
            "layout": "IPY_MODEL_ee9dcce03da14d46809f14b3ec542907",
            "placeholder": "​",
            "style": "IPY_MODEL_c5b9a3ed108946389c88886ff70362ad",
            "value": "1.142 MB of 1.142 MB uploaded\r"
          }
        },
        "2161e579a9ce4fca88ff405ad0c6513e": {
          "model_module": "@jupyter-widgets/controls",
          "model_name": "FloatProgressModel",
          "model_module_version": "1.5.0",
          "state": {
            "_dom_classes": [],
            "_model_module": "@jupyter-widgets/controls",
            "_model_module_version": "1.5.0",
            "_model_name": "FloatProgressModel",
            "_view_count": null,
            "_view_module": "@jupyter-widgets/controls",
            "_view_module_version": "1.5.0",
            "_view_name": "ProgressView",
            "bar_style": "",
            "description": "",
            "description_tooltip": null,
            "layout": "IPY_MODEL_5433467d6ae64082aa412a4332d4d831",
            "max": 1,
            "min": 0,
            "orientation": "horizontal",
            "style": "IPY_MODEL_34d00f7960b34d27b2044e920073f3ca",
            "value": 1
          }
        },
        "a1ca8481478747b98ba9becb91e533b3": {
          "model_module": "@jupyter-widgets/base",
          "model_name": "LayoutModel",
          "model_module_version": "1.2.0",
          "state": {
            "_model_module": "@jupyter-widgets/base",
            "_model_module_version": "1.2.0",
            "_model_name": "LayoutModel",
            "_view_count": null,
            "_view_module": "@jupyter-widgets/base",
            "_view_module_version": "1.2.0",
            "_view_name": "LayoutView",
            "align_content": null,
            "align_items": null,
            "align_self": null,
            "border": null,
            "bottom": null,
            "display": null,
            "flex": null,
            "flex_flow": null,
            "grid_area": null,
            "grid_auto_columns": null,
            "grid_auto_flow": null,
            "grid_auto_rows": null,
            "grid_column": null,
            "grid_gap": null,
            "grid_row": null,
            "grid_template_areas": null,
            "grid_template_columns": null,
            "grid_template_rows": null,
            "height": null,
            "justify_content": null,
            "justify_items": null,
            "left": null,
            "margin": null,
            "max_height": null,
            "max_width": null,
            "min_height": null,
            "min_width": null,
            "object_fit": null,
            "object_position": null,
            "order": null,
            "overflow": null,
            "overflow_x": null,
            "overflow_y": null,
            "padding": null,
            "right": null,
            "top": null,
            "visibility": null,
            "width": null
          }
        },
        "ee9dcce03da14d46809f14b3ec542907": {
          "model_module": "@jupyter-widgets/base",
          "model_name": "LayoutModel",
          "model_module_version": "1.2.0",
          "state": {
            "_model_module": "@jupyter-widgets/base",
            "_model_module_version": "1.2.0",
            "_model_name": "LayoutModel",
            "_view_count": null,
            "_view_module": "@jupyter-widgets/base",
            "_view_module_version": "1.2.0",
            "_view_name": "LayoutView",
            "align_content": null,
            "align_items": null,
            "align_self": null,
            "border": null,
            "bottom": null,
            "display": null,
            "flex": null,
            "flex_flow": null,
            "grid_area": null,
            "grid_auto_columns": null,
            "grid_auto_flow": null,
            "grid_auto_rows": null,
            "grid_column": null,
            "grid_gap": null,
            "grid_row": null,
            "grid_template_areas": null,
            "grid_template_columns": null,
            "grid_template_rows": null,
            "height": null,
            "justify_content": null,
            "justify_items": null,
            "left": null,
            "margin": null,
            "max_height": null,
            "max_width": null,
            "min_height": null,
            "min_width": null,
            "object_fit": null,
            "object_position": null,
            "order": null,
            "overflow": null,
            "overflow_x": null,
            "overflow_y": null,
            "padding": null,
            "right": null,
            "top": null,
            "visibility": null,
            "width": null
          }
        },
        "c5b9a3ed108946389c88886ff70362ad": {
          "model_module": "@jupyter-widgets/controls",
          "model_name": "DescriptionStyleModel",
          "model_module_version": "1.5.0",
          "state": {
            "_model_module": "@jupyter-widgets/controls",
            "_model_module_version": "1.5.0",
            "_model_name": "DescriptionStyleModel",
            "_view_count": null,
            "_view_module": "@jupyter-widgets/base",
            "_view_module_version": "1.2.0",
            "_view_name": "StyleView",
            "description_width": ""
          }
        },
        "5433467d6ae64082aa412a4332d4d831": {
          "model_module": "@jupyter-widgets/base",
          "model_name": "LayoutModel",
          "model_module_version": "1.2.0",
          "state": {
            "_model_module": "@jupyter-widgets/base",
            "_model_module_version": "1.2.0",
            "_model_name": "LayoutModel",
            "_view_count": null,
            "_view_module": "@jupyter-widgets/base",
            "_view_module_version": "1.2.0",
            "_view_name": "LayoutView",
            "align_content": null,
            "align_items": null,
            "align_self": null,
            "border": null,
            "bottom": null,
            "display": null,
            "flex": null,
            "flex_flow": null,
            "grid_area": null,
            "grid_auto_columns": null,
            "grid_auto_flow": null,
            "grid_auto_rows": null,
            "grid_column": null,
            "grid_gap": null,
            "grid_row": null,
            "grid_template_areas": null,
            "grid_template_columns": null,
            "grid_template_rows": null,
            "height": null,
            "justify_content": null,
            "justify_items": null,
            "left": null,
            "margin": null,
            "max_height": null,
            "max_width": null,
            "min_height": null,
            "min_width": null,
            "object_fit": null,
            "object_position": null,
            "order": null,
            "overflow": null,
            "overflow_x": null,
            "overflow_y": null,
            "padding": null,
            "right": null,
            "top": null,
            "visibility": null,
            "width": null
          }
        },
        "34d00f7960b34d27b2044e920073f3ca": {
          "model_module": "@jupyter-widgets/controls",
          "model_name": "ProgressStyleModel",
          "model_module_version": "1.5.0",
          "state": {
            "_model_module": "@jupyter-widgets/controls",
            "_model_module_version": "1.5.0",
            "_model_name": "ProgressStyleModel",
            "_view_count": null,
            "_view_module": "@jupyter-widgets/base",
            "_view_module_version": "1.2.0",
            "_view_name": "StyleView",
            "bar_color": null,
            "description_width": ""
          }
        },
        "ad6bc674e9334b7a9402a9125f2f9500": {
          "model_module": "@jupyter-widgets/controls",
          "model_name": "VBoxModel",
          "model_module_version": "1.5.0",
          "state": {
            "_dom_classes": [],
            "_model_module": "@jupyter-widgets/controls",
            "_model_module_version": "1.5.0",
            "_model_name": "VBoxModel",
            "_view_count": null,
            "_view_module": "@jupyter-widgets/controls",
            "_view_module_version": "1.5.0",
            "_view_name": "VBoxView",
            "box_style": "",
            "children": [
              "IPY_MODEL_2bd82e03f6c644ffb5eb1d230012b6ef",
              "IPY_MODEL_fb08fbe8be6c4825a1322a428f24d1e3"
            ],
            "layout": "IPY_MODEL_a994c85237e44832bb1c9d15e5ebd4b2"
          }
        },
        "2bd82e03f6c644ffb5eb1d230012b6ef": {
          "model_module": "@jupyter-widgets/controls",
          "model_name": "LabelModel",
          "model_module_version": "1.5.0",
          "state": {
            "_dom_classes": [],
            "_model_module": "@jupyter-widgets/controls",
            "_model_module_version": "1.5.0",
            "_model_name": "LabelModel",
            "_view_count": null,
            "_view_module": "@jupyter-widgets/controls",
            "_view_module_version": "1.5.0",
            "_view_name": "LabelView",
            "description": "",
            "description_tooltip": null,
            "layout": "IPY_MODEL_701ef7ed66ee4722acd71026ca576f1b",
            "placeholder": "​",
            "style": "IPY_MODEL_3f8222daa4e44755ab5364962ec39147",
            "value": "1.142 MB of 1.142 MB uploaded\r"
          }
        },
        "fb08fbe8be6c4825a1322a428f24d1e3": {
          "model_module": "@jupyter-widgets/controls",
          "model_name": "FloatProgressModel",
          "model_module_version": "1.5.0",
          "state": {
            "_dom_classes": [],
            "_model_module": "@jupyter-widgets/controls",
            "_model_module_version": "1.5.0",
            "_model_name": "FloatProgressModel",
            "_view_count": null,
            "_view_module": "@jupyter-widgets/controls",
            "_view_module_version": "1.5.0",
            "_view_name": "ProgressView",
            "bar_style": "",
            "description": "",
            "description_tooltip": null,
            "layout": "IPY_MODEL_afb81984d0624d3fb54c16f49a5a2dd7",
            "max": 1,
            "min": 0,
            "orientation": "horizontal",
            "style": "IPY_MODEL_ea0f7c4a6dd34ea39f4c1bc0cd70373f",
            "value": 1
          }
        },
        "a994c85237e44832bb1c9d15e5ebd4b2": {
          "model_module": "@jupyter-widgets/base",
          "model_name": "LayoutModel",
          "model_module_version": "1.2.0",
          "state": {
            "_model_module": "@jupyter-widgets/base",
            "_model_module_version": "1.2.0",
            "_model_name": "LayoutModel",
            "_view_count": null,
            "_view_module": "@jupyter-widgets/base",
            "_view_module_version": "1.2.0",
            "_view_name": "LayoutView",
            "align_content": null,
            "align_items": null,
            "align_self": null,
            "border": null,
            "bottom": null,
            "display": null,
            "flex": null,
            "flex_flow": null,
            "grid_area": null,
            "grid_auto_columns": null,
            "grid_auto_flow": null,
            "grid_auto_rows": null,
            "grid_column": null,
            "grid_gap": null,
            "grid_row": null,
            "grid_template_areas": null,
            "grid_template_columns": null,
            "grid_template_rows": null,
            "height": null,
            "justify_content": null,
            "justify_items": null,
            "left": null,
            "margin": null,
            "max_height": null,
            "max_width": null,
            "min_height": null,
            "min_width": null,
            "object_fit": null,
            "object_position": null,
            "order": null,
            "overflow": null,
            "overflow_x": null,
            "overflow_y": null,
            "padding": null,
            "right": null,
            "top": null,
            "visibility": null,
            "width": null
          }
        },
        "701ef7ed66ee4722acd71026ca576f1b": {
          "model_module": "@jupyter-widgets/base",
          "model_name": "LayoutModel",
          "model_module_version": "1.2.0",
          "state": {
            "_model_module": "@jupyter-widgets/base",
            "_model_module_version": "1.2.0",
            "_model_name": "LayoutModel",
            "_view_count": null,
            "_view_module": "@jupyter-widgets/base",
            "_view_module_version": "1.2.0",
            "_view_name": "LayoutView",
            "align_content": null,
            "align_items": null,
            "align_self": null,
            "border": null,
            "bottom": null,
            "display": null,
            "flex": null,
            "flex_flow": null,
            "grid_area": null,
            "grid_auto_columns": null,
            "grid_auto_flow": null,
            "grid_auto_rows": null,
            "grid_column": null,
            "grid_gap": null,
            "grid_row": null,
            "grid_template_areas": null,
            "grid_template_columns": null,
            "grid_template_rows": null,
            "height": null,
            "justify_content": null,
            "justify_items": null,
            "left": null,
            "margin": null,
            "max_height": null,
            "max_width": null,
            "min_height": null,
            "min_width": null,
            "object_fit": null,
            "object_position": null,
            "order": null,
            "overflow": null,
            "overflow_x": null,
            "overflow_y": null,
            "padding": null,
            "right": null,
            "top": null,
            "visibility": null,
            "width": null
          }
        },
        "3f8222daa4e44755ab5364962ec39147": {
          "model_module": "@jupyter-widgets/controls",
          "model_name": "DescriptionStyleModel",
          "model_module_version": "1.5.0",
          "state": {
            "_model_module": "@jupyter-widgets/controls",
            "_model_module_version": "1.5.0",
            "_model_name": "DescriptionStyleModel",
            "_view_count": null,
            "_view_module": "@jupyter-widgets/base",
            "_view_module_version": "1.2.0",
            "_view_name": "StyleView",
            "description_width": ""
          }
        },
        "afb81984d0624d3fb54c16f49a5a2dd7": {
          "model_module": "@jupyter-widgets/base",
          "model_name": "LayoutModel",
          "model_module_version": "1.2.0",
          "state": {
            "_model_module": "@jupyter-widgets/base",
            "_model_module_version": "1.2.0",
            "_model_name": "LayoutModel",
            "_view_count": null,
            "_view_module": "@jupyter-widgets/base",
            "_view_module_version": "1.2.0",
            "_view_name": "LayoutView",
            "align_content": null,
            "align_items": null,
            "align_self": null,
            "border": null,
            "bottom": null,
            "display": null,
            "flex": null,
            "flex_flow": null,
            "grid_area": null,
            "grid_auto_columns": null,
            "grid_auto_flow": null,
            "grid_auto_rows": null,
            "grid_column": null,
            "grid_gap": null,
            "grid_row": null,
            "grid_template_areas": null,
            "grid_template_columns": null,
            "grid_template_rows": null,
            "height": null,
            "justify_content": null,
            "justify_items": null,
            "left": null,
            "margin": null,
            "max_height": null,
            "max_width": null,
            "min_height": null,
            "min_width": null,
            "object_fit": null,
            "object_position": null,
            "order": null,
            "overflow": null,
            "overflow_x": null,
            "overflow_y": null,
            "padding": null,
            "right": null,
            "top": null,
            "visibility": null,
            "width": null
          }
        },
        "ea0f7c4a6dd34ea39f4c1bc0cd70373f": {
          "model_module": "@jupyter-widgets/controls",
          "model_name": "ProgressStyleModel",
          "model_module_version": "1.5.0",
          "state": {
            "_model_module": "@jupyter-widgets/controls",
            "_model_module_version": "1.5.0",
            "_model_name": "ProgressStyleModel",
            "_view_count": null,
            "_view_module": "@jupyter-widgets/base",
            "_view_module_version": "1.2.0",
            "_view_name": "StyleView",
            "bar_color": null,
            "description_width": ""
          }
        },
        "6387db9a9fed41a7bcda0577440ac1d4": {
          "model_module": "@jupyter-widgets/controls",
          "model_name": "VBoxModel",
          "model_module_version": "1.5.0",
          "state": {
            "_dom_classes": [],
            "_model_module": "@jupyter-widgets/controls",
            "_model_module_version": "1.5.0",
            "_model_name": "VBoxModel",
            "_view_count": null,
            "_view_module": "@jupyter-widgets/controls",
            "_view_module_version": "1.5.0",
            "_view_name": "VBoxView",
            "box_style": "",
            "children": [
              "IPY_MODEL_9ff36d7e6a9e4e19b0584e49be460a7e",
              "IPY_MODEL_72d9259515cb44528046b68200daa3e6"
            ],
            "layout": "IPY_MODEL_e9cade7e93ea4f70ad82bdd962488bf3"
          }
        },
        "9ff36d7e6a9e4e19b0584e49be460a7e": {
          "model_module": "@jupyter-widgets/controls",
          "model_name": "LabelModel",
          "model_module_version": "1.5.0",
          "state": {
            "_dom_classes": [],
            "_model_module": "@jupyter-widgets/controls",
            "_model_module_version": "1.5.0",
            "_model_name": "LabelModel",
            "_view_count": null,
            "_view_module": "@jupyter-widgets/controls",
            "_view_module_version": "1.5.0",
            "_view_name": "LabelView",
            "description": "",
            "description_tooltip": null,
            "layout": "IPY_MODEL_9923a0a4ffa74fd8969d7465335519a7",
            "placeholder": "​",
            "style": "IPY_MODEL_5ae8b18561a04d0b8d12df5da9b8d09c",
            "value": "1.142 MB of 1.142 MB uploaded\r"
          }
        },
        "72d9259515cb44528046b68200daa3e6": {
          "model_module": "@jupyter-widgets/controls",
          "model_name": "FloatProgressModel",
          "model_module_version": "1.5.0",
          "state": {
            "_dom_classes": [],
            "_model_module": "@jupyter-widgets/controls",
            "_model_module_version": "1.5.0",
            "_model_name": "FloatProgressModel",
            "_view_count": null,
            "_view_module": "@jupyter-widgets/controls",
            "_view_module_version": "1.5.0",
            "_view_name": "ProgressView",
            "bar_style": "",
            "description": "",
            "description_tooltip": null,
            "layout": "IPY_MODEL_8c7a20efc4a94dc68d4f369bf905d1ef",
            "max": 1,
            "min": 0,
            "orientation": "horizontal",
            "style": "IPY_MODEL_5659656e540c42acab228b36d9421475",
            "value": 1
          }
        },
        "e9cade7e93ea4f70ad82bdd962488bf3": {
          "model_module": "@jupyter-widgets/base",
          "model_name": "LayoutModel",
          "model_module_version": "1.2.0",
          "state": {
            "_model_module": "@jupyter-widgets/base",
            "_model_module_version": "1.2.0",
            "_model_name": "LayoutModel",
            "_view_count": null,
            "_view_module": "@jupyter-widgets/base",
            "_view_module_version": "1.2.0",
            "_view_name": "LayoutView",
            "align_content": null,
            "align_items": null,
            "align_self": null,
            "border": null,
            "bottom": null,
            "display": null,
            "flex": null,
            "flex_flow": null,
            "grid_area": null,
            "grid_auto_columns": null,
            "grid_auto_flow": null,
            "grid_auto_rows": null,
            "grid_column": null,
            "grid_gap": null,
            "grid_row": null,
            "grid_template_areas": null,
            "grid_template_columns": null,
            "grid_template_rows": null,
            "height": null,
            "justify_content": null,
            "justify_items": null,
            "left": null,
            "margin": null,
            "max_height": null,
            "max_width": null,
            "min_height": null,
            "min_width": null,
            "object_fit": null,
            "object_position": null,
            "order": null,
            "overflow": null,
            "overflow_x": null,
            "overflow_y": null,
            "padding": null,
            "right": null,
            "top": null,
            "visibility": null,
            "width": null
          }
        },
        "9923a0a4ffa74fd8969d7465335519a7": {
          "model_module": "@jupyter-widgets/base",
          "model_name": "LayoutModel",
          "model_module_version": "1.2.0",
          "state": {
            "_model_module": "@jupyter-widgets/base",
            "_model_module_version": "1.2.0",
            "_model_name": "LayoutModel",
            "_view_count": null,
            "_view_module": "@jupyter-widgets/base",
            "_view_module_version": "1.2.0",
            "_view_name": "LayoutView",
            "align_content": null,
            "align_items": null,
            "align_self": null,
            "border": null,
            "bottom": null,
            "display": null,
            "flex": null,
            "flex_flow": null,
            "grid_area": null,
            "grid_auto_columns": null,
            "grid_auto_flow": null,
            "grid_auto_rows": null,
            "grid_column": null,
            "grid_gap": null,
            "grid_row": null,
            "grid_template_areas": null,
            "grid_template_columns": null,
            "grid_template_rows": null,
            "height": null,
            "justify_content": null,
            "justify_items": null,
            "left": null,
            "margin": null,
            "max_height": null,
            "max_width": null,
            "min_height": null,
            "min_width": null,
            "object_fit": null,
            "object_position": null,
            "order": null,
            "overflow": null,
            "overflow_x": null,
            "overflow_y": null,
            "padding": null,
            "right": null,
            "top": null,
            "visibility": null,
            "width": null
          }
        },
        "5ae8b18561a04d0b8d12df5da9b8d09c": {
          "model_module": "@jupyter-widgets/controls",
          "model_name": "DescriptionStyleModel",
          "model_module_version": "1.5.0",
          "state": {
            "_model_module": "@jupyter-widgets/controls",
            "_model_module_version": "1.5.0",
            "_model_name": "DescriptionStyleModel",
            "_view_count": null,
            "_view_module": "@jupyter-widgets/base",
            "_view_module_version": "1.2.0",
            "_view_name": "StyleView",
            "description_width": ""
          }
        },
        "8c7a20efc4a94dc68d4f369bf905d1ef": {
          "model_module": "@jupyter-widgets/base",
          "model_name": "LayoutModel",
          "model_module_version": "1.2.0",
          "state": {
            "_model_module": "@jupyter-widgets/base",
            "_model_module_version": "1.2.0",
            "_model_name": "LayoutModel",
            "_view_count": null,
            "_view_module": "@jupyter-widgets/base",
            "_view_module_version": "1.2.0",
            "_view_name": "LayoutView",
            "align_content": null,
            "align_items": null,
            "align_self": null,
            "border": null,
            "bottom": null,
            "display": null,
            "flex": null,
            "flex_flow": null,
            "grid_area": null,
            "grid_auto_columns": null,
            "grid_auto_flow": null,
            "grid_auto_rows": null,
            "grid_column": null,
            "grid_gap": null,
            "grid_row": null,
            "grid_template_areas": null,
            "grid_template_columns": null,
            "grid_template_rows": null,
            "height": null,
            "justify_content": null,
            "justify_items": null,
            "left": null,
            "margin": null,
            "max_height": null,
            "max_width": null,
            "min_height": null,
            "min_width": null,
            "object_fit": null,
            "object_position": null,
            "order": null,
            "overflow": null,
            "overflow_x": null,
            "overflow_y": null,
            "padding": null,
            "right": null,
            "top": null,
            "visibility": null,
            "width": null
          }
        },
        "5659656e540c42acab228b36d9421475": {
          "model_module": "@jupyter-widgets/controls",
          "model_name": "ProgressStyleModel",
          "model_module_version": "1.5.0",
          "state": {
            "_model_module": "@jupyter-widgets/controls",
            "_model_module_version": "1.5.0",
            "_model_name": "ProgressStyleModel",
            "_view_count": null,
            "_view_module": "@jupyter-widgets/base",
            "_view_module_version": "1.2.0",
            "_view_name": "StyleView",
            "bar_color": null,
            "description_width": ""
          }
        },
        "7fee781e4bfb4485b76c00f2b096452b": {
          "model_module": "@jupyter-widgets/controls",
          "model_name": "VBoxModel",
          "model_module_version": "1.5.0",
          "state": {
            "_dom_classes": [],
            "_model_module": "@jupyter-widgets/controls",
            "_model_module_version": "1.5.0",
            "_model_name": "VBoxModel",
            "_view_count": null,
            "_view_module": "@jupyter-widgets/controls",
            "_view_module_version": "1.5.0",
            "_view_name": "VBoxView",
            "box_style": "",
            "children": [
              "IPY_MODEL_4ec9eef99b6340b59eb18994aad5b4ff",
              "IPY_MODEL_9885f271517546aaad0df1267e0228c8"
            ],
            "layout": "IPY_MODEL_5a8ba20e5b1d45c88372310117673a41"
          }
        },
        "4ec9eef99b6340b59eb18994aad5b4ff": {
          "model_module": "@jupyter-widgets/controls",
          "model_name": "LabelModel",
          "model_module_version": "1.5.0",
          "state": {
            "_dom_classes": [],
            "_model_module": "@jupyter-widgets/controls",
            "_model_module_version": "1.5.0",
            "_model_name": "LabelModel",
            "_view_count": null,
            "_view_module": "@jupyter-widgets/controls",
            "_view_module_version": "1.5.0",
            "_view_name": "LabelView",
            "description": "",
            "description_tooltip": null,
            "layout": "IPY_MODEL_bffdeaf832c14069916f5205cdbb2efe",
            "placeholder": "​",
            "style": "IPY_MODEL_6cae9faa4e674d70b4442a24adb5d21e",
            "value": "1.142 MB of 1.142 MB uploaded\r"
          }
        },
        "9885f271517546aaad0df1267e0228c8": {
          "model_module": "@jupyter-widgets/controls",
          "model_name": "FloatProgressModel",
          "model_module_version": "1.5.0",
          "state": {
            "_dom_classes": [],
            "_model_module": "@jupyter-widgets/controls",
            "_model_module_version": "1.5.0",
            "_model_name": "FloatProgressModel",
            "_view_count": null,
            "_view_module": "@jupyter-widgets/controls",
            "_view_module_version": "1.5.0",
            "_view_name": "ProgressView",
            "bar_style": "",
            "description": "",
            "description_tooltip": null,
            "layout": "IPY_MODEL_d2dbcb9d43da48d1bff54ce6107246f0",
            "max": 1,
            "min": 0,
            "orientation": "horizontal",
            "style": "IPY_MODEL_b01add6e44e146cca86202b224a1ec35",
            "value": 1
          }
        },
        "5a8ba20e5b1d45c88372310117673a41": {
          "model_module": "@jupyter-widgets/base",
          "model_name": "LayoutModel",
          "model_module_version": "1.2.0",
          "state": {
            "_model_module": "@jupyter-widgets/base",
            "_model_module_version": "1.2.0",
            "_model_name": "LayoutModel",
            "_view_count": null,
            "_view_module": "@jupyter-widgets/base",
            "_view_module_version": "1.2.0",
            "_view_name": "LayoutView",
            "align_content": null,
            "align_items": null,
            "align_self": null,
            "border": null,
            "bottom": null,
            "display": null,
            "flex": null,
            "flex_flow": null,
            "grid_area": null,
            "grid_auto_columns": null,
            "grid_auto_flow": null,
            "grid_auto_rows": null,
            "grid_column": null,
            "grid_gap": null,
            "grid_row": null,
            "grid_template_areas": null,
            "grid_template_columns": null,
            "grid_template_rows": null,
            "height": null,
            "justify_content": null,
            "justify_items": null,
            "left": null,
            "margin": null,
            "max_height": null,
            "max_width": null,
            "min_height": null,
            "min_width": null,
            "object_fit": null,
            "object_position": null,
            "order": null,
            "overflow": null,
            "overflow_x": null,
            "overflow_y": null,
            "padding": null,
            "right": null,
            "top": null,
            "visibility": null,
            "width": null
          }
        },
        "bffdeaf832c14069916f5205cdbb2efe": {
          "model_module": "@jupyter-widgets/base",
          "model_name": "LayoutModel",
          "model_module_version": "1.2.0",
          "state": {
            "_model_module": "@jupyter-widgets/base",
            "_model_module_version": "1.2.0",
            "_model_name": "LayoutModel",
            "_view_count": null,
            "_view_module": "@jupyter-widgets/base",
            "_view_module_version": "1.2.0",
            "_view_name": "LayoutView",
            "align_content": null,
            "align_items": null,
            "align_self": null,
            "border": null,
            "bottom": null,
            "display": null,
            "flex": null,
            "flex_flow": null,
            "grid_area": null,
            "grid_auto_columns": null,
            "grid_auto_flow": null,
            "grid_auto_rows": null,
            "grid_column": null,
            "grid_gap": null,
            "grid_row": null,
            "grid_template_areas": null,
            "grid_template_columns": null,
            "grid_template_rows": null,
            "height": null,
            "justify_content": null,
            "justify_items": null,
            "left": null,
            "margin": null,
            "max_height": null,
            "max_width": null,
            "min_height": null,
            "min_width": null,
            "object_fit": null,
            "object_position": null,
            "order": null,
            "overflow": null,
            "overflow_x": null,
            "overflow_y": null,
            "padding": null,
            "right": null,
            "top": null,
            "visibility": null,
            "width": null
          }
        },
        "6cae9faa4e674d70b4442a24adb5d21e": {
          "model_module": "@jupyter-widgets/controls",
          "model_name": "DescriptionStyleModel",
          "model_module_version": "1.5.0",
          "state": {
            "_model_module": "@jupyter-widgets/controls",
            "_model_module_version": "1.5.0",
            "_model_name": "DescriptionStyleModel",
            "_view_count": null,
            "_view_module": "@jupyter-widgets/base",
            "_view_module_version": "1.2.0",
            "_view_name": "StyleView",
            "description_width": ""
          }
        },
        "d2dbcb9d43da48d1bff54ce6107246f0": {
          "model_module": "@jupyter-widgets/base",
          "model_name": "LayoutModel",
          "model_module_version": "1.2.0",
          "state": {
            "_model_module": "@jupyter-widgets/base",
            "_model_module_version": "1.2.0",
            "_model_name": "LayoutModel",
            "_view_count": null,
            "_view_module": "@jupyter-widgets/base",
            "_view_module_version": "1.2.0",
            "_view_name": "LayoutView",
            "align_content": null,
            "align_items": null,
            "align_self": null,
            "border": null,
            "bottom": null,
            "display": null,
            "flex": null,
            "flex_flow": null,
            "grid_area": null,
            "grid_auto_columns": null,
            "grid_auto_flow": null,
            "grid_auto_rows": null,
            "grid_column": null,
            "grid_gap": null,
            "grid_row": null,
            "grid_template_areas": null,
            "grid_template_columns": null,
            "grid_template_rows": null,
            "height": null,
            "justify_content": null,
            "justify_items": null,
            "left": null,
            "margin": null,
            "max_height": null,
            "max_width": null,
            "min_height": null,
            "min_width": null,
            "object_fit": null,
            "object_position": null,
            "order": null,
            "overflow": null,
            "overflow_x": null,
            "overflow_y": null,
            "padding": null,
            "right": null,
            "top": null,
            "visibility": null,
            "width": null
          }
        },
        "b01add6e44e146cca86202b224a1ec35": {
          "model_module": "@jupyter-widgets/controls",
          "model_name": "ProgressStyleModel",
          "model_module_version": "1.5.0",
          "state": {
            "_model_module": "@jupyter-widgets/controls",
            "_model_module_version": "1.5.0",
            "_model_name": "ProgressStyleModel",
            "_view_count": null,
            "_view_module": "@jupyter-widgets/base",
            "_view_module_version": "1.2.0",
            "_view_name": "StyleView",
            "bar_color": null,
            "description_width": ""
          }
        },
        "a2df05cc5c8345b5bb0427d67a1d29b7": {
          "model_module": "@jupyter-widgets/controls",
          "model_name": "VBoxModel",
          "model_module_version": "1.5.0",
          "state": {
            "_dom_classes": [],
            "_model_module": "@jupyter-widgets/controls",
            "_model_module_version": "1.5.0",
            "_model_name": "VBoxModel",
            "_view_count": null,
            "_view_module": "@jupyter-widgets/controls",
            "_view_module_version": "1.5.0",
            "_view_name": "VBoxView",
            "box_style": "",
            "children": [
              "IPY_MODEL_e2b74490450e40108a2b9c284df6c9a8",
              "IPY_MODEL_63214f8111e746a687f576e1159a2a3c"
            ],
            "layout": "IPY_MODEL_720b8ac7a12c4800a8da74fd6f3c6874"
          }
        },
        "e2b74490450e40108a2b9c284df6c9a8": {
          "model_module": "@jupyter-widgets/controls",
          "model_name": "LabelModel",
          "model_module_version": "1.5.0",
          "state": {
            "_dom_classes": [],
            "_model_module": "@jupyter-widgets/controls",
            "_model_module_version": "1.5.0",
            "_model_name": "LabelModel",
            "_view_count": null,
            "_view_module": "@jupyter-widgets/controls",
            "_view_module_version": "1.5.0",
            "_view_name": "LabelView",
            "description": "",
            "description_tooltip": null,
            "layout": "IPY_MODEL_180505f04cba4b4aa542a3099ee57698",
            "placeholder": "​",
            "style": "IPY_MODEL_8c7555befe83473ca5978602b64a4a7e",
            "value": "0.496 MB of 0.496 MB uploaded\r"
          }
        },
        "63214f8111e746a687f576e1159a2a3c": {
          "model_module": "@jupyter-widgets/controls",
          "model_name": "FloatProgressModel",
          "model_module_version": "1.5.0",
          "state": {
            "_dom_classes": [],
            "_model_module": "@jupyter-widgets/controls",
            "_model_module_version": "1.5.0",
            "_model_name": "FloatProgressModel",
            "_view_count": null,
            "_view_module": "@jupyter-widgets/controls",
            "_view_module_version": "1.5.0",
            "_view_name": "ProgressView",
            "bar_style": "",
            "description": "",
            "description_tooltip": null,
            "layout": "IPY_MODEL_6c3b68c583964e4cbc7c906000ef4545",
            "max": 1,
            "min": 0,
            "orientation": "horizontal",
            "style": "IPY_MODEL_360dccb1134e488c83a5df1d1fe5c342",
            "value": 1
          }
        },
        "720b8ac7a12c4800a8da74fd6f3c6874": {
          "model_module": "@jupyter-widgets/base",
          "model_name": "LayoutModel",
          "model_module_version": "1.2.0",
          "state": {
            "_model_module": "@jupyter-widgets/base",
            "_model_module_version": "1.2.0",
            "_model_name": "LayoutModel",
            "_view_count": null,
            "_view_module": "@jupyter-widgets/base",
            "_view_module_version": "1.2.0",
            "_view_name": "LayoutView",
            "align_content": null,
            "align_items": null,
            "align_self": null,
            "border": null,
            "bottom": null,
            "display": null,
            "flex": null,
            "flex_flow": null,
            "grid_area": null,
            "grid_auto_columns": null,
            "grid_auto_flow": null,
            "grid_auto_rows": null,
            "grid_column": null,
            "grid_gap": null,
            "grid_row": null,
            "grid_template_areas": null,
            "grid_template_columns": null,
            "grid_template_rows": null,
            "height": null,
            "justify_content": null,
            "justify_items": null,
            "left": null,
            "margin": null,
            "max_height": null,
            "max_width": null,
            "min_height": null,
            "min_width": null,
            "object_fit": null,
            "object_position": null,
            "order": null,
            "overflow": null,
            "overflow_x": null,
            "overflow_y": null,
            "padding": null,
            "right": null,
            "top": null,
            "visibility": null,
            "width": null
          }
        },
        "180505f04cba4b4aa542a3099ee57698": {
          "model_module": "@jupyter-widgets/base",
          "model_name": "LayoutModel",
          "model_module_version": "1.2.0",
          "state": {
            "_model_module": "@jupyter-widgets/base",
            "_model_module_version": "1.2.0",
            "_model_name": "LayoutModel",
            "_view_count": null,
            "_view_module": "@jupyter-widgets/base",
            "_view_module_version": "1.2.0",
            "_view_name": "LayoutView",
            "align_content": null,
            "align_items": null,
            "align_self": null,
            "border": null,
            "bottom": null,
            "display": null,
            "flex": null,
            "flex_flow": null,
            "grid_area": null,
            "grid_auto_columns": null,
            "grid_auto_flow": null,
            "grid_auto_rows": null,
            "grid_column": null,
            "grid_gap": null,
            "grid_row": null,
            "grid_template_areas": null,
            "grid_template_columns": null,
            "grid_template_rows": null,
            "height": null,
            "justify_content": null,
            "justify_items": null,
            "left": null,
            "margin": null,
            "max_height": null,
            "max_width": null,
            "min_height": null,
            "min_width": null,
            "object_fit": null,
            "object_position": null,
            "order": null,
            "overflow": null,
            "overflow_x": null,
            "overflow_y": null,
            "padding": null,
            "right": null,
            "top": null,
            "visibility": null,
            "width": null
          }
        },
        "8c7555befe83473ca5978602b64a4a7e": {
          "model_module": "@jupyter-widgets/controls",
          "model_name": "DescriptionStyleModel",
          "model_module_version": "1.5.0",
          "state": {
            "_model_module": "@jupyter-widgets/controls",
            "_model_module_version": "1.5.0",
            "_model_name": "DescriptionStyleModel",
            "_view_count": null,
            "_view_module": "@jupyter-widgets/base",
            "_view_module_version": "1.2.0",
            "_view_name": "StyleView",
            "description_width": ""
          }
        },
        "6c3b68c583964e4cbc7c906000ef4545": {
          "model_module": "@jupyter-widgets/base",
          "model_name": "LayoutModel",
          "model_module_version": "1.2.0",
          "state": {
            "_model_module": "@jupyter-widgets/base",
            "_model_module_version": "1.2.0",
            "_model_name": "LayoutModel",
            "_view_count": null,
            "_view_module": "@jupyter-widgets/base",
            "_view_module_version": "1.2.0",
            "_view_name": "LayoutView",
            "align_content": null,
            "align_items": null,
            "align_self": null,
            "border": null,
            "bottom": null,
            "display": null,
            "flex": null,
            "flex_flow": null,
            "grid_area": null,
            "grid_auto_columns": null,
            "grid_auto_flow": null,
            "grid_auto_rows": null,
            "grid_column": null,
            "grid_gap": null,
            "grid_row": null,
            "grid_template_areas": null,
            "grid_template_columns": null,
            "grid_template_rows": null,
            "height": null,
            "justify_content": null,
            "justify_items": null,
            "left": null,
            "margin": null,
            "max_height": null,
            "max_width": null,
            "min_height": null,
            "min_width": null,
            "object_fit": null,
            "object_position": null,
            "order": null,
            "overflow": null,
            "overflow_x": null,
            "overflow_y": null,
            "padding": null,
            "right": null,
            "top": null,
            "visibility": null,
            "width": null
          }
        },
        "360dccb1134e488c83a5df1d1fe5c342": {
          "model_module": "@jupyter-widgets/controls",
          "model_name": "ProgressStyleModel",
          "model_module_version": "1.5.0",
          "state": {
            "_model_module": "@jupyter-widgets/controls",
            "_model_module_version": "1.5.0",
            "_model_name": "ProgressStyleModel",
            "_view_count": null,
            "_view_module": "@jupyter-widgets/base",
            "_view_module_version": "1.2.0",
            "_view_name": "StyleView",
            "bar_color": null,
            "description_width": ""
          }
        },
        "0bde2e89e4414fed84cb9cb05a53f53e": {
          "model_module": "@jupyter-widgets/controls",
          "model_name": "VBoxModel",
          "model_module_version": "1.5.0",
          "state": {
            "_dom_classes": [],
            "_model_module": "@jupyter-widgets/controls",
            "_model_module_version": "1.5.0",
            "_model_name": "VBoxModel",
            "_view_count": null,
            "_view_module": "@jupyter-widgets/controls",
            "_view_module_version": "1.5.0",
            "_view_name": "VBoxView",
            "box_style": "",
            "children": [
              "IPY_MODEL_53f67aeca63e404fbf59d66afa30ac27",
              "IPY_MODEL_7c40619e9c5041b4b30f571a54d54c41"
            ],
            "layout": "IPY_MODEL_a66832b5aac44f0d9362c82b4618c301"
          }
        },
        "53f67aeca63e404fbf59d66afa30ac27": {
          "model_module": "@jupyter-widgets/controls",
          "model_name": "LabelModel",
          "model_module_version": "1.5.0",
          "state": {
            "_dom_classes": [],
            "_model_module": "@jupyter-widgets/controls",
            "_model_module_version": "1.5.0",
            "_model_name": "LabelModel",
            "_view_count": null,
            "_view_module": "@jupyter-widgets/controls",
            "_view_module_version": "1.5.0",
            "_view_name": "LabelView",
            "description": "",
            "description_tooltip": null,
            "layout": "IPY_MODEL_dfad8ccb885447b39b4bfe9c7a1d15ef",
            "placeholder": "​",
            "style": "IPY_MODEL_26c83c039d6d4fb695b1dd1b900caed6",
            "value": "1.142 MB of 1.142 MB uploaded\r"
          }
        },
        "7c40619e9c5041b4b30f571a54d54c41": {
          "model_module": "@jupyter-widgets/controls",
          "model_name": "FloatProgressModel",
          "model_module_version": "1.5.0",
          "state": {
            "_dom_classes": [],
            "_model_module": "@jupyter-widgets/controls",
            "_model_module_version": "1.5.0",
            "_model_name": "FloatProgressModel",
            "_view_count": null,
            "_view_module": "@jupyter-widgets/controls",
            "_view_module_version": "1.5.0",
            "_view_name": "ProgressView",
            "bar_style": "",
            "description": "",
            "description_tooltip": null,
            "layout": "IPY_MODEL_630fb87967504e98951af3cb05908904",
            "max": 1,
            "min": 0,
            "orientation": "horizontal",
            "style": "IPY_MODEL_c8d7aff7b17c48d1af7777caee6e81ed",
            "value": 1
          }
        },
        "a66832b5aac44f0d9362c82b4618c301": {
          "model_module": "@jupyter-widgets/base",
          "model_name": "LayoutModel",
          "model_module_version": "1.2.0",
          "state": {
            "_model_module": "@jupyter-widgets/base",
            "_model_module_version": "1.2.0",
            "_model_name": "LayoutModel",
            "_view_count": null,
            "_view_module": "@jupyter-widgets/base",
            "_view_module_version": "1.2.0",
            "_view_name": "LayoutView",
            "align_content": null,
            "align_items": null,
            "align_self": null,
            "border": null,
            "bottom": null,
            "display": null,
            "flex": null,
            "flex_flow": null,
            "grid_area": null,
            "grid_auto_columns": null,
            "grid_auto_flow": null,
            "grid_auto_rows": null,
            "grid_column": null,
            "grid_gap": null,
            "grid_row": null,
            "grid_template_areas": null,
            "grid_template_columns": null,
            "grid_template_rows": null,
            "height": null,
            "justify_content": null,
            "justify_items": null,
            "left": null,
            "margin": null,
            "max_height": null,
            "max_width": null,
            "min_height": null,
            "min_width": null,
            "object_fit": null,
            "object_position": null,
            "order": null,
            "overflow": null,
            "overflow_x": null,
            "overflow_y": null,
            "padding": null,
            "right": null,
            "top": null,
            "visibility": null,
            "width": null
          }
        },
        "dfad8ccb885447b39b4bfe9c7a1d15ef": {
          "model_module": "@jupyter-widgets/base",
          "model_name": "LayoutModel",
          "model_module_version": "1.2.0",
          "state": {
            "_model_module": "@jupyter-widgets/base",
            "_model_module_version": "1.2.0",
            "_model_name": "LayoutModel",
            "_view_count": null,
            "_view_module": "@jupyter-widgets/base",
            "_view_module_version": "1.2.0",
            "_view_name": "LayoutView",
            "align_content": null,
            "align_items": null,
            "align_self": null,
            "border": null,
            "bottom": null,
            "display": null,
            "flex": null,
            "flex_flow": null,
            "grid_area": null,
            "grid_auto_columns": null,
            "grid_auto_flow": null,
            "grid_auto_rows": null,
            "grid_column": null,
            "grid_gap": null,
            "grid_row": null,
            "grid_template_areas": null,
            "grid_template_columns": null,
            "grid_template_rows": null,
            "height": null,
            "justify_content": null,
            "justify_items": null,
            "left": null,
            "margin": null,
            "max_height": null,
            "max_width": null,
            "min_height": null,
            "min_width": null,
            "object_fit": null,
            "object_position": null,
            "order": null,
            "overflow": null,
            "overflow_x": null,
            "overflow_y": null,
            "padding": null,
            "right": null,
            "top": null,
            "visibility": null,
            "width": null
          }
        },
        "26c83c039d6d4fb695b1dd1b900caed6": {
          "model_module": "@jupyter-widgets/controls",
          "model_name": "DescriptionStyleModel",
          "model_module_version": "1.5.0",
          "state": {
            "_model_module": "@jupyter-widgets/controls",
            "_model_module_version": "1.5.0",
            "_model_name": "DescriptionStyleModel",
            "_view_count": null,
            "_view_module": "@jupyter-widgets/base",
            "_view_module_version": "1.2.0",
            "_view_name": "StyleView",
            "description_width": ""
          }
        },
        "630fb87967504e98951af3cb05908904": {
          "model_module": "@jupyter-widgets/base",
          "model_name": "LayoutModel",
          "model_module_version": "1.2.0",
          "state": {
            "_model_module": "@jupyter-widgets/base",
            "_model_module_version": "1.2.0",
            "_model_name": "LayoutModel",
            "_view_count": null,
            "_view_module": "@jupyter-widgets/base",
            "_view_module_version": "1.2.0",
            "_view_name": "LayoutView",
            "align_content": null,
            "align_items": null,
            "align_self": null,
            "border": null,
            "bottom": null,
            "display": null,
            "flex": null,
            "flex_flow": null,
            "grid_area": null,
            "grid_auto_columns": null,
            "grid_auto_flow": null,
            "grid_auto_rows": null,
            "grid_column": null,
            "grid_gap": null,
            "grid_row": null,
            "grid_template_areas": null,
            "grid_template_columns": null,
            "grid_template_rows": null,
            "height": null,
            "justify_content": null,
            "justify_items": null,
            "left": null,
            "margin": null,
            "max_height": null,
            "max_width": null,
            "min_height": null,
            "min_width": null,
            "object_fit": null,
            "object_position": null,
            "order": null,
            "overflow": null,
            "overflow_x": null,
            "overflow_y": null,
            "padding": null,
            "right": null,
            "top": null,
            "visibility": null,
            "width": null
          }
        },
        "c8d7aff7b17c48d1af7777caee6e81ed": {
          "model_module": "@jupyter-widgets/controls",
          "model_name": "ProgressStyleModel",
          "model_module_version": "1.5.0",
          "state": {
            "_model_module": "@jupyter-widgets/controls",
            "_model_module_version": "1.5.0",
            "_model_name": "ProgressStyleModel",
            "_view_count": null,
            "_view_module": "@jupyter-widgets/base",
            "_view_module_version": "1.2.0",
            "_view_name": "StyleView",
            "bar_color": null,
            "description_width": ""
          }
        },
        "1982e6688da346e68fdb84cea389d4f5": {
          "model_module": "@jupyter-widgets/controls",
          "model_name": "VBoxModel",
          "model_module_version": "1.5.0",
          "state": {
            "_dom_classes": [],
            "_model_module": "@jupyter-widgets/controls",
            "_model_module_version": "1.5.0",
            "_model_name": "VBoxModel",
            "_view_count": null,
            "_view_module": "@jupyter-widgets/controls",
            "_view_module_version": "1.5.0",
            "_view_name": "VBoxView",
            "box_style": "",
            "children": [
              "IPY_MODEL_db871f1b8b2740819a330776cc18c1e5",
              "IPY_MODEL_d8504be0ae874ace85d90a138a160ca7"
            ],
            "layout": "IPY_MODEL_d147a907845a480d937bd1a9c736e986"
          }
        },
        "db871f1b8b2740819a330776cc18c1e5": {
          "model_module": "@jupyter-widgets/controls",
          "model_name": "LabelModel",
          "model_module_version": "1.5.0",
          "state": {
            "_dom_classes": [],
            "_model_module": "@jupyter-widgets/controls",
            "_model_module_version": "1.5.0",
            "_model_name": "LabelModel",
            "_view_count": null,
            "_view_module": "@jupyter-widgets/controls",
            "_view_module_version": "1.5.0",
            "_view_name": "LabelView",
            "description": "",
            "description_tooltip": null,
            "layout": "IPY_MODEL_ad410cbf3cfa454b9210ce64ee9b0ecb",
            "placeholder": "​",
            "style": "IPY_MODEL_77d22b9d315642dba9aa8c39dcb173ad",
            "value": "0.923 MB of 0.923 MB uploaded (0.009 MB deduped)\r"
          }
        },
        "d8504be0ae874ace85d90a138a160ca7": {
          "model_module": "@jupyter-widgets/controls",
          "model_name": "FloatProgressModel",
          "model_module_version": "1.5.0",
          "state": {
            "_dom_classes": [],
            "_model_module": "@jupyter-widgets/controls",
            "_model_module_version": "1.5.0",
            "_model_name": "FloatProgressModel",
            "_view_count": null,
            "_view_module": "@jupyter-widgets/controls",
            "_view_module_version": "1.5.0",
            "_view_name": "ProgressView",
            "bar_style": "",
            "description": "",
            "description_tooltip": null,
            "layout": "IPY_MODEL_2ba00f37f7624fdb9ba0929d8ed7fbdb",
            "max": 1,
            "min": 0,
            "orientation": "horizontal",
            "style": "IPY_MODEL_76fb2436236145e5921679469ede9ece",
            "value": 1
          }
        },
        "d147a907845a480d937bd1a9c736e986": {
          "model_module": "@jupyter-widgets/base",
          "model_name": "LayoutModel",
          "model_module_version": "1.2.0",
          "state": {
            "_model_module": "@jupyter-widgets/base",
            "_model_module_version": "1.2.0",
            "_model_name": "LayoutModel",
            "_view_count": null,
            "_view_module": "@jupyter-widgets/base",
            "_view_module_version": "1.2.0",
            "_view_name": "LayoutView",
            "align_content": null,
            "align_items": null,
            "align_self": null,
            "border": null,
            "bottom": null,
            "display": null,
            "flex": null,
            "flex_flow": null,
            "grid_area": null,
            "grid_auto_columns": null,
            "grid_auto_flow": null,
            "grid_auto_rows": null,
            "grid_column": null,
            "grid_gap": null,
            "grid_row": null,
            "grid_template_areas": null,
            "grid_template_columns": null,
            "grid_template_rows": null,
            "height": null,
            "justify_content": null,
            "justify_items": null,
            "left": null,
            "margin": null,
            "max_height": null,
            "max_width": null,
            "min_height": null,
            "min_width": null,
            "object_fit": null,
            "object_position": null,
            "order": null,
            "overflow": null,
            "overflow_x": null,
            "overflow_y": null,
            "padding": null,
            "right": null,
            "top": null,
            "visibility": null,
            "width": null
          }
        },
        "ad410cbf3cfa454b9210ce64ee9b0ecb": {
          "model_module": "@jupyter-widgets/base",
          "model_name": "LayoutModel",
          "model_module_version": "1.2.0",
          "state": {
            "_model_module": "@jupyter-widgets/base",
            "_model_module_version": "1.2.0",
            "_model_name": "LayoutModel",
            "_view_count": null,
            "_view_module": "@jupyter-widgets/base",
            "_view_module_version": "1.2.0",
            "_view_name": "LayoutView",
            "align_content": null,
            "align_items": null,
            "align_self": null,
            "border": null,
            "bottom": null,
            "display": null,
            "flex": null,
            "flex_flow": null,
            "grid_area": null,
            "grid_auto_columns": null,
            "grid_auto_flow": null,
            "grid_auto_rows": null,
            "grid_column": null,
            "grid_gap": null,
            "grid_row": null,
            "grid_template_areas": null,
            "grid_template_columns": null,
            "grid_template_rows": null,
            "height": null,
            "justify_content": null,
            "justify_items": null,
            "left": null,
            "margin": null,
            "max_height": null,
            "max_width": null,
            "min_height": null,
            "min_width": null,
            "object_fit": null,
            "object_position": null,
            "order": null,
            "overflow": null,
            "overflow_x": null,
            "overflow_y": null,
            "padding": null,
            "right": null,
            "top": null,
            "visibility": null,
            "width": null
          }
        },
        "77d22b9d315642dba9aa8c39dcb173ad": {
          "model_module": "@jupyter-widgets/controls",
          "model_name": "DescriptionStyleModel",
          "model_module_version": "1.5.0",
          "state": {
            "_model_module": "@jupyter-widgets/controls",
            "_model_module_version": "1.5.0",
            "_model_name": "DescriptionStyleModel",
            "_view_count": null,
            "_view_module": "@jupyter-widgets/base",
            "_view_module_version": "1.2.0",
            "_view_name": "StyleView",
            "description_width": ""
          }
        },
        "2ba00f37f7624fdb9ba0929d8ed7fbdb": {
          "model_module": "@jupyter-widgets/base",
          "model_name": "LayoutModel",
          "model_module_version": "1.2.0",
          "state": {
            "_model_module": "@jupyter-widgets/base",
            "_model_module_version": "1.2.0",
            "_model_name": "LayoutModel",
            "_view_count": null,
            "_view_module": "@jupyter-widgets/base",
            "_view_module_version": "1.2.0",
            "_view_name": "LayoutView",
            "align_content": null,
            "align_items": null,
            "align_self": null,
            "border": null,
            "bottom": null,
            "display": null,
            "flex": null,
            "flex_flow": null,
            "grid_area": null,
            "grid_auto_columns": null,
            "grid_auto_flow": null,
            "grid_auto_rows": null,
            "grid_column": null,
            "grid_gap": null,
            "grid_row": null,
            "grid_template_areas": null,
            "grid_template_columns": null,
            "grid_template_rows": null,
            "height": null,
            "justify_content": null,
            "justify_items": null,
            "left": null,
            "margin": null,
            "max_height": null,
            "max_width": null,
            "min_height": null,
            "min_width": null,
            "object_fit": null,
            "object_position": null,
            "order": null,
            "overflow": null,
            "overflow_x": null,
            "overflow_y": null,
            "padding": null,
            "right": null,
            "top": null,
            "visibility": null,
            "width": null
          }
        },
        "76fb2436236145e5921679469ede9ece": {
          "model_module": "@jupyter-widgets/controls",
          "model_name": "ProgressStyleModel",
          "model_module_version": "1.5.0",
          "state": {
            "_model_module": "@jupyter-widgets/controls",
            "_model_module_version": "1.5.0",
            "_model_name": "ProgressStyleModel",
            "_view_count": null,
            "_view_module": "@jupyter-widgets/base",
            "_view_module_version": "1.2.0",
            "_view_name": "StyleView",
            "bar_color": null,
            "description_width": ""
          }
        },
        "f435a6a0acc3452da8c972b3c99ce765": {
          "model_module": "@jupyter-widgets/controls",
          "model_name": "VBoxModel",
          "model_module_version": "1.5.0",
          "state": {
            "_dom_classes": [],
            "_model_module": "@jupyter-widgets/controls",
            "_model_module_version": "1.5.0",
            "_model_name": "VBoxModel",
            "_view_count": null,
            "_view_module": "@jupyter-widgets/controls",
            "_view_module_version": "1.5.0",
            "_view_name": "VBoxView",
            "box_style": "",
            "children": [
              "IPY_MODEL_0113a6003fa549dd9e5e7588b99ee3a0",
              "IPY_MODEL_611aa8aafc8042768673e56ae7f8838f"
            ],
            "layout": "IPY_MODEL_8acb24d24c3b43cd97746ba70d613e93"
          }
        },
        "0113a6003fa549dd9e5e7588b99ee3a0": {
          "model_module": "@jupyter-widgets/controls",
          "model_name": "LabelModel",
          "model_module_version": "1.5.0",
          "state": {
            "_dom_classes": [],
            "_model_module": "@jupyter-widgets/controls",
            "_model_module_version": "1.5.0",
            "_model_name": "LabelModel",
            "_view_count": null,
            "_view_module": "@jupyter-widgets/controls",
            "_view_module_version": "1.5.0",
            "_view_name": "LabelView",
            "description": "",
            "description_tooltip": null,
            "layout": "IPY_MODEL_984fe2d3a7874fb4a9b0c670ef41f105",
            "placeholder": "​",
            "style": "IPY_MODEL_b43dbefea8ce4078b3b1d3a5837ecfc3",
            "value": "0.672 MB of 0.672 MB uploaded\r"
          }
        },
        "611aa8aafc8042768673e56ae7f8838f": {
          "model_module": "@jupyter-widgets/controls",
          "model_name": "FloatProgressModel",
          "model_module_version": "1.5.0",
          "state": {
            "_dom_classes": [],
            "_model_module": "@jupyter-widgets/controls",
            "_model_module_version": "1.5.0",
            "_model_name": "FloatProgressModel",
            "_view_count": null,
            "_view_module": "@jupyter-widgets/controls",
            "_view_module_version": "1.5.0",
            "_view_name": "ProgressView",
            "bar_style": "",
            "description": "",
            "description_tooltip": null,
            "layout": "IPY_MODEL_7fe0cb2e1a01411d8e4331d13bf53370",
            "max": 1,
            "min": 0,
            "orientation": "horizontal",
            "style": "IPY_MODEL_ec86e1a5c4c14e04bafd30c4e57adeea",
            "value": 1
          }
        },
        "8acb24d24c3b43cd97746ba70d613e93": {
          "model_module": "@jupyter-widgets/base",
          "model_name": "LayoutModel",
          "model_module_version": "1.2.0",
          "state": {
            "_model_module": "@jupyter-widgets/base",
            "_model_module_version": "1.2.0",
            "_model_name": "LayoutModel",
            "_view_count": null,
            "_view_module": "@jupyter-widgets/base",
            "_view_module_version": "1.2.0",
            "_view_name": "LayoutView",
            "align_content": null,
            "align_items": null,
            "align_self": null,
            "border": null,
            "bottom": null,
            "display": null,
            "flex": null,
            "flex_flow": null,
            "grid_area": null,
            "grid_auto_columns": null,
            "grid_auto_flow": null,
            "grid_auto_rows": null,
            "grid_column": null,
            "grid_gap": null,
            "grid_row": null,
            "grid_template_areas": null,
            "grid_template_columns": null,
            "grid_template_rows": null,
            "height": null,
            "justify_content": null,
            "justify_items": null,
            "left": null,
            "margin": null,
            "max_height": null,
            "max_width": null,
            "min_height": null,
            "min_width": null,
            "object_fit": null,
            "object_position": null,
            "order": null,
            "overflow": null,
            "overflow_x": null,
            "overflow_y": null,
            "padding": null,
            "right": null,
            "top": null,
            "visibility": null,
            "width": null
          }
        },
        "984fe2d3a7874fb4a9b0c670ef41f105": {
          "model_module": "@jupyter-widgets/base",
          "model_name": "LayoutModel",
          "model_module_version": "1.2.0",
          "state": {
            "_model_module": "@jupyter-widgets/base",
            "_model_module_version": "1.2.0",
            "_model_name": "LayoutModel",
            "_view_count": null,
            "_view_module": "@jupyter-widgets/base",
            "_view_module_version": "1.2.0",
            "_view_name": "LayoutView",
            "align_content": null,
            "align_items": null,
            "align_self": null,
            "border": null,
            "bottom": null,
            "display": null,
            "flex": null,
            "flex_flow": null,
            "grid_area": null,
            "grid_auto_columns": null,
            "grid_auto_flow": null,
            "grid_auto_rows": null,
            "grid_column": null,
            "grid_gap": null,
            "grid_row": null,
            "grid_template_areas": null,
            "grid_template_columns": null,
            "grid_template_rows": null,
            "height": null,
            "justify_content": null,
            "justify_items": null,
            "left": null,
            "margin": null,
            "max_height": null,
            "max_width": null,
            "min_height": null,
            "min_width": null,
            "object_fit": null,
            "object_position": null,
            "order": null,
            "overflow": null,
            "overflow_x": null,
            "overflow_y": null,
            "padding": null,
            "right": null,
            "top": null,
            "visibility": null,
            "width": null
          }
        },
        "b43dbefea8ce4078b3b1d3a5837ecfc3": {
          "model_module": "@jupyter-widgets/controls",
          "model_name": "DescriptionStyleModel",
          "model_module_version": "1.5.0",
          "state": {
            "_model_module": "@jupyter-widgets/controls",
            "_model_module_version": "1.5.0",
            "_model_name": "DescriptionStyleModel",
            "_view_count": null,
            "_view_module": "@jupyter-widgets/base",
            "_view_module_version": "1.2.0",
            "_view_name": "StyleView",
            "description_width": ""
          }
        },
        "7fe0cb2e1a01411d8e4331d13bf53370": {
          "model_module": "@jupyter-widgets/base",
          "model_name": "LayoutModel",
          "model_module_version": "1.2.0",
          "state": {
            "_model_module": "@jupyter-widgets/base",
            "_model_module_version": "1.2.0",
            "_model_name": "LayoutModel",
            "_view_count": null,
            "_view_module": "@jupyter-widgets/base",
            "_view_module_version": "1.2.0",
            "_view_name": "LayoutView",
            "align_content": null,
            "align_items": null,
            "align_self": null,
            "border": null,
            "bottom": null,
            "display": null,
            "flex": null,
            "flex_flow": null,
            "grid_area": null,
            "grid_auto_columns": null,
            "grid_auto_flow": null,
            "grid_auto_rows": null,
            "grid_column": null,
            "grid_gap": null,
            "grid_row": null,
            "grid_template_areas": null,
            "grid_template_columns": null,
            "grid_template_rows": null,
            "height": null,
            "justify_content": null,
            "justify_items": null,
            "left": null,
            "margin": null,
            "max_height": null,
            "max_width": null,
            "min_height": null,
            "min_width": null,
            "object_fit": null,
            "object_position": null,
            "order": null,
            "overflow": null,
            "overflow_x": null,
            "overflow_y": null,
            "padding": null,
            "right": null,
            "top": null,
            "visibility": null,
            "width": null
          }
        },
        "ec86e1a5c4c14e04bafd30c4e57adeea": {
          "model_module": "@jupyter-widgets/controls",
          "model_name": "ProgressStyleModel",
          "model_module_version": "1.5.0",
          "state": {
            "_model_module": "@jupyter-widgets/controls",
            "_model_module_version": "1.5.0",
            "_model_name": "ProgressStyleModel",
            "_view_count": null,
            "_view_module": "@jupyter-widgets/base",
            "_view_module_version": "1.2.0",
            "_view_name": "StyleView",
            "bar_color": null,
            "description_width": ""
          }
        },
        "f718fa74648449bc9cd068047a39e1ab": {
          "model_module": "@jupyter-widgets/controls",
          "model_name": "VBoxModel",
          "model_module_version": "1.5.0",
          "state": {
            "_dom_classes": [],
            "_model_module": "@jupyter-widgets/controls",
            "_model_module_version": "1.5.0",
            "_model_name": "VBoxModel",
            "_view_count": null,
            "_view_module": "@jupyter-widgets/controls",
            "_view_module_version": "1.5.0",
            "_view_name": "VBoxView",
            "box_style": "",
            "children": [
              "IPY_MODEL_35699ab31fb24dd9933fabc34a65999b",
              "IPY_MODEL_e62bc481f05d4813bdff3a3f10e24f7b"
            ],
            "layout": "IPY_MODEL_bee7de15e22a44f58af386a3bd9d5326"
          }
        },
        "35699ab31fb24dd9933fabc34a65999b": {
          "model_module": "@jupyter-widgets/controls",
          "model_name": "LabelModel",
          "model_module_version": "1.5.0",
          "state": {
            "_dom_classes": [],
            "_model_module": "@jupyter-widgets/controls",
            "_model_module_version": "1.5.0",
            "_model_name": "LabelModel",
            "_view_count": null,
            "_view_module": "@jupyter-widgets/controls",
            "_view_module_version": "1.5.0",
            "_view_name": "LabelView",
            "description": "",
            "description_tooltip": null,
            "layout": "IPY_MODEL_a28ecbaba50840d8b4116da7cd3a2116",
            "placeholder": "​",
            "style": "IPY_MODEL_60987ea9a30b410e93b476ea4fc73e86",
            "value": "0.525 MB of 0.525 MB uploaded (0.009 MB deduped)\r"
          }
        },
        "e62bc481f05d4813bdff3a3f10e24f7b": {
          "model_module": "@jupyter-widgets/controls",
          "model_name": "FloatProgressModel",
          "model_module_version": "1.5.0",
          "state": {
            "_dom_classes": [],
            "_model_module": "@jupyter-widgets/controls",
            "_model_module_version": "1.5.0",
            "_model_name": "FloatProgressModel",
            "_view_count": null,
            "_view_module": "@jupyter-widgets/controls",
            "_view_module_version": "1.5.0",
            "_view_name": "ProgressView",
            "bar_style": "",
            "description": "",
            "description_tooltip": null,
            "layout": "IPY_MODEL_f000d9b3d5a94c37a4189d511ffb3e18",
            "max": 1,
            "min": 0,
            "orientation": "horizontal",
            "style": "IPY_MODEL_d819b808f02140f7b9bfe974c02bc1df",
            "value": 1
          }
        },
        "bee7de15e22a44f58af386a3bd9d5326": {
          "model_module": "@jupyter-widgets/base",
          "model_name": "LayoutModel",
          "model_module_version": "1.2.0",
          "state": {
            "_model_module": "@jupyter-widgets/base",
            "_model_module_version": "1.2.0",
            "_model_name": "LayoutModel",
            "_view_count": null,
            "_view_module": "@jupyter-widgets/base",
            "_view_module_version": "1.2.0",
            "_view_name": "LayoutView",
            "align_content": null,
            "align_items": null,
            "align_self": null,
            "border": null,
            "bottom": null,
            "display": null,
            "flex": null,
            "flex_flow": null,
            "grid_area": null,
            "grid_auto_columns": null,
            "grid_auto_flow": null,
            "grid_auto_rows": null,
            "grid_column": null,
            "grid_gap": null,
            "grid_row": null,
            "grid_template_areas": null,
            "grid_template_columns": null,
            "grid_template_rows": null,
            "height": null,
            "justify_content": null,
            "justify_items": null,
            "left": null,
            "margin": null,
            "max_height": null,
            "max_width": null,
            "min_height": null,
            "min_width": null,
            "object_fit": null,
            "object_position": null,
            "order": null,
            "overflow": null,
            "overflow_x": null,
            "overflow_y": null,
            "padding": null,
            "right": null,
            "top": null,
            "visibility": null,
            "width": null
          }
        },
        "a28ecbaba50840d8b4116da7cd3a2116": {
          "model_module": "@jupyter-widgets/base",
          "model_name": "LayoutModel",
          "model_module_version": "1.2.0",
          "state": {
            "_model_module": "@jupyter-widgets/base",
            "_model_module_version": "1.2.0",
            "_model_name": "LayoutModel",
            "_view_count": null,
            "_view_module": "@jupyter-widgets/base",
            "_view_module_version": "1.2.0",
            "_view_name": "LayoutView",
            "align_content": null,
            "align_items": null,
            "align_self": null,
            "border": null,
            "bottom": null,
            "display": null,
            "flex": null,
            "flex_flow": null,
            "grid_area": null,
            "grid_auto_columns": null,
            "grid_auto_flow": null,
            "grid_auto_rows": null,
            "grid_column": null,
            "grid_gap": null,
            "grid_row": null,
            "grid_template_areas": null,
            "grid_template_columns": null,
            "grid_template_rows": null,
            "height": null,
            "justify_content": null,
            "justify_items": null,
            "left": null,
            "margin": null,
            "max_height": null,
            "max_width": null,
            "min_height": null,
            "min_width": null,
            "object_fit": null,
            "object_position": null,
            "order": null,
            "overflow": null,
            "overflow_x": null,
            "overflow_y": null,
            "padding": null,
            "right": null,
            "top": null,
            "visibility": null,
            "width": null
          }
        },
        "60987ea9a30b410e93b476ea4fc73e86": {
          "model_module": "@jupyter-widgets/controls",
          "model_name": "DescriptionStyleModel",
          "model_module_version": "1.5.0",
          "state": {
            "_model_module": "@jupyter-widgets/controls",
            "_model_module_version": "1.5.0",
            "_model_name": "DescriptionStyleModel",
            "_view_count": null,
            "_view_module": "@jupyter-widgets/base",
            "_view_module_version": "1.2.0",
            "_view_name": "StyleView",
            "description_width": ""
          }
        },
        "f000d9b3d5a94c37a4189d511ffb3e18": {
          "model_module": "@jupyter-widgets/base",
          "model_name": "LayoutModel",
          "model_module_version": "1.2.0",
          "state": {
            "_model_module": "@jupyter-widgets/base",
            "_model_module_version": "1.2.0",
            "_model_name": "LayoutModel",
            "_view_count": null,
            "_view_module": "@jupyter-widgets/base",
            "_view_module_version": "1.2.0",
            "_view_name": "LayoutView",
            "align_content": null,
            "align_items": null,
            "align_self": null,
            "border": null,
            "bottom": null,
            "display": null,
            "flex": null,
            "flex_flow": null,
            "grid_area": null,
            "grid_auto_columns": null,
            "grid_auto_flow": null,
            "grid_auto_rows": null,
            "grid_column": null,
            "grid_gap": null,
            "grid_row": null,
            "grid_template_areas": null,
            "grid_template_columns": null,
            "grid_template_rows": null,
            "height": null,
            "justify_content": null,
            "justify_items": null,
            "left": null,
            "margin": null,
            "max_height": null,
            "max_width": null,
            "min_height": null,
            "min_width": null,
            "object_fit": null,
            "object_position": null,
            "order": null,
            "overflow": null,
            "overflow_x": null,
            "overflow_y": null,
            "padding": null,
            "right": null,
            "top": null,
            "visibility": null,
            "width": null
          }
        },
        "d819b808f02140f7b9bfe974c02bc1df": {
          "model_module": "@jupyter-widgets/controls",
          "model_name": "ProgressStyleModel",
          "model_module_version": "1.5.0",
          "state": {
            "_model_module": "@jupyter-widgets/controls",
            "_model_module_version": "1.5.0",
            "_model_name": "ProgressStyleModel",
            "_view_count": null,
            "_view_module": "@jupyter-widgets/base",
            "_view_module_version": "1.2.0",
            "_view_name": "StyleView",
            "bar_color": null,
            "description_width": ""
          }
        },
        "17c98b852b8f4dd0a49aa5b7b8b36072": {
          "model_module": "@jupyter-widgets/controls",
          "model_name": "VBoxModel",
          "model_module_version": "1.5.0",
          "state": {
            "_dom_classes": [],
            "_model_module": "@jupyter-widgets/controls",
            "_model_module_version": "1.5.0",
            "_model_name": "VBoxModel",
            "_view_count": null,
            "_view_module": "@jupyter-widgets/controls",
            "_view_module_version": "1.5.0",
            "_view_name": "VBoxView",
            "box_style": "",
            "children": [
              "IPY_MODEL_26f7f8728ffd4f299cada48341237616",
              "IPY_MODEL_c8509559e94047ad86538e5d038a5cce"
            ],
            "layout": "IPY_MODEL_d3205ee05ce541508e021dcc31bebc4c"
          }
        },
        "26f7f8728ffd4f299cada48341237616": {
          "model_module": "@jupyter-widgets/controls",
          "model_name": "LabelModel",
          "model_module_version": "1.5.0",
          "state": {
            "_dom_classes": [],
            "_model_module": "@jupyter-widgets/controls",
            "_model_module_version": "1.5.0",
            "_model_name": "LabelModel",
            "_view_count": null,
            "_view_module": "@jupyter-widgets/controls",
            "_view_module_version": "1.5.0",
            "_view_name": "LabelView",
            "description": "",
            "description_tooltip": null,
            "layout": "IPY_MODEL_b3b2c81d8596487d8de69d2eb50526e2",
            "placeholder": "​",
            "style": "IPY_MODEL_1d067229980e43578e1d9ea797ce2ae5",
            "value": "0.672 MB of 0.672 MB uploaded\r"
          }
        },
        "c8509559e94047ad86538e5d038a5cce": {
          "model_module": "@jupyter-widgets/controls",
          "model_name": "FloatProgressModel",
          "model_module_version": "1.5.0",
          "state": {
            "_dom_classes": [],
            "_model_module": "@jupyter-widgets/controls",
            "_model_module_version": "1.5.0",
            "_model_name": "FloatProgressModel",
            "_view_count": null,
            "_view_module": "@jupyter-widgets/controls",
            "_view_module_version": "1.5.0",
            "_view_name": "ProgressView",
            "bar_style": "",
            "description": "",
            "description_tooltip": null,
            "layout": "IPY_MODEL_0cc92133874c42f5ac96e4bb40ab954c",
            "max": 1,
            "min": 0,
            "orientation": "horizontal",
            "style": "IPY_MODEL_8a401b95a5214f2489f7da5fe7d354c2",
            "value": 1
          }
        },
        "d3205ee05ce541508e021dcc31bebc4c": {
          "model_module": "@jupyter-widgets/base",
          "model_name": "LayoutModel",
          "model_module_version": "1.2.0",
          "state": {
            "_model_module": "@jupyter-widgets/base",
            "_model_module_version": "1.2.0",
            "_model_name": "LayoutModel",
            "_view_count": null,
            "_view_module": "@jupyter-widgets/base",
            "_view_module_version": "1.2.0",
            "_view_name": "LayoutView",
            "align_content": null,
            "align_items": null,
            "align_self": null,
            "border": null,
            "bottom": null,
            "display": null,
            "flex": null,
            "flex_flow": null,
            "grid_area": null,
            "grid_auto_columns": null,
            "grid_auto_flow": null,
            "grid_auto_rows": null,
            "grid_column": null,
            "grid_gap": null,
            "grid_row": null,
            "grid_template_areas": null,
            "grid_template_columns": null,
            "grid_template_rows": null,
            "height": null,
            "justify_content": null,
            "justify_items": null,
            "left": null,
            "margin": null,
            "max_height": null,
            "max_width": null,
            "min_height": null,
            "min_width": null,
            "object_fit": null,
            "object_position": null,
            "order": null,
            "overflow": null,
            "overflow_x": null,
            "overflow_y": null,
            "padding": null,
            "right": null,
            "top": null,
            "visibility": null,
            "width": null
          }
        },
        "b3b2c81d8596487d8de69d2eb50526e2": {
          "model_module": "@jupyter-widgets/base",
          "model_name": "LayoutModel",
          "model_module_version": "1.2.0",
          "state": {
            "_model_module": "@jupyter-widgets/base",
            "_model_module_version": "1.2.0",
            "_model_name": "LayoutModel",
            "_view_count": null,
            "_view_module": "@jupyter-widgets/base",
            "_view_module_version": "1.2.0",
            "_view_name": "LayoutView",
            "align_content": null,
            "align_items": null,
            "align_self": null,
            "border": null,
            "bottom": null,
            "display": null,
            "flex": null,
            "flex_flow": null,
            "grid_area": null,
            "grid_auto_columns": null,
            "grid_auto_flow": null,
            "grid_auto_rows": null,
            "grid_column": null,
            "grid_gap": null,
            "grid_row": null,
            "grid_template_areas": null,
            "grid_template_columns": null,
            "grid_template_rows": null,
            "height": null,
            "justify_content": null,
            "justify_items": null,
            "left": null,
            "margin": null,
            "max_height": null,
            "max_width": null,
            "min_height": null,
            "min_width": null,
            "object_fit": null,
            "object_position": null,
            "order": null,
            "overflow": null,
            "overflow_x": null,
            "overflow_y": null,
            "padding": null,
            "right": null,
            "top": null,
            "visibility": null,
            "width": null
          }
        },
        "1d067229980e43578e1d9ea797ce2ae5": {
          "model_module": "@jupyter-widgets/controls",
          "model_name": "DescriptionStyleModel",
          "model_module_version": "1.5.0",
          "state": {
            "_model_module": "@jupyter-widgets/controls",
            "_model_module_version": "1.5.0",
            "_model_name": "DescriptionStyleModel",
            "_view_count": null,
            "_view_module": "@jupyter-widgets/base",
            "_view_module_version": "1.2.0",
            "_view_name": "StyleView",
            "description_width": ""
          }
        },
        "0cc92133874c42f5ac96e4bb40ab954c": {
          "model_module": "@jupyter-widgets/base",
          "model_name": "LayoutModel",
          "model_module_version": "1.2.0",
          "state": {
            "_model_module": "@jupyter-widgets/base",
            "_model_module_version": "1.2.0",
            "_model_name": "LayoutModel",
            "_view_count": null,
            "_view_module": "@jupyter-widgets/base",
            "_view_module_version": "1.2.0",
            "_view_name": "LayoutView",
            "align_content": null,
            "align_items": null,
            "align_self": null,
            "border": null,
            "bottom": null,
            "display": null,
            "flex": null,
            "flex_flow": null,
            "grid_area": null,
            "grid_auto_columns": null,
            "grid_auto_flow": null,
            "grid_auto_rows": null,
            "grid_column": null,
            "grid_gap": null,
            "grid_row": null,
            "grid_template_areas": null,
            "grid_template_columns": null,
            "grid_template_rows": null,
            "height": null,
            "justify_content": null,
            "justify_items": null,
            "left": null,
            "margin": null,
            "max_height": null,
            "max_width": null,
            "min_height": null,
            "min_width": null,
            "object_fit": null,
            "object_position": null,
            "order": null,
            "overflow": null,
            "overflow_x": null,
            "overflow_y": null,
            "padding": null,
            "right": null,
            "top": null,
            "visibility": null,
            "width": null
          }
        },
        "8a401b95a5214f2489f7da5fe7d354c2": {
          "model_module": "@jupyter-widgets/controls",
          "model_name": "ProgressStyleModel",
          "model_module_version": "1.5.0",
          "state": {
            "_model_module": "@jupyter-widgets/controls",
            "_model_module_version": "1.5.0",
            "_model_name": "ProgressStyleModel",
            "_view_count": null,
            "_view_module": "@jupyter-widgets/base",
            "_view_module_version": "1.2.0",
            "_view_name": "StyleView",
            "bar_color": null,
            "description_width": ""
          }
        },
        "8fc870755a034df68b594dc6662612fa": {
          "model_module": "@jupyter-widgets/controls",
          "model_name": "VBoxModel",
          "model_module_version": "1.5.0",
          "state": {
            "_dom_classes": [],
            "_model_module": "@jupyter-widgets/controls",
            "_model_module_version": "1.5.0",
            "_model_name": "VBoxModel",
            "_view_count": null,
            "_view_module": "@jupyter-widgets/controls",
            "_view_module_version": "1.5.0",
            "_view_name": "VBoxView",
            "box_style": "",
            "children": [
              "IPY_MODEL_b08e67265bc845d887381294daa09d4c",
              "IPY_MODEL_13d57e542ad7486ca90a80fbb84394c3"
            ],
            "layout": "IPY_MODEL_8efff5e656454a269532f8c3be3387c3"
          }
        },
        "b08e67265bc845d887381294daa09d4c": {
          "model_module": "@jupyter-widgets/controls",
          "model_name": "LabelModel",
          "model_module_version": "1.5.0",
          "state": {
            "_dom_classes": [],
            "_model_module": "@jupyter-widgets/controls",
            "_model_module_version": "1.5.0",
            "_model_name": "LabelModel",
            "_view_count": null,
            "_view_module": "@jupyter-widgets/controls",
            "_view_module_version": "1.5.0",
            "_view_name": "LabelView",
            "description": "",
            "description_tooltip": null,
            "layout": "IPY_MODEL_31e8a46a879a4f8794bd13fb1ac2d5b7",
            "placeholder": "​",
            "style": "IPY_MODEL_6064bd9b1d1a4ab58fda6e24abf63d78",
            "value": "0.735 MB of 0.735 MB uploaded (0.009 MB deduped)\r"
          }
        },
        "13d57e542ad7486ca90a80fbb84394c3": {
          "model_module": "@jupyter-widgets/controls",
          "model_name": "FloatProgressModel",
          "model_module_version": "1.5.0",
          "state": {
            "_dom_classes": [],
            "_model_module": "@jupyter-widgets/controls",
            "_model_module_version": "1.5.0",
            "_model_name": "FloatProgressModel",
            "_view_count": null,
            "_view_module": "@jupyter-widgets/controls",
            "_view_module_version": "1.5.0",
            "_view_name": "ProgressView",
            "bar_style": "",
            "description": "",
            "description_tooltip": null,
            "layout": "IPY_MODEL_5b6bd48c0b55425baf8d5c870dd2af1d",
            "max": 1,
            "min": 0,
            "orientation": "horizontal",
            "style": "IPY_MODEL_9617147df31141e59e2dcfedaeab0089",
            "value": 1
          }
        },
        "8efff5e656454a269532f8c3be3387c3": {
          "model_module": "@jupyter-widgets/base",
          "model_name": "LayoutModel",
          "model_module_version": "1.2.0",
          "state": {
            "_model_module": "@jupyter-widgets/base",
            "_model_module_version": "1.2.0",
            "_model_name": "LayoutModel",
            "_view_count": null,
            "_view_module": "@jupyter-widgets/base",
            "_view_module_version": "1.2.0",
            "_view_name": "LayoutView",
            "align_content": null,
            "align_items": null,
            "align_self": null,
            "border": null,
            "bottom": null,
            "display": null,
            "flex": null,
            "flex_flow": null,
            "grid_area": null,
            "grid_auto_columns": null,
            "grid_auto_flow": null,
            "grid_auto_rows": null,
            "grid_column": null,
            "grid_gap": null,
            "grid_row": null,
            "grid_template_areas": null,
            "grid_template_columns": null,
            "grid_template_rows": null,
            "height": null,
            "justify_content": null,
            "justify_items": null,
            "left": null,
            "margin": null,
            "max_height": null,
            "max_width": null,
            "min_height": null,
            "min_width": null,
            "object_fit": null,
            "object_position": null,
            "order": null,
            "overflow": null,
            "overflow_x": null,
            "overflow_y": null,
            "padding": null,
            "right": null,
            "top": null,
            "visibility": null,
            "width": null
          }
        },
        "31e8a46a879a4f8794bd13fb1ac2d5b7": {
          "model_module": "@jupyter-widgets/base",
          "model_name": "LayoutModel",
          "model_module_version": "1.2.0",
          "state": {
            "_model_module": "@jupyter-widgets/base",
            "_model_module_version": "1.2.0",
            "_model_name": "LayoutModel",
            "_view_count": null,
            "_view_module": "@jupyter-widgets/base",
            "_view_module_version": "1.2.0",
            "_view_name": "LayoutView",
            "align_content": null,
            "align_items": null,
            "align_self": null,
            "border": null,
            "bottom": null,
            "display": null,
            "flex": null,
            "flex_flow": null,
            "grid_area": null,
            "grid_auto_columns": null,
            "grid_auto_flow": null,
            "grid_auto_rows": null,
            "grid_column": null,
            "grid_gap": null,
            "grid_row": null,
            "grid_template_areas": null,
            "grid_template_columns": null,
            "grid_template_rows": null,
            "height": null,
            "justify_content": null,
            "justify_items": null,
            "left": null,
            "margin": null,
            "max_height": null,
            "max_width": null,
            "min_height": null,
            "min_width": null,
            "object_fit": null,
            "object_position": null,
            "order": null,
            "overflow": null,
            "overflow_x": null,
            "overflow_y": null,
            "padding": null,
            "right": null,
            "top": null,
            "visibility": null,
            "width": null
          }
        },
        "6064bd9b1d1a4ab58fda6e24abf63d78": {
          "model_module": "@jupyter-widgets/controls",
          "model_name": "DescriptionStyleModel",
          "model_module_version": "1.5.0",
          "state": {
            "_model_module": "@jupyter-widgets/controls",
            "_model_module_version": "1.5.0",
            "_model_name": "DescriptionStyleModel",
            "_view_count": null,
            "_view_module": "@jupyter-widgets/base",
            "_view_module_version": "1.2.0",
            "_view_name": "StyleView",
            "description_width": ""
          }
        },
        "5b6bd48c0b55425baf8d5c870dd2af1d": {
          "model_module": "@jupyter-widgets/base",
          "model_name": "LayoutModel",
          "model_module_version": "1.2.0",
          "state": {
            "_model_module": "@jupyter-widgets/base",
            "_model_module_version": "1.2.0",
            "_model_name": "LayoutModel",
            "_view_count": null,
            "_view_module": "@jupyter-widgets/base",
            "_view_module_version": "1.2.0",
            "_view_name": "LayoutView",
            "align_content": null,
            "align_items": null,
            "align_self": null,
            "border": null,
            "bottom": null,
            "display": null,
            "flex": null,
            "flex_flow": null,
            "grid_area": null,
            "grid_auto_columns": null,
            "grid_auto_flow": null,
            "grid_auto_rows": null,
            "grid_column": null,
            "grid_gap": null,
            "grid_row": null,
            "grid_template_areas": null,
            "grid_template_columns": null,
            "grid_template_rows": null,
            "height": null,
            "justify_content": null,
            "justify_items": null,
            "left": null,
            "margin": null,
            "max_height": null,
            "max_width": null,
            "min_height": null,
            "min_width": null,
            "object_fit": null,
            "object_position": null,
            "order": null,
            "overflow": null,
            "overflow_x": null,
            "overflow_y": null,
            "padding": null,
            "right": null,
            "top": null,
            "visibility": null,
            "width": null
          }
        },
        "9617147df31141e59e2dcfedaeab0089": {
          "model_module": "@jupyter-widgets/controls",
          "model_name": "ProgressStyleModel",
          "model_module_version": "1.5.0",
          "state": {
            "_model_module": "@jupyter-widgets/controls",
            "_model_module_version": "1.5.0",
            "_model_name": "ProgressStyleModel",
            "_view_count": null,
            "_view_module": "@jupyter-widgets/base",
            "_view_module_version": "1.2.0",
            "_view_name": "StyleView",
            "bar_color": null,
            "description_width": ""
          }
        },
        "d7220169dbb94c6c9c975d233074f448": {
          "model_module": "@jupyter-widgets/controls",
          "model_name": "VBoxModel",
          "model_module_version": "1.5.0",
          "state": {
            "_dom_classes": [],
            "_model_module": "@jupyter-widgets/controls",
            "_model_module_version": "1.5.0",
            "_model_name": "VBoxModel",
            "_view_count": null,
            "_view_module": "@jupyter-widgets/controls",
            "_view_module_version": "1.5.0",
            "_view_name": "VBoxView",
            "box_style": "",
            "children": [
              "IPY_MODEL_fa8910158ed14df89ce75dc44fd87d10",
              "IPY_MODEL_efa3679f39644f818a159ceeb03480ca"
            ],
            "layout": "IPY_MODEL_b4afbabdd93d49fd920dac843dc0372a"
          }
        },
        "fa8910158ed14df89ce75dc44fd87d10": {
          "model_module": "@jupyter-widgets/controls",
          "model_name": "LabelModel",
          "model_module_version": "1.5.0",
          "state": {
            "_dom_classes": [],
            "_model_module": "@jupyter-widgets/controls",
            "_model_module_version": "1.5.0",
            "_model_name": "LabelModel",
            "_view_count": null,
            "_view_module": "@jupyter-widgets/controls",
            "_view_module_version": "1.5.0",
            "_view_name": "LabelView",
            "description": "",
            "description_tooltip": null,
            "layout": "IPY_MODEL_02bb1e1f5b4a4b3f913d7c3ed6209d51",
            "placeholder": "​",
            "style": "IPY_MODEL_79a9f1da6ce34ee6bff990e28711d9ef",
            "value": "0.509 MB of 0.509 MB uploaded\r"
          }
        },
        "efa3679f39644f818a159ceeb03480ca": {
          "model_module": "@jupyter-widgets/controls",
          "model_name": "FloatProgressModel",
          "model_module_version": "1.5.0",
          "state": {
            "_dom_classes": [],
            "_model_module": "@jupyter-widgets/controls",
            "_model_module_version": "1.5.0",
            "_model_name": "FloatProgressModel",
            "_view_count": null,
            "_view_module": "@jupyter-widgets/controls",
            "_view_module_version": "1.5.0",
            "_view_name": "ProgressView",
            "bar_style": "",
            "description": "",
            "description_tooltip": null,
            "layout": "IPY_MODEL_303c12d0df384b62a9f2773bb06c6f38",
            "max": 1,
            "min": 0,
            "orientation": "horizontal",
            "style": "IPY_MODEL_e0e4eb64c2e84497b806007b48b1555c",
            "value": 1
          }
        },
        "b4afbabdd93d49fd920dac843dc0372a": {
          "model_module": "@jupyter-widgets/base",
          "model_name": "LayoutModel",
          "model_module_version": "1.2.0",
          "state": {
            "_model_module": "@jupyter-widgets/base",
            "_model_module_version": "1.2.0",
            "_model_name": "LayoutModel",
            "_view_count": null,
            "_view_module": "@jupyter-widgets/base",
            "_view_module_version": "1.2.0",
            "_view_name": "LayoutView",
            "align_content": null,
            "align_items": null,
            "align_self": null,
            "border": null,
            "bottom": null,
            "display": null,
            "flex": null,
            "flex_flow": null,
            "grid_area": null,
            "grid_auto_columns": null,
            "grid_auto_flow": null,
            "grid_auto_rows": null,
            "grid_column": null,
            "grid_gap": null,
            "grid_row": null,
            "grid_template_areas": null,
            "grid_template_columns": null,
            "grid_template_rows": null,
            "height": null,
            "justify_content": null,
            "justify_items": null,
            "left": null,
            "margin": null,
            "max_height": null,
            "max_width": null,
            "min_height": null,
            "min_width": null,
            "object_fit": null,
            "object_position": null,
            "order": null,
            "overflow": null,
            "overflow_x": null,
            "overflow_y": null,
            "padding": null,
            "right": null,
            "top": null,
            "visibility": null,
            "width": null
          }
        },
        "02bb1e1f5b4a4b3f913d7c3ed6209d51": {
          "model_module": "@jupyter-widgets/base",
          "model_name": "LayoutModel",
          "model_module_version": "1.2.0",
          "state": {
            "_model_module": "@jupyter-widgets/base",
            "_model_module_version": "1.2.0",
            "_model_name": "LayoutModel",
            "_view_count": null,
            "_view_module": "@jupyter-widgets/base",
            "_view_module_version": "1.2.0",
            "_view_name": "LayoutView",
            "align_content": null,
            "align_items": null,
            "align_self": null,
            "border": null,
            "bottom": null,
            "display": null,
            "flex": null,
            "flex_flow": null,
            "grid_area": null,
            "grid_auto_columns": null,
            "grid_auto_flow": null,
            "grid_auto_rows": null,
            "grid_column": null,
            "grid_gap": null,
            "grid_row": null,
            "grid_template_areas": null,
            "grid_template_columns": null,
            "grid_template_rows": null,
            "height": null,
            "justify_content": null,
            "justify_items": null,
            "left": null,
            "margin": null,
            "max_height": null,
            "max_width": null,
            "min_height": null,
            "min_width": null,
            "object_fit": null,
            "object_position": null,
            "order": null,
            "overflow": null,
            "overflow_x": null,
            "overflow_y": null,
            "padding": null,
            "right": null,
            "top": null,
            "visibility": null,
            "width": null
          }
        },
        "79a9f1da6ce34ee6bff990e28711d9ef": {
          "model_module": "@jupyter-widgets/controls",
          "model_name": "DescriptionStyleModel",
          "model_module_version": "1.5.0",
          "state": {
            "_model_module": "@jupyter-widgets/controls",
            "_model_module_version": "1.5.0",
            "_model_name": "DescriptionStyleModel",
            "_view_count": null,
            "_view_module": "@jupyter-widgets/base",
            "_view_module_version": "1.2.0",
            "_view_name": "StyleView",
            "description_width": ""
          }
        },
        "303c12d0df384b62a9f2773bb06c6f38": {
          "model_module": "@jupyter-widgets/base",
          "model_name": "LayoutModel",
          "model_module_version": "1.2.0",
          "state": {
            "_model_module": "@jupyter-widgets/base",
            "_model_module_version": "1.2.0",
            "_model_name": "LayoutModel",
            "_view_count": null,
            "_view_module": "@jupyter-widgets/base",
            "_view_module_version": "1.2.0",
            "_view_name": "LayoutView",
            "align_content": null,
            "align_items": null,
            "align_self": null,
            "border": null,
            "bottom": null,
            "display": null,
            "flex": null,
            "flex_flow": null,
            "grid_area": null,
            "grid_auto_columns": null,
            "grid_auto_flow": null,
            "grid_auto_rows": null,
            "grid_column": null,
            "grid_gap": null,
            "grid_row": null,
            "grid_template_areas": null,
            "grid_template_columns": null,
            "grid_template_rows": null,
            "height": null,
            "justify_content": null,
            "justify_items": null,
            "left": null,
            "margin": null,
            "max_height": null,
            "max_width": null,
            "min_height": null,
            "min_width": null,
            "object_fit": null,
            "object_position": null,
            "order": null,
            "overflow": null,
            "overflow_x": null,
            "overflow_y": null,
            "padding": null,
            "right": null,
            "top": null,
            "visibility": null,
            "width": null
          }
        },
        "e0e4eb64c2e84497b806007b48b1555c": {
          "model_module": "@jupyter-widgets/controls",
          "model_name": "ProgressStyleModel",
          "model_module_version": "1.5.0",
          "state": {
            "_model_module": "@jupyter-widgets/controls",
            "_model_module_version": "1.5.0",
            "_model_name": "ProgressStyleModel",
            "_view_count": null,
            "_view_module": "@jupyter-widgets/base",
            "_view_module_version": "1.2.0",
            "_view_name": "StyleView",
            "bar_color": null,
            "description_width": ""
          }
        },
        "5d6bfa4acdf14b4c8f0ead87ad74795c": {
          "model_module": "@jupyter-widgets/controls",
          "model_name": "VBoxModel",
          "model_module_version": "1.5.0",
          "state": {
            "_dom_classes": [],
            "_model_module": "@jupyter-widgets/controls",
            "_model_module_version": "1.5.0",
            "_model_name": "VBoxModel",
            "_view_count": null,
            "_view_module": "@jupyter-widgets/controls",
            "_view_module_version": "1.5.0",
            "_view_name": "VBoxView",
            "box_style": "",
            "children": [
              "IPY_MODEL_fc5134b9df5d40ffa3cb19bb7ff2bf00",
              "IPY_MODEL_44da3d9f18d54ce0b32dabc44a6b24a4"
            ],
            "layout": "IPY_MODEL_296eb16b7f374df0ad75942d11ce0139"
          }
        },
        "fc5134b9df5d40ffa3cb19bb7ff2bf00": {
          "model_module": "@jupyter-widgets/controls",
          "model_name": "LabelModel",
          "model_module_version": "1.5.0",
          "state": {
            "_dom_classes": [],
            "_model_module": "@jupyter-widgets/controls",
            "_model_module_version": "1.5.0",
            "_model_name": "LabelModel",
            "_view_count": null,
            "_view_module": "@jupyter-widgets/controls",
            "_view_module_version": "1.5.0",
            "_view_name": "LabelView",
            "description": "",
            "description_tooltip": null,
            "layout": "IPY_MODEL_45c0915fe0474653942a5991fc13ff82",
            "placeholder": "​",
            "style": "IPY_MODEL_d8c84ef629824c87bbee354a1e5c0280",
            "value": "0.947 MB of 0.947 MB uploaded (0.009 MB deduped)\r"
          }
        },
        "44da3d9f18d54ce0b32dabc44a6b24a4": {
          "model_module": "@jupyter-widgets/controls",
          "model_name": "FloatProgressModel",
          "model_module_version": "1.5.0",
          "state": {
            "_dom_classes": [],
            "_model_module": "@jupyter-widgets/controls",
            "_model_module_version": "1.5.0",
            "_model_name": "FloatProgressModel",
            "_view_count": null,
            "_view_module": "@jupyter-widgets/controls",
            "_view_module_version": "1.5.0",
            "_view_name": "ProgressView",
            "bar_style": "",
            "description": "",
            "description_tooltip": null,
            "layout": "IPY_MODEL_90628df31eab4300a0438a819617cf39",
            "max": 1,
            "min": 0,
            "orientation": "horizontal",
            "style": "IPY_MODEL_68ef6533e3c3459cab34f2549e76bc67",
            "value": 1
          }
        },
        "296eb16b7f374df0ad75942d11ce0139": {
          "model_module": "@jupyter-widgets/base",
          "model_name": "LayoutModel",
          "model_module_version": "1.2.0",
          "state": {
            "_model_module": "@jupyter-widgets/base",
            "_model_module_version": "1.2.0",
            "_model_name": "LayoutModel",
            "_view_count": null,
            "_view_module": "@jupyter-widgets/base",
            "_view_module_version": "1.2.0",
            "_view_name": "LayoutView",
            "align_content": null,
            "align_items": null,
            "align_self": null,
            "border": null,
            "bottom": null,
            "display": null,
            "flex": null,
            "flex_flow": null,
            "grid_area": null,
            "grid_auto_columns": null,
            "grid_auto_flow": null,
            "grid_auto_rows": null,
            "grid_column": null,
            "grid_gap": null,
            "grid_row": null,
            "grid_template_areas": null,
            "grid_template_columns": null,
            "grid_template_rows": null,
            "height": null,
            "justify_content": null,
            "justify_items": null,
            "left": null,
            "margin": null,
            "max_height": null,
            "max_width": null,
            "min_height": null,
            "min_width": null,
            "object_fit": null,
            "object_position": null,
            "order": null,
            "overflow": null,
            "overflow_x": null,
            "overflow_y": null,
            "padding": null,
            "right": null,
            "top": null,
            "visibility": null,
            "width": null
          }
        },
        "45c0915fe0474653942a5991fc13ff82": {
          "model_module": "@jupyter-widgets/base",
          "model_name": "LayoutModel",
          "model_module_version": "1.2.0",
          "state": {
            "_model_module": "@jupyter-widgets/base",
            "_model_module_version": "1.2.0",
            "_model_name": "LayoutModel",
            "_view_count": null,
            "_view_module": "@jupyter-widgets/base",
            "_view_module_version": "1.2.0",
            "_view_name": "LayoutView",
            "align_content": null,
            "align_items": null,
            "align_self": null,
            "border": null,
            "bottom": null,
            "display": null,
            "flex": null,
            "flex_flow": null,
            "grid_area": null,
            "grid_auto_columns": null,
            "grid_auto_flow": null,
            "grid_auto_rows": null,
            "grid_column": null,
            "grid_gap": null,
            "grid_row": null,
            "grid_template_areas": null,
            "grid_template_columns": null,
            "grid_template_rows": null,
            "height": null,
            "justify_content": null,
            "justify_items": null,
            "left": null,
            "margin": null,
            "max_height": null,
            "max_width": null,
            "min_height": null,
            "min_width": null,
            "object_fit": null,
            "object_position": null,
            "order": null,
            "overflow": null,
            "overflow_x": null,
            "overflow_y": null,
            "padding": null,
            "right": null,
            "top": null,
            "visibility": null,
            "width": null
          }
        },
        "d8c84ef629824c87bbee354a1e5c0280": {
          "model_module": "@jupyter-widgets/controls",
          "model_name": "DescriptionStyleModel",
          "model_module_version": "1.5.0",
          "state": {
            "_model_module": "@jupyter-widgets/controls",
            "_model_module_version": "1.5.0",
            "_model_name": "DescriptionStyleModel",
            "_view_count": null,
            "_view_module": "@jupyter-widgets/base",
            "_view_module_version": "1.2.0",
            "_view_name": "StyleView",
            "description_width": ""
          }
        },
        "90628df31eab4300a0438a819617cf39": {
          "model_module": "@jupyter-widgets/base",
          "model_name": "LayoutModel",
          "model_module_version": "1.2.0",
          "state": {
            "_model_module": "@jupyter-widgets/base",
            "_model_module_version": "1.2.0",
            "_model_name": "LayoutModel",
            "_view_count": null,
            "_view_module": "@jupyter-widgets/base",
            "_view_module_version": "1.2.0",
            "_view_name": "LayoutView",
            "align_content": null,
            "align_items": null,
            "align_self": null,
            "border": null,
            "bottom": null,
            "display": null,
            "flex": null,
            "flex_flow": null,
            "grid_area": null,
            "grid_auto_columns": null,
            "grid_auto_flow": null,
            "grid_auto_rows": null,
            "grid_column": null,
            "grid_gap": null,
            "grid_row": null,
            "grid_template_areas": null,
            "grid_template_columns": null,
            "grid_template_rows": null,
            "height": null,
            "justify_content": null,
            "justify_items": null,
            "left": null,
            "margin": null,
            "max_height": null,
            "max_width": null,
            "min_height": null,
            "min_width": null,
            "object_fit": null,
            "object_position": null,
            "order": null,
            "overflow": null,
            "overflow_x": null,
            "overflow_y": null,
            "padding": null,
            "right": null,
            "top": null,
            "visibility": null,
            "width": null
          }
        },
        "68ef6533e3c3459cab34f2549e76bc67": {
          "model_module": "@jupyter-widgets/controls",
          "model_name": "ProgressStyleModel",
          "model_module_version": "1.5.0",
          "state": {
            "_model_module": "@jupyter-widgets/controls",
            "_model_module_version": "1.5.0",
            "_model_name": "ProgressStyleModel",
            "_view_count": null,
            "_view_module": "@jupyter-widgets/base",
            "_view_module_version": "1.2.0",
            "_view_name": "StyleView",
            "bar_color": null,
            "description_width": ""
          }
        },
        "b8d34dec37b841c585774fc37d31134d": {
          "model_module": "@jupyter-widgets/controls",
          "model_name": "VBoxModel",
          "model_module_version": "1.5.0",
          "state": {
            "_dom_classes": [],
            "_model_module": "@jupyter-widgets/controls",
            "_model_module_version": "1.5.0",
            "_model_name": "VBoxModel",
            "_view_count": null,
            "_view_module": "@jupyter-widgets/controls",
            "_view_module_version": "1.5.0",
            "_view_name": "VBoxView",
            "box_style": "",
            "children": [
              "IPY_MODEL_36d7c5fbd7cb4ffb9b14cabf124d7c3d",
              "IPY_MODEL_dcbec7cf79c4481cac4ceb4c7443be22"
            ],
            "layout": "IPY_MODEL_34645e2cfb0446a1ba4233e4bc491943"
          }
        },
        "36d7c5fbd7cb4ffb9b14cabf124d7c3d": {
          "model_module": "@jupyter-widgets/controls",
          "model_name": "LabelModel",
          "model_module_version": "1.5.0",
          "state": {
            "_dom_classes": [],
            "_model_module": "@jupyter-widgets/controls",
            "_model_module_version": "1.5.0",
            "_model_name": "LabelModel",
            "_view_count": null,
            "_view_module": "@jupyter-widgets/controls",
            "_view_module_version": "1.5.0",
            "_view_name": "LabelView",
            "description": "",
            "description_tooltip": null,
            "layout": "IPY_MODEL_a20a38156c154231bf3cd85d65b0e6c6",
            "placeholder": "​",
            "style": "IPY_MODEL_c70df5316eb04529a2f5f0f99b9a0feb",
            "value": "0.509 MB of 0.509 MB uploaded\r"
          }
        },
        "dcbec7cf79c4481cac4ceb4c7443be22": {
          "model_module": "@jupyter-widgets/controls",
          "model_name": "FloatProgressModel",
          "model_module_version": "1.5.0",
          "state": {
            "_dom_classes": [],
            "_model_module": "@jupyter-widgets/controls",
            "_model_module_version": "1.5.0",
            "_model_name": "FloatProgressModel",
            "_view_count": null,
            "_view_module": "@jupyter-widgets/controls",
            "_view_module_version": "1.5.0",
            "_view_name": "ProgressView",
            "bar_style": "",
            "description": "",
            "description_tooltip": null,
            "layout": "IPY_MODEL_040a781acbe64a2ab6e91ef2d55ad958",
            "max": 1,
            "min": 0,
            "orientation": "horizontal",
            "style": "IPY_MODEL_a17242d4e0914e9f910057cc91d2867d",
            "value": 1
          }
        },
        "34645e2cfb0446a1ba4233e4bc491943": {
          "model_module": "@jupyter-widgets/base",
          "model_name": "LayoutModel",
          "model_module_version": "1.2.0",
          "state": {
            "_model_module": "@jupyter-widgets/base",
            "_model_module_version": "1.2.0",
            "_model_name": "LayoutModel",
            "_view_count": null,
            "_view_module": "@jupyter-widgets/base",
            "_view_module_version": "1.2.0",
            "_view_name": "LayoutView",
            "align_content": null,
            "align_items": null,
            "align_self": null,
            "border": null,
            "bottom": null,
            "display": null,
            "flex": null,
            "flex_flow": null,
            "grid_area": null,
            "grid_auto_columns": null,
            "grid_auto_flow": null,
            "grid_auto_rows": null,
            "grid_column": null,
            "grid_gap": null,
            "grid_row": null,
            "grid_template_areas": null,
            "grid_template_columns": null,
            "grid_template_rows": null,
            "height": null,
            "justify_content": null,
            "justify_items": null,
            "left": null,
            "margin": null,
            "max_height": null,
            "max_width": null,
            "min_height": null,
            "min_width": null,
            "object_fit": null,
            "object_position": null,
            "order": null,
            "overflow": null,
            "overflow_x": null,
            "overflow_y": null,
            "padding": null,
            "right": null,
            "top": null,
            "visibility": null,
            "width": null
          }
        },
        "a20a38156c154231bf3cd85d65b0e6c6": {
          "model_module": "@jupyter-widgets/base",
          "model_name": "LayoutModel",
          "model_module_version": "1.2.0",
          "state": {
            "_model_module": "@jupyter-widgets/base",
            "_model_module_version": "1.2.0",
            "_model_name": "LayoutModel",
            "_view_count": null,
            "_view_module": "@jupyter-widgets/base",
            "_view_module_version": "1.2.0",
            "_view_name": "LayoutView",
            "align_content": null,
            "align_items": null,
            "align_self": null,
            "border": null,
            "bottom": null,
            "display": null,
            "flex": null,
            "flex_flow": null,
            "grid_area": null,
            "grid_auto_columns": null,
            "grid_auto_flow": null,
            "grid_auto_rows": null,
            "grid_column": null,
            "grid_gap": null,
            "grid_row": null,
            "grid_template_areas": null,
            "grid_template_columns": null,
            "grid_template_rows": null,
            "height": null,
            "justify_content": null,
            "justify_items": null,
            "left": null,
            "margin": null,
            "max_height": null,
            "max_width": null,
            "min_height": null,
            "min_width": null,
            "object_fit": null,
            "object_position": null,
            "order": null,
            "overflow": null,
            "overflow_x": null,
            "overflow_y": null,
            "padding": null,
            "right": null,
            "top": null,
            "visibility": null,
            "width": null
          }
        },
        "c70df5316eb04529a2f5f0f99b9a0feb": {
          "model_module": "@jupyter-widgets/controls",
          "model_name": "DescriptionStyleModel",
          "model_module_version": "1.5.0",
          "state": {
            "_model_module": "@jupyter-widgets/controls",
            "_model_module_version": "1.5.0",
            "_model_name": "DescriptionStyleModel",
            "_view_count": null,
            "_view_module": "@jupyter-widgets/base",
            "_view_module_version": "1.2.0",
            "_view_name": "StyleView",
            "description_width": ""
          }
        },
        "040a781acbe64a2ab6e91ef2d55ad958": {
          "model_module": "@jupyter-widgets/base",
          "model_name": "LayoutModel",
          "model_module_version": "1.2.0",
          "state": {
            "_model_module": "@jupyter-widgets/base",
            "_model_module_version": "1.2.0",
            "_model_name": "LayoutModel",
            "_view_count": null,
            "_view_module": "@jupyter-widgets/base",
            "_view_module_version": "1.2.0",
            "_view_name": "LayoutView",
            "align_content": null,
            "align_items": null,
            "align_self": null,
            "border": null,
            "bottom": null,
            "display": null,
            "flex": null,
            "flex_flow": null,
            "grid_area": null,
            "grid_auto_columns": null,
            "grid_auto_flow": null,
            "grid_auto_rows": null,
            "grid_column": null,
            "grid_gap": null,
            "grid_row": null,
            "grid_template_areas": null,
            "grid_template_columns": null,
            "grid_template_rows": null,
            "height": null,
            "justify_content": null,
            "justify_items": null,
            "left": null,
            "margin": null,
            "max_height": null,
            "max_width": null,
            "min_height": null,
            "min_width": null,
            "object_fit": null,
            "object_position": null,
            "order": null,
            "overflow": null,
            "overflow_x": null,
            "overflow_y": null,
            "padding": null,
            "right": null,
            "top": null,
            "visibility": null,
            "width": null
          }
        },
        "a17242d4e0914e9f910057cc91d2867d": {
          "model_module": "@jupyter-widgets/controls",
          "model_name": "ProgressStyleModel",
          "model_module_version": "1.5.0",
          "state": {
            "_model_module": "@jupyter-widgets/controls",
            "_model_module_version": "1.5.0",
            "_model_name": "ProgressStyleModel",
            "_view_count": null,
            "_view_module": "@jupyter-widgets/base",
            "_view_module_version": "1.2.0",
            "_view_name": "StyleView",
            "bar_color": null,
            "description_width": ""
          }
        },
        "a98ddac0240e4201b018624936bc7cba": {
          "model_module": "@jupyter-widgets/controls",
          "model_name": "VBoxModel",
          "model_module_version": "1.5.0",
          "state": {
            "_dom_classes": [],
            "_model_module": "@jupyter-widgets/controls",
            "_model_module_version": "1.5.0",
            "_model_name": "VBoxModel",
            "_view_count": null,
            "_view_module": "@jupyter-widgets/controls",
            "_view_module_version": "1.5.0",
            "_view_name": "VBoxView",
            "box_style": "",
            "children": [
              "IPY_MODEL_737e5071a04d45f09e28a8e0c12b8e98",
              "IPY_MODEL_42b0aa8e4e8244379fe1249548dddcc1"
            ],
            "layout": "IPY_MODEL_f9f1448de0b24df59e1c9f9a402b968e"
          }
        },
        "737e5071a04d45f09e28a8e0c12b8e98": {
          "model_module": "@jupyter-widgets/controls",
          "model_name": "LabelModel",
          "model_module_version": "1.5.0",
          "state": {
            "_dom_classes": [],
            "_model_module": "@jupyter-widgets/controls",
            "_model_module_version": "1.5.0",
            "_model_name": "LabelModel",
            "_view_count": null,
            "_view_module": "@jupyter-widgets/controls",
            "_view_module_version": "1.5.0",
            "_view_name": "LabelView",
            "description": "",
            "description_tooltip": null,
            "layout": "IPY_MODEL_1f8bafd2ddba41ebadfe69db019f3d9b",
            "placeholder": "​",
            "style": "IPY_MODEL_c0caa9158bd7416dbc637d93a2a8089d",
            "value": "0.994 MB of 0.994 MB uploaded (0.009 MB deduped)\r"
          }
        },
        "42b0aa8e4e8244379fe1249548dddcc1": {
          "model_module": "@jupyter-widgets/controls",
          "model_name": "FloatProgressModel",
          "model_module_version": "1.5.0",
          "state": {
            "_dom_classes": [],
            "_model_module": "@jupyter-widgets/controls",
            "_model_module_version": "1.5.0",
            "_model_name": "FloatProgressModel",
            "_view_count": null,
            "_view_module": "@jupyter-widgets/controls",
            "_view_module_version": "1.5.0",
            "_view_name": "ProgressView",
            "bar_style": "",
            "description": "",
            "description_tooltip": null,
            "layout": "IPY_MODEL_6a9b7b1736a94b3892038aaed2c4c516",
            "max": 1,
            "min": 0,
            "orientation": "horizontal",
            "style": "IPY_MODEL_c0edff8588c643178938d1df2ca249fe",
            "value": 1
          }
        },
        "f9f1448de0b24df59e1c9f9a402b968e": {
          "model_module": "@jupyter-widgets/base",
          "model_name": "LayoutModel",
          "model_module_version": "1.2.0",
          "state": {
            "_model_module": "@jupyter-widgets/base",
            "_model_module_version": "1.2.0",
            "_model_name": "LayoutModel",
            "_view_count": null,
            "_view_module": "@jupyter-widgets/base",
            "_view_module_version": "1.2.0",
            "_view_name": "LayoutView",
            "align_content": null,
            "align_items": null,
            "align_self": null,
            "border": null,
            "bottom": null,
            "display": null,
            "flex": null,
            "flex_flow": null,
            "grid_area": null,
            "grid_auto_columns": null,
            "grid_auto_flow": null,
            "grid_auto_rows": null,
            "grid_column": null,
            "grid_gap": null,
            "grid_row": null,
            "grid_template_areas": null,
            "grid_template_columns": null,
            "grid_template_rows": null,
            "height": null,
            "justify_content": null,
            "justify_items": null,
            "left": null,
            "margin": null,
            "max_height": null,
            "max_width": null,
            "min_height": null,
            "min_width": null,
            "object_fit": null,
            "object_position": null,
            "order": null,
            "overflow": null,
            "overflow_x": null,
            "overflow_y": null,
            "padding": null,
            "right": null,
            "top": null,
            "visibility": null,
            "width": null
          }
        },
        "1f8bafd2ddba41ebadfe69db019f3d9b": {
          "model_module": "@jupyter-widgets/base",
          "model_name": "LayoutModel",
          "model_module_version": "1.2.0",
          "state": {
            "_model_module": "@jupyter-widgets/base",
            "_model_module_version": "1.2.0",
            "_model_name": "LayoutModel",
            "_view_count": null,
            "_view_module": "@jupyter-widgets/base",
            "_view_module_version": "1.2.0",
            "_view_name": "LayoutView",
            "align_content": null,
            "align_items": null,
            "align_self": null,
            "border": null,
            "bottom": null,
            "display": null,
            "flex": null,
            "flex_flow": null,
            "grid_area": null,
            "grid_auto_columns": null,
            "grid_auto_flow": null,
            "grid_auto_rows": null,
            "grid_column": null,
            "grid_gap": null,
            "grid_row": null,
            "grid_template_areas": null,
            "grid_template_columns": null,
            "grid_template_rows": null,
            "height": null,
            "justify_content": null,
            "justify_items": null,
            "left": null,
            "margin": null,
            "max_height": null,
            "max_width": null,
            "min_height": null,
            "min_width": null,
            "object_fit": null,
            "object_position": null,
            "order": null,
            "overflow": null,
            "overflow_x": null,
            "overflow_y": null,
            "padding": null,
            "right": null,
            "top": null,
            "visibility": null,
            "width": null
          }
        },
        "c0caa9158bd7416dbc637d93a2a8089d": {
          "model_module": "@jupyter-widgets/controls",
          "model_name": "DescriptionStyleModel",
          "model_module_version": "1.5.0",
          "state": {
            "_model_module": "@jupyter-widgets/controls",
            "_model_module_version": "1.5.0",
            "_model_name": "DescriptionStyleModel",
            "_view_count": null,
            "_view_module": "@jupyter-widgets/base",
            "_view_module_version": "1.2.0",
            "_view_name": "StyleView",
            "description_width": ""
          }
        },
        "6a9b7b1736a94b3892038aaed2c4c516": {
          "model_module": "@jupyter-widgets/base",
          "model_name": "LayoutModel",
          "model_module_version": "1.2.0",
          "state": {
            "_model_module": "@jupyter-widgets/base",
            "_model_module_version": "1.2.0",
            "_model_name": "LayoutModel",
            "_view_count": null,
            "_view_module": "@jupyter-widgets/base",
            "_view_module_version": "1.2.0",
            "_view_name": "LayoutView",
            "align_content": null,
            "align_items": null,
            "align_self": null,
            "border": null,
            "bottom": null,
            "display": null,
            "flex": null,
            "flex_flow": null,
            "grid_area": null,
            "grid_auto_columns": null,
            "grid_auto_flow": null,
            "grid_auto_rows": null,
            "grid_column": null,
            "grid_gap": null,
            "grid_row": null,
            "grid_template_areas": null,
            "grid_template_columns": null,
            "grid_template_rows": null,
            "height": null,
            "justify_content": null,
            "justify_items": null,
            "left": null,
            "margin": null,
            "max_height": null,
            "max_width": null,
            "min_height": null,
            "min_width": null,
            "object_fit": null,
            "object_position": null,
            "order": null,
            "overflow": null,
            "overflow_x": null,
            "overflow_y": null,
            "padding": null,
            "right": null,
            "top": null,
            "visibility": null,
            "width": null
          }
        },
        "c0edff8588c643178938d1df2ca249fe": {
          "model_module": "@jupyter-widgets/controls",
          "model_name": "ProgressStyleModel",
          "model_module_version": "1.5.0",
          "state": {
            "_model_module": "@jupyter-widgets/controls",
            "_model_module_version": "1.5.0",
            "_model_name": "ProgressStyleModel",
            "_view_count": null,
            "_view_module": "@jupyter-widgets/base",
            "_view_module_version": "1.2.0",
            "_view_name": "StyleView",
            "bar_color": null,
            "description_width": ""
          }
        },
        "c47f405b18a3479b9d4951cdf2d12f24": {
          "model_module": "@jupyter-widgets/controls",
          "model_name": "VBoxModel",
          "model_module_version": "1.5.0",
          "state": {
            "_dom_classes": [],
            "_model_module": "@jupyter-widgets/controls",
            "_model_module_version": "1.5.0",
            "_model_name": "VBoxModel",
            "_view_count": null,
            "_view_module": "@jupyter-widgets/controls",
            "_view_module_version": "1.5.0",
            "_view_name": "VBoxView",
            "box_style": "",
            "children": [
              "IPY_MODEL_568cab38cd2d4baab3351f6d5779f95c",
              "IPY_MODEL_edfe10cfcea84696afb52588f13565e0"
            ],
            "layout": "IPY_MODEL_f3999d4183dd4a41bbfd877d413e01b6"
          }
        },
        "568cab38cd2d4baab3351f6d5779f95c": {
          "model_module": "@jupyter-widgets/controls",
          "model_name": "LabelModel",
          "model_module_version": "1.5.0",
          "state": {
            "_dom_classes": [],
            "_model_module": "@jupyter-widgets/controls",
            "_model_module_version": "1.5.0",
            "_model_name": "LabelModel",
            "_view_count": null,
            "_view_module": "@jupyter-widgets/controls",
            "_view_module_version": "1.5.0",
            "_view_name": "LabelView",
            "description": "",
            "description_tooltip": null,
            "layout": "IPY_MODEL_b3341e2b34f0460ea5838416017ddfcf",
            "placeholder": "​",
            "style": "IPY_MODEL_f1f7ab0500a4498486ff37b8237e725b",
            "value": "0.183 MB of 0.183 MB uploaded\r"
          }
        },
        "edfe10cfcea84696afb52588f13565e0": {
          "model_module": "@jupyter-widgets/controls",
          "model_name": "FloatProgressModel",
          "model_module_version": "1.5.0",
          "state": {
            "_dom_classes": [],
            "_model_module": "@jupyter-widgets/controls",
            "_model_module_version": "1.5.0",
            "_model_name": "FloatProgressModel",
            "_view_count": null,
            "_view_module": "@jupyter-widgets/controls",
            "_view_module_version": "1.5.0",
            "_view_name": "ProgressView",
            "bar_style": "",
            "description": "",
            "description_tooltip": null,
            "layout": "IPY_MODEL_a52c1c2f4ce14165ad70a45b68015288",
            "max": 1,
            "min": 0,
            "orientation": "horizontal",
            "style": "IPY_MODEL_8b9858d9788647f3bb6babdbe91c3af4",
            "value": 1
          }
        },
        "f3999d4183dd4a41bbfd877d413e01b6": {
          "model_module": "@jupyter-widgets/base",
          "model_name": "LayoutModel",
          "model_module_version": "1.2.0",
          "state": {
            "_model_module": "@jupyter-widgets/base",
            "_model_module_version": "1.2.0",
            "_model_name": "LayoutModel",
            "_view_count": null,
            "_view_module": "@jupyter-widgets/base",
            "_view_module_version": "1.2.0",
            "_view_name": "LayoutView",
            "align_content": null,
            "align_items": null,
            "align_self": null,
            "border": null,
            "bottom": null,
            "display": null,
            "flex": null,
            "flex_flow": null,
            "grid_area": null,
            "grid_auto_columns": null,
            "grid_auto_flow": null,
            "grid_auto_rows": null,
            "grid_column": null,
            "grid_gap": null,
            "grid_row": null,
            "grid_template_areas": null,
            "grid_template_columns": null,
            "grid_template_rows": null,
            "height": null,
            "justify_content": null,
            "justify_items": null,
            "left": null,
            "margin": null,
            "max_height": null,
            "max_width": null,
            "min_height": null,
            "min_width": null,
            "object_fit": null,
            "object_position": null,
            "order": null,
            "overflow": null,
            "overflow_x": null,
            "overflow_y": null,
            "padding": null,
            "right": null,
            "top": null,
            "visibility": null,
            "width": null
          }
        },
        "b3341e2b34f0460ea5838416017ddfcf": {
          "model_module": "@jupyter-widgets/base",
          "model_name": "LayoutModel",
          "model_module_version": "1.2.0",
          "state": {
            "_model_module": "@jupyter-widgets/base",
            "_model_module_version": "1.2.0",
            "_model_name": "LayoutModel",
            "_view_count": null,
            "_view_module": "@jupyter-widgets/base",
            "_view_module_version": "1.2.0",
            "_view_name": "LayoutView",
            "align_content": null,
            "align_items": null,
            "align_self": null,
            "border": null,
            "bottom": null,
            "display": null,
            "flex": null,
            "flex_flow": null,
            "grid_area": null,
            "grid_auto_columns": null,
            "grid_auto_flow": null,
            "grid_auto_rows": null,
            "grid_column": null,
            "grid_gap": null,
            "grid_row": null,
            "grid_template_areas": null,
            "grid_template_columns": null,
            "grid_template_rows": null,
            "height": null,
            "justify_content": null,
            "justify_items": null,
            "left": null,
            "margin": null,
            "max_height": null,
            "max_width": null,
            "min_height": null,
            "min_width": null,
            "object_fit": null,
            "object_position": null,
            "order": null,
            "overflow": null,
            "overflow_x": null,
            "overflow_y": null,
            "padding": null,
            "right": null,
            "top": null,
            "visibility": null,
            "width": null
          }
        },
        "f1f7ab0500a4498486ff37b8237e725b": {
          "model_module": "@jupyter-widgets/controls",
          "model_name": "DescriptionStyleModel",
          "model_module_version": "1.5.0",
          "state": {
            "_model_module": "@jupyter-widgets/controls",
            "_model_module_version": "1.5.0",
            "_model_name": "DescriptionStyleModel",
            "_view_count": null,
            "_view_module": "@jupyter-widgets/base",
            "_view_module_version": "1.2.0",
            "_view_name": "StyleView",
            "description_width": ""
          }
        },
        "a52c1c2f4ce14165ad70a45b68015288": {
          "model_module": "@jupyter-widgets/base",
          "model_name": "LayoutModel",
          "model_module_version": "1.2.0",
          "state": {
            "_model_module": "@jupyter-widgets/base",
            "_model_module_version": "1.2.0",
            "_model_name": "LayoutModel",
            "_view_count": null,
            "_view_module": "@jupyter-widgets/base",
            "_view_module_version": "1.2.0",
            "_view_name": "LayoutView",
            "align_content": null,
            "align_items": null,
            "align_self": null,
            "border": null,
            "bottom": null,
            "display": null,
            "flex": null,
            "flex_flow": null,
            "grid_area": null,
            "grid_auto_columns": null,
            "grid_auto_flow": null,
            "grid_auto_rows": null,
            "grid_column": null,
            "grid_gap": null,
            "grid_row": null,
            "grid_template_areas": null,
            "grid_template_columns": null,
            "grid_template_rows": null,
            "height": null,
            "justify_content": null,
            "justify_items": null,
            "left": null,
            "margin": null,
            "max_height": null,
            "max_width": null,
            "min_height": null,
            "min_width": null,
            "object_fit": null,
            "object_position": null,
            "order": null,
            "overflow": null,
            "overflow_x": null,
            "overflow_y": null,
            "padding": null,
            "right": null,
            "top": null,
            "visibility": null,
            "width": null
          }
        },
        "8b9858d9788647f3bb6babdbe91c3af4": {
          "model_module": "@jupyter-widgets/controls",
          "model_name": "ProgressStyleModel",
          "model_module_version": "1.5.0",
          "state": {
            "_model_module": "@jupyter-widgets/controls",
            "_model_module_version": "1.5.0",
            "_model_name": "ProgressStyleModel",
            "_view_count": null,
            "_view_module": "@jupyter-widgets/base",
            "_view_module_version": "1.2.0",
            "_view_name": "StyleView",
            "bar_color": null,
            "description_width": ""
          }
        }
      }
    }
  },
  "nbformat": 4,
  "nbformat_minor": 0
}